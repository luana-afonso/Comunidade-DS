{
 "cells": [
  {
   "cell_type": "markdown",
   "metadata": {},
   "source": [
    "# Aula 02- Resolução dos Exercícios\n",
    "\n",
    "## Novas perguntas do CEO"
   ]
  },
  {
   "cell_type": "markdown",
   "metadata": {
    "ExecuteTime": {
     "end_time": "2021-02-27T20:15:46.046829Z",
     "start_time": "2021-02-27T20:15:46.020380Z"
    }
   },
   "source": [
    "1. Crie uma nova coluna chamada: “house_age”\n",
    "    - Se o valor da coluna “date” for maior que 2014-01-01 => ‘new_house’\n",
    "    - Se o valor da coluna “date” for menor que 2014-01-01 => ‘old_house’\n",
    "\n",
    "2. Crie uma nova coluna chamada: “dormitory_type”\n",
    "    - Se o valor da coluna “bedrooms” for igual à 1 => ‘studio’\n",
    "    - Se o valor da coluna “bedrooms” for igual a 2 => ‘apartament’\n",
    "    - Se o valor da coluna “bedrooms” for maior que 2 => ‘house’\n",
    "\n",
    "3. Crie uma nova coluna chamada: “condition_type”\n",
    "    - Se o valor da coluna “condition” for menor ou igual à 2 => ‘bad’\n",
    "    - Se o valor da coluna “condition” for igual à 3 ou 4 => ‘regular’\n",
    "    - Se o valor da coluna “condition” for igual à 5 => ‘good’\n",
    "\n",
    "\n",
    "4. Modifique o TIPO a Coluna “condition” para STRING\n",
    "\n",
    "\n",
    "5. Delete as colunas: “sqft_living15” e “sqft_lot15”\n",
    "\n",
    "\n",
    "6. Modifique o TIPO a Coluna “yr_build” para DATE\n",
    "\n",
    "\n",
    "7. Modifique o TIPO a Coluna “yr_renovated” para DATE\n",
    "\n",
    "\n",
    "8. Qual a data mais antiga de construção de um imóvel?\n",
    "\n",
    "\n",
    "9. Qual a data mais antiga de renovação de um imóvel?\n",
    "\n",
    "\n",
    "10. Quantos imóveis tem 2 andares?\n",
    "\n",
    "\n",
    "11. Quantos imóveis estão com a condição igual a “regular” ?\n",
    "\n",
    "\n",
    "12. Quantos imóveis estão com a condição igual a “bad”e possuem “vista para água” ?\n",
    "\n",
    "\n",
    "13. Quantos imóveis estão com a condição igual a “good” e são “new_house”?\n",
    "\n",
    "\n",
    "14. Qual o valor do imóvel mais caro do tipo “studio” ?\n",
    "\n",
    "\n",
    "15. Quantos imóveis do tipo “apartment” foram reformados em 2015 ?\n",
    "\n",
    "\n",
    "16. Qual o maior número de quartos que um imóveis do tipo “house” possui ?\n",
    "\n",
    "\n",
    "17. Quantos imóveis “new_house” foram reformados no ano de 2014?\n",
    "\n",
    "\n",
    "18. Selecione as colunas: “id”, “date”, “price”, “floors”, “zipcode” pelo método:\n",
    "    - Direto pelo nome das colunas.\n",
    "    - Pelos Índices.\n",
    "    - Pelos Índices das linhas e o nome das colunas\n",
    "    - Índices Booleanos\t\t\n",
    "    \n",
    "    \n",
    "19. Salve um arquivo .csv com somente as colunas do item 10 ao 17.\n",
    "\n",
    "\n",
    "20. Modifique a cor dos pontos no mapa de “pink” para “verde-escuro”"
   ]
  },
  {
   "cell_type": "markdown",
   "metadata": {},
   "source": [
    "# Resolução"
   ]
  },
  {
   "cell_type": "markdown",
   "metadata": {},
   "source": [
    "## Import Libraries"
   ]
  },
  {
   "cell_type": "code",
   "execution_count": 141,
   "metadata": {
    "ExecuteTime": {
     "end_time": "2021-02-27T21:20:44.667766Z",
     "start_time": "2021-02-27T21:20:44.665137Z"
    }
   },
   "outputs": [],
   "source": [
    "import numpy  as np\n",
    "import pandas as pd\n",
    "import seaborn as sns\n",
    "\n",
    "from matplotlib import pyplot as plt\n",
    "import plotly.express as px"
   ]
  },
  {
   "cell_type": "code",
   "execution_count": 142,
   "metadata": {
    "ExecuteTime": {
     "end_time": "2021-02-27T21:20:43.294109Z",
     "start_time": "2021-02-27T21:20:43.290937Z"
    }
   },
   "outputs": [],
   "source": [
    "# Supress Scientific Notation\n",
    "np.set_printoptions(suppress=True)\n",
    "pd.set_option('display.float_format', '{:.2f}'.format)"
   ]
  },
  {
   "cell_type": "markdown",
   "metadata": {},
   "source": [
    "## Loading Data"
   ]
  },
  {
   "cell_type": "code",
   "execution_count": 143,
   "metadata": {
    "ExecuteTime": {
     "end_time": "2021-02-27T21:20:43.363271Z",
     "start_time": "2021-02-27T21:20:43.298236Z"
    }
   },
   "outputs": [],
   "source": [
    "# loading data into memory\n",
    "data = pd.read_csv( \"datasets/kc_house_data.csv\" )\n",
    "\n",
    "data.dtypes\n",
    "\n",
    "# Garantir que o formato date é um datetime \n",
    "data['date'] = pd.to_datetime( data['date'], format='%Y-%m-%d' )"
   ]
  },
  {
   "cell_type": "code",
   "execution_count": 144,
   "metadata": {},
   "outputs": [
    {
     "data": {
      "text/plain": [
       "id                        int64\n",
       "date             datetime64[ns]\n",
       "price                   float64\n",
       "bedrooms                  int64\n",
       "bathrooms               float64\n",
       "sqft_living               int64\n",
       "sqft_lot                  int64\n",
       "floors                  float64\n",
       "waterfront                int64\n",
       "view                      int64\n",
       "condition                 int64\n",
       "grade                     int64\n",
       "sqft_above                int64\n",
       "sqft_basement             int64\n",
       "yr_built                  int64\n",
       "yr_renovated              int64\n",
       "zipcode                   int64\n",
       "lat                     float64\n",
       "long                    float64\n",
       "sqft_living15             int64\n",
       "sqft_lot15                int64\n",
       "dtype: object"
      ]
     },
     "execution_count": 144,
     "metadata": {},
     "output_type": "execute_result"
    }
   ],
   "source": [
    "data.dtypes"
   ]
  },
  {
   "cell_type": "markdown",
   "metadata": {
    "ExecuteTime": {
     "end_time": "2021-02-27T20:15:46.046829Z",
     "start_time": "2021-02-27T20:15:46.020380Z"
    }
   },
   "source": [
    "## 1. Crie uma nova coluna chamada: “house_age”\n",
    "    - Se o valor da coluna “date” for maior que 2014-01-01 => ‘new_house’\n",
    "    - Se o valor da coluna “date” for menor que 2014-01-01 => ‘old_house’"
   ]
  },
  {
   "cell_type": "code",
   "execution_count": 145,
   "metadata": {
    "ExecuteTime": {
     "end_time": "2021-02-27T21:20:49.416831Z",
     "start_time": "2021-02-27T21:20:49.410679Z"
    }
   },
   "outputs": [],
   "source": [
    "# Estrategia\n",
    "# 1. Criar uma coluna nova, preenchida com NA\n",
    "# 2. Substituir o valor NA, conforme a condicional\n",
    "\n",
    "data['house_age'] = 'NA'\n",
    "data.loc[ data['date'] > '2014-01-01', 'house_age' ] = 'new_house' \n",
    "data.loc[ data['date'] < '2014-01-01', 'house_age'] = 'old_house'\n",
    "\n",
    "# com o apply\n",
    "# data['house_age'] = data['date'].apply( lambda x: 'new_house' if x > pd.to_datetime('2014-01-01', format='%Y%m%d') else 'old_house' )"
   ]
  },
  {
   "cell_type": "code",
   "execution_count": 146,
   "metadata": {},
   "outputs": [
    {
     "data": {
      "text/plain": [
       "id                        int64\n",
       "date             datetime64[ns]\n",
       "price                   float64\n",
       "bedrooms                  int64\n",
       "bathrooms               float64\n",
       "sqft_living               int64\n",
       "sqft_lot                  int64\n",
       "floors                  float64\n",
       "waterfront                int64\n",
       "view                      int64\n",
       "condition                 int64\n",
       "grade                     int64\n",
       "sqft_above                int64\n",
       "sqft_basement             int64\n",
       "yr_built                  int64\n",
       "yr_renovated              int64\n",
       "zipcode                   int64\n",
       "lat                     float64\n",
       "long                    float64\n",
       "sqft_living15             int64\n",
       "sqft_lot15                int64\n",
       "house_age                object\n",
       "dtype: object"
      ]
     },
     "execution_count": 146,
     "metadata": {},
     "output_type": "execute_result"
    }
   ],
   "source": [
    "data.dtypes"
   ]
  },
  {
   "cell_type": "code",
   "execution_count": 147,
   "metadata": {},
   "outputs": [
    {
     "data": {
      "text/html": [
       "<div>\n",
       "<style scoped>\n",
       "    .dataframe tbody tr th:only-of-type {\n",
       "        vertical-align: middle;\n",
       "    }\n",
       "\n",
       "    .dataframe tbody tr th {\n",
       "        vertical-align: top;\n",
       "    }\n",
       "\n",
       "    .dataframe thead th {\n",
       "        text-align: right;\n",
       "    }\n",
       "</style>\n",
       "<table border=\"1\" class=\"dataframe\">\n",
       "  <thead>\n",
       "    <tr style=\"text-align: right;\">\n",
       "      <th></th>\n",
       "      <th>id</th>\n",
       "      <th>date</th>\n",
       "      <th>price</th>\n",
       "      <th>bedrooms</th>\n",
       "      <th>bathrooms</th>\n",
       "      <th>sqft_living</th>\n",
       "      <th>sqft_lot</th>\n",
       "      <th>floors</th>\n",
       "      <th>waterfront</th>\n",
       "      <th>view</th>\n",
       "      <th>...</th>\n",
       "      <th>sqft_above</th>\n",
       "      <th>sqft_basement</th>\n",
       "      <th>yr_built</th>\n",
       "      <th>yr_renovated</th>\n",
       "      <th>zipcode</th>\n",
       "      <th>lat</th>\n",
       "      <th>long</th>\n",
       "      <th>sqft_living15</th>\n",
       "      <th>sqft_lot15</th>\n",
       "      <th>house_age</th>\n",
       "    </tr>\n",
       "  </thead>\n",
       "  <tbody>\n",
       "    <tr>\n",
       "      <th>8043</th>\n",
       "      <td>4027701265</td>\n",
       "      <td>2015-05-01</td>\n",
       "      <td>480000.00</td>\n",
       "      <td>3</td>\n",
       "      <td>1.75</td>\n",
       "      <td>2920</td>\n",
       "      <td>21375</td>\n",
       "      <td>1.00</td>\n",
       "      <td>0</td>\n",
       "      <td>0</td>\n",
       "      <td>...</td>\n",
       "      <td>1850</td>\n",
       "      <td>1070</td>\n",
       "      <td>1961</td>\n",
       "      <td>0</td>\n",
       "      <td>98028</td>\n",
       "      <td>47.77</td>\n",
       "      <td>-122.27</td>\n",
       "      <td>1540</td>\n",
       "      <td>8482</td>\n",
       "      <td>new_house</td>\n",
       "    </tr>\n",
       "    <tr>\n",
       "      <th>6968</th>\n",
       "      <td>7885100005</td>\n",
       "      <td>2014-08-20</td>\n",
       "      <td>299000.00</td>\n",
       "      <td>4</td>\n",
       "      <td>2.00</td>\n",
       "      <td>2320</td>\n",
       "      <td>12000</td>\n",
       "      <td>1.00</td>\n",
       "      <td>0</td>\n",
       "      <td>0</td>\n",
       "      <td>...</td>\n",
       "      <td>1720</td>\n",
       "      <td>600</td>\n",
       "      <td>1943</td>\n",
       "      <td>2014</td>\n",
       "      <td>98108</td>\n",
       "      <td>47.52</td>\n",
       "      <td>-122.33</td>\n",
       "      <td>1390</td>\n",
       "      <td>6000</td>\n",
       "      <td>new_house</td>\n",
       "    </tr>\n",
       "    <tr>\n",
       "      <th>17583</th>\n",
       "      <td>1920079039</td>\n",
       "      <td>2014-08-15</td>\n",
       "      <td>269500.00</td>\n",
       "      <td>2</td>\n",
       "      <td>1.00</td>\n",
       "      <td>1140</td>\n",
       "      <td>74052</td>\n",
       "      <td>1.00</td>\n",
       "      <td>0</td>\n",
       "      <td>0</td>\n",
       "      <td>...</td>\n",
       "      <td>1140</td>\n",
       "      <td>0</td>\n",
       "      <td>1968</td>\n",
       "      <td>0</td>\n",
       "      <td>98022</td>\n",
       "      <td>47.21</td>\n",
       "      <td>-121.96</td>\n",
       "      <td>1730</td>\n",
       "      <td>43560</td>\n",
       "      <td>new_house</td>\n",
       "    </tr>\n",
       "    <tr>\n",
       "      <th>8739</th>\n",
       "      <td>4010800110</td>\n",
       "      <td>2014-06-09</td>\n",
       "      <td>305100.00</td>\n",
       "      <td>3</td>\n",
       "      <td>2.00</td>\n",
       "      <td>1590</td>\n",
       "      <td>35988</td>\n",
       "      <td>1.00</td>\n",
       "      <td>0</td>\n",
       "      <td>0</td>\n",
       "      <td>...</td>\n",
       "      <td>1590</td>\n",
       "      <td>0</td>\n",
       "      <td>1974</td>\n",
       "      <td>0</td>\n",
       "      <td>98058</td>\n",
       "      <td>47.44</td>\n",
       "      <td>-122.11</td>\n",
       "      <td>2780</td>\n",
       "      <td>23789</td>\n",
       "      <td>new_house</td>\n",
       "    </tr>\n",
       "    <tr>\n",
       "      <th>11470</th>\n",
       "      <td>8682292190</td>\n",
       "      <td>2014-12-15</td>\n",
       "      <td>850000.00</td>\n",
       "      <td>2</td>\n",
       "      <td>2.75</td>\n",
       "      <td>2700</td>\n",
       "      <td>9854</td>\n",
       "      <td>1.00</td>\n",
       "      <td>0</td>\n",
       "      <td>0</td>\n",
       "      <td>...</td>\n",
       "      <td>2700</td>\n",
       "      <td>0</td>\n",
       "      <td>2012</td>\n",
       "      <td>0</td>\n",
       "      <td>98053</td>\n",
       "      <td>47.72</td>\n",
       "      <td>-122.02</td>\n",
       "      <td>1440</td>\n",
       "      <td>4168</td>\n",
       "      <td>new_house</td>\n",
       "    </tr>\n",
       "    <tr>\n",
       "      <th>14512</th>\n",
       "      <td>6933600540</td>\n",
       "      <td>2014-08-20</td>\n",
       "      <td>508000.00</td>\n",
       "      <td>2</td>\n",
       "      <td>1.00</td>\n",
       "      <td>820</td>\n",
       "      <td>5040</td>\n",
       "      <td>1.00</td>\n",
       "      <td>0</td>\n",
       "      <td>0</td>\n",
       "      <td>...</td>\n",
       "      <td>820</td>\n",
       "      <td>0</td>\n",
       "      <td>1953</td>\n",
       "      <td>0</td>\n",
       "      <td>98199</td>\n",
       "      <td>47.65</td>\n",
       "      <td>-122.39</td>\n",
       "      <td>1730</td>\n",
       "      <td>5760</td>\n",
       "      <td>new_house</td>\n",
       "    </tr>\n",
       "    <tr>\n",
       "      <th>15688</th>\n",
       "      <td>98020630</td>\n",
       "      <td>2015-04-14</td>\n",
       "      <td>889000.00</td>\n",
       "      <td>4</td>\n",
       "      <td>3.50</td>\n",
       "      <td>4070</td>\n",
       "      <td>10976</td>\n",
       "      <td>2.00</td>\n",
       "      <td>0</td>\n",
       "      <td>0</td>\n",
       "      <td>...</td>\n",
       "      <td>4070</td>\n",
       "      <td>0</td>\n",
       "      <td>2004</td>\n",
       "      <td>0</td>\n",
       "      <td>98075</td>\n",
       "      <td>47.58</td>\n",
       "      <td>-121.97</td>\n",
       "      <td>4080</td>\n",
       "      <td>10106</td>\n",
       "      <td>new_house</td>\n",
       "    </tr>\n",
       "    <tr>\n",
       "      <th>18090</th>\n",
       "      <td>6163901380</td>\n",
       "      <td>2014-11-14</td>\n",
       "      <td>244000.00</td>\n",
       "      <td>2</td>\n",
       "      <td>1.00</td>\n",
       "      <td>960</td>\n",
       "      <td>8450</td>\n",
       "      <td>1.00</td>\n",
       "      <td>0</td>\n",
       "      <td>0</td>\n",
       "      <td>...</td>\n",
       "      <td>960</td>\n",
       "      <td>0</td>\n",
       "      <td>1950</td>\n",
       "      <td>0</td>\n",
       "      <td>98155</td>\n",
       "      <td>47.76</td>\n",
       "      <td>-122.32</td>\n",
       "      <td>1090</td>\n",
       "      <td>8450</td>\n",
       "      <td>new_house</td>\n",
       "    </tr>\n",
       "    <tr>\n",
       "      <th>18615</th>\n",
       "      <td>9530100921</td>\n",
       "      <td>2014-10-27</td>\n",
       "      <td>483000.00</td>\n",
       "      <td>4</td>\n",
       "      <td>1.50</td>\n",
       "      <td>1220</td>\n",
       "      <td>3780</td>\n",
       "      <td>1.50</td>\n",
       "      <td>0</td>\n",
       "      <td>0</td>\n",
       "      <td>...</td>\n",
       "      <td>1220</td>\n",
       "      <td>0</td>\n",
       "      <td>1927</td>\n",
       "      <td>0</td>\n",
       "      <td>98107</td>\n",
       "      <td>47.67</td>\n",
       "      <td>-122.36</td>\n",
       "      <td>1400</td>\n",
       "      <td>3185</td>\n",
       "      <td>new_house</td>\n",
       "    </tr>\n",
       "    <tr>\n",
       "      <th>21511</th>\n",
       "      <td>3304030220</td>\n",
       "      <td>2015-04-21</td>\n",
       "      <td>480000.00</td>\n",
       "      <td>4</td>\n",
       "      <td>2.50</td>\n",
       "      <td>2940</td>\n",
       "      <td>9172</td>\n",
       "      <td>2.00</td>\n",
       "      <td>0</td>\n",
       "      <td>0</td>\n",
       "      <td>...</td>\n",
       "      <td>2940</td>\n",
       "      <td>0</td>\n",
       "      <td>2006</td>\n",
       "      <td>0</td>\n",
       "      <td>98001</td>\n",
       "      <td>47.34</td>\n",
       "      <td>-122.27</td>\n",
       "      <td>2660</td>\n",
       "      <td>7955</td>\n",
       "      <td>new_house</td>\n",
       "    </tr>\n",
       "  </tbody>\n",
       "</table>\n",
       "<p>10 rows × 22 columns</p>\n",
       "</div>"
      ],
      "text/plain": [
       "               id       date     price  bedrooms  bathrooms  sqft_living  \\\n",
       "8043   4027701265 2015-05-01 480000.00         3       1.75         2920   \n",
       "6968   7885100005 2014-08-20 299000.00         4       2.00         2320   \n",
       "17583  1920079039 2014-08-15 269500.00         2       1.00         1140   \n",
       "8739   4010800110 2014-06-09 305100.00         3       2.00         1590   \n",
       "11470  8682292190 2014-12-15 850000.00         2       2.75         2700   \n",
       "14512  6933600540 2014-08-20 508000.00         2       1.00          820   \n",
       "15688    98020630 2015-04-14 889000.00         4       3.50         4070   \n",
       "18090  6163901380 2014-11-14 244000.00         2       1.00          960   \n",
       "18615  9530100921 2014-10-27 483000.00         4       1.50         1220   \n",
       "21511  3304030220 2015-04-21 480000.00         4       2.50         2940   \n",
       "\n",
       "       sqft_lot  floors  waterfront  view  ...  sqft_above  sqft_basement  \\\n",
       "8043      21375    1.00           0     0  ...        1850           1070   \n",
       "6968      12000    1.00           0     0  ...        1720            600   \n",
       "17583     74052    1.00           0     0  ...        1140              0   \n",
       "8739      35988    1.00           0     0  ...        1590              0   \n",
       "11470      9854    1.00           0     0  ...        2700              0   \n",
       "14512      5040    1.00           0     0  ...         820              0   \n",
       "15688     10976    2.00           0     0  ...        4070              0   \n",
       "18090      8450    1.00           0     0  ...         960              0   \n",
       "18615      3780    1.50           0     0  ...        1220              0   \n",
       "21511      9172    2.00           0     0  ...        2940              0   \n",
       "\n",
       "       yr_built  yr_renovated  zipcode   lat    long  sqft_living15  \\\n",
       "8043       1961             0    98028 47.77 -122.27           1540   \n",
       "6968       1943          2014    98108 47.52 -122.33           1390   \n",
       "17583      1968             0    98022 47.21 -121.96           1730   \n",
       "8739       1974             0    98058 47.44 -122.11           2780   \n",
       "11470      2012             0    98053 47.72 -122.02           1440   \n",
       "14512      1953             0    98199 47.65 -122.39           1730   \n",
       "15688      2004             0    98075 47.58 -121.97           4080   \n",
       "18090      1950             0    98155 47.76 -122.32           1090   \n",
       "18615      1927             0    98107 47.67 -122.36           1400   \n",
       "21511      2006             0    98001 47.34 -122.27           2660   \n",
       "\n",
       "       sqft_lot15  house_age  \n",
       "8043         8482  new_house  \n",
       "6968         6000  new_house  \n",
       "17583       43560  new_house  \n",
       "8739        23789  new_house  \n",
       "11470        4168  new_house  \n",
       "14512        5760  new_house  \n",
       "15688       10106  new_house  \n",
       "18090        8450  new_house  \n",
       "18615        3185  new_house  \n",
       "21511        7955  new_house  \n",
       "\n",
       "[10 rows x 22 columns]"
      ]
     },
     "execution_count": 147,
     "metadata": {},
     "output_type": "execute_result"
    }
   ],
   "source": [
    "data.sample(10)"
   ]
  },
  {
   "cell_type": "markdown",
   "metadata": {
    "ExecuteTime": {
     "end_time": "2021-02-27T20:15:46.046829Z",
     "start_time": "2021-02-27T20:15:46.020380Z"
    }
   },
   "source": [
    "## 2. Crie uma nova coluna chamada: “dormitory_type”\n",
    "    - Se o valor da coluna “bedrooms” for igual à 1 => ‘studio’\n",
    "    - Se o valor da coluna “bedrooms” for igual a 2 => ‘apartament’\n",
    "    - Se o valor da coluna “bedrooms” for maior que 2 => ‘house’"
   ]
  },
  {
   "cell_type": "code",
   "execution_count": 148,
   "metadata": {
    "ExecuteTime": {
     "end_time": "2021-02-27T21:20:59.570888Z",
     "start_time": "2021-02-27T21:20:50.198639Z"
    }
   },
   "outputs": [],
   "source": [
    "# Estrategia 1:\n",
    "# 1. Criar uma coluna nova, preenchida com NA\n",
    "# 2. Atribuir os nomes das strings 'studio', 'apartment' ou 'house' na coluna 'dormitory_type' para os dados filtrados por número de 'bedrooms'\n",
    "\n",
    "# data['dormitory_type'] = 'NA'\n",
    "# data.loc[ data['bedrooms'] == 1, 'dormitory_type' ] = 'studio'\n",
    "# data.loc[ data['bedrooms'] == 2, 'dormitory_type' ] = 'apartment'\n",
    "# data.loc[ data['bedrooms'] > 2, 'dormitory_type' ] = 'house'\n",
    "\n",
    "# data[['bedrooms','dormitory_type']]\n",
    "\n",
    "data['dormitory_type'] = data['bedrooms'].apply( lambda x: 'studio' if x == 1 else\n",
    "                                                           'apartment' if x == 2 else \n",
    "                                                           'house' if x > 2 else 'NA')"
   ]
  },
  {
   "cell_type": "code",
   "execution_count": 149,
   "metadata": {},
   "outputs": [
    {
     "data": {
      "text/plain": [
       "array([ 3,  2,  4,  5,  1,  6,  7,  0,  8,  9, 11, 10, 33], dtype=int64)"
      ]
     },
     "execution_count": 149,
     "metadata": {},
     "output_type": "execute_result"
    }
   ],
   "source": [
    "data['bedrooms'].unique()"
   ]
  },
  {
   "cell_type": "code",
   "execution_count": 150,
   "metadata": {},
   "outputs": [
    {
     "data": {
      "text/plain": [
       "array(['house', 'apartment', 'studio', 'NA'], dtype=object)"
      ]
     },
     "execution_count": 150,
     "metadata": {},
     "output_type": "execute_result"
    }
   ],
   "source": [
    "data['dormitory_type'].unique()"
   ]
  },
  {
   "cell_type": "code",
   "execution_count": 151,
   "metadata": {},
   "outputs": [],
   "source": [
    "# # Estrategia 2:\n",
    "# # 1. Criar uma coluna nova, preenchida com NA\n",
    "# # 2. Percorrer todas as linhas do conjunto de dados. Para cada linha, comparar a coluna \"bedrooms\"\n",
    "# # 3. De acordo com a comparação, substituir o NA pelo dado valor\n",
    "\n",
    "# # Usando o loop for\n",
    "\n",
    "# data = pd.read_csv( \"datasets/kc_house_data.csv\" )\n",
    "\n",
    "# data['dormitory_type'] = 'NA'\n",
    "\n",
    "# # percorrendo todas as linhas do dataset\n",
    "# for i in range( len( data ) ):\n",
    "#     if data.loc[i, 'bedrooms'] == 1:\n",
    "#         data.loc[i, 'dormitory_type'] = 'studio'\n",
    "    \n",
    "#     elif data.loc[i, 'bedrooms'] == 2:\n",
    "#         data.loc[i, 'dormitory_type'] = 'apartment'\n",
    "    \n",
    "#     elif data.loc[i, 'bedrooms'] > 2:\n",
    "#          data.loc[i, 'dormitory_type'] = 'house'"
   ]
  },
  {
   "cell_type": "code",
   "execution_count": 152,
   "metadata": {},
   "outputs": [
    {
     "data": {
      "text/html": [
       "<div>\n",
       "<style scoped>\n",
       "    .dataframe tbody tr th:only-of-type {\n",
       "        vertical-align: middle;\n",
       "    }\n",
       "\n",
       "    .dataframe tbody tr th {\n",
       "        vertical-align: top;\n",
       "    }\n",
       "\n",
       "    .dataframe thead th {\n",
       "        text-align: right;\n",
       "    }\n",
       "</style>\n",
       "<table border=\"1\" class=\"dataframe\">\n",
       "  <thead>\n",
       "    <tr style=\"text-align: right;\">\n",
       "      <th></th>\n",
       "      <th>id</th>\n",
       "      <th>date</th>\n",
       "      <th>price</th>\n",
       "      <th>bedrooms</th>\n",
       "      <th>bathrooms</th>\n",
       "      <th>sqft_living</th>\n",
       "      <th>sqft_lot</th>\n",
       "      <th>floors</th>\n",
       "      <th>waterfront</th>\n",
       "      <th>view</th>\n",
       "      <th>...</th>\n",
       "      <th>sqft_basement</th>\n",
       "      <th>yr_built</th>\n",
       "      <th>yr_renovated</th>\n",
       "      <th>zipcode</th>\n",
       "      <th>lat</th>\n",
       "      <th>long</th>\n",
       "      <th>sqft_living15</th>\n",
       "      <th>sqft_lot15</th>\n",
       "      <th>house_age</th>\n",
       "      <th>dormitory_type</th>\n",
       "    </tr>\n",
       "  </thead>\n",
       "  <tbody>\n",
       "    <tr>\n",
       "      <th>0</th>\n",
       "      <td>7129300520</td>\n",
       "      <td>2014-10-13</td>\n",
       "      <td>221900.00</td>\n",
       "      <td>3</td>\n",
       "      <td>1.00</td>\n",
       "      <td>1180</td>\n",
       "      <td>5650</td>\n",
       "      <td>1.00</td>\n",
       "      <td>0</td>\n",
       "      <td>0</td>\n",
       "      <td>...</td>\n",
       "      <td>0</td>\n",
       "      <td>1955</td>\n",
       "      <td>0</td>\n",
       "      <td>98178</td>\n",
       "      <td>47.51</td>\n",
       "      <td>-122.26</td>\n",
       "      <td>1340</td>\n",
       "      <td>5650</td>\n",
       "      <td>new_house</td>\n",
       "      <td>house</td>\n",
       "    </tr>\n",
       "    <tr>\n",
       "      <th>1</th>\n",
       "      <td>6414100192</td>\n",
       "      <td>2014-12-09</td>\n",
       "      <td>538000.00</td>\n",
       "      <td>3</td>\n",
       "      <td>2.25</td>\n",
       "      <td>2570</td>\n",
       "      <td>7242</td>\n",
       "      <td>2.00</td>\n",
       "      <td>0</td>\n",
       "      <td>0</td>\n",
       "      <td>...</td>\n",
       "      <td>400</td>\n",
       "      <td>1951</td>\n",
       "      <td>1991</td>\n",
       "      <td>98125</td>\n",
       "      <td>47.72</td>\n",
       "      <td>-122.32</td>\n",
       "      <td>1690</td>\n",
       "      <td>7639</td>\n",
       "      <td>new_house</td>\n",
       "      <td>house</td>\n",
       "    </tr>\n",
       "    <tr>\n",
       "      <th>2</th>\n",
       "      <td>5631500400</td>\n",
       "      <td>2015-02-25</td>\n",
       "      <td>180000.00</td>\n",
       "      <td>2</td>\n",
       "      <td>1.00</td>\n",
       "      <td>770</td>\n",
       "      <td>10000</td>\n",
       "      <td>1.00</td>\n",
       "      <td>0</td>\n",
       "      <td>0</td>\n",
       "      <td>...</td>\n",
       "      <td>0</td>\n",
       "      <td>1933</td>\n",
       "      <td>0</td>\n",
       "      <td>98028</td>\n",
       "      <td>47.74</td>\n",
       "      <td>-122.23</td>\n",
       "      <td>2720</td>\n",
       "      <td>8062</td>\n",
       "      <td>new_house</td>\n",
       "      <td>apartment</td>\n",
       "    </tr>\n",
       "    <tr>\n",
       "      <th>3</th>\n",
       "      <td>2487200875</td>\n",
       "      <td>2014-12-09</td>\n",
       "      <td>604000.00</td>\n",
       "      <td>4</td>\n",
       "      <td>3.00</td>\n",
       "      <td>1960</td>\n",
       "      <td>5000</td>\n",
       "      <td>1.00</td>\n",
       "      <td>0</td>\n",
       "      <td>0</td>\n",
       "      <td>...</td>\n",
       "      <td>910</td>\n",
       "      <td>1965</td>\n",
       "      <td>0</td>\n",
       "      <td>98136</td>\n",
       "      <td>47.52</td>\n",
       "      <td>-122.39</td>\n",
       "      <td>1360</td>\n",
       "      <td>5000</td>\n",
       "      <td>new_house</td>\n",
       "      <td>house</td>\n",
       "    </tr>\n",
       "    <tr>\n",
       "      <th>4</th>\n",
       "      <td>1954400510</td>\n",
       "      <td>2015-02-18</td>\n",
       "      <td>510000.00</td>\n",
       "      <td>3</td>\n",
       "      <td>2.00</td>\n",
       "      <td>1680</td>\n",
       "      <td>8080</td>\n",
       "      <td>1.00</td>\n",
       "      <td>0</td>\n",
       "      <td>0</td>\n",
       "      <td>...</td>\n",
       "      <td>0</td>\n",
       "      <td>1987</td>\n",
       "      <td>0</td>\n",
       "      <td>98074</td>\n",
       "      <td>47.62</td>\n",
       "      <td>-122.05</td>\n",
       "      <td>1800</td>\n",
       "      <td>7503</td>\n",
       "      <td>new_house</td>\n",
       "      <td>house</td>\n",
       "    </tr>\n",
       "  </tbody>\n",
       "</table>\n",
       "<p>5 rows × 23 columns</p>\n",
       "</div>"
      ],
      "text/plain": [
       "           id       date     price  bedrooms  bathrooms  sqft_living  \\\n",
       "0  7129300520 2014-10-13 221900.00         3       1.00         1180   \n",
       "1  6414100192 2014-12-09 538000.00         3       2.25         2570   \n",
       "2  5631500400 2015-02-25 180000.00         2       1.00          770   \n",
       "3  2487200875 2014-12-09 604000.00         4       3.00         1960   \n",
       "4  1954400510 2015-02-18 510000.00         3       2.00         1680   \n",
       "\n",
       "   sqft_lot  floors  waterfront  view  ...  sqft_basement  yr_built  \\\n",
       "0      5650    1.00           0     0  ...              0      1955   \n",
       "1      7242    2.00           0     0  ...            400      1951   \n",
       "2     10000    1.00           0     0  ...              0      1933   \n",
       "3      5000    1.00           0     0  ...            910      1965   \n",
       "4      8080    1.00           0     0  ...              0      1987   \n",
       "\n",
       "   yr_renovated  zipcode   lat    long  sqft_living15  sqft_lot15  house_age  \\\n",
       "0             0    98178 47.51 -122.26           1340        5650  new_house   \n",
       "1          1991    98125 47.72 -122.32           1690        7639  new_house   \n",
       "2             0    98028 47.74 -122.23           2720        8062  new_house   \n",
       "3             0    98136 47.52 -122.39           1360        5000  new_house   \n",
       "4             0    98074 47.62 -122.05           1800        7503  new_house   \n",
       "\n",
       "   dormitory_type  \n",
       "0           house  \n",
       "1           house  \n",
       "2       apartment  \n",
       "3           house  \n",
       "4           house  \n",
       "\n",
       "[5 rows x 23 columns]"
      ]
     },
     "execution_count": 152,
     "metadata": {},
     "output_type": "execute_result"
    }
   ],
   "source": [
    "data.head()"
   ]
  },
  {
   "cell_type": "markdown",
   "metadata": {
    "ExecuteTime": {
     "end_time": "2021-02-27T20:15:46.046829Z",
     "start_time": "2021-02-27T20:15:46.020380Z"
    }
   },
   "source": [
    "## 3. Crie uma nova coluna chamada: “condition_type”\n",
    "    - Se o valor da coluna “condition” for menor ou igual à 2 => ‘bad’\n",
    "    - Se o valor da coluna “condition” for igual à 3 ou 4 => ‘regular’\n",
    "    - Se o valor da coluna “condition” for igual à 5 => ‘good’"
   ]
  },
  {
   "cell_type": "code",
   "execution_count": 153,
   "metadata": {
    "ExecuteTime": {
     "end_time": "2021-02-27T21:20:59.583172Z",
     "start_time": "2021-02-27T21:20:59.572628Z"
    }
   },
   "outputs": [],
   "source": [
    "# Estrategia 1:\n",
    "# 1. Criar uma coluna nova, preenchida com NA\n",
    "# 2. Atribuir os nomes das strings 'bad', 'regular' ou 'good' na coluna 'condition_type' para os dados filtrados por 'condition'\n",
    "\n",
    "# data['condition_type'] = 'NA'\n",
    "\n",
    "# data.loc[ data['condition'] <= 2, 'condition_type'] = 'bad'\n",
    "# data.loc[ (data['condition'] == 3) | (data['condition'] == 4), 'condition_type'] = 'regular'\n",
    "# data.loc[ data['condition'] == 5, 'condition_type'] = 'good'\n",
    "\n",
    "# data[['condition','condition_type']]\n",
    "\n",
    "# ATENÇÃO: não podemos comparar int com string\n",
    "data['condition'] = data['condition'].astype( 'int64' )\n",
    "data['condition_type'] = data['condition'].apply( lambda x: 'bad' if x <= 2 else 'regular' if (x == 3) | (x == 4) else 'good' )"
   ]
  },
  {
   "cell_type": "code",
   "execution_count": 154,
   "metadata": {},
   "outputs": [
    {
     "data": {
      "text/plain": [
       "array([3, 5, 4, 1, 2], dtype=int64)"
      ]
     },
     "execution_count": 154,
     "metadata": {},
     "output_type": "execute_result"
    }
   ],
   "source": [
    "data['condition'].unique()"
   ]
  },
  {
   "cell_type": "code",
   "execution_count": 155,
   "metadata": {},
   "outputs": [
    {
     "data": {
      "text/plain": [
       "id                         int64\n",
       "date              datetime64[ns]\n",
       "price                    float64\n",
       "bedrooms                   int64\n",
       "bathrooms                float64\n",
       "sqft_living                int64\n",
       "sqft_lot                   int64\n",
       "floors                   float64\n",
       "waterfront                 int64\n",
       "view                       int64\n",
       "condition                  int64\n",
       "grade                      int64\n",
       "sqft_above                 int64\n",
       "sqft_basement              int64\n",
       "yr_built                   int64\n",
       "yr_renovated               int64\n",
       "zipcode                    int64\n",
       "lat                      float64\n",
       "long                     float64\n",
       "sqft_living15              int64\n",
       "sqft_lot15                 int64\n",
       "house_age                 object\n",
       "dormitory_type            object\n",
       "condition_type            object\n",
       "dtype: object"
      ]
     },
     "execution_count": 155,
     "metadata": {},
     "output_type": "execute_result"
    }
   ],
   "source": [
    "data.dtypes"
   ]
  },
  {
   "cell_type": "markdown",
   "metadata": {
    "ExecuteTime": {
     "end_time": "2021-02-27T20:15:46.046829Z",
     "start_time": "2021-02-27T20:15:46.020380Z"
    }
   },
   "source": [
    "## 4. Modifique o TIPO da Coluna “condition” para STRING"
   ]
  },
  {
   "cell_type": "code",
   "execution_count": 156,
   "metadata": {
    "ExecuteTime": {
     "end_time": "2021-02-27T21:20:59.597269Z",
     "start_time": "2021-02-27T21:20:59.586347Z"
    }
   },
   "outputs": [
    {
     "data": {
      "text/plain": [
       "id           int64\n",
       "condition    int64\n",
       "dtype: object"
      ]
     },
     "execution_count": 156,
     "metadata": {},
     "output_type": "execute_result"
    }
   ],
   "source": [
    "data[['id', 'condition']].dtypes"
   ]
  },
  {
   "cell_type": "code",
   "execution_count": 157,
   "metadata": {
    "ExecuteTime": {
     "end_time": "2021-02-27T21:20:59.624842Z",
     "start_time": "2021-02-27T21:20:59.601385Z"
    }
   },
   "outputs": [],
   "source": [
    "data['condition'] = data['condition'].astype( str )"
   ]
  },
  {
   "cell_type": "code",
   "execution_count": 158,
   "metadata": {
    "ExecuteTime": {
     "end_time": "2021-02-27T21:20:59.636186Z",
     "start_time": "2021-02-27T21:20:59.627197Z"
    }
   },
   "outputs": [
    {
     "data": {
      "text/plain": [
       "id            int64\n",
       "condition    object\n",
       "dtype: object"
      ]
     },
     "execution_count": 158,
     "metadata": {},
     "output_type": "execute_result"
    }
   ],
   "source": [
    "data[['id', 'condition']].dtypes"
   ]
  },
  {
   "cell_type": "markdown",
   "metadata": {
    "ExecuteTime": {
     "end_time": "2021-02-27T20:15:46.046829Z",
     "start_time": "2021-02-27T20:15:46.020380Z"
    }
   },
   "source": [
    "## 5. Delete as colunas: “sqft_living15” e “sqft_lot15”"
   ]
  },
  {
   "cell_type": "code",
   "execution_count": 159,
   "metadata": {
    "ExecuteTime": {
     "end_time": "2021-02-27T21:20:59.645581Z",
     "start_time": "2021-02-27T21:20:59.638727Z"
    }
   },
   "outputs": [],
   "source": [
    "# deletar as colunas e atribui novamente ao data\n",
    "data = data.drop( ['sqft_living15', 'sqft_lot15'], axis=1 )"
   ]
  },
  {
   "cell_type": "markdown",
   "metadata": {
    "ExecuteTime": {
     "end_time": "2021-02-27T20:15:46.046829Z",
     "start_time": "2021-02-27T20:15:46.020380Z"
    }
   },
   "source": [
    "## 6. Modifique o TIPO da Coluna “yr_build” para DATE"
   ]
  },
  {
   "cell_type": "code",
   "execution_count": 160,
   "metadata": {
    "ExecuteTime": {
     "end_time": "2021-02-27T21:20:59.654199Z",
     "start_time": "2021-02-27T21:20:59.648438Z"
    }
   },
   "outputs": [],
   "source": [
    "data['yr_built'] = pd.to_datetime( data['yr_built'], format='%Y' )"
   ]
  },
  {
   "cell_type": "code",
   "execution_count": 161,
   "metadata": {},
   "outputs": [
    {
     "data": {
      "text/plain": [
       "0       1955-01-01\n",
       "1       1951-01-01\n",
       "2       1933-01-01\n",
       "3       1965-01-01\n",
       "4       1987-01-01\n",
       "           ...    \n",
       "21608   2009-01-01\n",
       "21609   2014-01-01\n",
       "21610   2009-01-01\n",
       "21611   2004-01-01\n",
       "21612   2008-01-01\n",
       "Name: yr_built, Length: 21613, dtype: datetime64[ns]"
      ]
     },
     "execution_count": 161,
     "metadata": {},
     "output_type": "execute_result"
    }
   ],
   "source": [
    "data['yr_built']"
   ]
  },
  {
   "cell_type": "code",
   "execution_count": 162,
   "metadata": {},
   "outputs": [],
   "source": [
    "# se extrraímos o ano da data, ela volta a ser formato int\n",
    "data['yr_built'] = pd.to_datetime( data['yr_built'], format='%Y' ).dt.year"
   ]
  },
  {
   "cell_type": "code",
   "execution_count": 163,
   "metadata": {},
   "outputs": [
    {
     "data": {
      "text/plain": [
       "dtype('int64')"
      ]
     },
     "execution_count": 163,
     "metadata": {},
     "output_type": "execute_result"
    }
   ],
   "source": [
    "data['yr_built'].dtypes"
   ]
  },
  {
   "cell_type": "code",
   "execution_count": 164,
   "metadata": {},
   "outputs": [],
   "source": [
    "data['yr_built'] = pd.to_datetime( data['yr_built'], format='%Y' )"
   ]
  },
  {
   "cell_type": "code",
   "execution_count": 165,
   "metadata": {},
   "outputs": [
    {
     "data": {
      "text/plain": [
       "dtype('<M8[ns]')"
      ]
     },
     "execution_count": 165,
     "metadata": {},
     "output_type": "execute_result"
    }
   ],
   "source": [
    "data['yr_built'].dtypes"
   ]
  },
  {
   "cell_type": "code",
   "execution_count": 166,
   "metadata": {},
   "outputs": [
    {
     "data": {
      "text/plain": [
       "id                         int64\n",
       "date              datetime64[ns]\n",
       "price                    float64\n",
       "bedrooms                   int64\n",
       "bathrooms                float64\n",
       "sqft_living                int64\n",
       "sqft_lot                   int64\n",
       "floors                   float64\n",
       "waterfront                 int64\n",
       "view                       int64\n",
       "condition                 object\n",
       "grade                      int64\n",
       "sqft_above                 int64\n",
       "sqft_basement              int64\n",
       "yr_built          datetime64[ns]\n",
       "yr_renovated               int64\n",
       "zipcode                    int64\n",
       "lat                      float64\n",
       "long                     float64\n",
       "house_age                 object\n",
       "dormitory_type            object\n",
       "condition_type            object\n",
       "dtype: object"
      ]
     },
     "execution_count": 166,
     "metadata": {},
     "output_type": "execute_result"
    }
   ],
   "source": [
    "data.dtypes"
   ]
  },
  {
   "cell_type": "markdown",
   "metadata": {
    "ExecuteTime": {
     "end_time": "2021-02-27T20:15:46.046829Z",
     "start_time": "2021-02-27T20:15:46.020380Z"
    }
   },
   "source": [
    "## 7. Modifique o TIPO a Coluna “yr_renovated” para DATE"
   ]
  },
  {
   "cell_type": "code",
   "execution_count": 167,
   "metadata": {
    "ExecuteTime": {
     "end_time": "2021-02-27T21:01:43.837725Z",
     "start_time": "2021-02-27T21:01:43.714778Z"
    }
   },
   "outputs": [
    {
     "name": "stderr",
     "output_type": "stream",
     "text": [
      "C:\\Users\\Luana\\AppData\\Local\\Temp/ipykernel_17800/1517841178.py:11: FutureWarning: Inferring datetime64[ns] from data containing strings is deprecated and will be removed in a future version. To retain the old behavior explicitly pass Series(data, dtype={value.dtype})\n",
      "  data['yr_renovated'] = data['yr_renovated'].apply( lambda x: '1900-01-01' if x == 0 else pd.to_datetime( x, format='%Y' ) )\n"
     ]
    }
   ],
   "source": [
    "# Opção 1: não\n",
    "# data['yr_renovated'] = pd.to_datetime( data['yr_renovated'], format='%Y')\n",
    "# esse comando acima dá o erro: time data '0' does not match format '%Y' (match)\n",
    "# ele não consegue encontrar o dia pro ano 0\n",
    "\n",
    "# Opção 2: não\n",
    "# data['yr_renovated'] = data['yr_renovated'].apply( lambda x: pd.to_datetime( x,format='%Y') if x > 0 else x )\n",
    "# dessa forma, haverá 2 tipos de dados na coluna 'yr_renovated' e então essa coluna acaba sendo tratada como object\n",
    "\n",
    "# Opção 3: setar os valores 0 como um ano 'default', que é o 1970 (mas a data mais antiga do dataset é 1900)\n",
    "data['yr_renovated'] = data['yr_renovated'].apply( lambda x: '1900-01-01' if x == 0 else pd.to_datetime( x, format='%Y' ) )"
   ]
  },
  {
   "cell_type": "code",
   "execution_count": 168,
   "metadata": {},
   "outputs": [
    {
     "data": {
      "text/plain": [
       "id                         int64\n",
       "date              datetime64[ns]\n",
       "price                    float64\n",
       "bedrooms                   int64\n",
       "bathrooms                float64\n",
       "sqft_living                int64\n",
       "sqft_lot                   int64\n",
       "floors                   float64\n",
       "waterfront                 int64\n",
       "view                       int64\n",
       "condition                 object\n",
       "grade                      int64\n",
       "sqft_above                 int64\n",
       "sqft_basement              int64\n",
       "yr_built          datetime64[ns]\n",
       "yr_renovated      datetime64[ns]\n",
       "zipcode                    int64\n",
       "lat                      float64\n",
       "long                     float64\n",
       "house_age                 object\n",
       "dormitory_type            object\n",
       "condition_type            object\n",
       "dtype: object"
      ]
     },
     "execution_count": 168,
     "metadata": {},
     "output_type": "execute_result"
    }
   ],
   "source": [
    "data.dtypes"
   ]
  },
  {
   "cell_type": "markdown",
   "metadata": {
    "ExecuteTime": {
     "end_time": "2021-02-27T20:15:46.046829Z",
     "start_time": "2021-02-27T20:15:46.020380Z"
    }
   },
   "source": [
    "## 8. Qual a data mais antiga de construção de um imóvel?"
   ]
  },
  {
   "cell_type": "code",
   "execution_count": 169,
   "metadata": {
    "ExecuteTime": {
     "end_time": "2021-02-27T21:21:01.834491Z",
     "start_time": "2021-02-27T21:21:01.831081Z"
    }
   },
   "outputs": [
    {
     "name": "stdout",
     "output_type": "stream",
     "text": [
      "A data mais antiga de construção de um ímóvel é 1900\n"
     ]
    }
   ],
   "source": [
    "# Estratégia:\n",
    "# 1. Verificar o valor mínimo da coluna 'yr_built'\n",
    "\n",
    "min_date = data['yr_built'].min().year\n",
    "\n",
    "print( 'A data mais antiga de construção de um ímóvel é {}'.format( min_date ) )"
   ]
  },
  {
   "cell_type": "markdown",
   "metadata": {
    "ExecuteTime": {
     "end_time": "2021-02-27T20:15:46.046829Z",
     "start_time": "2021-02-27T20:15:46.020380Z"
    }
   },
   "source": [
    "## 9. Qual a data mais antiga de renovação de um imóvel?"
   ]
  },
  {
   "cell_type": "code",
   "execution_count": 170,
   "metadata": {},
   "outputs": [
    {
     "data": {
      "text/plain": [
       "id                         int64\n",
       "date              datetime64[ns]\n",
       "price                    float64\n",
       "bedrooms                   int64\n",
       "bathrooms                float64\n",
       "sqft_living                int64\n",
       "sqft_lot                   int64\n",
       "floors                   float64\n",
       "waterfront                 int64\n",
       "view                       int64\n",
       "condition                 object\n",
       "grade                      int64\n",
       "sqft_above                 int64\n",
       "sqft_basement              int64\n",
       "yr_built          datetime64[ns]\n",
       "yr_renovated      datetime64[ns]\n",
       "zipcode                    int64\n",
       "lat                      float64\n",
       "long                     float64\n",
       "house_age                 object\n",
       "dormitory_type            object\n",
       "condition_type            object\n",
       "dtype: object"
      ]
     },
     "execution_count": 170,
     "metadata": {},
     "output_type": "execute_result"
    }
   ],
   "source": [
    "data.dtypes"
   ]
  },
  {
   "cell_type": "code",
   "execution_count": 171,
   "metadata": {
    "ExecuteTime": {
     "end_time": "2021-02-27T21:21:04.616683Z",
     "start_time": "2021-02-27T21:21:04.609638Z"
    }
   },
   "outputs": [
    {
     "name": "stdout",
     "output_type": "stream",
     "text": [
      "The oldest renovation data of a house is 1934.\n"
     ]
    }
   ],
   "source": [
    "# Estrategia\n",
    "# 1. Filtrar todas as linhas diferentes de zero ( imóveis que nao foram reformados ) da coluna 'yr_renovated'\n",
    "# 2. Encontrar a data mínima\n",
    "\n",
    "# Obs: 'yr_renovated' esta como object, tem que transforma em datetime para trabalhar com data\n",
    "# ATENÇÃO: transformamos 'yr_renovated' iguais a 0 em uma data default de '1900-01-01'\n",
    "\n",
    "# data.loc[ data['yr_renovated'] > 0,'yr_renovated' ]\n",
    "df = data[data['yr_renovated'] != '1900-01-01']['yr_renovated'].dt.year\n",
    "\n",
    "print( 'The oldest renovation data of a house is {}.'.format( df.min() ) )"
   ]
  },
  {
   "cell_type": "markdown",
   "metadata": {
    "ExecuteTime": {
     "end_time": "2021-02-27T20:15:46.046829Z",
     "start_time": "2021-02-27T20:15:46.020380Z"
    }
   },
   "source": [
    "## 10. Quantos imóveis tem 2 andares?"
   ]
  },
  {
   "cell_type": "code",
   "execution_count": 172,
   "metadata": {
    "ExecuteTime": {
     "end_time": "2021-02-27T21:21:04.941127Z",
     "start_time": "2021-02-27T21:21:04.935635Z"
    }
   },
   "outputs": [
    {
     "name": "stdout",
     "output_type": "stream",
     "text": [
      "O número de imóveis com 2 andares é: 8241\n"
     ]
    }
   ],
   "source": [
    "# Estrategia:\n",
    "# 1. Filtrar todoso os imóveis com 2 andares\n",
    "# 2. Contar o número de linhas\n",
    "\n",
    "houses = data[data['floors'] == 2].shape[0]\n",
    "\n",
    "print( 'O número de imóveis com 2 andares é: {}'.format( houses ) )"
   ]
  },
  {
   "cell_type": "markdown",
   "metadata": {
    "ExecuteTime": {
     "end_time": "2021-02-27T20:15:46.046829Z",
     "start_time": "2021-02-27T20:15:46.020380Z"
    }
   },
   "source": [
    "## 11. Quantos imóveis estão com a condição igual a “regular” ?"
   ]
  },
  {
   "cell_type": "code",
   "execution_count": 173,
   "metadata": {
    "ExecuteTime": {
     "end_time": "2021-02-27T21:21:05.696708Z",
     "start_time": "2021-02-27T21:21:05.689645Z"
    }
   },
   "outputs": [
    {
     "name": "stdout",
     "output_type": "stream",
     "text": [
      "O número de imóveis que estão com a condição igual a \"regular\" é: 19710\n"
     ]
    }
   ],
   "source": [
    "# Estrategia\n",
    "# 1. Filtrar todos os apartamentos com \"condition_type\" igual a \"regular\"\n",
    "# 2. Contar o número de imóveis sob essa condição\n",
    "\n",
    "houses = data[data['condition_type'] == 'regular'].shape[0]\n",
    "\n",
    "print( 'O número de imóveis que estão com a condição igual a \"regular\" é: {}'.format( houses ) )"
   ]
  },
  {
   "cell_type": "markdown",
   "metadata": {
    "ExecuteTime": {
     "end_time": "2021-02-27T20:15:46.046829Z",
     "start_time": "2021-02-27T20:15:46.020380Z"
    }
   },
   "source": [
    "## 12. Quantos imóveis estão com a condição igual a “bad”e possuem “vista para água” ?"
   ]
  },
  {
   "cell_type": "code",
   "execution_count": 174,
   "metadata": {
    "ExecuteTime": {
     "end_time": "2021-02-27T21:21:07.294954Z",
     "start_time": "2021-02-27T21:21:07.288643Z"
    }
   },
   "outputs": [
    {
     "name": "stdout",
     "output_type": "stream",
     "text": [
      "O número de imóveis com condição igual a 'bad' e que possuem 'vista para água' é: 2\n"
     ]
    }
   ],
   "source": [
    "# Estrategia:\n",
    "# 1. Filtrar as colunas \"conditional_type\" igual a \"bad\" e \"waterfront\" igual a 1\n",
    "# 2. Contar o número de linhas\n",
    "\n",
    "houses = data[ (data[ 'condition_type' ] == 'bad') & (data[ 'waterfront' ] == 1) ].shape[0]\n",
    "\n",
    "print( \"O número de imóveis com condição igual a 'bad' e que possuem 'vista para água' é: {}\".format( houses ) )"
   ]
  },
  {
   "cell_type": "markdown",
   "metadata": {
    "ExecuteTime": {
     "end_time": "2021-02-27T20:15:46.046829Z",
     "start_time": "2021-02-27T20:15:46.020380Z"
    }
   },
   "source": [
    "## 13. Quantos imóveis estão com a condição igual a “good” e são “new_house”?"
   ]
  },
  {
   "cell_type": "code",
   "execution_count": 175,
   "metadata": {
    "ExecuteTime": {
     "end_time": "2021-02-27T21:21:07.623250Z",
     "start_time": "2021-02-27T21:21:07.615830Z"
    }
   },
   "outputs": [
    {
     "name": "stdout",
     "output_type": "stream",
     "text": [
      "O número de imóveis com condição igual a 'good' e que são 'new_house' é: 1701\n"
     ]
    }
   ],
   "source": [
    "# Estrategia:\n",
    "# 1. Filtrar as colunas \"conditional_type\" igual a \"good\" e \"house_age\" equals to \"new_house\"\n",
    "# 2. Contar o número de linhas\n",
    "houses = data[(data['condition_type'] == 'good') & (data['house_age'] == \"new_house\")].shape[0]\n",
    "\n",
    "# # data[(data[ 'condition_type' ] == 'good') & ( data[ 'house_age' ] == 'new_house' )]\n",
    "\n",
    "print( \"O número de imóveis com condição igual a 'good' e que são 'new_house' é: {}\".format( houses ) )"
   ]
  },
  {
   "cell_type": "markdown",
   "metadata": {
    "ExecuteTime": {
     "end_time": "2021-02-27T20:15:46.046829Z",
     "start_time": "2021-02-27T20:15:46.020380Z"
    }
   },
   "source": [
    "## 14. Qual o valor do imóvel mais caro do tipo “studio” ?"
   ]
  },
  {
   "cell_type": "code",
   "execution_count": 176,
   "metadata": {
    "ExecuteTime": {
     "end_time": "2021-02-27T21:21:07.900460Z",
     "start_time": "2021-02-27T21:21:07.894823Z"
    }
   },
   "outputs": [
    {
     "name": "stdout",
     "output_type": "stream",
     "text": [
      "O imóvel mais caro do tipo 'studio' possui o valor de: $1247000.0\n"
     ]
    }
   ],
   "source": [
    "# Estrategia:\n",
    "# 1. Filtrar as colunas \"dormitory_type\" igual a \"studio\"\n",
    "# 2. Encontrar o máximo valor da coluna \"price\"\n",
    "\n",
    "max_studio_price = data.loc[ data['dormitory_type'] == 'studio','price'].max()\n",
    "\n",
    "print( \"O imóvel mais caro do tipo 'studio' possui o valor de: ${}\".format( max_studio_price ) )\n",
    "\n",
    "# ou:  data[ data['dormitory_type'] == 'studio' ]['price'].max()"
   ]
  },
  {
   "cell_type": "markdown",
   "metadata": {
    "ExecuteTime": {
     "end_time": "2021-02-27T20:15:46.046829Z",
     "start_time": "2021-02-27T20:15:46.020380Z"
    }
   },
   "source": [
    "## 15. Quantos imóveis do tipo “apartment” foram reformados em 2015 ?"
   ]
  },
  {
   "cell_type": "code",
   "execution_count": 177,
   "metadata": {},
   "outputs": [
    {
     "data": {
      "text/plain": [
       "id                         int64\n",
       "date              datetime64[ns]\n",
       "price                    float64\n",
       "bedrooms                   int64\n",
       "bathrooms                float64\n",
       "sqft_living                int64\n",
       "sqft_lot                   int64\n",
       "floors                   float64\n",
       "waterfront                 int64\n",
       "view                       int64\n",
       "condition                 object\n",
       "grade                      int64\n",
       "sqft_above                 int64\n",
       "sqft_basement              int64\n",
       "yr_built          datetime64[ns]\n",
       "yr_renovated      datetime64[ns]\n",
       "zipcode                    int64\n",
       "lat                      float64\n",
       "long                     float64\n",
       "house_age                 object\n",
       "dormitory_type            object\n",
       "condition_type            object\n",
       "dtype: object"
      ]
     },
     "execution_count": 177,
     "metadata": {},
     "output_type": "execute_result"
    }
   ],
   "source": [
    "data.dtypes"
   ]
  },
  {
   "cell_type": "code",
   "execution_count": 179,
   "metadata": {
    "ExecuteTime": {
     "end_time": "2021-02-27T21:30:59.763973Z",
     "start_time": "2021-02-27T21:30:59.758203Z"
    }
   },
   "outputs": [
    {
     "data": {
      "text/plain": [
       "16"
      ]
     },
     "execution_count": 179,
     "metadata": {},
     "output_type": "execute_result"
    }
   ],
   "source": [
    "# Estrategia:\n",
    "# 1. Filtrar as colunas \"dormitory_type\" igual a \"apartament\" e \"yr_renovated\" equals to \"2015-01-01\"\n",
    "# 2. Contar o número de linhas\n",
    "# houses = data[( data['dormitory_type'] == 'apartament' ) & ( data['yr_renovated'] == '2015-01-01' )].shape[0]\n",
    "\n",
    "# print( \"O número de imóveis do tipo 'apartment' reformados em 2015 é: {}\".format( houses ) )\n",
    "# ERRADO \n",
    "\n",
    "data.loc[data['yr_renovated'] == pd.to_datetime( '2015-01-01' ),'id'].shape[0]"
   ]
  },
  {
   "cell_type": "code",
   "execution_count": 181,
   "metadata": {},
   "outputs": [
    {
     "data": {
      "text/plain": [
       "16"
      ]
     },
     "execution_count": 181,
     "metadata": {},
     "output_type": "execute_result"
    }
   ],
   "source": [
    "data.loc[data['yr_renovated'].dt.year == 2015,'id'].size"
   ]
  },
  {
   "cell_type": "markdown",
   "metadata": {
    "ExecuteTime": {
     "end_time": "2021-02-27T20:15:46.046829Z",
     "start_time": "2021-02-27T20:15:46.020380Z"
    }
   },
   "source": [
    "## 16. Qual o maior número de quartos que um imóveis do tipo “house” possui ?"
   ]
  },
  {
   "cell_type": "code",
   "execution_count": 182,
   "metadata": {
    "ExecuteTime": {
     "end_time": "2021-02-27T21:29:10.495226Z",
     "start_time": "2021-02-27T21:29:10.488202Z"
    }
   },
   "outputs": [
    {
     "name": "stdout",
     "output_type": "stream",
     "text": [
      "O maior número de quartos que um imóvel do tipo 'house' possui é: 33\n"
     ]
    }
   ],
   "source": [
    "# Estrategia:\n",
    "# 1. Filtrar as colunas \"dormitory type\" igual a \"house\"\n",
    "# 2. Encontrar o maior valor da coluna bedrooms\n",
    "\n",
    "# ou b = data[data['dormitory_type'] == 'house']['bedrooms'].max()\n",
    "houses = data.loc[ data['dormitory_type'] == 'house', 'bedrooms' ].max()\n",
    "\n",
    "print( \"O maior número de quartos que um imóvel do tipo 'house' possui é: {}\".format( houses ) )"
   ]
  },
  {
   "cell_type": "markdown",
   "metadata": {
    "ExecuteTime": {
     "end_time": "2021-02-27T20:15:46.046829Z",
     "start_time": "2021-02-27T20:15:46.020380Z"
    }
   },
   "source": [
    "## 17. Quantos imóveis “new_house” foram reformados no ano de 2014?"
   ]
  },
  {
   "cell_type": "code",
   "execution_count": 185,
   "metadata": {
    "ExecuteTime": {
     "end_time": "2021-02-27T21:30:42.485740Z",
     "start_time": "2021-02-27T21:30:42.480248Z"
    }
   },
   "outputs": [
    {
     "name": "stdout",
     "output_type": "stream",
     "text": [
      "O número de imóveis 'new_house' que foram reformados em 2014 é: 91\n"
     ]
    }
   ],
   "source": [
    "# Estrategia:\n",
    "# 1. Filtrar as colunas \"dormitory_type\" igual a \"apartament\" e \"yr_renovated\" igual a 2014\n",
    "# 2. Contar o número de linhas\n",
    "\n",
    "houses = data[ (data['house_age'] == 'new_house') & (data['yr_renovated'].dt.year == 2014 ) ].shape[0]\n",
    "\n",
    "print( \"O número de imóveis 'new_house' que foram reformados em 2014 é: {}\".format( houses ) )"
   ]
  },
  {
   "cell_type": "markdown",
   "metadata": {
    "ExecuteTime": {
     "end_time": "2021-02-27T20:15:46.046829Z",
     "start_time": "2021-02-27T20:15:46.020380Z"
    }
   },
   "source": [
    "## 18. Selecione as colunas: “id”, “date”, “price”, “floors”, “zipcode” pelo método:\n",
    "    -- Direto pelo nome das colunas\n",
    "    -- Pelos índices\n",
    "    -- Pelos índices das linhas e o nome das colunas\n",
    "    -- Índices Booleanos"
   ]
  },
  {
   "cell_type": "code",
   "execution_count": 186,
   "metadata": {
    "ExecuteTime": {
     "end_time": "2021-02-27T21:35:10.424504Z",
     "start_time": "2021-02-27T21:35:10.420864Z"
    }
   },
   "outputs": [
    {
     "data": {
      "text/plain": [
       "Index(['id', 'date', 'price', 'bedrooms', 'bathrooms', 'sqft_living',\n",
       "       'sqft_lot', 'floors', 'waterfront', 'view', 'condition', 'grade',\n",
       "       'sqft_above', 'sqft_basement', 'yr_built', 'yr_renovated', 'zipcode',\n",
       "       'lat', 'long', 'house_age', 'dormitory_type', 'condition_type'],\n",
       "      dtype='object')"
      ]
     },
     "execution_count": 186,
     "metadata": {},
     "output_type": "execute_result"
    }
   ],
   "source": [
    "data.columns"
   ]
  },
  {
   "cell_type": "code",
   "execution_count": 187,
   "metadata": {
    "ExecuteTime": {
     "end_time": "2021-02-27T21:36:50.269711Z",
     "start_time": "2021-02-27T21:36:50.263832Z"
    }
   },
   "outputs": [
    {
     "data": {
      "text/html": [
       "<div>\n",
       "<style scoped>\n",
       "    .dataframe tbody tr th:only-of-type {\n",
       "        vertical-align: middle;\n",
       "    }\n",
       "\n",
       "    .dataframe tbody tr th {\n",
       "        vertical-align: top;\n",
       "    }\n",
       "\n",
       "    .dataframe thead th {\n",
       "        text-align: right;\n",
       "    }\n",
       "</style>\n",
       "<table border=\"1\" class=\"dataframe\">\n",
       "  <thead>\n",
       "    <tr style=\"text-align: right;\">\n",
       "      <th></th>\n",
       "      <th>id</th>\n",
       "      <th>date</th>\n",
       "      <th>price</th>\n",
       "      <th>floors</th>\n",
       "      <th>zipcode</th>\n",
       "    </tr>\n",
       "  </thead>\n",
       "  <tbody>\n",
       "    <tr>\n",
       "      <th>0</th>\n",
       "      <td>7129300520</td>\n",
       "      <td>2014-10-13</td>\n",
       "      <td>221900.00</td>\n",
       "      <td>1.00</td>\n",
       "      <td>98178</td>\n",
       "    </tr>\n",
       "    <tr>\n",
       "      <th>1</th>\n",
       "      <td>6414100192</td>\n",
       "      <td>2014-12-09</td>\n",
       "      <td>538000.00</td>\n",
       "      <td>2.00</td>\n",
       "      <td>98125</td>\n",
       "    </tr>\n",
       "    <tr>\n",
       "      <th>2</th>\n",
       "      <td>5631500400</td>\n",
       "      <td>2015-02-25</td>\n",
       "      <td>180000.00</td>\n",
       "      <td>1.00</td>\n",
       "      <td>98028</td>\n",
       "    </tr>\n",
       "    <tr>\n",
       "      <th>3</th>\n",
       "      <td>2487200875</td>\n",
       "      <td>2014-12-09</td>\n",
       "      <td>604000.00</td>\n",
       "      <td>1.00</td>\n",
       "      <td>98136</td>\n",
       "    </tr>\n",
       "    <tr>\n",
       "      <th>4</th>\n",
       "      <td>1954400510</td>\n",
       "      <td>2015-02-18</td>\n",
       "      <td>510000.00</td>\n",
       "      <td>1.00</td>\n",
       "      <td>98074</td>\n",
       "    </tr>\n",
       "    <tr>\n",
       "      <th>...</th>\n",
       "      <td>...</td>\n",
       "      <td>...</td>\n",
       "      <td>...</td>\n",
       "      <td>...</td>\n",
       "      <td>...</td>\n",
       "    </tr>\n",
       "    <tr>\n",
       "      <th>21608</th>\n",
       "      <td>263000018</td>\n",
       "      <td>2014-05-21</td>\n",
       "      <td>360000.00</td>\n",
       "      <td>3.00</td>\n",
       "      <td>98103</td>\n",
       "    </tr>\n",
       "    <tr>\n",
       "      <th>21609</th>\n",
       "      <td>6600060120</td>\n",
       "      <td>2015-02-23</td>\n",
       "      <td>400000.00</td>\n",
       "      <td>2.00</td>\n",
       "      <td>98146</td>\n",
       "    </tr>\n",
       "    <tr>\n",
       "      <th>21610</th>\n",
       "      <td>1523300141</td>\n",
       "      <td>2014-06-23</td>\n",
       "      <td>402101.00</td>\n",
       "      <td>2.00</td>\n",
       "      <td>98144</td>\n",
       "    </tr>\n",
       "    <tr>\n",
       "      <th>21611</th>\n",
       "      <td>291310100</td>\n",
       "      <td>2015-01-16</td>\n",
       "      <td>400000.00</td>\n",
       "      <td>2.00</td>\n",
       "      <td>98027</td>\n",
       "    </tr>\n",
       "    <tr>\n",
       "      <th>21612</th>\n",
       "      <td>1523300157</td>\n",
       "      <td>2014-10-15</td>\n",
       "      <td>325000.00</td>\n",
       "      <td>2.00</td>\n",
       "      <td>98144</td>\n",
       "    </tr>\n",
       "  </tbody>\n",
       "</table>\n",
       "<p>21613 rows × 5 columns</p>\n",
       "</div>"
      ],
      "text/plain": [
       "               id       date     price  floors  zipcode\n",
       "0      7129300520 2014-10-13 221900.00    1.00    98178\n",
       "1      6414100192 2014-12-09 538000.00    2.00    98125\n",
       "2      5631500400 2015-02-25 180000.00    1.00    98028\n",
       "3      2487200875 2014-12-09 604000.00    1.00    98136\n",
       "4      1954400510 2015-02-18 510000.00    1.00    98074\n",
       "...           ...        ...       ...     ...      ...\n",
       "21608   263000018 2014-05-21 360000.00    3.00    98103\n",
       "21609  6600060120 2015-02-23 400000.00    2.00    98146\n",
       "21610  1523300141 2014-06-23 402101.00    2.00    98144\n",
       "21611   291310100 2015-01-16 400000.00    2.00    98027\n",
       "21612  1523300157 2014-10-15 325000.00    2.00    98144\n",
       "\n",
       "[21613 rows x 5 columns]"
      ]
     },
     "execution_count": 187,
     "metadata": {},
     "output_type": "execute_result"
    }
   ],
   "source": [
    "# 1. Direto pelo nome das colunas\n",
    "data[['id', 'date', 'price', 'floors', 'zipcode']]"
   ]
  },
  {
   "cell_type": "code",
   "execution_count": 188,
   "metadata": {},
   "outputs": [
    {
     "data": {
      "text/html": [
       "<div>\n",
       "<style scoped>\n",
       "    .dataframe tbody tr th:only-of-type {\n",
       "        vertical-align: middle;\n",
       "    }\n",
       "\n",
       "    .dataframe tbody tr th {\n",
       "        vertical-align: top;\n",
       "    }\n",
       "\n",
       "    .dataframe thead th {\n",
       "        text-align: right;\n",
       "    }\n",
       "</style>\n",
       "<table border=\"1\" class=\"dataframe\">\n",
       "  <thead>\n",
       "    <tr style=\"text-align: right;\">\n",
       "      <th></th>\n",
       "      <th>id</th>\n",
       "      <th>date</th>\n",
       "      <th>price</th>\n",
       "      <th>floors</th>\n",
       "      <th>zipcode</th>\n",
       "    </tr>\n",
       "  </thead>\n",
       "  <tbody>\n",
       "    <tr>\n",
       "      <th>0</th>\n",
       "      <td>7129300520</td>\n",
       "      <td>2014-10-13</td>\n",
       "      <td>221900.00</td>\n",
       "      <td>1.00</td>\n",
       "      <td>98178</td>\n",
       "    </tr>\n",
       "    <tr>\n",
       "      <th>1</th>\n",
       "      <td>6414100192</td>\n",
       "      <td>2014-12-09</td>\n",
       "      <td>538000.00</td>\n",
       "      <td>2.00</td>\n",
       "      <td>98125</td>\n",
       "    </tr>\n",
       "    <tr>\n",
       "      <th>2</th>\n",
       "      <td>5631500400</td>\n",
       "      <td>2015-02-25</td>\n",
       "      <td>180000.00</td>\n",
       "      <td>1.00</td>\n",
       "      <td>98028</td>\n",
       "    </tr>\n",
       "    <tr>\n",
       "      <th>3</th>\n",
       "      <td>2487200875</td>\n",
       "      <td>2014-12-09</td>\n",
       "      <td>604000.00</td>\n",
       "      <td>1.00</td>\n",
       "      <td>98136</td>\n",
       "    </tr>\n",
       "    <tr>\n",
       "      <th>4</th>\n",
       "      <td>1954400510</td>\n",
       "      <td>2015-02-18</td>\n",
       "      <td>510000.00</td>\n",
       "      <td>1.00</td>\n",
       "      <td>98074</td>\n",
       "    </tr>\n",
       "    <tr>\n",
       "      <th>...</th>\n",
       "      <td>...</td>\n",
       "      <td>...</td>\n",
       "      <td>...</td>\n",
       "      <td>...</td>\n",
       "      <td>...</td>\n",
       "    </tr>\n",
       "    <tr>\n",
       "      <th>21608</th>\n",
       "      <td>263000018</td>\n",
       "      <td>2014-05-21</td>\n",
       "      <td>360000.00</td>\n",
       "      <td>3.00</td>\n",
       "      <td>98103</td>\n",
       "    </tr>\n",
       "    <tr>\n",
       "      <th>21609</th>\n",
       "      <td>6600060120</td>\n",
       "      <td>2015-02-23</td>\n",
       "      <td>400000.00</td>\n",
       "      <td>2.00</td>\n",
       "      <td>98146</td>\n",
       "    </tr>\n",
       "    <tr>\n",
       "      <th>21610</th>\n",
       "      <td>1523300141</td>\n",
       "      <td>2014-06-23</td>\n",
       "      <td>402101.00</td>\n",
       "      <td>2.00</td>\n",
       "      <td>98144</td>\n",
       "    </tr>\n",
       "    <tr>\n",
       "      <th>21611</th>\n",
       "      <td>291310100</td>\n",
       "      <td>2015-01-16</td>\n",
       "      <td>400000.00</td>\n",
       "      <td>2.00</td>\n",
       "      <td>98027</td>\n",
       "    </tr>\n",
       "    <tr>\n",
       "      <th>21612</th>\n",
       "      <td>1523300157</td>\n",
       "      <td>2014-10-15</td>\n",
       "      <td>325000.00</td>\n",
       "      <td>2.00</td>\n",
       "      <td>98144</td>\n",
       "    </tr>\n",
       "  </tbody>\n",
       "</table>\n",
       "<p>21613 rows × 5 columns</p>\n",
       "</div>"
      ],
      "text/plain": [
       "               id       date     price  floors  zipcode\n",
       "0      7129300520 2014-10-13 221900.00    1.00    98178\n",
       "1      6414100192 2014-12-09 538000.00    2.00    98125\n",
       "2      5631500400 2015-02-25 180000.00    1.00    98028\n",
       "3      2487200875 2014-12-09 604000.00    1.00    98136\n",
       "4      1954400510 2015-02-18 510000.00    1.00    98074\n",
       "...           ...        ...       ...     ...      ...\n",
       "21608   263000018 2014-05-21 360000.00    3.00    98103\n",
       "21609  6600060120 2015-02-23 400000.00    2.00    98146\n",
       "21610  1523300141 2014-06-23 402101.00    2.00    98144\n",
       "21611   291310100 2015-01-16 400000.00    2.00    98027\n",
       "21612  1523300157 2014-10-15 325000.00    2.00    98144\n",
       "\n",
       "[21613 rows x 5 columns]"
      ]
     },
     "execution_count": 188,
     "metadata": {},
     "output_type": "execute_result"
    }
   ],
   "source": [
    "# 2. Pelos índices\n",
    "data.iloc[:, [0, 1, 2, 7, 16]]"
   ]
  },
  {
   "cell_type": "code",
   "execution_count": 189,
   "metadata": {},
   "outputs": [
    {
     "data": {
      "text/html": [
       "<div>\n",
       "<style scoped>\n",
       "    .dataframe tbody tr th:only-of-type {\n",
       "        vertical-align: middle;\n",
       "    }\n",
       "\n",
       "    .dataframe tbody tr th {\n",
       "        vertical-align: top;\n",
       "    }\n",
       "\n",
       "    .dataframe thead th {\n",
       "        text-align: right;\n",
       "    }\n",
       "</style>\n",
       "<table border=\"1\" class=\"dataframe\">\n",
       "  <thead>\n",
       "    <tr style=\"text-align: right;\">\n",
       "      <th></th>\n",
       "      <th>id</th>\n",
       "      <th>date</th>\n",
       "      <th>price</th>\n",
       "      <th>floors</th>\n",
       "      <th>zipcode</th>\n",
       "    </tr>\n",
       "  </thead>\n",
       "  <tbody>\n",
       "    <tr>\n",
       "      <th>0</th>\n",
       "      <td>7129300520</td>\n",
       "      <td>2014-10-13</td>\n",
       "      <td>221900.00</td>\n",
       "      <td>1.00</td>\n",
       "      <td>98178</td>\n",
       "    </tr>\n",
       "    <tr>\n",
       "      <th>1</th>\n",
       "      <td>6414100192</td>\n",
       "      <td>2014-12-09</td>\n",
       "      <td>538000.00</td>\n",
       "      <td>2.00</td>\n",
       "      <td>98125</td>\n",
       "    </tr>\n",
       "    <tr>\n",
       "      <th>2</th>\n",
       "      <td>5631500400</td>\n",
       "      <td>2015-02-25</td>\n",
       "      <td>180000.00</td>\n",
       "      <td>1.00</td>\n",
       "      <td>98028</td>\n",
       "    </tr>\n",
       "    <tr>\n",
       "      <th>3</th>\n",
       "      <td>2487200875</td>\n",
       "      <td>2014-12-09</td>\n",
       "      <td>604000.00</td>\n",
       "      <td>1.00</td>\n",
       "      <td>98136</td>\n",
       "    </tr>\n",
       "    <tr>\n",
       "      <th>4</th>\n",
       "      <td>1954400510</td>\n",
       "      <td>2015-02-18</td>\n",
       "      <td>510000.00</td>\n",
       "      <td>1.00</td>\n",
       "      <td>98074</td>\n",
       "    </tr>\n",
       "    <tr>\n",
       "      <th>...</th>\n",
       "      <td>...</td>\n",
       "      <td>...</td>\n",
       "      <td>...</td>\n",
       "      <td>...</td>\n",
       "      <td>...</td>\n",
       "    </tr>\n",
       "    <tr>\n",
       "      <th>21608</th>\n",
       "      <td>263000018</td>\n",
       "      <td>2014-05-21</td>\n",
       "      <td>360000.00</td>\n",
       "      <td>3.00</td>\n",
       "      <td>98103</td>\n",
       "    </tr>\n",
       "    <tr>\n",
       "      <th>21609</th>\n",
       "      <td>6600060120</td>\n",
       "      <td>2015-02-23</td>\n",
       "      <td>400000.00</td>\n",
       "      <td>2.00</td>\n",
       "      <td>98146</td>\n",
       "    </tr>\n",
       "    <tr>\n",
       "      <th>21610</th>\n",
       "      <td>1523300141</td>\n",
       "      <td>2014-06-23</td>\n",
       "      <td>402101.00</td>\n",
       "      <td>2.00</td>\n",
       "      <td>98144</td>\n",
       "    </tr>\n",
       "    <tr>\n",
       "      <th>21611</th>\n",
       "      <td>291310100</td>\n",
       "      <td>2015-01-16</td>\n",
       "      <td>400000.00</td>\n",
       "      <td>2.00</td>\n",
       "      <td>98027</td>\n",
       "    </tr>\n",
       "    <tr>\n",
       "      <th>21612</th>\n",
       "      <td>1523300157</td>\n",
       "      <td>2014-10-15</td>\n",
       "      <td>325000.00</td>\n",
       "      <td>2.00</td>\n",
       "      <td>98144</td>\n",
       "    </tr>\n",
       "  </tbody>\n",
       "</table>\n",
       "<p>21613 rows × 5 columns</p>\n",
       "</div>"
      ],
      "text/plain": [
       "               id       date     price  floors  zipcode\n",
       "0      7129300520 2014-10-13 221900.00    1.00    98178\n",
       "1      6414100192 2014-12-09 538000.00    2.00    98125\n",
       "2      5631500400 2015-02-25 180000.00    1.00    98028\n",
       "3      2487200875 2014-12-09 604000.00    1.00    98136\n",
       "4      1954400510 2015-02-18 510000.00    1.00    98074\n",
       "...           ...        ...       ...     ...      ...\n",
       "21608   263000018 2014-05-21 360000.00    3.00    98103\n",
       "21609  6600060120 2015-02-23 400000.00    2.00    98146\n",
       "21610  1523300141 2014-06-23 402101.00    2.00    98144\n",
       "21611   291310100 2015-01-16 400000.00    2.00    98027\n",
       "21612  1523300157 2014-10-15 325000.00    2.00    98144\n",
       "\n",
       "[21613 rows x 5 columns]"
      ]
     },
     "execution_count": 189,
     "metadata": {},
     "output_type": "execute_result"
    }
   ],
   "source": [
    "# 3. Pelos índices das linhas e o nome das colunas\n",
    "data.loc[:, ['id', 'date', 'price', 'floors', 'zipcode']]"
   ]
  },
  {
   "cell_type": "code",
   "execution_count": 191,
   "metadata": {},
   "outputs": [
    {
     "data": {
      "text/html": [
       "<div>\n",
       "<style scoped>\n",
       "    .dataframe tbody tr th:only-of-type {\n",
       "        vertical-align: middle;\n",
       "    }\n",
       "\n",
       "    .dataframe tbody tr th {\n",
       "        vertical-align: top;\n",
       "    }\n",
       "\n",
       "    .dataframe thead th {\n",
       "        text-align: right;\n",
       "    }\n",
       "</style>\n",
       "<table border=\"1\" class=\"dataframe\">\n",
       "  <thead>\n",
       "    <tr style=\"text-align: right;\">\n",
       "      <th></th>\n",
       "      <th>id</th>\n",
       "      <th>date</th>\n",
       "      <th>price</th>\n",
       "      <th>floors</th>\n",
       "      <th>yr_built</th>\n",
       "    </tr>\n",
       "  </thead>\n",
       "  <tbody>\n",
       "    <tr>\n",
       "      <th>0</th>\n",
       "      <td>7129300520</td>\n",
       "      <td>2014-10-13</td>\n",
       "      <td>221900.00</td>\n",
       "      <td>1.00</td>\n",
       "      <td>1955-01-01</td>\n",
       "    </tr>\n",
       "    <tr>\n",
       "      <th>1</th>\n",
       "      <td>6414100192</td>\n",
       "      <td>2014-12-09</td>\n",
       "      <td>538000.00</td>\n",
       "      <td>2.00</td>\n",
       "      <td>1951-01-01</td>\n",
       "    </tr>\n",
       "    <tr>\n",
       "      <th>2</th>\n",
       "      <td>5631500400</td>\n",
       "      <td>2015-02-25</td>\n",
       "      <td>180000.00</td>\n",
       "      <td>1.00</td>\n",
       "      <td>1933-01-01</td>\n",
       "    </tr>\n",
       "    <tr>\n",
       "      <th>3</th>\n",
       "      <td>2487200875</td>\n",
       "      <td>2014-12-09</td>\n",
       "      <td>604000.00</td>\n",
       "      <td>1.00</td>\n",
       "      <td>1965-01-01</td>\n",
       "    </tr>\n",
       "    <tr>\n",
       "      <th>4</th>\n",
       "      <td>1954400510</td>\n",
       "      <td>2015-02-18</td>\n",
       "      <td>510000.00</td>\n",
       "      <td>1.00</td>\n",
       "      <td>1987-01-01</td>\n",
       "    </tr>\n",
       "    <tr>\n",
       "      <th>...</th>\n",
       "      <td>...</td>\n",
       "      <td>...</td>\n",
       "      <td>...</td>\n",
       "      <td>...</td>\n",
       "      <td>...</td>\n",
       "    </tr>\n",
       "    <tr>\n",
       "      <th>21608</th>\n",
       "      <td>263000018</td>\n",
       "      <td>2014-05-21</td>\n",
       "      <td>360000.00</td>\n",
       "      <td>3.00</td>\n",
       "      <td>2009-01-01</td>\n",
       "    </tr>\n",
       "    <tr>\n",
       "      <th>21609</th>\n",
       "      <td>6600060120</td>\n",
       "      <td>2015-02-23</td>\n",
       "      <td>400000.00</td>\n",
       "      <td>2.00</td>\n",
       "      <td>2014-01-01</td>\n",
       "    </tr>\n",
       "    <tr>\n",
       "      <th>21610</th>\n",
       "      <td>1523300141</td>\n",
       "      <td>2014-06-23</td>\n",
       "      <td>402101.00</td>\n",
       "      <td>2.00</td>\n",
       "      <td>2009-01-01</td>\n",
       "    </tr>\n",
       "    <tr>\n",
       "      <th>21611</th>\n",
       "      <td>291310100</td>\n",
       "      <td>2015-01-16</td>\n",
       "      <td>400000.00</td>\n",
       "      <td>2.00</td>\n",
       "      <td>2004-01-01</td>\n",
       "    </tr>\n",
       "    <tr>\n",
       "      <th>21612</th>\n",
       "      <td>1523300157</td>\n",
       "      <td>2014-10-15</td>\n",
       "      <td>325000.00</td>\n",
       "      <td>2.00</td>\n",
       "      <td>2008-01-01</td>\n",
       "    </tr>\n",
       "  </tbody>\n",
       "</table>\n",
       "<p>21613 rows × 5 columns</p>\n",
       "</div>"
      ],
      "text/plain": [
       "               id       date     price  floors   yr_built\n",
       "0      7129300520 2014-10-13 221900.00    1.00 1955-01-01\n",
       "1      6414100192 2014-12-09 538000.00    2.00 1951-01-01\n",
       "2      5631500400 2015-02-25 180000.00    1.00 1933-01-01\n",
       "3      2487200875 2014-12-09 604000.00    1.00 1965-01-01\n",
       "4      1954400510 2015-02-18 510000.00    1.00 1987-01-01\n",
       "...           ...        ...       ...     ...        ...\n",
       "21608   263000018 2014-05-21 360000.00    3.00 2009-01-01\n",
       "21609  6600060120 2015-02-23 400000.00    2.00 2014-01-01\n",
       "21610  1523300141 2014-06-23 402101.00    2.00 2009-01-01\n",
       "21611   291310100 2015-01-16 400000.00    2.00 2004-01-01\n",
       "21612  1523300157 2014-10-15 325000.00    2.00 2008-01-01\n",
       "\n",
       "[21613 rows x 5 columns]"
      ]
     },
     "execution_count": 191,
     "metadata": {},
     "output_type": "execute_result"
    }
   ],
   "source": [
    "#4. Índices Booleanos\n",
    "\n",
    "cols = [True,True,True,False,False,False,False,True,False,False,False,False,False,False,True,False,False,False,False,False,False,False]\n",
    "\n",
    "data.iloc[:,cols]"
   ]
  },
  {
   "cell_type": "markdown",
   "metadata": {
    "ExecuteTime": {
     "end_time": "2021-02-27T20:15:46.046829Z",
     "start_time": "2021-02-27T20:15:46.020380Z"
    }
   },
   "source": [
    "## 19. Salve um arquivo .csv com somente as colunas do item 10 ao 17."
   ]
  },
  {
   "cell_type": "code",
   "execution_count": 192,
   "metadata": {
    "ExecuteTime": {
     "end_time": "2021-02-27T21:37:50.261741Z",
     "start_time": "2021-02-27T21:37:50.259913Z"
    }
   },
   "outputs": [],
   "source": [
    "data[['house_age', 'dormitory_type', 'condition_type']].to_csv( 'exercicio19.csv' )"
   ]
  }
 ],
 "metadata": {
  "kernelspec": {
   "display_name": "Python 3 (ipykernel)",
   "language": "python",
   "name": "python3"
  },
  "language_info": {
   "codemirror_mode": {
    "name": "ipython",
    "version": 3
   },
   "file_extension": ".py",
   "mimetype": "text/x-python",
   "name": "python",
   "nbconvert_exporter": "python",
   "pygments_lexer": "ipython3",
   "version": "3.8.10"
  }
 },
 "nbformat": 4,
 "nbformat_minor": 4
}
