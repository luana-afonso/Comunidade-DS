{
 "cells": [
  {
   "cell_type": "markdown",
   "metadata": {},
   "source": [
    "# Aula 02- Resolução dos Exercícios\n",
    "\n",
    "## Novas perguntas do CEO"
   ]
  },
  {
   "cell_type": "markdown",
   "metadata": {
    "ExecuteTime": {
     "end_time": "2021-02-27T20:15:46.046829Z",
     "start_time": "2021-02-27T20:15:46.020380Z"
    }
   },
   "source": [
    "1. Crie uma nova coluna chamada: “house_age”\n",
    "    - Se o valor da coluna “date” for maior que 2014-01-01 => ‘new_house’\n",
    "    - Se o valor da coluna “date” for menor que 2014-01-01 => ‘old_house’\n",
    "\n",
    "2. Crie uma nova coluna chamada: “dormitory_type”\n",
    "    - Se o valor da coluna “bedrooms” for igual à 1 => ‘studio’\n",
    "    - Se o valor da coluna “bedrooms” for igual a 2 => ‘apartament’\n",
    "    - Se o valor da coluna “bedrooms” for maior que 2 => ‘house’\n",
    "\n",
    "3. Crie uma nova coluna chamada: “condition_type”\n",
    "    - Se o valor da coluna “condition” for menor ou igual à 2 => ‘bad’\n",
    "    - Se o valor da coluna “condition” for igual à 3 ou 4 => ‘regular’\n",
    "    - Se o valor da coluna “condition” for igual à 5 => ‘good’\n",
    "\n",
    "\n",
    "4. Modifique o TIPO a Coluna “condition” para STRING\n",
    "\n",
    "\n",
    "5. Delete as colunas: “sqft_living15” e “sqft_lot15”\n",
    "\n",
    "\n",
    "6. Modifique o TIPO a Coluna “yr_build” para DATE\n",
    "\n",
    "\n",
    "7. Modifique o TIPO a Coluna “yr_renovated” para DATE\n",
    "\n",
    "\n",
    "8. Qual a data mais antiga de construção de um imóvel?\n",
    "\n",
    "\n",
    "9. Qual a data mais antiga de renovação de um imóvel?\n",
    "\n",
    "\n",
    "10. Quantos imóveis tem 2 andares?\n",
    "\n",
    "\n",
    "11. Quantos imóveis estão com a condição igual a “regular” ?\n",
    "\n",
    "\n",
    "12. Quantos imóveis estão com a condição igual a “bad”e possuem “vista para água” ?\n",
    "\n",
    "\n",
    "13. Quantos imóveis estão com a condição igual a “good” e são “new_house”?\n",
    "\n",
    "\n",
    "14. Qual o valor do imóvel mais caro do tipo “studio” ?\n",
    "\n",
    "\n",
    "15. Quantos imóveis do tipo “apartment” foram reformados em 2015 ?\n",
    "\n",
    "\n",
    "16. Qual o maior número de quartos que um imóveis do tipo “house” possui ?\n",
    "\n",
    "\n",
    "17. Quantos imóveis “new_house” foram reformados no ano de 2014?\n",
    "\n",
    "\n",
    "18. Selecione as colunas: “id”, “date”, “price”, “floors”, “zipcode” pelo método:\n",
    "    - Direto pelo nome das colunas.\n",
    "    - Pelos Índices.\n",
    "    - Pelos Índices das linhas e o nome das colunas\n",
    "    - Índices Booleanos\t\t\n",
    "    \n",
    "    \n",
    "19. Salve um arquivo .csv com somente as colunas do item 10 ao 17.\n",
    "\n",
    "\n",
    "20. Modifique a cor dos pontos no mapa de “pink” para “verde-escuro”"
   ]
  },
  {
   "cell_type": "markdown",
   "metadata": {},
   "source": [
    "# Resolução"
   ]
  },
  {
   "cell_type": "markdown",
   "metadata": {},
   "source": [
    "## Import Libraries"
   ]
  },
  {
   "cell_type": "code",
   "execution_count": 1,
   "metadata": {
    "ExecuteTime": {
     "end_time": "2021-02-27T21:20:44.667766Z",
     "start_time": "2021-02-27T21:20:44.665137Z"
    }
   },
   "outputs": [],
   "source": [
    "import numpy  as np\n",
    "import pandas as pd\n",
    "import seaborn as sns\n",
    "\n",
    "from matplotlib import pyplot as plt\n",
    "import plotly.express as px"
   ]
  },
  {
   "cell_type": "code",
   "execution_count": 2,
   "metadata": {
    "ExecuteTime": {
     "end_time": "2021-02-27T21:20:43.294109Z",
     "start_time": "2021-02-27T21:20:43.290937Z"
    }
   },
   "outputs": [],
   "source": [
    "# Supress Scientific Notation\n",
    "np.set_printoptions(suppress=True)\n",
    "pd.set_option('display.float_format', '{:.2f}'.format)"
   ]
  },
  {
   "cell_type": "markdown",
   "metadata": {},
   "source": [
    "## Loading Data"
   ]
  },
  {
   "cell_type": "code",
   "execution_count": 106,
   "metadata": {
    "ExecuteTime": {
     "end_time": "2021-02-27T21:20:43.363271Z",
     "start_time": "2021-02-27T21:20:43.298236Z"
    }
   },
   "outputs": [],
   "source": [
    "# loading data into memory\n",
    "data = pd.read_csv( \"datasets/kc_house_data.csv\" )\n",
    "\n",
    "data.dtypes\n",
    "\n",
    "# Garantir que o formato date é um datetime \n",
    "data['date'] = pd.to_datetime( data['date'], format='%Y-%m-%d' )"
   ]
  },
  {
   "cell_type": "markdown",
   "metadata": {
    "ExecuteTime": {
     "end_time": "2021-02-27T20:15:46.046829Z",
     "start_time": "2021-02-27T20:15:46.020380Z"
    }
   },
   "source": [
    "## 1. Crie uma nova coluna chamada: “house_age”\n",
    "    - Se o valor da coluna “date” for maior que 2014-01-01 => ‘new_house’\n",
    "    - Se o valor da coluna “date” for menor que 2014-01-01 => ‘old_house’"
   ]
  },
  {
   "cell_type": "code",
   "execution_count": 107,
   "metadata": {
    "ExecuteTime": {
     "end_time": "2021-02-27T21:20:49.416831Z",
     "start_time": "2021-02-27T21:20:49.410679Z"
    }
   },
   "outputs": [],
   "source": [
    "# Estrategia\n",
    "# 1. Criar uma coluna nova, preenchida com NA\n",
    "# 2. Substituir o valor NA, conforme a condicional\n",
    "\n",
    "data['house_age'] = 'NA'\n",
    "data.loc[ data['date'] > '2014-01-01', 'house_age' ] = 'new_house' \n",
    "data.loc[ data['date'] < '2014-01-01', 'house_age'] = 'old_house'"
   ]
  },
  {
   "cell_type": "markdown",
   "metadata": {
    "ExecuteTime": {
     "end_time": "2021-02-27T20:15:46.046829Z",
     "start_time": "2021-02-27T20:15:46.020380Z"
    }
   },
   "source": [
    "## 2. Crie uma nova coluna chamada: “dormitory_type”\n",
    "    - Se o valor da coluna “bedrooms” for igual à 1 => ‘studio’\n",
    "    - Se o valor da coluna “bedrooms” for igual a 2 => ‘apartament’\n",
    "    - Se o valor da coluna “bedrooms” for maior que 2 => ‘house’"
   ]
  },
  {
   "cell_type": "code",
   "execution_count": 109,
   "metadata": {
    "ExecuteTime": {
     "end_time": "2021-02-27T21:20:59.570888Z",
     "start_time": "2021-02-27T21:20:50.198639Z"
    }
   },
   "outputs": [
    {
     "data": {
      "text/html": [
       "<div>\n",
       "<style scoped>\n",
       "    .dataframe tbody tr th:only-of-type {\n",
       "        vertical-align: middle;\n",
       "    }\n",
       "\n",
       "    .dataframe tbody tr th {\n",
       "        vertical-align: top;\n",
       "    }\n",
       "\n",
       "    .dataframe thead th {\n",
       "        text-align: right;\n",
       "    }\n",
       "</style>\n",
       "<table border=\"1\" class=\"dataframe\">\n",
       "  <thead>\n",
       "    <tr style=\"text-align: right;\">\n",
       "      <th></th>\n",
       "      <th>bedrooms</th>\n",
       "      <th>dormitory_type</th>\n",
       "    </tr>\n",
       "  </thead>\n",
       "  <tbody>\n",
       "    <tr>\n",
       "      <th>0</th>\n",
       "      <td>3</td>\n",
       "      <td>house</td>\n",
       "    </tr>\n",
       "    <tr>\n",
       "      <th>1</th>\n",
       "      <td>3</td>\n",
       "      <td>house</td>\n",
       "    </tr>\n",
       "    <tr>\n",
       "      <th>2</th>\n",
       "      <td>2</td>\n",
       "      <td>apartment</td>\n",
       "    </tr>\n",
       "    <tr>\n",
       "      <th>3</th>\n",
       "      <td>4</td>\n",
       "      <td>house</td>\n",
       "    </tr>\n",
       "    <tr>\n",
       "      <th>4</th>\n",
       "      <td>3</td>\n",
       "      <td>house</td>\n",
       "    </tr>\n",
       "    <tr>\n",
       "      <th>...</th>\n",
       "      <td>...</td>\n",
       "      <td>...</td>\n",
       "    </tr>\n",
       "    <tr>\n",
       "      <th>21608</th>\n",
       "      <td>3</td>\n",
       "      <td>house</td>\n",
       "    </tr>\n",
       "    <tr>\n",
       "      <th>21609</th>\n",
       "      <td>4</td>\n",
       "      <td>house</td>\n",
       "    </tr>\n",
       "    <tr>\n",
       "      <th>21610</th>\n",
       "      <td>2</td>\n",
       "      <td>apartment</td>\n",
       "    </tr>\n",
       "    <tr>\n",
       "      <th>21611</th>\n",
       "      <td>3</td>\n",
       "      <td>house</td>\n",
       "    </tr>\n",
       "    <tr>\n",
       "      <th>21612</th>\n",
       "      <td>2</td>\n",
       "      <td>apartment</td>\n",
       "    </tr>\n",
       "  </tbody>\n",
       "</table>\n",
       "<p>21613 rows × 2 columns</p>\n",
       "</div>"
      ],
      "text/plain": [
       "       bedrooms dormitory_type\n",
       "0             3          house\n",
       "1             3          house\n",
       "2             2      apartment\n",
       "3             4          house\n",
       "4             3          house\n",
       "...         ...            ...\n",
       "21608         3          house\n",
       "21609         4          house\n",
       "21610         2      apartment\n",
       "21611         3          house\n",
       "21612         2      apartment\n",
       "\n",
       "[21613 rows x 2 columns]"
      ]
     },
     "execution_count": 109,
     "metadata": {},
     "output_type": "execute_result"
    }
   ],
   "source": [
    "# Estrategia 1:\n",
    "# 1. Criar uma coluna nova, preenchida com NA\n",
    "# 2. Atribuir os nomes das strings 'studio', 'apartment' ou 'house' na coluna 'dormitory_type' para os dados filtrados por número de 'bedrooms'\n",
    "\n",
    "data['dormitory_type'] = 'NA'\n",
    "data.loc[ data['bedrooms'] == 1, 'dormitory_type' ] = 'studio'\n",
    "data.loc[ data['bedrooms'] == 2, 'dormitory_type' ] = 'apartment'\n",
    "data.loc[ data['bedrooms'] > 2, 'dormitory_type' ] = 'house'\n",
    "\n",
    "data[['bedrooms','dormitory_type']]"
   ]
  },
  {
   "cell_type": "code",
   "execution_count": 66,
   "metadata": {},
   "outputs": [
    {
     "data": {
      "text/plain": [
       "array(['house', 'apartment', 'studio', 'NA'], dtype=object)"
      ]
     },
     "execution_count": 66,
     "metadata": {},
     "output_type": "execute_result"
    }
   ],
   "source": [
    "data['dormitory_type'].unique()"
   ]
  },
  {
   "cell_type": "code",
   "execution_count": 67,
   "metadata": {},
   "outputs": [],
   "source": [
    "# Estrategia 2:\n",
    "# 1. Criar uma coluna nova, preenchida com NA\n",
    "# 2. Percorrer todas as linhas do conjunto de dados. Para cada linha, comparar a coluna \"bedrooms\"\n",
    "# 3. De acordo com a comparação, substituir o NA pelo dado valor\n",
    "\n",
    "# Usando o loop for\n",
    "\n",
    "data = pd.read_csv( \"datasets/kc_house_data.csv\" )\n",
    "\n",
    "data['dormitory_type'] = 'NA'\n",
    "\n",
    "# percorrendo todas as linhas do dataset\n",
    "for i in range( len( data ) ):\n",
    "    if data.loc[i, 'bedrooms'] == 1:\n",
    "        data.loc[i, 'dormitory_type'] = 'studio'\n",
    "    \n",
    "    elif data.loc[i, 'bedrooms'] == 2:\n",
    "        data.loc[i, 'dormitory_type'] = 'apartment'\n",
    "    \n",
    "    elif data.loc[i, 'bedrooms'] > 2:\n",
    "         data.loc[i, 'dormitory_type'] = 'house'"
   ]
  },
  {
   "cell_type": "code",
   "execution_count": 68,
   "metadata": {},
   "outputs": [
    {
     "data": {
      "text/plain": [
       "array(['house', 'apartment', 'studio', 'NA'], dtype=object)"
      ]
     },
     "execution_count": 68,
     "metadata": {},
     "output_type": "execute_result"
    }
   ],
   "source": [
    "data['dormitory_type'].unique()"
   ]
  },
  {
   "cell_type": "markdown",
   "metadata": {
    "ExecuteTime": {
     "end_time": "2021-02-27T20:15:46.046829Z",
     "start_time": "2021-02-27T20:15:46.020380Z"
    }
   },
   "source": [
    "## 3. Crie uma nova coluna chamada: “condition_type”\n",
    "    - Se o valor da coluna “condition” for menor ou igual à 2 => ‘bad’\n",
    "    - Se o valor da coluna “condition” for igual à 3 ou 4 => ‘regular’\n",
    "    - Se o valor da coluna “condition” for igual à 5 => ‘good’"
   ]
  },
  {
   "cell_type": "code",
   "execution_count": 110,
   "metadata": {
    "ExecuteTime": {
     "end_time": "2021-02-27T21:20:59.583172Z",
     "start_time": "2021-02-27T21:20:59.572628Z"
    }
   },
   "outputs": [
    {
     "data": {
      "text/html": [
       "<div>\n",
       "<style scoped>\n",
       "    .dataframe tbody tr th:only-of-type {\n",
       "        vertical-align: middle;\n",
       "    }\n",
       "\n",
       "    .dataframe tbody tr th {\n",
       "        vertical-align: top;\n",
       "    }\n",
       "\n",
       "    .dataframe thead th {\n",
       "        text-align: right;\n",
       "    }\n",
       "</style>\n",
       "<table border=\"1\" class=\"dataframe\">\n",
       "  <thead>\n",
       "    <tr style=\"text-align: right;\">\n",
       "      <th></th>\n",
       "      <th>condition</th>\n",
       "      <th>condition_type</th>\n",
       "    </tr>\n",
       "  </thead>\n",
       "  <tbody>\n",
       "    <tr>\n",
       "      <th>0</th>\n",
       "      <td>3</td>\n",
       "      <td>regular</td>\n",
       "    </tr>\n",
       "    <tr>\n",
       "      <th>1</th>\n",
       "      <td>3</td>\n",
       "      <td>regular</td>\n",
       "    </tr>\n",
       "    <tr>\n",
       "      <th>2</th>\n",
       "      <td>3</td>\n",
       "      <td>regular</td>\n",
       "    </tr>\n",
       "    <tr>\n",
       "      <th>3</th>\n",
       "      <td>5</td>\n",
       "      <td>good</td>\n",
       "    </tr>\n",
       "    <tr>\n",
       "      <th>4</th>\n",
       "      <td>3</td>\n",
       "      <td>regular</td>\n",
       "    </tr>\n",
       "    <tr>\n",
       "      <th>...</th>\n",
       "      <td>...</td>\n",
       "      <td>...</td>\n",
       "    </tr>\n",
       "    <tr>\n",
       "      <th>21608</th>\n",
       "      <td>3</td>\n",
       "      <td>regular</td>\n",
       "    </tr>\n",
       "    <tr>\n",
       "      <th>21609</th>\n",
       "      <td>3</td>\n",
       "      <td>regular</td>\n",
       "    </tr>\n",
       "    <tr>\n",
       "      <th>21610</th>\n",
       "      <td>3</td>\n",
       "      <td>regular</td>\n",
       "    </tr>\n",
       "    <tr>\n",
       "      <th>21611</th>\n",
       "      <td>3</td>\n",
       "      <td>regular</td>\n",
       "    </tr>\n",
       "    <tr>\n",
       "      <th>21612</th>\n",
       "      <td>3</td>\n",
       "      <td>regular</td>\n",
       "    </tr>\n",
       "  </tbody>\n",
       "</table>\n",
       "<p>21613 rows × 2 columns</p>\n",
       "</div>"
      ],
      "text/plain": [
       "       condition condition_type\n",
       "0              3        regular\n",
       "1              3        regular\n",
       "2              3        regular\n",
       "3              5           good\n",
       "4              3        regular\n",
       "...          ...            ...\n",
       "21608          3        regular\n",
       "21609          3        regular\n",
       "21610          3        regular\n",
       "21611          3        regular\n",
       "21612          3        regular\n",
       "\n",
       "[21613 rows x 2 columns]"
      ]
     },
     "execution_count": 110,
     "metadata": {},
     "output_type": "execute_result"
    }
   ],
   "source": [
    "# Estrategia 1:\n",
    "# 1. Criar uma coluna nova, preenchida com NA\n",
    "# 2. Atribuir os nomes das strings 'bad', 'regular' ou 'good' na coluna 'condition_type' para os dados filtrados por 'condition'\n",
    "\n",
    "data['condition_type'] = 'NA'\n",
    "\n",
    "data.loc[ data['condition'] <= 2, 'condition_type'] = 'bad'\n",
    "data.loc[ (data['condition'] == 3) | (data['condition'] == 4), 'condition_type'] = 'regular'\n",
    "data.loc[ data['condition'] == 5, 'condition_type'] = 'good'\n",
    "\n",
    "data[['condition','condition_type']]"
   ]
  },
  {
   "cell_type": "code",
   "execution_count": 70,
   "metadata": {},
   "outputs": [],
   "source": [
    "# Estrategia 2:\n",
    "# 1. Usar a função apply junto com a lambda para ter acesso a cada linha.\n",
    "# 2. Em cada linha, comparar a coluna \"condition\" com a condição dada.\n",
    "# 3. Aplicar a condição\n",
    "\n",
    "# data['condition'] = data['condition'].astype( int )\n",
    "# data['condition_type'] = data['condition'].apply( lambda x: 'bad' if x <= 2 else 'regular' if (x == 3) | (x == 4) else 'good' )"
   ]
  },
  {
   "cell_type": "markdown",
   "metadata": {
    "ExecuteTime": {
     "end_time": "2021-02-27T20:15:46.046829Z",
     "start_time": "2021-02-27T20:15:46.020380Z"
    }
   },
   "source": [
    "## 4. Modifique o TIPO da Coluna “condition” para STRING"
   ]
  },
  {
   "cell_type": "code",
   "execution_count": 71,
   "metadata": {
    "ExecuteTime": {
     "end_time": "2021-02-27T21:20:59.597269Z",
     "start_time": "2021-02-27T21:20:59.586347Z"
    }
   },
   "outputs": [
    {
     "data": {
      "text/plain": [
       "id           int64\n",
       "condition    int32\n",
       "dtype: object"
      ]
     },
     "execution_count": 71,
     "metadata": {},
     "output_type": "execute_result"
    }
   ],
   "source": [
    "data[['id', 'condition']].dtypes"
   ]
  },
  {
   "cell_type": "code",
   "execution_count": 72,
   "metadata": {
    "ExecuteTime": {
     "end_time": "2021-02-27T21:20:59.624842Z",
     "start_time": "2021-02-27T21:20:59.601385Z"
    }
   },
   "outputs": [],
   "source": [
    "data['condition'] = data['condition'].astype( str )"
   ]
  },
  {
   "cell_type": "code",
   "execution_count": 73,
   "metadata": {
    "ExecuteTime": {
     "end_time": "2021-02-27T21:20:59.636186Z",
     "start_time": "2021-02-27T21:20:59.627197Z"
    }
   },
   "outputs": [
    {
     "data": {
      "text/plain": [
       "id            int64\n",
       "condition    object\n",
       "dtype: object"
      ]
     },
     "execution_count": 73,
     "metadata": {},
     "output_type": "execute_result"
    }
   ],
   "source": [
    "data[['id', 'condition']].dtypes"
   ]
  },
  {
   "cell_type": "markdown",
   "metadata": {
    "ExecuteTime": {
     "end_time": "2021-02-27T20:15:46.046829Z",
     "start_time": "2021-02-27T20:15:46.020380Z"
    }
   },
   "source": [
    "## 5. Delete as colunas: “sqft_living15” e “sqft_lot15”"
   ]
  },
  {
   "cell_type": "code",
   "execution_count": 74,
   "metadata": {
    "ExecuteTime": {
     "end_time": "2021-02-27T21:20:59.645581Z",
     "start_time": "2021-02-27T21:20:59.638727Z"
    }
   },
   "outputs": [],
   "source": [
    "# deletar as colunas\n",
    "data = data.drop( ['sqft_living15', 'sqft_lot15'], axis=1 )"
   ]
  },
  {
   "cell_type": "markdown",
   "metadata": {
    "ExecuteTime": {
     "end_time": "2021-02-27T20:15:46.046829Z",
     "start_time": "2021-02-27T20:15:46.020380Z"
    }
   },
   "source": [
    "## 6. Modifique o TIPO da Coluna “yr_build” para DATE"
   ]
  },
  {
   "cell_type": "code",
   "execution_count": 90,
   "metadata": {
    "ExecuteTime": {
     "end_time": "2021-02-27T21:20:59.654199Z",
     "start_time": "2021-02-27T21:20:59.648438Z"
    }
   },
   "outputs": [],
   "source": [
    "data['yr_built'] = pd.to_datetime( data['yr_built'], format='%Y' )"
   ]
  },
  {
   "cell_type": "markdown",
   "metadata": {
    "ExecuteTime": {
     "end_time": "2021-02-27T20:15:46.046829Z",
     "start_time": "2021-02-27T20:15:46.020380Z"
    }
   },
   "source": [
    "## 7. Modifique o TIPO a Coluna “yr_renovated” para DATE"
   ]
  },
  {
   "cell_type": "code",
   "execution_count": 96,
   "metadata": {
    "ExecuteTime": {
     "end_time": "2021-02-27T21:01:43.837725Z",
     "start_time": "2021-02-27T21:01:43.714778Z"
    }
   },
   "outputs": [
    {
     "ename": "AttributeError",
     "evalue": "'Series' object has no attribute 'strftime'",
     "output_type": "error",
     "traceback": [
      "\u001b[1;31m---------------------------------------------------------------------------\u001b[0m",
      "\u001b[1;31mAttributeError\u001b[0m                            Traceback (most recent call last)",
      "\u001b[1;32m<ipython-input-96-649fca6a7360>\u001b[0m in \u001b[0;36m<module>\u001b[1;34m\u001b[0m\n\u001b[0;32m      3\u001b[0m \u001b[1;31m# pd.to_datetime( data['yr_renovated'], format='%Y')\u001b[0m\u001b[1;33m\u001b[0m\u001b[1;33m\u001b[0m\u001b[1;33m\u001b[0m\u001b[0m\n\u001b[0;32m      4\u001b[0m \u001b[1;33m\u001b[0m\u001b[0m\n\u001b[1;32m----> 5\u001b[1;33m \u001b[0mdata\u001b[0m\u001b[1;33m[\u001b[0m\u001b[1;34m'yr_renovated'\u001b[0m\u001b[1;33m]\u001b[0m \u001b[1;33m=\u001b[0m \u001b[0mdata\u001b[0m\u001b[1;33m[\u001b[0m\u001b[1;34m'yr_renovated'\u001b[0m\u001b[1;33m]\u001b[0m\u001b[1;33m.\u001b[0m\u001b[0mstrftime\u001b[0m\u001b[1;33m(\u001b[0m\u001b[1;34m'%m/%d/%Y, %H:%M:%S'\u001b[0m\u001b[1;33m)\u001b[0m\u001b[1;33m\u001b[0m\u001b[1;33m\u001b[0m\u001b[0m\n\u001b[0m",
      "\u001b[1;32m~\\anaconda3\\envs\\DataScienceEmProducao\\lib\\site-packages\\pandas\\core\\generic.py\u001b[0m in \u001b[0;36m__getattr__\u001b[1;34m(self, name)\u001b[0m\n\u001b[0;32m   5463\u001b[0m             \u001b[1;32mif\u001b[0m \u001b[0mself\u001b[0m\u001b[1;33m.\u001b[0m\u001b[0m_info_axis\u001b[0m\u001b[1;33m.\u001b[0m\u001b[0m_can_hold_identifiers_and_holds_name\u001b[0m\u001b[1;33m(\u001b[0m\u001b[0mname\u001b[0m\u001b[1;33m)\u001b[0m\u001b[1;33m:\u001b[0m\u001b[1;33m\u001b[0m\u001b[1;33m\u001b[0m\u001b[0m\n\u001b[0;32m   5464\u001b[0m                 \u001b[1;32mreturn\u001b[0m \u001b[0mself\u001b[0m\u001b[1;33m[\u001b[0m\u001b[0mname\u001b[0m\u001b[1;33m]\u001b[0m\u001b[1;33m\u001b[0m\u001b[1;33m\u001b[0m\u001b[0m\n\u001b[1;32m-> 5465\u001b[1;33m             \u001b[1;32mreturn\u001b[0m \u001b[0mobject\u001b[0m\u001b[1;33m.\u001b[0m\u001b[0m__getattribute__\u001b[0m\u001b[1;33m(\u001b[0m\u001b[0mself\u001b[0m\u001b[1;33m,\u001b[0m \u001b[0mname\u001b[0m\u001b[1;33m)\u001b[0m\u001b[1;33m\u001b[0m\u001b[1;33m\u001b[0m\u001b[0m\n\u001b[0m\u001b[0;32m   5466\u001b[0m \u001b[1;33m\u001b[0m\u001b[0m\n\u001b[0;32m   5467\u001b[0m     \u001b[1;32mdef\u001b[0m \u001b[0m__setattr__\u001b[0m\u001b[1;33m(\u001b[0m\u001b[0mself\u001b[0m\u001b[1;33m,\u001b[0m \u001b[0mname\u001b[0m\u001b[1;33m:\u001b[0m \u001b[0mstr\u001b[0m\u001b[1;33m,\u001b[0m \u001b[0mvalue\u001b[0m\u001b[1;33m)\u001b[0m \u001b[1;33m->\u001b[0m \u001b[1;32mNone\u001b[0m\u001b[1;33m:\u001b[0m\u001b[1;33m\u001b[0m\u001b[1;33m\u001b[0m\u001b[0m\n",
      "\u001b[1;31mAttributeError\u001b[0m: 'Series' object has no attribute 'strftime'"
     ]
    }
   ],
   "source": [
    "# data['yr_renovated'] = data['yr_renovated'].apply( lambda x: pd.to_datetime( x, format='%Y') if x > 0 else x )\n",
    "\n",
    "# pd.to_datetime( data['yr_renovated'], format='%Y')\n",
    "\n",
    "data['yr_renovated'] = data['yr_renovated'].strftime('%m/%d/%Y, %H:%M:%S')"
   ]
  },
  {
   "cell_type": "markdown",
   "metadata": {
    "ExecuteTime": {
     "end_time": "2021-02-27T20:15:46.046829Z",
     "start_time": "2021-02-27T20:15:46.020380Z"
    }
   },
   "source": [
    "## 8. Qual a data mais antiga de construção de um imóvel?"
   ]
  },
  {
   "cell_type": "code",
   "execution_count": 97,
   "metadata": {
    "ExecuteTime": {
     "end_time": "2021-02-27T21:21:01.834491Z",
     "start_time": "2021-02-27T21:21:01.831081Z"
    }
   },
   "outputs": [
    {
     "name": "stdout",
     "output_type": "stream",
     "text": [
      "A data mais antiga de construção de um ímóvel é 1900\n"
     ]
    }
   ],
   "source": [
    "# Estratégia:\n",
    "# 1. Verificar o valor mínimo da coluna 'yr_built'\n",
    "\n",
    "min_date = data['yr_built'].min().year\n",
    "\n",
    "print( 'A data mais antiga de construção de um ímóvel é {}'.format( min_date ) )"
   ]
  },
  {
   "cell_type": "markdown",
   "metadata": {
    "ExecuteTime": {
     "end_time": "2021-02-27T20:15:46.046829Z",
     "start_time": "2021-02-27T20:15:46.020380Z"
    }
   },
   "source": [
    "## 9. Qual a data mais antiga de renovação de um imóvel?"
   ]
  },
  {
   "cell_type": "code",
   "execution_count": 61,
   "metadata": {
    "ExecuteTime": {
     "end_time": "2021-02-27T21:21:04.616683Z",
     "start_time": "2021-02-27T21:21:04.609638Z"
    }
   },
   "outputs": [
    {
     "data": {
      "text/plain": [
       "id                           int64\n",
       "date                        object\n",
       "price                      float64\n",
       "bedrooms                     int64\n",
       "bathrooms                  float64\n",
       "sqft_living                  int64\n",
       "sqft_lot                     int64\n",
       "floors                     float64\n",
       "waterfront                   int64\n",
       "view                         int64\n",
       "condition                   object\n",
       "grade                        int64\n",
       "sqft_above                   int64\n",
       "sqft_basement                int64\n",
       "yr_built            datetime64[ns]\n",
       "yr_renovated                object\n",
       "zipcode                      int64\n",
       "lat                        float64\n",
       "long                       float64\n",
       "dormitory_type              object\n",
       "condition_type              object\n",
       "conditional_type            object\n",
       "dtype: object"
      ]
     },
     "execution_count": 61,
     "metadata": {},
     "output_type": "execute_result"
    }
   ],
   "source": [
    "# Estrategia\n",
    "# 1. Filtrar todas as linhas diferentes de zero ( imóveis que nao foram reformados ) da coluna 'yr_renovated'\n",
    "# 2. Encontrar a data mínima\n",
    "\n",
    "# Obs: 'yr_renovated' esta como object, tem que transforma em datetime para trabalhar com data\n",
    "\n",
    "\n",
    "# df = data[data['yr_renovated'] > 0]['yr_renovated']\n",
    "# print( 'The oldest renovated house is {} years old'.format( df.min() ) )\n",
    "\n",
    "# data.loc[ data['yr_renovated'] > 0,'yr_renovated' ]\n",
    "\n",
    "data.dtypes"
   ]
  },
  {
   "cell_type": "markdown",
   "metadata": {
    "ExecuteTime": {
     "end_time": "2021-02-27T20:15:46.046829Z",
     "start_time": "2021-02-27T20:15:46.020380Z"
    }
   },
   "source": [
    "## 10. Quantos imóveis tem 2 andares?"
   ]
  },
  {
   "cell_type": "code",
   "execution_count": 98,
   "metadata": {
    "ExecuteTime": {
     "end_time": "2021-02-27T21:21:04.941127Z",
     "start_time": "2021-02-27T21:21:04.935635Z"
    }
   },
   "outputs": [
    {
     "name": "stdout",
     "output_type": "stream",
     "text": [
      "O número de imóveis com 2 andares é: 8241\n"
     ]
    }
   ],
   "source": [
    "# Estrategia:\n",
    "# 1. Filtrar todoso os imóveis com 2 andares\n",
    "# 2. Contar o número de linhas\n",
    "\n",
    "houses = data[data['floors'] == 2].shape[0]\n",
    "\n",
    "print( 'O número de imóveis com 2 andares é: {}'.format( houses ) )"
   ]
  },
  {
   "cell_type": "markdown",
   "metadata": {
    "ExecuteTime": {
     "end_time": "2021-02-27T20:15:46.046829Z",
     "start_time": "2021-02-27T20:15:46.020380Z"
    }
   },
   "source": [
    "## 11. Quantos imóveis estão com a condição igual a “regular” ?"
   ]
  },
  {
   "cell_type": "code",
   "execution_count": 112,
   "metadata": {
    "ExecuteTime": {
     "end_time": "2021-02-27T21:21:05.696708Z",
     "start_time": "2021-02-27T21:21:05.689645Z"
    }
   },
   "outputs": [
    {
     "name": "stdout",
     "output_type": "stream",
     "text": [
      "O número de imóveis que estão com a condição igual a \"regular\" é: 19710\n"
     ]
    }
   ],
   "source": [
    "# Estrategia\n",
    "# 1. Filtrar todos os apartamentos com \"condition_type\" igual a \"regular\"\n",
    "# 2. Contar o número de imóveis sob essa condição\n",
    "\n",
    "houses = data[data['condition_type'] == 'regular'].shape[0]\n",
    "\n",
    "print( 'O número de imóveis que estão com a condição igual a \"regular\" é: {}'.format( houses ) )"
   ]
  },
  {
   "cell_type": "markdown",
   "metadata": {
    "ExecuteTime": {
     "end_time": "2021-02-27T20:15:46.046829Z",
     "start_time": "2021-02-27T20:15:46.020380Z"
    }
   },
   "source": [
    "## 12. Quantos imóveis estão com a condição igual a “bad”e possuem “vista para água” ?"
   ]
  },
  {
   "cell_type": "code",
   "execution_count": 113,
   "metadata": {
    "ExecuteTime": {
     "end_time": "2021-02-27T21:21:07.294954Z",
     "start_time": "2021-02-27T21:21:07.288643Z"
    }
   },
   "outputs": [
    {
     "name": "stdout",
     "output_type": "stream",
     "text": [
      "O número de imóveis com condição igual a 'bad' e que possuem 'vista para água' é: 2\n"
     ]
    }
   ],
   "source": [
    "# Estrategia:\n",
    "# 1. Filtrar as colunas \"conditional_type\" igual a \"bad\" e \"waterfront\" igual a 1\n",
    "# 2. Contar o número de linhas\n",
    "\n",
    "houses = data[ (data[ 'condition_type' ] == 'bad') & (data[ 'waterfront' ] == 1) ].shape[0]\n",
    "\n",
    "print( \"O número de imóveis com condição igual a 'bad' e que possuem 'vista para água' é: {}\".format( houses ) )"
   ]
  },
  {
   "cell_type": "markdown",
   "metadata": {
    "ExecuteTime": {
     "end_time": "2021-02-27T20:15:46.046829Z",
     "start_time": "2021-02-27T20:15:46.020380Z"
    }
   },
   "source": [
    "## 13. Quantos imóveis estão com a condição igual a “good” e são “new_house”?"
   ]
  },
  {
   "cell_type": "code",
   "execution_count": 114,
   "metadata": {
    "ExecuteTime": {
     "end_time": "2021-02-27T21:21:07.623250Z",
     "start_time": "2021-02-27T21:21:07.615830Z"
    }
   },
   "outputs": [
    {
     "name": "stdout",
     "output_type": "stream",
     "text": [
      "O número de imóveis com condição igual a 'good' e que são 'new_house' é: 1701\n"
     ]
    }
   ],
   "source": [
    "# Estrategia:\n",
    "# 1. Filtrar as colunas \"conditional_type\" igual a \"good\" e \"house_age\" equals to \"new_house\"\n",
    "# 2. Contar o número de linhas\n",
    "houses = data[(data['condition_type'] == 'good') & (data['house_age'] == \"new_house\")].shape[0]\n",
    "\n",
    "\n",
    "# # data[(data[ 'condition_type' ] == 'good') & ( data[ 'house_age' ] == 'new_house' )]\n",
    "\n",
    "print( \"O número de imóveis com condição igual a 'good' e que são 'new_house' é: {}\".format( houses ) )"
   ]
  },
  {
   "cell_type": "markdown",
   "metadata": {
    "ExecuteTime": {
     "end_time": "2021-02-27T20:15:46.046829Z",
     "start_time": "2021-02-27T20:15:46.020380Z"
    }
   },
   "source": [
    "## 14. Qual o valor do imóvel mais caro do tipo “studio” ?"
   ]
  },
  {
   "cell_type": "code",
   "execution_count": 117,
   "metadata": {
    "ExecuteTime": {
     "end_time": "2021-02-27T21:21:07.900460Z",
     "start_time": "2021-02-27T21:21:07.894823Z"
    }
   },
   "outputs": [
    {
     "name": "stdout",
     "output_type": "stream",
     "text": [
      "O imóvel mais caro do tipo 'studio' possui o valor de: $1247000.0\n"
     ]
    }
   ],
   "source": [
    "# Estrategia:\n",
    "# 1. Filtrar as colunas \"dormitory_type\" igual a \"studio\"\n",
    "# 2. Encontrar o máximo valor da coluna \"price\"\n",
    "\n",
    "max_studio_price = data.loc[ data['dormitory_type'] == 'studio','price'].max()\n",
    "\n",
    "print( \"O imóvel mais caro do tipo 'studio' possui o valor de: ${}\".format( max_studio_price ) )\n",
    "\n",
    "# ou:  data[ data['dormitory_type'] == 'studio' ]['price'].max()"
   ]
  },
  {
   "cell_type": "markdown",
   "metadata": {
    "ExecuteTime": {
     "end_time": "2021-02-27T20:15:46.046829Z",
     "start_time": "2021-02-27T20:15:46.020380Z"
    }
   },
   "source": [
    "## 15. Quantos imóveis do tipo “apartment” foram reformados em 2015 ?"
   ]
  },
  {
   "cell_type": "code",
   "execution_count": 119,
   "metadata": {
    "ExecuteTime": {
     "end_time": "2021-02-27T21:30:59.763973Z",
     "start_time": "2021-02-27T21:30:59.758203Z"
    }
   },
   "outputs": [
    {
     "name": "stdout",
     "output_type": "stream",
     "text": [
      "O número de imóveis do tipo 'apartment' reformados em 2015 é: 0\n"
     ]
    }
   ],
   "source": [
    "# Estrategia:\n",
    "# 1. Filtrar as colunas \"dormitory_type\" igual a \"apartament\" e \"yr_renovated\" equals to \"2015-01-01\"\n",
    "# 2. Contar o número de linhas\n",
    "houses = data[( data['dormitory_type'] == 'apartament' ) & ( data['yr_renovated'] == 2015 )].shape[0]\n",
    "\n",
    "print( \"O número de imóveis do tipo 'apartment' reformados em 2015 é: {}\".format( houses ) )"
   ]
  },
  {
   "cell_type": "markdown",
   "metadata": {
    "ExecuteTime": {
     "end_time": "2021-02-27T20:15:46.046829Z",
     "start_time": "2021-02-27T20:15:46.020380Z"
    }
   },
   "source": [
    "## 16. Qual o maior número de quartos que um imóveis do tipo “house” possui ?"
   ]
  },
  {
   "cell_type": "code",
   "execution_count": 120,
   "metadata": {
    "ExecuteTime": {
     "end_time": "2021-02-27T21:29:10.495226Z",
     "start_time": "2021-02-27T21:29:10.488202Z"
    }
   },
   "outputs": [
    {
     "name": "stdout",
     "output_type": "stream",
     "text": [
      "O maior número de quartos que um imóvel do tipo 'house' possui é: 33\n"
     ]
    }
   ],
   "source": [
    "# Estrategia:\n",
    "# 1. Filtrar as colunas \"dormitory type\" igual a \"house\"\n",
    "# 2. Encontrar o maior valor da coluna bedrooms\n",
    "\n",
    "# ou b = data[data['dormitory_type'] == 'house']['bedrooms'].max()\n",
    "houses = data.loc[ data['dormitory_type'] == 'house', 'bedrooms' ].max()\n",
    "\n",
    "print( \"O maior número de quartos que um imóvel do tipo 'house' possui é: {}\".format( houses ) )"
   ]
  },
  {
   "cell_type": "markdown",
   "metadata": {
    "ExecuteTime": {
     "end_time": "2021-02-27T20:15:46.046829Z",
     "start_time": "2021-02-27T20:15:46.020380Z"
    }
   },
   "source": [
    "## 17. Quantos imóveis “new_house” foram reformados no ano de 2014?"
   ]
  },
  {
   "cell_type": "code",
   "execution_count": 121,
   "metadata": {
    "ExecuteTime": {
     "end_time": "2021-02-27T21:30:42.485740Z",
     "start_time": "2021-02-27T21:30:42.480248Z"
    }
   },
   "outputs": [
    {
     "name": "stdout",
     "output_type": "stream",
     "text": [
      "O número de imóveis 'new_house' que foram reformados em 2014 é: 91\n"
     ]
    }
   ],
   "source": [
    "# Estrategia:\n",
    "# 1. Filtrar as colunas \"dormitory_type\" igual a \"apartament\" e \"yr_renovated\" igual a 2014\n",
    "# 2. Contar o número de linhas\n",
    "\n",
    "houses = data[ (data['house_age'] == 'new_house') & (data['yr_renovated'] == 2014 ) ].shape[0]\n",
    "\n",
    "print( \"O número de imóveis 'new_house' que foram reformados em 2014 é: {}\".format( houses ) )"
   ]
  },
  {
   "cell_type": "markdown",
   "metadata": {
    "ExecuteTime": {
     "end_time": "2021-02-27T20:15:46.046829Z",
     "start_time": "2021-02-27T20:15:46.020380Z"
    }
   },
   "source": [
    "## 18. Selecione as colunas: “id”, “date”, “price”, “floors”, “zipcode” pelo método:\n",
    "    -- Direto pelo nome das colunas\n",
    "    -- Pelos índices\n",
    "    -- Pelos índices das linhas e o nome das colunas\n",
    "    -- Índices Booleanos"
   ]
  },
  {
   "cell_type": "code",
   "execution_count": 122,
   "metadata": {
    "ExecuteTime": {
     "end_time": "2021-02-27T21:35:10.424504Z",
     "start_time": "2021-02-27T21:35:10.420864Z"
    }
   },
   "outputs": [
    {
     "data": {
      "text/plain": [
       "Index(['id', 'date', 'price', 'bedrooms', 'bathrooms', 'sqft_living',\n",
       "       'sqft_lot', 'floors', 'waterfront', 'view', 'condition', 'grade',\n",
       "       'sqft_above', 'sqft_basement', 'yr_built', 'yr_renovated', 'zipcode',\n",
       "       'lat', 'long', 'sqft_living15', 'sqft_lot15', 'house_age',\n",
       "       'dormitory_type', 'condition_type'],\n",
       "      dtype='object')"
      ]
     },
     "execution_count": 122,
     "metadata": {},
     "output_type": "execute_result"
    }
   ],
   "source": [
    "data.columns"
   ]
  },
  {
   "cell_type": "code",
   "execution_count": 123,
   "metadata": {
    "ExecuteTime": {
     "end_time": "2021-02-27T21:36:50.269711Z",
     "start_time": "2021-02-27T21:36:50.263832Z"
    }
   },
   "outputs": [
    {
     "data": {
      "text/html": [
       "<div>\n",
       "<style scoped>\n",
       "    .dataframe tbody tr th:only-of-type {\n",
       "        vertical-align: middle;\n",
       "    }\n",
       "\n",
       "    .dataframe tbody tr th {\n",
       "        vertical-align: top;\n",
       "    }\n",
       "\n",
       "    .dataframe thead th {\n",
       "        text-align: right;\n",
       "    }\n",
       "</style>\n",
       "<table border=\"1\" class=\"dataframe\">\n",
       "  <thead>\n",
       "    <tr style=\"text-align: right;\">\n",
       "      <th></th>\n",
       "      <th>id</th>\n",
       "      <th>date</th>\n",
       "      <th>price</th>\n",
       "      <th>floors</th>\n",
       "      <th>zipcode</th>\n",
       "    </tr>\n",
       "  </thead>\n",
       "  <tbody>\n",
       "    <tr>\n",
       "      <th>0</th>\n",
       "      <td>7129300520</td>\n",
       "      <td>2014-10-13</td>\n",
       "      <td>221900.00</td>\n",
       "      <td>1.00</td>\n",
       "      <td>98178</td>\n",
       "    </tr>\n",
       "    <tr>\n",
       "      <th>1</th>\n",
       "      <td>6414100192</td>\n",
       "      <td>2014-12-09</td>\n",
       "      <td>538000.00</td>\n",
       "      <td>2.00</td>\n",
       "      <td>98125</td>\n",
       "    </tr>\n",
       "    <tr>\n",
       "      <th>2</th>\n",
       "      <td>5631500400</td>\n",
       "      <td>2015-02-25</td>\n",
       "      <td>180000.00</td>\n",
       "      <td>1.00</td>\n",
       "      <td>98028</td>\n",
       "    </tr>\n",
       "    <tr>\n",
       "      <th>3</th>\n",
       "      <td>2487200875</td>\n",
       "      <td>2014-12-09</td>\n",
       "      <td>604000.00</td>\n",
       "      <td>1.00</td>\n",
       "      <td>98136</td>\n",
       "    </tr>\n",
       "    <tr>\n",
       "      <th>4</th>\n",
       "      <td>1954400510</td>\n",
       "      <td>2015-02-18</td>\n",
       "      <td>510000.00</td>\n",
       "      <td>1.00</td>\n",
       "      <td>98074</td>\n",
       "    </tr>\n",
       "    <tr>\n",
       "      <th>...</th>\n",
       "      <td>...</td>\n",
       "      <td>...</td>\n",
       "      <td>...</td>\n",
       "      <td>...</td>\n",
       "      <td>...</td>\n",
       "    </tr>\n",
       "    <tr>\n",
       "      <th>21608</th>\n",
       "      <td>263000018</td>\n",
       "      <td>2014-05-21</td>\n",
       "      <td>360000.00</td>\n",
       "      <td>3.00</td>\n",
       "      <td>98103</td>\n",
       "    </tr>\n",
       "    <tr>\n",
       "      <th>21609</th>\n",
       "      <td>6600060120</td>\n",
       "      <td>2015-02-23</td>\n",
       "      <td>400000.00</td>\n",
       "      <td>2.00</td>\n",
       "      <td>98146</td>\n",
       "    </tr>\n",
       "    <tr>\n",
       "      <th>21610</th>\n",
       "      <td>1523300141</td>\n",
       "      <td>2014-06-23</td>\n",
       "      <td>402101.00</td>\n",
       "      <td>2.00</td>\n",
       "      <td>98144</td>\n",
       "    </tr>\n",
       "    <tr>\n",
       "      <th>21611</th>\n",
       "      <td>291310100</td>\n",
       "      <td>2015-01-16</td>\n",
       "      <td>400000.00</td>\n",
       "      <td>2.00</td>\n",
       "      <td>98027</td>\n",
       "    </tr>\n",
       "    <tr>\n",
       "      <th>21612</th>\n",
       "      <td>1523300157</td>\n",
       "      <td>2014-10-15</td>\n",
       "      <td>325000.00</td>\n",
       "      <td>2.00</td>\n",
       "      <td>98144</td>\n",
       "    </tr>\n",
       "  </tbody>\n",
       "</table>\n",
       "<p>21613 rows × 5 columns</p>\n",
       "</div>"
      ],
      "text/plain": [
       "               id       date     price  floors  zipcode\n",
       "0      7129300520 2014-10-13 221900.00    1.00    98178\n",
       "1      6414100192 2014-12-09 538000.00    2.00    98125\n",
       "2      5631500400 2015-02-25 180000.00    1.00    98028\n",
       "3      2487200875 2014-12-09 604000.00    1.00    98136\n",
       "4      1954400510 2015-02-18 510000.00    1.00    98074\n",
       "...           ...        ...       ...     ...      ...\n",
       "21608   263000018 2014-05-21 360000.00    3.00    98103\n",
       "21609  6600060120 2015-02-23 400000.00    2.00    98146\n",
       "21610  1523300141 2014-06-23 402101.00    2.00    98144\n",
       "21611   291310100 2015-01-16 400000.00    2.00    98027\n",
       "21612  1523300157 2014-10-15 325000.00    2.00    98144\n",
       "\n",
       "[21613 rows x 5 columns]"
      ]
     },
     "execution_count": 123,
     "metadata": {},
     "output_type": "execute_result"
    }
   ],
   "source": [
    "# 1. Direto pelo nome das colunas\n",
    "data[['id', 'date', 'price', 'floors', 'zipcode']]"
   ]
  },
  {
   "cell_type": "code",
   "execution_count": 124,
   "metadata": {},
   "outputs": [
    {
     "data": {
      "text/html": [
       "<div>\n",
       "<style scoped>\n",
       "    .dataframe tbody tr th:only-of-type {\n",
       "        vertical-align: middle;\n",
       "    }\n",
       "\n",
       "    .dataframe tbody tr th {\n",
       "        vertical-align: top;\n",
       "    }\n",
       "\n",
       "    .dataframe thead th {\n",
       "        text-align: right;\n",
       "    }\n",
       "</style>\n",
       "<table border=\"1\" class=\"dataframe\">\n",
       "  <thead>\n",
       "    <tr style=\"text-align: right;\">\n",
       "      <th></th>\n",
       "      <th>id</th>\n",
       "      <th>date</th>\n",
       "      <th>price</th>\n",
       "      <th>floors</th>\n",
       "      <th>zipcode</th>\n",
       "    </tr>\n",
       "  </thead>\n",
       "  <tbody>\n",
       "    <tr>\n",
       "      <th>0</th>\n",
       "      <td>7129300520</td>\n",
       "      <td>2014-10-13</td>\n",
       "      <td>221900.00</td>\n",
       "      <td>1.00</td>\n",
       "      <td>98178</td>\n",
       "    </tr>\n",
       "    <tr>\n",
       "      <th>1</th>\n",
       "      <td>6414100192</td>\n",
       "      <td>2014-12-09</td>\n",
       "      <td>538000.00</td>\n",
       "      <td>2.00</td>\n",
       "      <td>98125</td>\n",
       "    </tr>\n",
       "    <tr>\n",
       "      <th>2</th>\n",
       "      <td>5631500400</td>\n",
       "      <td>2015-02-25</td>\n",
       "      <td>180000.00</td>\n",
       "      <td>1.00</td>\n",
       "      <td>98028</td>\n",
       "    </tr>\n",
       "    <tr>\n",
       "      <th>3</th>\n",
       "      <td>2487200875</td>\n",
       "      <td>2014-12-09</td>\n",
       "      <td>604000.00</td>\n",
       "      <td>1.00</td>\n",
       "      <td>98136</td>\n",
       "    </tr>\n",
       "    <tr>\n",
       "      <th>4</th>\n",
       "      <td>1954400510</td>\n",
       "      <td>2015-02-18</td>\n",
       "      <td>510000.00</td>\n",
       "      <td>1.00</td>\n",
       "      <td>98074</td>\n",
       "    </tr>\n",
       "    <tr>\n",
       "      <th>...</th>\n",
       "      <td>...</td>\n",
       "      <td>...</td>\n",
       "      <td>...</td>\n",
       "      <td>...</td>\n",
       "      <td>...</td>\n",
       "    </tr>\n",
       "    <tr>\n",
       "      <th>21608</th>\n",
       "      <td>263000018</td>\n",
       "      <td>2014-05-21</td>\n",
       "      <td>360000.00</td>\n",
       "      <td>3.00</td>\n",
       "      <td>98103</td>\n",
       "    </tr>\n",
       "    <tr>\n",
       "      <th>21609</th>\n",
       "      <td>6600060120</td>\n",
       "      <td>2015-02-23</td>\n",
       "      <td>400000.00</td>\n",
       "      <td>2.00</td>\n",
       "      <td>98146</td>\n",
       "    </tr>\n",
       "    <tr>\n",
       "      <th>21610</th>\n",
       "      <td>1523300141</td>\n",
       "      <td>2014-06-23</td>\n",
       "      <td>402101.00</td>\n",
       "      <td>2.00</td>\n",
       "      <td>98144</td>\n",
       "    </tr>\n",
       "    <tr>\n",
       "      <th>21611</th>\n",
       "      <td>291310100</td>\n",
       "      <td>2015-01-16</td>\n",
       "      <td>400000.00</td>\n",
       "      <td>2.00</td>\n",
       "      <td>98027</td>\n",
       "    </tr>\n",
       "    <tr>\n",
       "      <th>21612</th>\n",
       "      <td>1523300157</td>\n",
       "      <td>2014-10-15</td>\n",
       "      <td>325000.00</td>\n",
       "      <td>2.00</td>\n",
       "      <td>98144</td>\n",
       "    </tr>\n",
       "  </tbody>\n",
       "</table>\n",
       "<p>21613 rows × 5 columns</p>\n",
       "</div>"
      ],
      "text/plain": [
       "               id       date     price  floors  zipcode\n",
       "0      7129300520 2014-10-13 221900.00    1.00    98178\n",
       "1      6414100192 2014-12-09 538000.00    2.00    98125\n",
       "2      5631500400 2015-02-25 180000.00    1.00    98028\n",
       "3      2487200875 2014-12-09 604000.00    1.00    98136\n",
       "4      1954400510 2015-02-18 510000.00    1.00    98074\n",
       "...           ...        ...       ...     ...      ...\n",
       "21608   263000018 2014-05-21 360000.00    3.00    98103\n",
       "21609  6600060120 2015-02-23 400000.00    2.00    98146\n",
       "21610  1523300141 2014-06-23 402101.00    2.00    98144\n",
       "21611   291310100 2015-01-16 400000.00    2.00    98027\n",
       "21612  1523300157 2014-10-15 325000.00    2.00    98144\n",
       "\n",
       "[21613 rows x 5 columns]"
      ]
     },
     "execution_count": 124,
     "metadata": {},
     "output_type": "execute_result"
    }
   ],
   "source": [
    "# 2. Pelos índices\n",
    "data.iloc[:, [0, 1, 2, 7, 16]]"
   ]
  },
  {
   "cell_type": "code",
   "execution_count": 125,
   "metadata": {},
   "outputs": [
    {
     "data": {
      "text/html": [
       "<div>\n",
       "<style scoped>\n",
       "    .dataframe tbody tr th:only-of-type {\n",
       "        vertical-align: middle;\n",
       "    }\n",
       "\n",
       "    .dataframe tbody tr th {\n",
       "        vertical-align: top;\n",
       "    }\n",
       "\n",
       "    .dataframe thead th {\n",
       "        text-align: right;\n",
       "    }\n",
       "</style>\n",
       "<table border=\"1\" class=\"dataframe\">\n",
       "  <thead>\n",
       "    <tr style=\"text-align: right;\">\n",
       "      <th></th>\n",
       "      <th>id</th>\n",
       "      <th>date</th>\n",
       "      <th>price</th>\n",
       "      <th>floors</th>\n",
       "      <th>zipcode</th>\n",
       "    </tr>\n",
       "  </thead>\n",
       "  <tbody>\n",
       "    <tr>\n",
       "      <th>0</th>\n",
       "      <td>7129300520</td>\n",
       "      <td>2014-10-13</td>\n",
       "      <td>221900.00</td>\n",
       "      <td>1.00</td>\n",
       "      <td>98178</td>\n",
       "    </tr>\n",
       "    <tr>\n",
       "      <th>1</th>\n",
       "      <td>6414100192</td>\n",
       "      <td>2014-12-09</td>\n",
       "      <td>538000.00</td>\n",
       "      <td>2.00</td>\n",
       "      <td>98125</td>\n",
       "    </tr>\n",
       "    <tr>\n",
       "      <th>2</th>\n",
       "      <td>5631500400</td>\n",
       "      <td>2015-02-25</td>\n",
       "      <td>180000.00</td>\n",
       "      <td>1.00</td>\n",
       "      <td>98028</td>\n",
       "    </tr>\n",
       "    <tr>\n",
       "      <th>3</th>\n",
       "      <td>2487200875</td>\n",
       "      <td>2014-12-09</td>\n",
       "      <td>604000.00</td>\n",
       "      <td>1.00</td>\n",
       "      <td>98136</td>\n",
       "    </tr>\n",
       "    <tr>\n",
       "      <th>4</th>\n",
       "      <td>1954400510</td>\n",
       "      <td>2015-02-18</td>\n",
       "      <td>510000.00</td>\n",
       "      <td>1.00</td>\n",
       "      <td>98074</td>\n",
       "    </tr>\n",
       "    <tr>\n",
       "      <th>...</th>\n",
       "      <td>...</td>\n",
       "      <td>...</td>\n",
       "      <td>...</td>\n",
       "      <td>...</td>\n",
       "      <td>...</td>\n",
       "    </tr>\n",
       "    <tr>\n",
       "      <th>21608</th>\n",
       "      <td>263000018</td>\n",
       "      <td>2014-05-21</td>\n",
       "      <td>360000.00</td>\n",
       "      <td>3.00</td>\n",
       "      <td>98103</td>\n",
       "    </tr>\n",
       "    <tr>\n",
       "      <th>21609</th>\n",
       "      <td>6600060120</td>\n",
       "      <td>2015-02-23</td>\n",
       "      <td>400000.00</td>\n",
       "      <td>2.00</td>\n",
       "      <td>98146</td>\n",
       "    </tr>\n",
       "    <tr>\n",
       "      <th>21610</th>\n",
       "      <td>1523300141</td>\n",
       "      <td>2014-06-23</td>\n",
       "      <td>402101.00</td>\n",
       "      <td>2.00</td>\n",
       "      <td>98144</td>\n",
       "    </tr>\n",
       "    <tr>\n",
       "      <th>21611</th>\n",
       "      <td>291310100</td>\n",
       "      <td>2015-01-16</td>\n",
       "      <td>400000.00</td>\n",
       "      <td>2.00</td>\n",
       "      <td>98027</td>\n",
       "    </tr>\n",
       "    <tr>\n",
       "      <th>21612</th>\n",
       "      <td>1523300157</td>\n",
       "      <td>2014-10-15</td>\n",
       "      <td>325000.00</td>\n",
       "      <td>2.00</td>\n",
       "      <td>98144</td>\n",
       "    </tr>\n",
       "  </tbody>\n",
       "</table>\n",
       "<p>21613 rows × 5 columns</p>\n",
       "</div>"
      ],
      "text/plain": [
       "               id       date     price  floors  zipcode\n",
       "0      7129300520 2014-10-13 221900.00    1.00    98178\n",
       "1      6414100192 2014-12-09 538000.00    2.00    98125\n",
       "2      5631500400 2015-02-25 180000.00    1.00    98028\n",
       "3      2487200875 2014-12-09 604000.00    1.00    98136\n",
       "4      1954400510 2015-02-18 510000.00    1.00    98074\n",
       "...           ...        ...       ...     ...      ...\n",
       "21608   263000018 2014-05-21 360000.00    3.00    98103\n",
       "21609  6600060120 2015-02-23 400000.00    2.00    98146\n",
       "21610  1523300141 2014-06-23 402101.00    2.00    98144\n",
       "21611   291310100 2015-01-16 400000.00    2.00    98027\n",
       "21612  1523300157 2014-10-15 325000.00    2.00    98144\n",
       "\n",
       "[21613 rows x 5 columns]"
      ]
     },
     "execution_count": 125,
     "metadata": {},
     "output_type": "execute_result"
    }
   ],
   "source": [
    "# 3. Pelos índices das linhas e o nome das colunas\n",
    "data.loc[:, ['id', 'date', 'price', 'floors', 'zipcode']]"
   ]
  },
  {
   "cell_type": "code",
   "execution_count": 134,
   "metadata": {},
   "outputs": [
    {
     "data": {
      "text/html": [
       "<div>\n",
       "<style scoped>\n",
       "    .dataframe tbody tr th:only-of-type {\n",
       "        vertical-align: middle;\n",
       "    }\n",
       "\n",
       "    .dataframe tbody tr th {\n",
       "        vertical-align: top;\n",
       "    }\n",
       "\n",
       "    .dataframe thead th {\n",
       "        text-align: right;\n",
       "    }\n",
       "</style>\n",
       "<table border=\"1\" class=\"dataframe\">\n",
       "  <thead>\n",
       "    <tr style=\"text-align: right;\">\n",
       "      <th></th>\n",
       "      <th>id</th>\n",
       "      <th>date</th>\n",
       "      <th>price</th>\n",
       "      <th>floors</th>\n",
       "      <th>zipcode</th>\n",
       "    </tr>\n",
       "  </thead>\n",
       "  <tbody>\n",
       "    <tr>\n",
       "      <th>0</th>\n",
       "      <td>7129300520</td>\n",
       "      <td>2014-10-13</td>\n",
       "      <td>221900.00</td>\n",
       "      <td>1.00</td>\n",
       "      <td>98178</td>\n",
       "    </tr>\n",
       "    <tr>\n",
       "      <th>1</th>\n",
       "      <td>6414100192</td>\n",
       "      <td>2014-12-09</td>\n",
       "      <td>538000.00</td>\n",
       "      <td>2.00</td>\n",
       "      <td>98125</td>\n",
       "    </tr>\n",
       "    <tr>\n",
       "      <th>2</th>\n",
       "      <td>5631500400</td>\n",
       "      <td>2015-02-25</td>\n",
       "      <td>180000.00</td>\n",
       "      <td>1.00</td>\n",
       "      <td>98028</td>\n",
       "    </tr>\n",
       "    <tr>\n",
       "      <th>3</th>\n",
       "      <td>2487200875</td>\n",
       "      <td>2014-12-09</td>\n",
       "      <td>604000.00</td>\n",
       "      <td>1.00</td>\n",
       "      <td>98136</td>\n",
       "    </tr>\n",
       "    <tr>\n",
       "      <th>4</th>\n",
       "      <td>1954400510</td>\n",
       "      <td>2015-02-18</td>\n",
       "      <td>510000.00</td>\n",
       "      <td>1.00</td>\n",
       "      <td>98074</td>\n",
       "    </tr>\n",
       "    <tr>\n",
       "      <th>...</th>\n",
       "      <td>...</td>\n",
       "      <td>...</td>\n",
       "      <td>...</td>\n",
       "      <td>...</td>\n",
       "      <td>...</td>\n",
       "    </tr>\n",
       "    <tr>\n",
       "      <th>21608</th>\n",
       "      <td>263000018</td>\n",
       "      <td>2014-05-21</td>\n",
       "      <td>360000.00</td>\n",
       "      <td>3.00</td>\n",
       "      <td>98103</td>\n",
       "    </tr>\n",
       "    <tr>\n",
       "      <th>21609</th>\n",
       "      <td>6600060120</td>\n",
       "      <td>2015-02-23</td>\n",
       "      <td>400000.00</td>\n",
       "      <td>2.00</td>\n",
       "      <td>98146</td>\n",
       "    </tr>\n",
       "    <tr>\n",
       "      <th>21610</th>\n",
       "      <td>1523300141</td>\n",
       "      <td>2014-06-23</td>\n",
       "      <td>402101.00</td>\n",
       "      <td>2.00</td>\n",
       "      <td>98144</td>\n",
       "    </tr>\n",
       "    <tr>\n",
       "      <th>21611</th>\n",
       "      <td>291310100</td>\n",
       "      <td>2015-01-16</td>\n",
       "      <td>400000.00</td>\n",
       "      <td>2.00</td>\n",
       "      <td>98027</td>\n",
       "    </tr>\n",
       "    <tr>\n",
       "      <th>21612</th>\n",
       "      <td>1523300157</td>\n",
       "      <td>2014-10-15</td>\n",
       "      <td>325000.00</td>\n",
       "      <td>2.00</td>\n",
       "      <td>98144</td>\n",
       "    </tr>\n",
       "  </tbody>\n",
       "</table>\n",
       "<p>21613 rows × 5 columns</p>\n",
       "</div>"
      ],
      "text/plain": [
       "               id       date     price  floors  zipcode\n",
       "0      7129300520 2014-10-13 221900.00    1.00    98178\n",
       "1      6414100192 2014-12-09 538000.00    2.00    98125\n",
       "2      5631500400 2015-02-25 180000.00    1.00    98028\n",
       "3      2487200875 2014-12-09 604000.00    1.00    98136\n",
       "4      1954400510 2015-02-18 510000.00    1.00    98074\n",
       "...           ...        ...       ...     ...      ...\n",
       "21608   263000018 2014-05-21 360000.00    3.00    98103\n",
       "21609  6600060120 2015-02-23 400000.00    2.00    98146\n",
       "21610  1523300141 2014-06-23 402101.00    2.00    98144\n",
       "21611   291310100 2015-01-16 400000.00    2.00    98027\n",
       "21612  1523300157 2014-10-15 325000.00    2.00    98144\n",
       "\n",
       "[21613 rows x 5 columns]"
      ]
     },
     "execution_count": 134,
     "metadata": {},
     "output_type": "execute_result"
    }
   ],
   "source": [
    "#4. Índices Booleanos\n",
    "\n",
    "cols = [True,True,True,False,False,False,False,True,False,False,False,False,False,False,False,False,True,False,False,False,False,False,False,False]\n",
    "\n",
    "data.iloc[:,cols]"
   ]
  },
  {
   "cell_type": "markdown",
   "metadata": {
    "ExecuteTime": {
     "end_time": "2021-02-27T20:15:46.046829Z",
     "start_time": "2021-02-27T20:15:46.020380Z"
    }
   },
   "source": [
    "## 19. Salve um arquivo .csv com somente as colunas do item 10 ao 17."
   ]
  },
  {
   "cell_type": "code",
   "execution_count": 127,
   "metadata": {
    "ExecuteTime": {
     "end_time": "2021-02-27T21:37:50.261741Z",
     "start_time": "2021-02-27T21:37:50.259913Z"
    }
   },
   "outputs": [],
   "source": [
    "data[['house_age', 'dormitory_type', 'condition_type']].to_csv( 'exercicio19.csv' )"
   ]
  }
 ],
 "metadata": {
  "kernelspec": {
   "display_name": "Python 3",
   "language": "python",
   "name": "python3"
  },
  "language_info": {
   "codemirror_mode": {
    "name": "ipython",
    "version": 3
   },
   "file_extension": ".py",
   "mimetype": "text/x-python",
   "name": "python",
   "nbconvert_exporter": "python",
   "pygments_lexer": "ipython3",
   "version": "3.9.2"
  }
 },
 "nbformat": 4,
 "nbformat_minor": 4
}
