{
 "cells": [
  {
   "cell_type": "markdown",
   "metadata": {},
   "source": [
    "# Aula 01 - Resolução dos Exercícios\n",
    "\n",
    "## Novas perguntas do CEO para vocês\n",
    "1. Quantas casas estão disponíveis para compra?\n",
    "2. Quantos atributos as casas possuem?\n",
    "3. Quais são os atributos das casas?\n",
    "4. Qual a casa mais cara ( casa com o maior valor de venda )?\n",
    "5. Qual a casa com o maior número de quartos?\n",
    "\n",
    "6. Qual a soma total de quartos do conjunto de dados?\n",
    "7. Quantas casas possuem 2 banheiros?\n",
    "8. Qual o preço médio de todas as casas no conjunto de dados?\n",
    "9. Qual o preço médio de casas com 2 banheiros?\n",
    "10. Qual o preço mínimo entre as casas com 3 quartos?\n",
    "\n",
    "11. Quantas casas possuem mais de 300 metros quadrados na sala de estar?\n",
    "12. Quantas casas tem mais de 2 andares?\n",
    "13. Quantas casas tem vista para o mar?\n",
    "14. Das casas com vista para o mar, quantas tem 3 quartos?\n",
    "15. Das casas com mais de 300 metros quadrados de sala de estar, quantas tem mais de 2 banheiros?\n"
   ]
  },
  {
   "cell_type": "markdown",
   "metadata": {},
   "source": [
    "# Resolução"
   ]
  },
  {
   "cell_type": "markdown",
   "metadata": {},
   "source": [
    "## Import Libraries"
   ]
  },
  {
   "cell_type": "code",
   "execution_count": 1,
   "metadata": {
    "ExecuteTime": {
     "end_time": "2021-02-27T17:40:21.017412Z",
     "start_time": "2021-02-27T17:40:21.013094Z"
    }
   },
   "outputs": [],
   "source": [
    "import numpy  as np\n",
    "import pandas as pd\n",
    "import seaborn as sns\n",
    "\n",
    "from matplotlib import pyplot as plt\n",
    "import plotly.express as px"
   ]
  },
  {
   "cell_type": "code",
   "execution_count": 2,
   "metadata": {
    "ExecuteTime": {
     "end_time": "2021-02-27T17:40:24.760804Z",
     "start_time": "2021-02-27T17:40:24.757994Z"
    }
   },
   "outputs": [],
   "source": [
    "# Supress Scientific Notation\n",
    "np.set_printoptions(suppress=True)\n",
    "pd.set_option(\"display.float_format\", '{:.2f}'.format)"
   ]
  },
  {
   "cell_type": "markdown",
   "metadata": {},
   "source": [
    "## Loading Data"
   ]
  },
  {
   "cell_type": "code",
   "execution_count": 3,
   "metadata": {
    "ExecuteTime": {
     "end_time": "2021-02-27T17:45:50.889261Z",
     "start_time": "2021-02-27T17:45:50.839816Z"
    }
   },
   "outputs": [],
   "source": [
    "# loading data into memory\n",
    "data = pd.read_csv( 'datasets/kc_house_data.csv' )"
   ]
  },
  {
   "cell_type": "markdown",
   "metadata": {},
   "source": [
    "## 1. Quantas casas estão disponíveis para compra?"
   ]
  },
  {
   "cell_type": "code",
   "execution_count": 4,
   "metadata": {
    "ExecuteTime": {
     "end_time": "2021-02-27T17:45:56.933305Z",
     "start_time": "2021-02-27T17:45:56.927789Z"
    }
   },
   "outputs": [
    {
     "data": {
      "text/plain": [
       "False"
      ]
     },
     "execution_count": 4,
     "metadata": {},
     "output_type": "execute_result"
    }
   ],
   "source": [
    "# Atenção! Temos casas duplicadas, para saber o numero de casas precisamos ver ids únicos\n",
    "# Checando se há duplicatas\n",
    "data['id'].is_unique"
   ]
  },
  {
   "cell_type": "code",
   "execution_count": 5,
   "metadata": {},
   "outputs": [
    {
     "name": "stdout",
     "output_type": "stream",
     "text": [
      "Estão disponíveis 21436 imóveis para compra\n"
     ]
    }
   ],
   "source": [
    "# Temos que contar apenas os ids únicos\n",
    "\n",
    "num_houses_unique = data['id'].nunique()\n",
    "\n",
    "# Resultado\n",
    "print( 'Estão disponíveis {} imóveis para compra'.format( num_houses_unique ) )"
   ]
  },
  {
   "cell_type": "markdown",
   "metadata": {},
   "source": [
    "## 2. Quantos atributos as casas possuem?"
   ]
  },
  {
   "cell_type": "code",
   "execution_count": 6,
   "metadata": {
    "ExecuteTime": {
     "end_time": "2021-02-27T17:47:38.766184Z",
     "start_time": "2021-02-27T17:47:38.762637Z"
    }
   },
   "outputs": [
    {
     "name": "stdout",
     "output_type": "stream",
     "text": [
      "Os imóveis posseum 21 atributos\n"
     ]
    }
   ],
   "source": [
    "# O numero de colunas representam os atributos do apartamento\n",
    "num_attributes = len( data.columns )\n",
    "\n",
    "# Resultado\n",
    "print( \"Os imóveis posseum {} atributos\". format( num_attributes ) )"
   ]
  },
  {
   "cell_type": "markdown",
   "metadata": {},
   "source": [
    "## 3. Quais são os atributos das casas?"
   ]
  },
  {
   "cell_type": "code",
   "execution_count": 7,
   "metadata": {
    "ExecuteTime": {
     "end_time": "2021-02-27T17:49:35.295730Z",
     "start_time": "2021-02-27T17:49:35.289753Z"
    }
   },
   "outputs": [
    {
     "name": "stdout",
     "output_type": "stream",
     "text": [
      "Esses são os seguintes atributos das casas: ['id', 'date', 'price', 'bedrooms', 'bathrooms', 'sqft_living', 'sqft_lot', 'floors', 'waterfront', 'view', 'condition', 'grade', 'sqft_above', 'sqft_basement', 'yr_built', 'yr_renovated', 'zipcode', 'lat', 'long', 'sqft_living15', 'sqft_lot15']\n"
     ]
    }
   ],
   "source": [
    "print( \"Esses são os seguintes atributos das casas: {}\".format( data.columns.tolist() ))"
   ]
  },
  {
   "cell_type": "markdown",
   "metadata": {},
   "source": [
    "## 4. Qual a casa mais cara ( casa com o maior valor de venda )?"
   ]
  },
  {
   "cell_type": "code",
   "execution_count": 10,
   "metadata": {
    "ExecuteTime": {
     "end_time": "2021-02-27T17:59:54.093921Z",
     "start_time": "2021-02-27T17:59:54.084575Z"
    }
   },
   "outputs": [
    {
     "name": "stdout",
     "output_type": "stream",
     "text": [
      "A casa mais cara é a 6762700020.\n"
     ]
    }
   ],
   "source": [
    "# Estratégia: selecionar as colunas 'id' e 'price', ordenar as casas pela coluna 'price' em ordem decrescente e escolher o imóvel do primeiro id.\n",
    "\n",
    "# DataFrame.sort_values\n",
    "# (by, axis=0, ascending=True, inplace=False, kind='quicksort', na_position='last', ignore_index=False, key=None)\n",
    "# loc para pegar o dado da primeira linha da coluna 'id'\n",
    "most_expensive_house = data[[ 'id','price' ]].sort_values( 'price', ascending=False ).reset_index().loc[0,'id']\n",
    "\n",
    "# Resposta tem que ser o id 6762700020, mas apenas com o loc[0,'id'] o resultado está sendo: 7129300520. \n",
    "# ATENÇÃO Solução: resetar o index, pois o item 0 estava sendo considerado erroneamente!\n",
    "\n",
    "print( \"A casa mais cara é a {}.\".format( most_expensive_house ) )"
   ]
  },
  {
   "cell_type": "markdown",
   "metadata": {},
   "source": [
    "## 5. Qual a casa com o maior número de quartos?"
   ]
  },
  {
   "cell_type": "code",
   "execution_count": 61,
   "metadata": {
    "ExecuteTime": {
     "end_time": "2021-02-27T18:00:44.051656Z",
     "start_time": "2021-02-27T18:00:44.044669Z"
    }
   },
   "outputs": [
    {
     "name": "stdout",
     "output_type": "stream",
     "text": [
      "A casa com maior número de quartos é a de id: 2402100895.\n"
     ]
    }
   ],
   "source": [
    "# Estratégia:\n",
    "# 1. Selecionar as colunas 'id' e 'bedrooms'\n",
    "# 2. Ordenar os imóveis pelo numero de quartos em ordem decrescente\n",
    "# 3. Selecionar o primeiro dado da coluna 'id'\n",
    "\n",
    "greater_num_bedrooms = data[[ 'id','bedrooms' ]].sort_values( 'bedrooms', ascending=False ).reset_index().loc[0,'id'] \n",
    "print( 'A casa com maior número de quartos é a de id: {}.'.format( greater_num_bedrooms ) )"
   ]
  },
  {
   "cell_type": "markdown",
   "metadata": {},
   "source": [
    "## 6. Qual a soma total de quartos do conjunto de dados?"
   ]
  },
  {
   "cell_type": "code",
   "execution_count": 64,
   "metadata": {
    "ExecuteTime": {
     "end_time": "2021-02-27T18:01:54.383242Z",
     "start_time": "2021-02-27T18:01:54.380224Z"
    }
   },
   "outputs": [
    {
     "name": "stdout",
     "output_type": "stream",
     "text": [
      "A soma total de quartos do conjunto de dados é: 72854.\n"
     ]
    }
   ],
   "source": [
    "# Estratégia:\n",
    "# 1. Somar os dados da coluna 'bedrooms'\n",
    "\n",
    "total_num_bedrooms = data[ 'bedrooms' ].sum()\n",
    "\n",
    "print( 'A soma total de quartos do conjunto de dados é: {}.'.format( total_num_bedrooms ) )"
   ]
  },
  {
   "cell_type": "markdown",
   "metadata": {},
   "source": [
    "## 7. Quantas casas possuem 2 banheiros?"
   ]
  },
  {
   "cell_type": "code",
   "execution_count": 68,
   "metadata": {
    "ExecuteTime": {
     "end_time": "2021-02-27T18:06:04.004669Z",
     "start_time": "2021-02-27T18:06:03.999316Z"
    }
   },
   "outputs": [
    {
     "name": "stdout",
     "output_type": "stream",
     "text": [
      "O número total de casas que possuem 2 banheiros é: 1930.\n"
     ]
    }
   ],
   "source": [
    "# Estratégia:\n",
    "# 1. Filtrar linhas (imóveis) que possuem 2 'bathrooms'\n",
    "# 2. Contar o número de linhas do dataset\n",
    "\n",
    "# Dica: atente que quando temos os booleanos (resultantes de alguma condição), podemos usar eles para selecionar linhas e colunas!\n",
    "# loc = localize pelo nome das colunas\n",
    "# iloc = localize para mim pelo índice das linhas e das colunas\n",
    "\n",
    "num_houses = len( data.loc[data[ 'bathrooms' ] == 2, 'bathrooms'] )\n",
    "\n",
    "print( 'O número total de casas que possuem 2 banheiros é: {}.'.format( num_houses ) )"
   ]
  },
  {
   "cell_type": "markdown",
   "metadata": {},
   "source": [
    "## 8. Qual o preço médio de todas as casas no conjunto de dados?"
   ]
  },
  {
   "cell_type": "code",
   "execution_count": 71,
   "metadata": {
    "ExecuteTime": {
     "end_time": "2021-02-27T18:07:35.713104Z",
     "start_time": "2021-02-27T18:07:35.709085Z"
    }
   },
   "outputs": [
    {
     "name": "stdout",
     "output_type": "stream",
     "text": [
      "O preço médio de todas as casas no conjunto de dados é de: R$540088.14.\n"
     ]
    }
   ],
   "source": [
    "# Estratégia:\n",
    "# 1. Calcular o preço médio da coluna 'price'\n",
    "\n",
    "avg_price = np.round( data[ 'price' ].mean(), 2 )\n",
    "\n",
    "print( 'O preço médio de todas as casas no conjunto de dados é de: R${}.'.format( avg_price ))"
   ]
  },
  {
   "cell_type": "markdown",
   "metadata": {},
   "source": [
    "## 9. Qual o preço médio de casas com 2 banheiros?"
   ]
  },
  {
   "cell_type": "code",
   "execution_count": 73,
   "metadata": {
    "ExecuteTime": {
     "end_time": "2021-02-27T18:19:29.137811Z",
     "start_time": "2021-02-27T18:19:29.133464Z"
    }
   },
   "outputs": [
    {
     "name": "stdout",
     "output_type": "stream",
     "text": [
      "O preço médio de casas com 2 banheiros é de: R$457889.72.\n"
     ]
    }
   ],
   "source": [
    "# Estratégia:\n",
    "# 1. Selecionar os imóveis com 2 'bathrooms'\n",
    "# 2. Calcular o preço médio da coluna 'price' do novo conjunto de dados\n",
    "\n",
    "avg_price = np.round( data.loc[data[ 'bathrooms' ] == 2, 'price'].mean() , 2 )\n",
    "\n",
    "print( 'O preço médio de casas com 2 banheiros é de: R${}.'.format( avg_price ) )"
   ]
  },
  {
   "cell_type": "markdown",
   "metadata": {},
   "source": [
    "## 10. Qual o preço mínimo entre as casas com 3 quartos?"
   ]
  },
  {
   "cell_type": "code",
   "execution_count": 77,
   "metadata": {},
   "outputs": [
    {
     "name": "stdout",
     "output_type": "stream",
     "text": [
      "O preço mínimo entre as casas com 3 quartos é de: R$82000.0.\n"
     ]
    }
   ],
   "source": [
    "# Estratégia:\n",
    "# 1. Selecionar imíveis com 3 'bedrooms'\n",
    "# 2. Calcular o menor preço da coluna 'price' do novo conjunto de dados\n",
    "\n",
    "min_price = data.loc[ data[ 'bedrooms' ] == 3, 'price'].min()\n",
    "\n",
    "print( 'O preço mínimo entre as casas com 3 quartos é de: R${}.'. format( min_price ) )"
   ]
  },
  {
   "cell_type": "markdown",
   "metadata": {},
   "source": [
    "## 11. Quantas casas possuem mais de 300 metros quadrados na sala de estar?"
   ]
  },
  {
   "cell_type": "code",
   "execution_count": 11,
   "metadata": {},
   "outputs": [
    {
     "name": "stdout",
     "output_type": "stream",
     "text": [
      "Um total de 21612 casas possuem mais de 300 metros quadrados na sala de estar.\n"
     ]
    }
   ],
   "source": [
    "# Estratégia:\n",
    "# 1. Filtrar os imóveis com mais de 300 'sqft_living'\n",
    "# 2. Contar o número de imóveis nesse novo conjunto de dados\n",
    "\n",
    "data['m2'] = data['sqft_living'] * 0.093\n",
    "houses = data.loc[data[ 'sqft_living' ] > 300, 'id'].shape[0]\n",
    "\n",
    "print( 'Um total de {} casas possuem mais de 300 metros quadrados na sala de estar.'.format( houses ))"
   ]
  },
  {
   "cell_type": "markdown",
   "metadata": {},
   "source": [
    "## 12. Quantas casas tem mais de 2 andares?"
   ]
  },
  {
   "cell_type": "code",
   "execution_count": 83,
   "metadata": {
    "ExecuteTime": {
     "end_time": "2021-02-27T18:19:16.149277Z",
     "start_time": "2021-02-27T18:19:16.143584Z"
    }
   },
   "outputs": [
    {
     "name": "stdout",
     "output_type": "stream",
     "text": [
      "Um total de 782 casas possuem mais de 2 andares.\n"
     ]
    }
   ],
   "source": [
    "# Estratégia:\n",
    "# 1. Selecionar imóveis com a coluna 'floors' maior que 2.\n",
    "# 2. Contar o número de imóveis nesse novo conjunto de dados.\n",
    "\n",
    "houses = data.loc[ data[ 'floors' ] > 2, 'id' ].shape[0]\n",
    "\n",
    "print( 'Um total de {} casas possuem mais de 2 andares.'.format( houses ) )"
   ]
  },
  {
   "cell_type": "markdown",
   "metadata": {},
   "source": [
    "## 13. Quantas casas tem vista para o mar?"
   ]
  },
  {
   "cell_type": "code",
   "execution_count": 84,
   "metadata": {
    "ExecuteTime": {
     "end_time": "2021-02-27T18:19:43.496510Z",
     "start_time": "2021-02-27T18:19:43.490114Z"
    }
   },
   "outputs": [
    {
     "name": "stdout",
     "output_type": "stream",
     "text": [
      "Um total de 163 casas possuem vista para o mar.\n"
     ]
    }
   ],
   "source": [
    "# Estratégia:\n",
    "# 1. Selecionar imóveis com a coluna 'waterfront' igual a 1.\n",
    "# 2. Contar o número de imóveis nesse novo conjunto de dados.\n",
    "\n",
    "houses = data.loc[ data[ 'waterfront' ] == 1, 'id' ].shape[0]\n",
    "\n",
    "print( 'Um total de {} casas possuem vista para o mar.'.format( houses ) )"
   ]
  },
  {
   "cell_type": "markdown",
   "metadata": {},
   "source": [
    "## 14. Das casas com vista para o mar, quantas tem 3 quartos?"
   ]
  },
  {
   "cell_type": "code",
   "execution_count": 87,
   "metadata": {
    "ExecuteTime": {
     "end_time": "2021-02-27T18:21:29.535697Z",
     "start_time": "2021-02-27T18:21:29.530323Z"
    }
   },
   "outputs": [
    {
     "name": "stdout",
     "output_type": "stream",
     "text": [
      "Um total de 64 casas com vista pro mar possuem 3 quartos.\n"
     ]
    }
   ],
   "source": [
    "# Estratégia:\n",
    "# 1. Selecionar imóveis com a coluna 'waterfront' igual a 1 e a coluna 'bedrooms' maior que 3.\n",
    "# 2. Contar o número de imóveis nesse novo conjunto de dados.\n",
    "\n",
    "houses = data.loc[ (data[ 'waterfront' ] == 1) & ( data[ 'bedrooms' ] == 3 ), 'id' ].shape[0]\n",
    "\n",
    "print( 'Um total de {} casas com vista pro mar possuem 3 quartos.'.format( houses ) )"
   ]
  },
  {
   "cell_type": "markdown",
   "metadata": {},
   "source": [
    "## 15. Das casas com mais de 300 metros quadrados de sala de estar, quantas tem mais de 2 banheiros?"
   ]
  },
  {
   "cell_type": "code",
   "execution_count": 88,
   "metadata": {
    "ExecuteTime": {
     "end_time": "2021-02-27T18:23:30.622749Z",
     "start_time": "2021-02-27T18:23:30.615882Z"
    }
   },
   "outputs": [
    {
     "name": "stdout",
     "output_type": "stream",
     "text": [
      "Um total de 11242 casas com mais de 300 metros quadrados de sala de estar possuem mais de 2 banheiros.\n"
     ]
    }
   ],
   "source": [
    "# Estratégia:\n",
    "# 1. Selecionar imóveis com a coluna 'sqft_living' maior que 300 e a coluna 'bathrooms' maior que 2.\n",
    "# 2. Contar o número de imóveis nesse novo conjunto de dados.\n",
    "\n",
    "houses = data.loc[ ( data[ 'sqft_living' ] > 300 ) & ( data[ 'bathrooms' ] > 2 ), 'id' ].shape[0]\n",
    "\n",
    "print( 'Um total de {} casas com mais de 300 metros quadrados de sala de estar possuem mais de 2 banheiros.'.format( houses ) )"
   ]
  }
 ],
 "metadata": {
  "kernelspec": {
   "display_name": "Python 3 (ipykernel)",
   "language": "python",
   "name": "python3"
  },
  "language_info": {
   "codemirror_mode": {
    "name": "ipython",
    "version": 3
   },
   "file_extension": ".py",
   "mimetype": "text/x-python",
   "name": "python",
   "nbconvert_exporter": "python",
   "pygments_lexer": "ipython3",
   "version": "3.8.10"
  }
 },
 "nbformat": 4,
 "nbformat_minor": 4
}
