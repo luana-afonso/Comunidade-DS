{
 "cells": [
  {
   "cell_type": "markdown",
   "metadata": {},
   "source": [
    "# Aula 01 - Resolução dos Exercícios\n",
    "\n",
    "## Novas perguntas do CEO para vocês\n",
    "1. Quantas casas estão disponíveis para compra?\n",
    "2. Quantos atributos as casas possuem?\n",
    "3. Quais são os atributos das casas?\n",
    "4. Qual a casa mais cara ( casa com o maior valor de venda )?\n",
    "5. Qual a casa com o maior número de quartos?\n",
    "\n",
    "6. Qual a soma total de quartos do conjunto de dados?\n",
    "7. Quantas casas possuem 2 banheiros?\n",
    "8. Qual o preço médio de todas as casas no conjunto de dados?\n",
    "9. Qual o preço médio de casas com 2 banheiros?\n",
    "10. Qual o preço mínimo entre as casas com 3 quartos?\n",
    "\n",
    "11. Quantas casas possuem mais de 300 metros quadrados na sala de estar?\n",
    "12. Quantas casas tem mais de 2 andares?\n",
    "13. Quantas casas tem vista para o mar?\n",
    "14. Das casas com vista para o mar, quantas tem 3 quartos?\n",
    "15. Das casas com mais de 300 metros quadrados de sala de estar, quantas tem mais de 2 banheiros?\n"
   ]
  },
  {
   "cell_type": "markdown",
   "metadata": {},
   "source": [
    "# Resolução"
   ]
  },
  {
   "cell_type": "markdown",
   "metadata": {},
   "source": [
    "## Import Libraries"
   ]
  },
  {
   "cell_type": "code",
   "execution_count": 1,
   "metadata": {
    "ExecuteTime": {
     "end_time": "2021-02-27T17:40:21.017412Z",
     "start_time": "2021-02-27T17:40:21.013094Z"
    }
   },
   "outputs": [],
   "source": [
    "import numpy  as np\n",
    "import pandas as pd\n",
    "import seaborn as sns\n",
    "\n",
    "from matplotlib import pyplot as plt\n",
    "import plotly.express as px"
   ]
  },
  {
   "cell_type": "code",
   "execution_count": 2,
   "metadata": {
    "ExecuteTime": {
     "end_time": "2021-02-27T17:40:24.760804Z",
     "start_time": "2021-02-27T17:40:24.757994Z"
    }
   },
   "outputs": [],
   "source": [
    "# Supress Scientific Notation\n",
    "np.set_printoptions(suppress=True)\n",
    "pd.set_option('display.float_format', '{:.2f}'.format)"
   ]
  },
  {
   "cell_type": "markdown",
   "metadata": {},
   "source": [
    "## Loading Data"
   ]
  },
  {
   "cell_type": "code",
   "execution_count": 4,
   "metadata": {
    "ExecuteTime": {
     "end_time": "2021-02-27T17:45:50.889261Z",
     "start_time": "2021-02-27T17:45:50.839816Z"
    }
   },
   "outputs": [],
   "source": [
    "# loading data into memory\n",
    "data = pd.read_csv( 'datasets/kc_house_data.csv' )"
   ]
  },
  {
   "cell_type": "markdown",
   "metadata": {},
   "source": [
    "## 1. Quantas casas estão disponíveis para compra?"
   ]
  },
  {
   "cell_type": "code",
   "execution_count": 5,
   "metadata": {
    "ExecuteTime": {
     "end_time": "2021-02-27T17:45:56.933305Z",
     "start_time": "2021-02-27T17:45:56.927789Z"
    }
   },
   "outputs": [
    {
     "name": "stdout",
     "output_type": "stream",
     "text": [
      "Estão disponíveis 21436 imóveis\n"
     ]
    }
   ],
   "source": [
    "# Eu vou considerar que a coluna \"id\" representa a identificação única do imóvel\n",
    "# num_houses_unique = data['id'].nunique()\n",
    "\n",
    "# data[\"id\"].count()\n",
    "# R: 21613\n",
    "\n",
    "num_casas = data[\"id\"].nunique()\n",
    "# R: 21436\n",
    "# Atenção! Temos casas duplicadas, para saber o numero de casas precisamos ver ids únicos\n",
    "\n",
    "# Resultado\n",
    "# print( 'Estão disponíveis {} imóveis'.format( num_houses_unique ) )\n",
    "\n",
    "print(\"Estão disponíveis {} imóveis\".format( num_casas ) )"
   ]
  },
  {
   "cell_type": "markdown",
   "metadata": {},
   "source": [
    "## 2. Quantos atributos as casas possuem?"
   ]
  },
  {
   "cell_type": "code",
   "execution_count": 6,
   "metadata": {
    "ExecuteTime": {
     "end_time": "2021-02-27T17:47:38.766184Z",
     "start_time": "2021-02-27T17:47:38.762637Z"
    }
   },
   "outputs": [
    {
     "name": "stdout",
     "output_type": "stream",
     "text": [
      "Os imóveis posseum 19 atributos\n"
     ]
    }
   ],
   "source": [
    "# O numero de colunas representam os atributos do apartamento.\n",
    "# Mas id e date - não são atributos do apartamento\n",
    "num_attributes = len( data.columns ) - 2\n",
    "\n",
    "# Resultado\n",
    "print( \"Os imóveis posseum {} atributos\". format( num_attributes ) )"
   ]
  },
  {
   "cell_type": "markdown",
   "metadata": {},
   "source": [
    "## 3. Quais são os atributos das casas?"
   ]
  },
  {
   "cell_type": "code",
   "execution_count": 7,
   "metadata": {
    "ExecuteTime": {
     "end_time": "2021-02-27T17:49:35.295730Z",
     "start_time": "2021-02-27T17:49:35.289753Z"
    }
   },
   "outputs": [
    {
     "name": "stdout",
     "output_type": "stream",
     "text": [
      "Esses são os seguintes atributos das casas: ['price', 'bedrooms', 'bathrooms', 'sqft_living', 'sqft_lot', 'floors', 'waterfront', 'view', 'condition', 'grade', 'sqft_above', 'sqft_basement', 'yr_built', 'yr_renovated', 'zipcode', 'lat', 'long', 'sqft_living15', 'sqft_lot15']\n"
     ]
    }
   ],
   "source": [
    "# Estrategia: Excluir as colunas \"id\", \"date\" e mostrar os atributos restantes\n",
    "df = data.drop( ['id', 'date'], axis=1 )\n",
    "\n",
    "attributes_names = data.drop( [\"id\",\"date\"], axis=1 )\n",
    "\n",
    "#Função tolist()\n",
    "#print( attributes_names.columns.tolist() )\n",
    "\n",
    "print( \"Esses são os seguintes atributos das casas: {}\".format( attributes_names.columns.tolist() ))\n",
    "# print( df.columns.tolist() )"
   ]
  },
  {
   "cell_type": "markdown",
   "metadata": {},
   "source": [
    "## 4. Qual a casa mais cara ( casa com o maior valor de venda )?"
   ]
  },
  {
   "cell_type": "code",
   "execution_count": 8,
   "metadata": {
    "ExecuteTime": {
     "end_time": "2021-02-27T17:59:54.093921Z",
     "start_time": "2021-02-27T17:59:54.084575Z"
    }
   },
   "outputs": [
    {
     "name": "stdout",
     "output_type": "stream",
     "text": [
      "               id      price\n",
      "7252   6762700020 7700000.00\n",
      "3914   9808700762 7062500.00\n",
      "9254   9208900037 6885000.00\n",
      "4411   2470100110 5570000.00\n",
      "1448   8907500070 5350000.00\n",
      "...           ...        ...\n",
      "8274   3883800011   82000.00\n",
      "16198  3028200080   81000.00\n",
      "465    8658300340   80000.00\n",
      "15293    40000362   78000.00\n",
      "1149   3421079032   75000.00\n",
      "\n",
      "[21613 rows x 2 columns]\n"
     ]
    }
   ],
   "source": [
    "# Stratégia: Selecionar a coluna \"id\", \"price\", ordenar as casas pela coluna \"price\" em ordem decrescente e \n",
    "#   escolher o imóvel do primeiro id.\n",
    "\n",
    "#house_expensive = data[['id', 'price']].sort_values( 'price', ascending=False ).loc[0,'id']\n",
    "\n",
    "#print( 'Most expensive house: {}'.format( house_expensive ) )\n",
    "# Most expensive house: 7129300520\n",
    "\n",
    "print( data[[\"id\",\"price\"]].sort_values( \"price\", ascending=False ) )\n",
    "# R: A casa mais cara é a de id \"6762700020\", de valor 7700000.\n",
    "\n",
    "#Pq deu diferente do Meigarom? dataset mudou?"
   ]
  },
  {
   "cell_type": "markdown",
   "metadata": {},
   "source": [
    "## 5. Qual a casa com o maior número de quartos?"
   ]
  },
  {
   "cell_type": "code",
   "execution_count": 9,
   "metadata": {
    "ExecuteTime": {
     "end_time": "2021-02-27T18:00:44.051656Z",
     "start_time": "2021-02-27T18:00:44.044669Z"
    }
   },
   "outputs": [
    {
     "name": "stdout",
     "output_type": "stream",
     "text": [
      "A casa com maior número de quartos é a de id: 2402100895\n"
     ]
    }
   ],
   "source": [
    "# Estratégia:\n",
    "# 1. Selecionar a coluna \"id\", \"bedroom\"\n",
    "# 2. Ordenar os imóveis pelo numero de quartos de ordem decrescente\n",
    "# 3. Selecionar a primeira coluna \"id\"\n",
    "\n",
    "# df = data[['id', 'bedrooms']].sort_values( 'bedrooms', ascending=False )\n",
    "# print( 'House with biggest number of bedrooms: {}'.format( df.iloc[0, 0] ) )\n",
    "\n",
    "df = data[[\"id\",\"bedrooms\"]].sort_values( \"bedrooms\", ascending=False ) \n",
    "# Ok\n",
    "# R: A casa com maior número de quartos é a de id \"2402100895\"\n",
    "# Uso do iloc, loc ???\n",
    "\n",
    "print( \"A casa com maior número de quartos é a de id: {}\".format( df.iloc[0,0] ) )"
   ]
  },
  {
   "cell_type": "markdown",
   "metadata": {},
   "source": [
    "## 6. Qual a soma total de quartos do conjunto de dados?"
   ]
  },
  {
   "cell_type": "code",
   "execution_count": 10,
   "metadata": {
    "ExecuteTime": {
     "end_time": "2021-02-27T18:01:54.383242Z",
     "start_time": "2021-02-27T18:01:54.380224Z"
    }
   },
   "outputs": [
    {
     "name": "stdout",
     "output_type": "stream",
     "text": [
      "A soma total de quartos do conjunto de dados é:72854\n"
     ]
    }
   ],
   "source": [
    "# Estratégia:\n",
    "# 1. Somar a coluna \"bedrooms\"\n",
    "# print( 'Total sum of bedrooms: {}'.format( data['bedrooms'].sum() ) )\n",
    "\n",
    "total_quartos = data[\"bedrooms\"].sum()\n",
    "# antes tinha pego o \"bedrooms\" com duas [[]]. Pq seria errado???\n",
    "# print( total_quartos )\n",
    "# R: A soma total de quartos do conjunto de dados é 72854\n",
    "\n",
    "print( \"A soma total de quartos do conjunto de dados é:{}\".format( total_quartos ) )"
   ]
  },
  {
   "cell_type": "markdown",
   "metadata": {},
   "source": [
    "## 7. Quantas casas possuem 2 banheiros?"
   ]
  },
  {
   "cell_type": "code",
   "execution_count": 15,
   "metadata": {
    "ExecuteTime": {
     "end_time": "2021-02-27T18:06:04.004669Z",
     "start_time": "2021-02-27T18:06:03.999316Z"
    }
   },
   "outputs": [
    {
     "name": "stdout",
     "output_type": "stream",
     "text": [
      "Total number of houses with 2 bathrooms is: 1930\n"
     ]
    }
   ],
   "source": [
    "# Estratégia:\n",
    "# 1. Filtrar linhas (imóveis) que possuem 2 banheiros.\n",
    "# 2. Contar o número de linhas do dataset\n",
    "\n",
    "# Dica: atente que quando temos os booleanos (resultantes de alguma condição), podemos usar eles para selecionar linhas e colunas!\n",
    "\n",
    "# df = data.loc[data['bathrooms'] == 2, :]\n",
    "# num_houses = len( df )\n",
    "\n",
    "# print( 'Total number of houses with 2 bathrooms: {}'.format( num_houses ) )\n",
    "\n",
    "# loc = localize para mim pelo nome das colunas\n",
    "# iloc = localize para mim pelo índice das linhas e das colunas\n",
    "\n",
    "aux = len(data.loc[data[\"bathrooms\"] == 2, \"bathrooms\"] )\n",
    "\n",
    "print( \"Total number of houses with 2 bathrooms is: {}\".format( aux ) )"
   ]
  },
  {
   "cell_type": "markdown",
   "metadata": {},
   "source": [
    "## 8. Qual o preço médio de todas as casas no conjunto de dados?"
   ]
  },
  {
   "cell_type": "code",
   "execution_count": 20,
   "metadata": {
    "ExecuteTime": {
     "end_time": "2021-02-27T18:07:35.713104Z",
     "start_time": "2021-02-27T18:07:35.709085Z"
    }
   },
   "outputs": [],
   "source": [
    "# Estratégia:\n",
    "# 1. Calcular o preço médio da coluna \"price\"\n",
    "# avg_price = np.round( data['price'].mean(), 2 )\n",
    "\n",
    "# print( 'Average Price: ${}'.format( avg_price ) )"
   ]
  },
  {
   "cell_type": "code",
   "execution_count": 19,
   "metadata": {},
   "outputs": [
    {
     "name": "stdout",
     "output_type": "stream",
     "text": [
      "O preço médio de todas as casas é: R$540088.1417665294\n"
     ]
    }
   ],
   "source": [
    "avg_price = data[\"price\"].mean()\n",
    "\n",
    "print(\"O preço médio de todas as casas é: R${}\".format( avg_price ))\n",
    "\n",
    "# para um formato com casas decimais definidas poderia usar:\n",
    "# avg_price = np.round( data['price'].mean(), 2 )\n"
   ]
  },
  {
   "cell_type": "markdown",
   "metadata": {},
   "source": [
    "## 9. Qual o preço médio de casas com 2 banheiros?"
   ]
  },
  {
   "cell_type": "code",
   "execution_count": 94,
   "metadata": {
    "ExecuteTime": {
     "end_time": "2021-02-27T18:19:29.137811Z",
     "start_time": "2021-02-27T18:19:29.133464Z"
    }
   },
   "outputs": [
    {
     "name": "stdout",
     "output_type": "stream",
     "text": [
      "Average Price: $457889.72\n"
     ]
    }
   ],
   "source": [
    "# Estratégia:\n",
    "# 1. Selecionar imóveis com 2 banheiros.\n",
    "# 2. Calcular o preço médio da coluna \"price\" do novo conjunto de dados\n",
    "\n",
    "avg_price = np.round( data.loc[data['bathrooms'] == 2, 'price'].mean(), 2 )\n",
    "\n",
    "print( 'Average Price: ${}'.format( avg_price ) )"
   ]
  },
  {
   "cell_type": "code",
   "execution_count": 29,
   "metadata": {},
   "outputs": [
    {
     "name": "stdout",
     "output_type": "stream",
     "text": [
      "The average price of houses with 2 bathrooms is: R$457889.72\n"
     ]
    }
   ],
   "source": [
    "# Tentativa 1\n",
    "#data.loc[data[\"bathrooms\"] == 2, [\"bathrooms\",\"price\"]].groupby(\"bathrooms\").mean()\n",
    "\n",
    "# Tentativa 2\n",
    "# data.loc[data[\"bathrooms\"] == 2, \"price\"].mean()\n",
    "\n",
    "# Com dados arredondados\n",
    "aux = np.round( data.loc[data[\"bathrooms\"] == 2, \"price\"].mean(), 2 )\n",
    "\n",
    "print( \"The average price of houses with 2 bathrooms is: R${}\".format( aux ) )"
   ]
  },
  {
   "cell_type": "markdown",
   "metadata": {},
   "source": [
    "## 10. Qual o preço mínimo entre as casas com 3 quartos?"
   ]
  },
  {
   "cell_type": "code",
   "execution_count": 93,
   "metadata": {
    "ExecuteTime": {
     "end_time": "2021-02-27T18:19:25.289954Z",
     "start_time": "2021-02-27T18:19:25.284907Z"
    }
   },
   "outputs": [
    {
     "name": "stdout",
     "output_type": "stream",
     "text": [
      "Min Price: $82000.0\n"
     ]
    }
   ],
   "source": [
    "# Estratégia:\n",
    "# 1. Selecionar imóveis com 3 bathrooms.\n",
    "# 2. Calcular o menor preço da coluna \"price\" do novo conjunto de dados\n",
    "\n",
    "min_price = np.round( data.loc[data['bedrooms'] == 3, 'price'].min(), 2 )\n",
    "\n",
    "print( 'Min Price: ${}'.format( min_price ) )"
   ]
  },
  {
   "cell_type": "code",
   "execution_count": null,
   "metadata": {},
   "outputs": [],
   "source": []
  },
  {
   "cell_type": "code",
   "execution_count": 35,
   "metadata": {},
   "outputs": [
    {
     "name": "stdout",
     "output_type": "stream",
     "text": [
      "The minimum price of houses with 3 bedrooms is: R$82000.0\n"
     ]
    }
   ],
   "source": [
    "# Qual o preço mínimo entre as casas com 3 quartos?\n",
    "\n",
    "aux = data.loc[data[\"bedrooms\"] == 3, \"price\"].min()\n",
    "\n",
    "print( \"The minimum price of houses with 3 bedrooms is: R${}\".format(aux) )"
   ]
  },
  {
   "cell_type": "markdown",
   "metadata": {},
   "source": [
    "## 11. Quantas casas possuem mais de 300 metros quadrados na sala de estar?"
   ]
  },
  {
   "cell_type": "code",
   "execution_count": 92,
   "metadata": {
    "ExecuteTime": {
     "end_time": "2021-02-27T18:19:21.004303Z",
     "start_time": "2021-02-27T18:19:20.999203Z"
    }
   },
   "outputs": [
    {
     "name": "stdout",
     "output_type": "stream",
     "text": [
      "There are 21612 Houses with living room grater than 300 square foot\n"
     ]
    }
   ],
   "source": [
    "# Estratégia:\n",
    "# 1. Selecionar imóveis com mais de 300 sqft_living.\n",
    "# 2. Contar o número de imóveis nesse novo conjunto de dados.\n",
    "\n",
    "houses = data.loc[data['sqft_living'] > 300, 'id'].shape[0]\n",
    "\n",
    "print( 'There are {} Houses with living room grater than 300 square foot'.format( houses ) )"
   ]
  },
  {
   "cell_type": "code",
   "execution_count": 42,
   "metadata": {},
   "outputs": [
    {
     "name": "stdout",
     "output_type": "stream",
     "text": [
      "There are 21612 houses with living room grater than 300 square foot\n"
     ]
    }
   ],
   "source": [
    "# Quantas casas possuem mais de 300 metros quadrados na sala de estar?\n",
    "\n",
    "aux = data.loc[data[\"sqft_living\"] > 300,\"id\"].shape[0]\n",
    "\n",
    "print(\"There are {} houses with living room grater than 300 square foot\".format( aux ))"
   ]
  },
  {
   "cell_type": "markdown",
   "metadata": {},
   "source": [
    "## 12. Quantas casas tem mais de 2 andares?"
   ]
  },
  {
   "cell_type": "code",
   "execution_count": 91,
   "metadata": {
    "ExecuteTime": {
     "end_time": "2021-02-27T18:19:16.149277Z",
     "start_time": "2021-02-27T18:19:16.143584Z"
    }
   },
   "outputs": [
    {
     "name": "stdout",
     "output_type": "stream",
     "text": [
      "There are 782 Houses with the number of floors grater than 2\n"
     ]
    }
   ],
   "source": [
    "# Estratégia:\n",
    "# 1. Selecionar imóveis com a coluna 'floors' maior que 2.\n",
    "# 2. Contar o número de imóveis nesse novo conjunto de dados.\n",
    "\n",
    "houses = data.loc[data['floors'] > 2, 'id'].shape[0]\n",
    "\n",
    "print( 'There are {} Houses with the number of floors grater than 2'.format( houses ) )"
   ]
  },
  {
   "cell_type": "code",
   "execution_count": 45,
   "metadata": {},
   "outputs": [
    {
     "data": {
      "text/plain": [
       "782"
      ]
     },
     "execution_count": 45,
     "metadata": {},
     "output_type": "execute_result"
    }
   ],
   "source": [
    "data.loc[data[\"floors\"] > 2, \"id\"].shape[0]"
   ]
  },
  {
   "cell_type": "markdown",
   "metadata": {},
   "source": [
    "## 13. Quantas casas tem vista para o mar?"
   ]
  },
  {
   "cell_type": "code",
   "execution_count": 53,
   "metadata": {
    "ExecuteTime": {
     "end_time": "2021-02-27T18:19:43.496510Z",
     "start_time": "2021-02-27T18:19:43.490114Z"
    }
   },
   "outputs": [
    {
     "name": "stdout",
     "output_type": "stream",
     "text": [
      "There are 163 Houses with the number of floors grater than 2\n"
     ]
    }
   ],
   "source": [
    "# Estratégia:\n",
    "# 1. Selecionar imóveis com a coluna 'waterfront' igual a 1.\n",
    "# 2. Contar o número de imóveis nesse novo conjunto de dados.\n",
    "\n",
    "houses = data.loc[data['waterfront'] == 1, 'id'].shape[0]\n",
    "\n",
    "print( 'There are {} Houses with the number of floors grater than 2'.format( houses ) )"
   ]
  },
  {
   "cell_type": "code",
   "execution_count": 52,
   "metadata": {},
   "outputs": [
    {
     "data": {
      "text/plain": [
       "163"
      ]
     },
     "execution_count": 52,
     "metadata": {},
     "output_type": "execute_result"
    }
   ],
   "source": [
    "data.loc[data[\"waterfront\"] != 0, \"id\"].shape[0]"
   ]
  },
  {
   "cell_type": "markdown",
   "metadata": {},
   "source": [
    "## 14. Das casas com vista para o mar, quantas tem 3 quartos?"
   ]
  },
  {
   "cell_type": "code",
   "execution_count": 97,
   "metadata": {
    "ExecuteTime": {
     "end_time": "2021-02-27T18:21:29.535697Z",
     "start_time": "2021-02-27T18:21:29.530323Z"
    }
   },
   "outputs": [
    {
     "name": "stdout",
     "output_type": "stream",
     "text": [
      "There are 127 Houses with waterfront and bedrooms greater then 3\n"
     ]
    }
   ],
   "source": [
    "# Estratégia:\n",
    "# 1. Selecionar imóveis com a coluna 'waterfront' igual a 1 e a coluna 'bedrooms' maior que 3.\n",
    "# 2. Contar o número de imóveis nesse novo conjunto de dados.\n",
    "\n",
    "houses = data.loc[(data['waterfront'] == 1) & (data['bedrooms'] > 2), 'id'].shape[0]\n",
    "\n",
    "print( 'There are {} Houses with waterfront and bedrooms greater then 3'.format( houses ) )"
   ]
  },
  {
   "cell_type": "code",
   "execution_count": 54,
   "metadata": {},
   "outputs": [
    {
     "data": {
      "text/plain": [
       "64"
      ]
     },
     "execution_count": 54,
     "metadata": {},
     "output_type": "execute_result"
    }
   ],
   "source": [
    "data.loc[(data[\"waterfront\"] == 1) & (data[\"bedrooms\"] == 3), \"id\"].shape[0]"
   ]
  },
  {
   "cell_type": "markdown",
   "metadata": {},
   "source": [
    "## 15. Das casas com mais de 300 metros quadrados de sala de estar, quantas tem mais de 2 banheiros?"
   ]
  },
  {
   "cell_type": "code",
   "execution_count": 99,
   "metadata": {
    "ExecuteTime": {
     "end_time": "2021-02-27T18:23:30.622749Z",
     "start_time": "2021-02-27T18:23:30.615882Z"
    }
   },
   "outputs": [
    {
     "name": "stdout",
     "output_type": "stream",
     "text": [
      "There are 11242 Houses with living room greater than 300 and bathrooms bigger than 2\n"
     ]
    }
   ],
   "source": [
    "# Estratégia:\n",
    "# 1. Selecionar imóveis com a coluna 'sqft_living' maior que 300 e a coluna 'bathrooms' maior que 2.\n",
    "# 2. Contar o número de imóveis nesse novo conjunto de dados.\n",
    "\n",
    "houses = data.loc[(data['sqft_living'] > 300) & (data['bathrooms'] > 2), 'id'].shape[0]\n",
    "\n",
    "print( 'There are {} Houses with living room greater than 300 and bathrooms bigger than 2'.format( houses ) )"
   ]
  },
  {
   "cell_type": "code",
   "execution_count": 55,
   "metadata": {},
   "outputs": [
    {
     "data": {
      "text/plain": [
       "11242"
      ]
     },
     "execution_count": 55,
     "metadata": {},
     "output_type": "execute_result"
    }
   ],
   "source": [
    "data.loc[( data[\"sqft_living\"] > 300 ) & ( data[\"bathrooms\"] > 2 ), \"id\"].shape[0]"
   ]
  },
  {
   "cell_type": "code",
   "execution_count": null,
   "metadata": {},
   "outputs": [],
   "source": []
  }
 ],
 "metadata": {
  "kernelspec": {
   "display_name": "Python 3",
   "language": "python",
   "name": "python3"
  },
  "language_info": {
   "codemirror_mode": {
    "name": "ipython",
    "version": 3
   },
   "file_extension": ".py",
   "mimetype": "text/x-python",
   "name": "python",
   "nbconvert_exporter": "python",
   "pygments_lexer": "ipython3",
   "version": "3.9.2"
  }
 },
 "nbformat": 4,
 "nbformat_minor": 4
}
