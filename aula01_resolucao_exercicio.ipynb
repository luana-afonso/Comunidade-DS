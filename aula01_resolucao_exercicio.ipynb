{
 "cells": [
  {
   "cell_type": "markdown",
   "metadata": {},
   "source": [
    "# Aula 01 - Resolução dos Exercícios\n",
    "\n",
    "## Novas perguntas do CEO para vocês\n",
    "1. Quantas casas estão disponíveis para compra?\n",
    "2. Quantos atributos as casas possuem?\n",
    "3. Quais são os atributos das casas?\n",
    "4. Qual a casa mais cara ( casa com o maior valor de venda )?\n",
    "5. Qual a casa com o maior número de quartos?\n",
    "\n",
    "6. Qual a soma total de quartos do conjunto de dados?\n",
    "7. Quantas casas possuem 2 banheiros?\n",
    "8. Qual o preço médio de todas as casas no conjunto de dados?\n",
    "9. Qual o preço médio de casas com 2 banheiros?\n",
    "10. Qual o preço mínimo entre as casas com 3 quartos?\n",
    "\n",
    "11. Quantas casas possuem mais de 300 metros quadrados na sala de estar?\n",
    "12. Quantas casas tem mais de 2 andares?\n",
    "13. Quantas casas tem vista para o mar?\n",
    "14. Das casas com vista para o mar, quantas tem 3 quartos?\n",
    "15. Das casas com mais de 300 metros quadrados de sala de estar, quantas tem mais de 2 banheiros?\n"
   ]
  },
  {
   "cell_type": "markdown",
   "metadata": {},
   "source": [
    "# Resolução"
   ]
  },
  {
   "cell_type": "markdown",
   "metadata": {},
   "source": [
    "## Import Libraries"
   ]
  },
  {
   "cell_type": "code",
   "execution_count": 1,
   "metadata": {
    "ExecuteTime": {
     "end_time": "2021-02-27T17:40:21.017412Z",
     "start_time": "2021-02-27T17:40:21.013094Z"
    }
   },
   "outputs": [],
   "source": [
    "import numpy  as np\n",
    "import pandas as pd\n",
    "import seaborn as sns\n",
    "\n",
    "from matplotlib import pyplot as plt\n",
    "import plotly.express as px"
   ]
  },
  {
   "cell_type": "code",
   "execution_count": 2,
   "metadata": {
    "ExecuteTime": {
     "end_time": "2021-02-27T17:40:24.760804Z",
     "start_time": "2021-02-27T17:40:24.757994Z"
    }
   },
   "outputs": [],
   "source": [
    "# Supress Scientific Notation\n",
    "np.set_printoptions(suppress=True)\n",
    "pd.set_option('display.float_format', '{:.2f}'.format)"
   ]
  },
  {
   "cell_type": "markdown",
   "metadata": {},
   "source": [
    "## Loading Data"
   ]
  },
  {
   "cell_type": "code",
   "execution_count": 3,
   "metadata": {
    "ExecuteTime": {
     "end_time": "2021-02-27T17:45:50.889261Z",
     "start_time": "2021-02-27T17:45:50.839816Z"
    }
   },
   "outputs": [],
   "source": [
    "# loading data into memory\n",
    "data = pd.read_csv( '../datasets/kc_house_data.csv' )"
   ]
  },
  {
   "cell_type": "markdown",
   "metadata": {},
   "source": [
    "## 1. Quantas casas estão disponíveis para compra?"
   ]
  },
  {
   "cell_type": "code",
   "execution_count": 9,
   "metadata": {
    "ExecuteTime": {
     "end_time": "2021-02-27T17:45:56.933305Z",
     "start_time": "2021-02-27T17:45:56.927789Z"
    }
   },
   "outputs": [
    {
     "name": "stdout",
     "output_type": "stream",
     "text": [
      "Estão disponíveis 21436 imóveis\n"
     ]
    }
   ],
   "source": [
    "# Eu vou considerar que a coluna \"id\" representa a identificação única do imóvel\n",
    "# num_houses_unique = data['id'].nunique()\n",
    "\n",
    "# data[\"id\"].count()\n",
    "# R: 21613\n",
    "\n",
    "num_casas = data[\"id\"].nunique()\n",
    "# R: 21436\n",
    "# Atenção! Temos casas duplicadas, para saber o numero de casas precisamos ver ids únicos\n",
    "\n",
    "# Resultado\n",
    "# print( 'Estão disponíveis {} imóveis'.format( num_houses_unique ) )\n",
    "\n",
    "print(\"Estão disponíveis {} imóveis\".format( num_casas ) )"
   ]
  },
  {
   "cell_type": "markdown",
   "metadata": {},
   "source": [
    "## 2. Quantos atributos as casas possuem?"
   ]
  },
  {
   "cell_type": "code",
   "execution_count": 11,
   "metadata": {
    "ExecuteTime": {
     "end_time": "2021-02-27T17:47:38.766184Z",
     "start_time": "2021-02-27T17:47:38.762637Z"
    }
   },
   "outputs": [
    {
     "name": "stdout",
     "output_type": "stream",
     "text": [
      "Os imóveis posseum 19 atributos\n"
     ]
    }
   ],
   "source": [
    "# O numero de colunas representam os atributos do apartamento.\n",
    "# Mas id e date - não são atributos do apartamento\n",
    "num_attributes = len( data.columns ) - 2\n",
    "\n",
    "# Resultado\n",
    "print( \"Os imóveis posseum {} atributos\". format( num_attributes ) )"
   ]
  },
  {
   "cell_type": "markdown",
   "metadata": {},
   "source": [
    "## 3. Quais são os atributos das casas?"
   ]
  },
  {
   "cell_type": "code",
   "execution_count": 17,
   "metadata": {
    "ExecuteTime": {
     "end_time": "2021-02-27T17:49:35.295730Z",
     "start_time": "2021-02-27T17:49:35.289753Z"
    }
   },
   "outputs": [
    {
     "name": "stdout",
     "output_type": "stream",
     "text": [
      "Esses são os seguintes atributos das casas: ['price', 'bedrooms', 'bathrooms', 'sqft_living', 'sqft_lot', 'floors', 'waterfront', 'view', 'condition', 'grade', 'sqft_above', 'sqft_basement', 'yr_built', 'yr_renovated', 'zipcode', 'lat', 'long', 'sqft_living15', 'sqft_lot15']\n"
     ]
    }
   ],
   "source": [
    "# Estrategia: Excluir as colunas \"id\", \"date\" e mostrar os atributos restantes\n",
    "df = data.drop( ['id', 'date'], axis=1 )\n",
    "\n",
    "attributes_names = data.drop( [\"id\",\"date\"], axis=1 )\n",
    "\n",
    "#Função tolist()\n",
    "#print( attributes_names.columns.tolist() )\n",
    "\n",
    "print( \"Esses são os seguintes atributos das casas: {}\".format( attributes_names.columns.tolist() ))\n",
    "# print( df.columns.tolist() )"
   ]
  },
  {
   "cell_type": "markdown",
   "metadata": {},
   "source": [
    "## 4. Qual a casa mais cara ( casa com o maior valor de venda )?"
   ]
  },
  {
   "cell_type": "code",
   "execution_count": 20,
   "metadata": {
    "ExecuteTime": {
     "end_time": "2021-02-27T17:59:54.093921Z",
     "start_time": "2021-02-27T17:59:54.084575Z"
    }
   },
   "outputs": [
    {
     "name": "stdout",
     "output_type": "stream",
     "text": [
      "               id      price\n",
      "7252   6762700020 7700000.00\n",
      "3914   9808700762 7062500.00\n",
      "9254   9208900037 6885000.00\n",
      "4411   2470100110 5570000.00\n",
      "1448   8907500070 5350000.00\n",
      "...           ...        ...\n",
      "8274   3883800011   82000.00\n",
      "16198  3028200080   81000.00\n",
      "465    8658300340   80000.00\n",
      "15293    40000362   78000.00\n",
      "1149   3421079032   75000.00\n",
      "\n",
      "[21613 rows x 2 columns]\n"
     ]
    }
   ],
   "source": [
    "# Stratégia: Selecionar a coluna \"id\", \"price\", ordenar as casas pela coluna \"price\" em ordem decrescente e \n",
    "#   escolher o imóvel do primeiro id.\n",
    "\n",
    "\n",
    "#house_expensive = data[['id', 'price']].sort_values( 'price', ascending=False ).loc[0,'id']\n",
    "\n",
    "#print( 'Most expensive house: {}'.format( house_expensive ) )\n",
    "# Most expensive house: 7129300520\n",
    "\n",
    "print( data[[\"id\",\"price\"]].sort_values( \"price\", ascending=False ) )\n",
    "# R: A casa mais cara é a de id \"6762700020\", de valor 7700000.\n",
    "\n",
    "#Pq deu diferente do Meigarom? dataset mudou?"
   ]
  },
  {
   "cell_type": "markdown",
   "metadata": {},
   "source": [
    "## 5. Qual a casa com o maior número de quartos?"
   ]
  },
  {
   "cell_type": "code",
   "execution_count": 22,
   "metadata": {
    "ExecuteTime": {
     "end_time": "2021-02-27T18:00:44.051656Z",
     "start_time": "2021-02-27T18:00:44.044669Z"
    }
   },
   "outputs": [
    {
     "name": "stdout",
     "output_type": "stream",
     "text": [
      "A casa com maior número de quartos é a de id: 2402100895\n"
     ]
    }
   ],
   "source": [
    "# Estratégia:\n",
    "# 1. Selecionar a coluna \"id\", \"bedroom\"\n",
    "# 2. Ordenar os imóveis pelo numero de quartos de ordem decrescente\n",
    "# 3. Selecionar a primeira coluna \"id\"\n",
    "\n",
    "# df = data[['id', 'bedrooms']].sort_values( 'bedrooms', ascending=False )\n",
    "# print( 'House with biggest number of bedrooms: {}'.format( df.iloc[0, 0] ) )\n",
    "\n",
    "df = data[[\"id\",\"bedrooms\"]].sort_values( \"bedrooms\", ascending=False ) \n",
    "# Ok\n",
    "# R: A casa com maior número de quartos é a de id \"2402100895\"\n",
    "# Uso do iloc, loc ???\n",
    "\n",
    "print( \"A casa com maior número de quartos é a de id: {}\".format( df.iloc[0,0] ) )"
   ]
  },
  {
   "cell_type": "markdown",
   "metadata": {},
   "source": [
    "## 6. Qual a soma total de quartos do conjunto de dados?"
   ]
  },
  {
   "cell_type": "code",
   "execution_count": 27,
   "metadata": {
    "ExecuteTime": {
     "end_time": "2021-02-27T18:01:54.383242Z",
     "start_time": "2021-02-27T18:01:54.380224Z"
    }
   },
   "outputs": [
    {
     "name": "stdout",
     "output_type": "stream",
     "text": [
      "A soma total de quartos do conjunto de dados é:72854\n"
     ]
    }
   ],
   "source": [
    "# Estratégia:\n",
    "# 1. Somar a coluna \"bedrooms\"\n",
    "# print( 'Total sum of bedrooms: {}'.format( data['bedrooms'].sum() ) )\n",
    "\n",
    "total_quartos = data[\"bedrooms\"].sum()\n",
    "# antes tinha pego o \"bedrooms\" com duas [[]]. Pq seria errado???\n",
    "# print( total_quartos )\n",
    "# R: A soma total de quartos do conjunto de dados é 72854\n",
    "\n",
    "print( \"A soma total de quartos do conjunto de dados é:{}\".format( total_quartos ) )"
   ]
  },
  {
   "cell_type": "markdown",
   "metadata": {},
   "source": [
    "## 7. Quantas casas possuem 2 banheiros?"
   ]
  },
  {
   "cell_type": "code",
   "execution_count": 68,
   "metadata": {
    "ExecuteTime": {
     "end_time": "2021-02-27T18:06:04.004669Z",
     "start_time": "2021-02-27T18:06:03.999316Z"
    }
   },
   "outputs": [
    {
     "name": "stdout",
     "output_type": "stream",
     "text": [
      "Total number of houses with 2 bathrooms: 1930\n"
     ]
    }
   ],
   "source": [
    "# Estratégia:\n",
    "# 1. Filtrar linhas (imóveis) que possuem 2 banheiros.\n",
    "# 2. Contar o número de linhas do dataset\n",
    "\n",
    "# Dica: atente que quando temos os booleanos (resultantes de alguma condição), podemos usar eles para selecionar linhas e colunas!\n",
    "\n",
    "df = data.loc[data['bathrooms'] == 2, :]\n",
    "num_houses = len( df )\n",
    "\n",
    "print( 'Total number of houses with 2 bathrooms: {}'.format( num_houses ) )"
   ]
  },
  {
   "cell_type": "code",
   "execution_count": 28,
   "metadata": {},
   "outputs": [
    {
     "data": {
      "text/html": [
       "<div>\n",
       "<style scoped>\n",
       "    .dataframe tbody tr th:only-of-type {\n",
       "        vertical-align: middle;\n",
       "    }\n",
       "\n",
       "    .dataframe tbody tr th {\n",
       "        vertical-align: top;\n",
       "    }\n",
       "\n",
       "    .dataframe thead th {\n",
       "        text-align: right;\n",
       "    }\n",
       "</style>\n",
       "<table border=\"1\" class=\"dataframe\">\n",
       "  <thead>\n",
       "    <tr style=\"text-align: right;\">\n",
       "      <th></th>\n",
       "      <th>id</th>\n",
       "      <th>date</th>\n",
       "      <th>price</th>\n",
       "      <th>bedrooms</th>\n",
       "      <th>bathrooms</th>\n",
       "      <th>sqft_living</th>\n",
       "      <th>sqft_lot</th>\n",
       "      <th>floors</th>\n",
       "      <th>waterfront</th>\n",
       "      <th>view</th>\n",
       "      <th>...</th>\n",
       "      <th>grade</th>\n",
       "      <th>sqft_above</th>\n",
       "      <th>sqft_basement</th>\n",
       "      <th>yr_built</th>\n",
       "      <th>yr_renovated</th>\n",
       "      <th>zipcode</th>\n",
       "      <th>lat</th>\n",
       "      <th>long</th>\n",
       "      <th>sqft_living15</th>\n",
       "      <th>sqft_lot15</th>\n",
       "    </tr>\n",
       "  </thead>\n",
       "  <tbody>\n",
       "    <tr>\n",
       "      <th>0</th>\n",
       "      <td>7129300520</td>\n",
       "      <td>20141013T000000</td>\n",
       "      <td>221900.00</td>\n",
       "      <td>3</td>\n",
       "      <td>1.00</td>\n",
       "      <td>1180</td>\n",
       "      <td>5650</td>\n",
       "      <td>1.00</td>\n",
       "      <td>0</td>\n",
       "      <td>0</td>\n",
       "      <td>...</td>\n",
       "      <td>7</td>\n",
       "      <td>1180</td>\n",
       "      <td>0</td>\n",
       "      <td>1955</td>\n",
       "      <td>0</td>\n",
       "      <td>98178</td>\n",
       "      <td>47.51</td>\n",
       "      <td>-122.26</td>\n",
       "      <td>1340</td>\n",
       "      <td>5650</td>\n",
       "    </tr>\n",
       "    <tr>\n",
       "      <th>1</th>\n",
       "      <td>6414100192</td>\n",
       "      <td>20141209T000000</td>\n",
       "      <td>538000.00</td>\n",
       "      <td>3</td>\n",
       "      <td>2.25</td>\n",
       "      <td>2570</td>\n",
       "      <td>7242</td>\n",
       "      <td>2.00</td>\n",
       "      <td>0</td>\n",
       "      <td>0</td>\n",
       "      <td>...</td>\n",
       "      <td>7</td>\n",
       "      <td>2170</td>\n",
       "      <td>400</td>\n",
       "      <td>1951</td>\n",
       "      <td>1991</td>\n",
       "      <td>98125</td>\n",
       "      <td>47.72</td>\n",
       "      <td>-122.32</td>\n",
       "      <td>1690</td>\n",
       "      <td>7639</td>\n",
       "    </tr>\n",
       "    <tr>\n",
       "      <th>2</th>\n",
       "      <td>5631500400</td>\n",
       "      <td>20150225T000000</td>\n",
       "      <td>180000.00</td>\n",
       "      <td>2</td>\n",
       "      <td>1.00</td>\n",
       "      <td>770</td>\n",
       "      <td>10000</td>\n",
       "      <td>1.00</td>\n",
       "      <td>0</td>\n",
       "      <td>0</td>\n",
       "      <td>...</td>\n",
       "      <td>6</td>\n",
       "      <td>770</td>\n",
       "      <td>0</td>\n",
       "      <td>1933</td>\n",
       "      <td>0</td>\n",
       "      <td>98028</td>\n",
       "      <td>47.74</td>\n",
       "      <td>-122.23</td>\n",
       "      <td>2720</td>\n",
       "      <td>8062</td>\n",
       "    </tr>\n",
       "    <tr>\n",
       "      <th>3</th>\n",
       "      <td>2487200875</td>\n",
       "      <td>20141209T000000</td>\n",
       "      <td>604000.00</td>\n",
       "      <td>4</td>\n",
       "      <td>3.00</td>\n",
       "      <td>1960</td>\n",
       "      <td>5000</td>\n",
       "      <td>1.00</td>\n",
       "      <td>0</td>\n",
       "      <td>0</td>\n",
       "      <td>...</td>\n",
       "      <td>7</td>\n",
       "      <td>1050</td>\n",
       "      <td>910</td>\n",
       "      <td>1965</td>\n",
       "      <td>0</td>\n",
       "      <td>98136</td>\n",
       "      <td>47.52</td>\n",
       "      <td>-122.39</td>\n",
       "      <td>1360</td>\n",
       "      <td>5000</td>\n",
       "    </tr>\n",
       "    <tr>\n",
       "      <th>4</th>\n",
       "      <td>1954400510</td>\n",
       "      <td>20150218T000000</td>\n",
       "      <td>510000.00</td>\n",
       "      <td>3</td>\n",
       "      <td>2.00</td>\n",
       "      <td>1680</td>\n",
       "      <td>8080</td>\n",
       "      <td>1.00</td>\n",
       "      <td>0</td>\n",
       "      <td>0</td>\n",
       "      <td>...</td>\n",
       "      <td>8</td>\n",
       "      <td>1680</td>\n",
       "      <td>0</td>\n",
       "      <td>1987</td>\n",
       "      <td>0</td>\n",
       "      <td>98074</td>\n",
       "      <td>47.62</td>\n",
       "      <td>-122.05</td>\n",
       "      <td>1800</td>\n",
       "      <td>7503</td>\n",
       "    </tr>\n",
       "  </tbody>\n",
       "</table>\n",
       "<p>5 rows × 21 columns</p>\n",
       "</div>"
      ],
      "text/plain": [
       "           id             date     price  bedrooms  bathrooms  sqft_living  \\\n",
       "0  7129300520  20141013T000000 221900.00         3       1.00         1180   \n",
       "1  6414100192  20141209T000000 538000.00         3       2.25         2570   \n",
       "2  5631500400  20150225T000000 180000.00         2       1.00          770   \n",
       "3  2487200875  20141209T000000 604000.00         4       3.00         1960   \n",
       "4  1954400510  20150218T000000 510000.00         3       2.00         1680   \n",
       "\n",
       "   sqft_lot  floors  waterfront  view  ...  grade  sqft_above  sqft_basement  \\\n",
       "0      5650    1.00           0     0  ...      7        1180              0   \n",
       "1      7242    2.00           0     0  ...      7        2170            400   \n",
       "2     10000    1.00           0     0  ...      6         770              0   \n",
       "3      5000    1.00           0     0  ...      7        1050            910   \n",
       "4      8080    1.00           0     0  ...      8        1680              0   \n",
       "\n",
       "   yr_built  yr_renovated  zipcode   lat    long  sqft_living15  sqft_lot15  \n",
       "0      1955             0    98178 47.51 -122.26           1340        5650  \n",
       "1      1951          1991    98125 47.72 -122.32           1690        7639  \n",
       "2      1933             0    98028 47.74 -122.23           2720        8062  \n",
       "3      1965             0    98136 47.52 -122.39           1360        5000  \n",
       "4      1987             0    98074 47.62 -122.05           1800        7503  \n",
       "\n",
       "[5 rows x 21 columns]"
      ]
     },
     "execution_count": 28,
     "metadata": {},
     "output_type": "execute_result"
    }
   ],
   "source": [
    "data.head()"
   ]
  },
  {
   "cell_type": "markdown",
   "metadata": {},
   "source": [
    "## 8. Qual o preço médio de todas as casas no conjunto de dados?"
   ]
  },
  {
   "cell_type": "code",
   "execution_count": 72,
   "metadata": {
    "ExecuteTime": {
     "end_time": "2021-02-27T18:07:35.713104Z",
     "start_time": "2021-02-27T18:07:35.709085Z"
    }
   },
   "outputs": [
    {
     "name": "stdout",
     "output_type": "stream",
     "text": [
      "Average Price: $540088.14\n"
     ]
    }
   ],
   "source": [
    "# Estratégia:\n",
    "# 1. Calcular o preço médio da coluna \"price\"\n",
    "avg_price = np.round( data['price'].mean(), 2 )\n",
    "\n",
    "print( 'Average Price: ${}'.format( avg_price ) )"
   ]
  },
  {
   "cell_type": "markdown",
   "metadata": {},
   "source": [
    "## 9. Qual o preço médio de casas com 2 banheiros?"
   ]
  },
  {
   "cell_type": "code",
   "execution_count": 94,
   "metadata": {
    "ExecuteTime": {
     "end_time": "2021-02-27T18:19:29.137811Z",
     "start_time": "2021-02-27T18:19:29.133464Z"
    }
   },
   "outputs": [
    {
     "name": "stdout",
     "output_type": "stream",
     "text": [
      "Average Price: $457889.72\n"
     ]
    }
   ],
   "source": [
    "# Estratégia:\n",
    "# 1. Selecionar imóveis com 2 banheiros.\n",
    "# 2. Calcular o preço médio da coluna \"price\" do novo conjunto de dados\n",
    "\n",
    "avg_price = np.round( data.loc[data['bathrooms'] == 2, 'price'].mean(), 2 )\n",
    "\n",
    "print( 'Average Price: ${}'.format( avg_price ) )"
   ]
  },
  {
   "cell_type": "markdown",
   "metadata": {},
   "source": [
    "## 10. Qual o preço mínimo entre as casas com 3 quartos?"
   ]
  },
  {
   "cell_type": "code",
   "execution_count": 93,
   "metadata": {
    "ExecuteTime": {
     "end_time": "2021-02-27T18:19:25.289954Z",
     "start_time": "2021-02-27T18:19:25.284907Z"
    }
   },
   "outputs": [
    {
     "name": "stdout",
     "output_type": "stream",
     "text": [
      "Min Price: $82000.0\n"
     ]
    }
   ],
   "source": [
    "# Estratégia:\n",
    "# 1. Selecionar imóveis com 3 bathrooms.\n",
    "# 2. Calcular o menor preço da coluna \"price\" do novo conjunto de dados\n",
    "\n",
    "min_price = np.round( data.loc[data['bedrooms'] == 3, 'price'].min(), 2 )\n",
    "\n",
    "print( 'Min Price: ${}'.format( min_price ) )"
   ]
  },
  {
   "cell_type": "markdown",
   "metadata": {},
   "source": [
    "## 11. Quantas casas possuem mais de 300 metros quadrados na sala de estar?"
   ]
  },
  {
   "cell_type": "code",
   "execution_count": 92,
   "metadata": {
    "ExecuteTime": {
     "end_time": "2021-02-27T18:19:21.004303Z",
     "start_time": "2021-02-27T18:19:20.999203Z"
    }
   },
   "outputs": [
    {
     "name": "stdout",
     "output_type": "stream",
     "text": [
      "There are 21612 Houses with living room grater than 300 square foot\n"
     ]
    }
   ],
   "source": [
    "# Estratégia:\n",
    "# 1. Selecionar imóveis com mais de 300 sqft_living.\n",
    "# 2. Contar o número de imóveis nesse novo conjunto de dados.\n",
    "\n",
    "houses = data.loc[data['sqft_living'] > 300, 'id'].shape[0]\n",
    "\n",
    "print( 'There are {} Houses with living room grater than 300 square foot'.format( houses ) )"
   ]
  },
  {
   "cell_type": "markdown",
   "metadata": {},
   "source": [
    "## 12. Quantas casas tem mais de 2 andares?"
   ]
  },
  {
   "cell_type": "code",
   "execution_count": 91,
   "metadata": {
    "ExecuteTime": {
     "end_time": "2021-02-27T18:19:16.149277Z",
     "start_time": "2021-02-27T18:19:16.143584Z"
    }
   },
   "outputs": [
    {
     "name": "stdout",
     "output_type": "stream",
     "text": [
      "There are 782 Houses with the number of floors grater than 2\n"
     ]
    }
   ],
   "source": [
    "# Estratégia:\n",
    "# 1. Selecionar imóveis com a coluna 'floors' maior que 2.\n",
    "# 2. Contar o número de imóveis nesse novo conjunto de dados.\n",
    "\n",
    "houses = data.loc[data['floors'] > 2, 'id'].shape[0]\n",
    "\n",
    "print( 'There are {} Houses with the number of floors grater than 2'.format( houses ) )"
   ]
  },
  {
   "cell_type": "markdown",
   "metadata": {},
   "source": [
    "## 13. Quantas casas tem vista para o mar?"
   ]
  },
  {
   "cell_type": "code",
   "execution_count": 95,
   "metadata": {
    "ExecuteTime": {
     "end_time": "2021-02-27T18:19:43.496510Z",
     "start_time": "2021-02-27T18:19:43.490114Z"
    }
   },
   "outputs": [
    {
     "name": "stdout",
     "output_type": "stream",
     "text": [
      "There are 10680 Houses with the number of floors grater than 2\n"
     ]
    }
   ],
   "source": [
    "# Estratégia:\n",
    "# 1. Selecionar imóveis com a coluna 'waterfront' igual a 1.\n",
    "# 2. Contar o número de imóveis nesse novo conjunto de dados.\n",
    "\n",
    "houses = data.loc[data['floors'] == 1, 'id'].shape[0]\n",
    "\n",
    "print( 'There are {} Houses with the number of floors grater than 2'.format( houses ) )"
   ]
  },
  {
   "cell_type": "markdown",
   "metadata": {},
   "source": [
    "## 14. Das casas com vista para o mar, quantas tem 3 quartos?"
   ]
  },
  {
   "cell_type": "code",
   "execution_count": 97,
   "metadata": {
    "ExecuteTime": {
     "end_time": "2021-02-27T18:21:29.535697Z",
     "start_time": "2021-02-27T18:21:29.530323Z"
    }
   },
   "outputs": [
    {
     "name": "stdout",
     "output_type": "stream",
     "text": [
      "There are 127 Houses with waterfront and bedrooms greater then 3\n"
     ]
    }
   ],
   "source": [
    "# Estratégia:\n",
    "# 1. Selecionar imóveis com a coluna 'waterfront' igual a 1 e a coluna 'bedrooms' maior que 3.\n",
    "# 2. Contar o número de imóveis nesse novo conjunto de dados.\n",
    "\n",
    "houses = data.loc[(data['waterfront'] == 1) & (data['bedrooms'] > 2), 'id'].shape[0]\n",
    "\n",
    "print( 'There are {} Houses with waterfront and bedrooms greater then 3'.format( houses ) )"
   ]
  },
  {
   "cell_type": "markdown",
   "metadata": {},
   "source": [
    "## 15. Das casas com mais de 300 metros quadrados de sala de estar, quantas tem mais de 2 banheiros?"
   ]
  },
  {
   "cell_type": "code",
   "execution_count": 99,
   "metadata": {
    "ExecuteTime": {
     "end_time": "2021-02-27T18:23:30.622749Z",
     "start_time": "2021-02-27T18:23:30.615882Z"
    }
   },
   "outputs": [
    {
     "name": "stdout",
     "output_type": "stream",
     "text": [
      "There are 11242 Houses with living room greater than 300 and bathrooms bigger than 2\n"
     ]
    }
   ],
   "source": [
    "# Estratégia:\n",
    "# 1. Selecionar imóveis com a coluna 'sqft_living' maior que 300 e a coluna 'bathrooms' maior que 2.\n",
    "# 2. Contar o número de imóveis nesse novo conjunto de dados.\n",
    "\n",
    "houses = data.loc[(data['sqft_living'] > 300) & (data['bathrooms'] > 2), 'id'].shape[0]\n",
    "\n",
    "print( 'There are {} Houses with living room greater than 300 and bathrooms bigger than 2'.format( houses ) )"
   ]
  },
  {
   "cell_type": "code",
   "execution_count": null,
   "metadata": {},
   "outputs": [],
   "source": []
  }
 ],
 "metadata": {
  "kernelspec": {
   "display_name": "Python 3",
   "language": "python",
   "name": "python3"
  },
  "language_info": {
   "codemirror_mode": {
    "name": "ipython",
    "version": 3
   },
   "file_extension": ".py",
   "mimetype": "text/x-python",
   "name": "python",
   "nbconvert_exporter": "python",
   "pygments_lexer": "ipython3",
   "version": "3.9.2"
  }
 },
 "nbformat": 4,
 "nbformat_minor": 4
}
