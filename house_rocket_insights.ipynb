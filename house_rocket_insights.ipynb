{
 "cells": [
  {
   "cell_type": "markdown",
   "metadata": {
    "heading_collapsed": true
   },
   "source": [
    "# IMPORTS AND HELPER FUNCTIONS"
   ]
  },
  {
   "cell_type": "code",
   "execution_count": 1,
   "metadata": {
    "hidden": true
   },
   "outputs": [],
   "source": [
    "import numpy          as np\n",
    "import pandas         as pd\n",
    "import plotly.express as px\n",
    "import scipy.stats    as ss\n",
    "import seaborn        as sns\n",
    "import warnings\n",
    "\n",
    "from IPython.display       import Image\n",
    "from IPython.core.display  import HTML\n",
    "from matplotlib            import pyplot as plt"
   ]
  },
  {
   "cell_type": "markdown",
   "metadata": {
    "heading_collapsed": true,
    "hidden": true
   },
   "source": [
    "## Helper Functions"
   ]
  },
  {
   "cell_type": "code",
   "execution_count": 2,
   "metadata": {
    "hidden": true
   },
   "outputs": [
    {
     "name": "stdout",
     "output_type": "stream",
     "text": [
      "Populating the interactive namespace from numpy and matplotlib\n"
     ]
    },
    {
     "data": {
      "text/html": [
       "<style>.container { width:100% !important; }</style>"
      ],
      "text/plain": [
       "<IPython.core.display.HTML object>"
      ]
     },
     "metadata": {},
     "output_type": "display_data"
    }
   ],
   "source": [
    "# supress scientific notation\n",
    "pd.options.display.float_format = '{:.2f}'.format\n",
    "\n",
    "# graph options\n",
    "def jupyter_settings():\n",
    "    %matplotlib inline\n",
    "    %pylab inline\n",
    "    \n",
    "    plt.style.use( 'bmh' )\n",
    "    plt.rcParams['figure.figsize'] = [11, 7]\n",
    "    plt.rcParams['font.size'] = 24\n",
    "    \n",
    "    display( HTML( '<style>.container { width:100% !important; }</style>') )\n",
    "    pd.options.display.max_columns = None\n",
    "    pd.options.display.max_rows = None\n",
    "    pd.set_option( 'display.expand_frame_repr', False )\n",
    "    \n",
    "    sns.set()\n",
    "    \n",
    "jupyter_settings()\n",
    "\n",
    "warnings.filterwarnings('ignore')\n",
    "np.set_printoptions(suppress=True)"
   ]
  },
  {
   "cell_type": "markdown",
   "metadata": {
    "hidden": true
   },
   "source": [
    "## 0.2. Loading Data"
   ]
  },
  {
   "cell_type": "code",
   "execution_count": 3,
   "metadata": {
    "hidden": true
   },
   "outputs": [],
   "source": [
    "# loading data into memory\n",
    "data_raw = pd.read_csv('datasets/kc_house_data.csv')"
   ]
  },
  {
   "cell_type": "markdown",
   "metadata": {},
   "source": [
    "# DATA DESCRIPTION"
   ]
  },
  {
   "cell_type": "code",
   "execution_count": 4,
   "metadata": {},
   "outputs": [],
   "source": [
    "df1 = data_raw.copy()"
   ]
  },
  {
   "cell_type": "markdown",
   "metadata": {
    "heading_collapsed": true
   },
   "source": [
    "## Rename Columns"
   ]
  },
  {
   "cell_type": "code",
   "execution_count": 5,
   "metadata": {
    "hidden": true
   },
   "outputs": [
    {
     "data": {
      "text/plain": [
       "Index(['id', 'date', 'buying_price', 'bedrooms', 'bathrooms', 'sqft_living',\n",
       "       'sqft_lot', 'floors', 'waterfront', 'view', 'condition', 'grade',\n",
       "       'sqft_above', 'sqft_basement', 'yr_built', 'yr_renovated', 'zipcode',\n",
       "       'lat', 'long', 'sqft_living15', 'sqft_lot15'],\n",
       "      dtype='object')"
      ]
     },
     "execution_count": 5,
     "metadata": {},
     "output_type": "execute_result"
    }
   ],
   "source": [
    "df1 = df1.rename( columns={ \"price\": \"buying_price\" } )\n",
    "\n",
    "df1.columns"
   ]
  },
  {
   "cell_type": "markdown",
   "metadata": {
    "hidden": true
   },
   "source": [
    "Assuming that the description of the above features are as follows:\n",
    "\n",
    "id - Unique ID for each home sold\n",
    "\n",
    "date - Date of the home sale\n",
    "\n",
    "price - Price of each home sold\n",
    "\n",
    "bedrooms - Number of bedrooms\n",
    "\n",
    "bathrooms - Number of bathrooms, where .5 accounts for a room with a toilet but no shower\n",
    "\n",
    "sqft_living - Square footage of the apartments interior living space\n",
    "\n",
    "sqft_lot - Square footage of the land space\n",
    "\n",
    "floors - Number of floors\n",
    "\n",
    "waterfront - A variable for whether the apartment was overlooking the waterfront or not\n",
    "\n",
    "view - An index from 0 to 4 of how good the view of the property was\n",
    "\n",
    "condition - An index from 1 to 5 on the condition of the apartment\n",
    "\n",
    "grade - An index from 1 to 13, where 1-3 falls short of building construction and design, 7 has an average level of construction and design, and 11-13 have a high quality level of construction and design.\n",
    "\n",
    "sqft_above - The square footage of the interior housing space that is above ground level\n",
    "\n",
    "sqft_basement - The square footage of the interior housing space that is below ground level\n",
    "\n",
    "yr_built - The year the house was initially built\n",
    "\n",
    "yr_renovated - The year of the house’s last renovation\n",
    "\n",
    "zipcode - What zipcode area the house is in\n",
    "\n",
    "lat - Lattitude\n",
    "\n",
    "long - Longitude\n",
    "\n",
    "sqft_living15 - The square footage of interior housing living space for the nearest 15 neighbors\n",
    "\n",
    "sqft_lot15 - The square footage of the land lots of the nearest 15 neighbors \n",
    "\n",
    "Source: https://rstudio-pubs-static.s3.amazonaws.com/155304_cc51f448116744069664b35e7762999f.html"
   ]
  },
  {
   "cell_type": "markdown",
   "metadata": {
    "heading_collapsed": true
   },
   "source": [
    "## Data Dimensions"
   ]
  },
  {
   "cell_type": "code",
   "execution_count": 6,
   "metadata": {
    "hidden": true
   },
   "outputs": [
    {
     "name": "stdout",
     "output_type": "stream",
     "text": [
      "The dataset has 21613 rows and 21 columns.\n"
     ]
    }
   ],
   "source": [
    "print( 'The dataset has {} rows and {} columns.'.format( df1.shape[0], df1.shape[1] ) )"
   ]
  },
  {
   "cell_type": "markdown",
   "metadata": {
    "heading_collapsed": true
   },
   "source": [
    "## Data Types"
   ]
  },
  {
   "cell_type": "code",
   "execution_count": 7,
   "metadata": {
    "hidden": true
   },
   "outputs": [
    {
     "data": {
      "text/plain": [
       "id                 int64\n",
       "date              object\n",
       "buying_price     float64\n",
       "bedrooms           int64\n",
       "bathrooms        float64\n",
       "sqft_living        int64\n",
       "sqft_lot           int64\n",
       "floors           float64\n",
       "waterfront         int64\n",
       "view               int64\n",
       "condition          int64\n",
       "grade              int64\n",
       "sqft_above         int64\n",
       "sqft_basement      int64\n",
       "yr_built           int64\n",
       "yr_renovated       int64\n",
       "zipcode            int64\n",
       "lat              float64\n",
       "long             float64\n",
       "sqft_living15      int64\n",
       "sqft_lot15         int64\n",
       "dtype: object"
      ]
     },
     "execution_count": 7,
     "metadata": {},
     "output_type": "execute_result"
    }
   ],
   "source": [
    "df1.dtypes"
   ]
  },
  {
   "cell_type": "code",
   "execution_count": 8,
   "metadata": {
    "hidden": true
   },
   "outputs": [],
   "source": [
    "# converting data from object do datetime\n",
    "df1['date'] = pd.to_datetime( df1['date'], format='%Y-%m-%d' )"
   ]
  },
  {
   "cell_type": "code",
   "execution_count": 9,
   "metadata": {
    "hidden": true
   },
   "outputs": [
    {
     "data": {
      "text/plain": [
       "id                        int64\n",
       "date             datetime64[ns]\n",
       "buying_price            float64\n",
       "bedrooms                  int64\n",
       "bathrooms               float64\n",
       "sqft_living               int64\n",
       "sqft_lot                  int64\n",
       "floors                  float64\n",
       "waterfront                int64\n",
       "view                      int64\n",
       "condition                 int64\n",
       "grade                     int64\n",
       "sqft_above                int64\n",
       "sqft_basement             int64\n",
       "yr_built                  int64\n",
       "yr_renovated              int64\n",
       "zipcode                   int64\n",
       "lat                     float64\n",
       "long                    float64\n",
       "sqft_living15             int64\n",
       "sqft_lot15                int64\n",
       "dtype: object"
      ]
     },
     "execution_count": 9,
     "metadata": {},
     "output_type": "execute_result"
    }
   ],
   "source": [
    "df1.dtypes"
   ]
  },
  {
   "cell_type": "markdown",
   "metadata": {
    "heading_collapsed": true
   },
   "source": [
    "## Check NA"
   ]
  },
  {
   "cell_type": "code",
   "execution_count": 10,
   "metadata": {
    "hidden": true
   },
   "outputs": [
    {
     "data": {
      "text/plain": [
       "id               0\n",
       "date             0\n",
       "buying_price     0\n",
       "bedrooms         0\n",
       "bathrooms        0\n",
       "sqft_living      0\n",
       "sqft_lot         0\n",
       "floors           0\n",
       "waterfront       0\n",
       "view             0\n",
       "condition        0\n",
       "grade            0\n",
       "sqft_above       0\n",
       "sqft_basement    0\n",
       "yr_built         0\n",
       "yr_renovated     0\n",
       "zipcode          0\n",
       "lat              0\n",
       "long             0\n",
       "sqft_living15    0\n",
       "sqft_lot15       0\n",
       "dtype: int64"
      ]
     },
     "execution_count": 10,
     "metadata": {},
     "output_type": "execute_result"
    }
   ],
   "source": [
    "# show the sum of empty rows \n",
    "df1.isna().sum()"
   ]
  },
  {
   "cell_type": "markdown",
   "metadata": {},
   "source": [
    "## Fillout NA"
   ]
  },
  {
   "cell_type": "markdown",
   "metadata": {},
   "source": [
    "This step is not necessary as we have no empty data."
   ]
  },
  {
   "cell_type": "markdown",
   "metadata": {},
   "source": [
    "## Change Types"
   ]
  },
  {
   "cell_type": "markdown",
   "metadata": {},
   "source": [
    "This step is not necessary as we haven't altered the data in step 2.5."
   ]
  },
  {
   "cell_type": "markdown",
   "metadata": {
    "heading_collapsed": true
   },
   "source": [
    "## Check Duplicates"
   ]
  },
  {
   "cell_type": "code",
   "execution_count": 11,
   "metadata": {
    "hidden": true
   },
   "outputs": [
    {
     "name": "stdout",
     "output_type": "stream",
     "text": [
      "21613 number of rows\n",
      "21436 uniques ids\n",
      "177 number of duplicated ids\n"
     ]
    }
   ],
   "source": [
    "print(df1.shape[0], 'number of rows')\n",
    "print(df1['id'].unique().shape[0], 'uniques ids')\n",
    "print(df1.shape[0] - df1['id'].unique().shape[0], 'number of duplicated ids' )"
   ]
  },
  {
   "cell_type": "code",
   "execution_count": 12,
   "metadata": {
    "hidden": true
   },
   "outputs": [],
   "source": [
    "# Removing duplicate houses from the dataset\n",
    "\n",
    "# sorting by date\n",
    "df1 = df1.sort_values( 'date', ascending=True )\n",
    "\n",
    "# keep last ids (more recent ones)\n",
    "df1 = df1.drop_duplicates( subset='id', keep='last' )"
   ]
  },
  {
   "cell_type": "code",
   "execution_count": 13,
   "metadata": {
    "hidden": true
   },
   "outputs": [
    {
     "name": "stdout",
     "output_type": "stream",
     "text": [
      "The dataset now has 21436 rows and 21 columns.\n"
     ]
    }
   ],
   "source": [
    "print( 'The dataset now has {} rows and {} columns.'.format( df1.shape[0], df1.shape[1] ) )"
   ]
  },
  {
   "cell_type": "markdown",
   "metadata": {
    "heading_collapsed": true
   },
   "source": [
    "## Descriptive Statistics"
   ]
  },
  {
   "cell_type": "markdown",
   "metadata": {
    "heading_collapsed": true,
    "hidden": true
   },
   "source": [
    "### Numerical Attributes"
   ]
  },
  {
   "cell_type": "code",
   "execution_count": 14,
   "metadata": {
    "hidden": true
   },
   "outputs": [],
   "source": [
    "num_attributes = df1.select_dtypes( include=['int64','float64'] )\n",
    "\n",
    "# removing ID column\n",
    "num_attributes = num_attributes.drop('id', axis=1 )"
   ]
  },
  {
   "cell_type": "code",
   "execution_count": 15,
   "metadata": {
    "hidden": true
   },
   "outputs": [
    {
     "data": {
      "text/html": [
       "<div>\n",
       "<style scoped>\n",
       "    .dataframe tbody tr th:only-of-type {\n",
       "        vertical-align: middle;\n",
       "    }\n",
       "\n",
       "    .dataframe tbody tr th {\n",
       "        vertical-align: top;\n",
       "    }\n",
       "\n",
       "    .dataframe thead th {\n",
       "        text-align: right;\n",
       "    }\n",
       "</style>\n",
       "<table border=\"1\" class=\"dataframe\">\n",
       "  <thead>\n",
       "    <tr style=\"text-align: right;\">\n",
       "      <th></th>\n",
       "      <th>buying_price</th>\n",
       "      <th>bedrooms</th>\n",
       "      <th>bathrooms</th>\n",
       "      <th>sqft_living</th>\n",
       "      <th>sqft_lot</th>\n",
       "      <th>floors</th>\n",
       "      <th>waterfront</th>\n",
       "      <th>view</th>\n",
       "      <th>condition</th>\n",
       "      <th>grade</th>\n",
       "      <th>sqft_above</th>\n",
       "      <th>sqft_basement</th>\n",
       "      <th>yr_built</th>\n",
       "      <th>yr_renovated</th>\n",
       "      <th>zipcode</th>\n",
       "      <th>lat</th>\n",
       "      <th>long</th>\n",
       "      <th>sqft_living15</th>\n",
       "      <th>sqft_lot15</th>\n",
       "    </tr>\n",
       "  </thead>\n",
       "  <tbody>\n",
       "    <tr>\n",
       "      <th>16768</th>\n",
       "      <td>437500.00</td>\n",
       "      <td>3</td>\n",
       "      <td>2.25</td>\n",
       "      <td>1970</td>\n",
       "      <td>35100</td>\n",
       "      <td>2.00</td>\n",
       "      <td>0</td>\n",
       "      <td>0</td>\n",
       "      <td>4</td>\n",
       "      <td>9</td>\n",
       "      <td>1970</td>\n",
       "      <td>0</td>\n",
       "      <td>1977</td>\n",
       "      <td>0</td>\n",
       "      <td>98027</td>\n",
       "      <td>47.46</td>\n",
       "      <td>-121.99</td>\n",
       "      <td>2340</td>\n",
       "      <td>35100</td>\n",
       "    </tr>\n",
       "    <tr>\n",
       "      <th>9596</th>\n",
       "      <td>790000.00</td>\n",
       "      <td>3</td>\n",
       "      <td>2.50</td>\n",
       "      <td>2600</td>\n",
       "      <td>4750</td>\n",
       "      <td>1.00</td>\n",
       "      <td>0</td>\n",
       "      <td>0</td>\n",
       "      <td>4</td>\n",
       "      <td>9</td>\n",
       "      <td>1700</td>\n",
       "      <td>900</td>\n",
       "      <td>1951</td>\n",
       "      <td>0</td>\n",
       "      <td>98117</td>\n",
       "      <td>47.68</td>\n",
       "      <td>-122.40</td>\n",
       "      <td>2380</td>\n",
       "      <td>4750</td>\n",
       "    </tr>\n",
       "    <tr>\n",
       "      <th>9587</th>\n",
       "      <td>675000.00</td>\n",
       "      <td>5</td>\n",
       "      <td>2.50</td>\n",
       "      <td>2820</td>\n",
       "      <td>67518</td>\n",
       "      <td>2.00</td>\n",
       "      <td>0</td>\n",
       "      <td>0</td>\n",
       "      <td>3</td>\n",
       "      <td>8</td>\n",
       "      <td>2820</td>\n",
       "      <td>0</td>\n",
       "      <td>1979</td>\n",
       "      <td>0</td>\n",
       "      <td>98029</td>\n",
       "      <td>47.58</td>\n",
       "      <td>-122.03</td>\n",
       "      <td>2820</td>\n",
       "      <td>48351</td>\n",
       "    </tr>\n",
       "    <tr>\n",
       "      <th>20602</th>\n",
       "      <td>555000.00</td>\n",
       "      <td>4</td>\n",
       "      <td>2.50</td>\n",
       "      <td>3310</td>\n",
       "      <td>6500</td>\n",
       "      <td>2.00</td>\n",
       "      <td>0</td>\n",
       "      <td>0</td>\n",
       "      <td>3</td>\n",
       "      <td>8</td>\n",
       "      <td>3310</td>\n",
       "      <td>0</td>\n",
       "      <td>2012</td>\n",
       "      <td>0</td>\n",
       "      <td>98065</td>\n",
       "      <td>47.52</td>\n",
       "      <td>-121.87</td>\n",
       "      <td>2380</td>\n",
       "      <td>5000</td>\n",
       "    </tr>\n",
       "    <tr>\n",
       "      <th>11577</th>\n",
       "      <td>440000.00</td>\n",
       "      <td>4</td>\n",
       "      <td>2.25</td>\n",
       "      <td>2160</td>\n",
       "      <td>8119</td>\n",
       "      <td>1.00</td>\n",
       "      <td>0</td>\n",
       "      <td>0</td>\n",
       "      <td>3</td>\n",
       "      <td>8</td>\n",
       "      <td>1080</td>\n",
       "      <td>1080</td>\n",
       "      <td>1966</td>\n",
       "      <td>0</td>\n",
       "      <td>98006</td>\n",
       "      <td>47.54</td>\n",
       "      <td>-122.18</td>\n",
       "      <td>1850</td>\n",
       "      <td>9000</td>\n",
       "    </tr>\n",
       "  </tbody>\n",
       "</table>\n",
       "</div>"
      ],
      "text/plain": [
       "       buying_price  bedrooms  bathrooms  sqft_living  sqft_lot  floors  waterfront  view  condition  grade  sqft_above  sqft_basement  yr_built  yr_renovated  zipcode   lat    long  sqft_living15  sqft_lot15\n",
       "16768     437500.00         3       2.25         1970     35100    2.00           0     0          4      9        1970              0      1977             0    98027 47.46 -121.99           2340       35100\n",
       "9596      790000.00         3       2.50         2600      4750    1.00           0     0          4      9        1700            900      1951             0    98117 47.68 -122.40           2380        4750\n",
       "9587      675000.00         5       2.50         2820     67518    2.00           0     0          3      8        2820              0      1979             0    98029 47.58 -122.03           2820       48351\n",
       "20602     555000.00         4       2.50         3310      6500    2.00           0     0          3      8        3310              0      2012             0    98065 47.52 -121.87           2380        5000\n",
       "11577     440000.00         4       2.25         2160      8119    1.00           0     0          3      8        1080           1080      1966             0    98006 47.54 -122.18           1850        9000"
      ]
     },
     "execution_count": 15,
     "metadata": {},
     "output_type": "execute_result"
    }
   ],
   "source": [
    "num_attributes.head()"
   ]
  },
  {
   "cell_type": "code",
   "execution_count": 16,
   "metadata": {
    "hidden": true
   },
   "outputs": [
    {
     "data": {
      "text/html": [
       "<div>\n",
       "<style scoped>\n",
       "    .dataframe tbody tr th:only-of-type {\n",
       "        vertical-align: middle;\n",
       "    }\n",
       "\n",
       "    .dataframe tbody tr th {\n",
       "        vertical-align: top;\n",
       "    }\n",
       "\n",
       "    .dataframe thead th {\n",
       "        text-align: right;\n",
       "    }\n",
       "</style>\n",
       "<table border=\"1\" class=\"dataframe\">\n",
       "  <thead>\n",
       "    <tr style=\"text-align: right;\">\n",
       "      <th></th>\n",
       "      <th>attributes</th>\n",
       "      <th>min</th>\n",
       "      <th>max</th>\n",
       "      <th>range</th>\n",
       "      <th>mean</th>\n",
       "      <th>median</th>\n",
       "      <th>std</th>\n",
       "      <th>skew</th>\n",
       "      <th>kurtosis</th>\n",
       "    </tr>\n",
       "  </thead>\n",
       "  <tbody>\n",
       "    <tr>\n",
       "      <th>0</th>\n",
       "      <td>buying_price</td>\n",
       "      <td>75000.00</td>\n",
       "      <td>7700000.00</td>\n",
       "      <td>7625000.00</td>\n",
       "      <td>541649.96</td>\n",
       "      <td>450000.00</td>\n",
       "      <td>367306.36</td>\n",
       "      <td>4.04</td>\n",
       "      <td>34.73</td>\n",
       "    </tr>\n",
       "    <tr>\n",
       "      <th>1</th>\n",
       "      <td>bedrooms</td>\n",
       "      <td>0.00</td>\n",
       "      <td>33.00</td>\n",
       "      <td>33.00</td>\n",
       "      <td>3.37</td>\n",
       "      <td>3.00</td>\n",
       "      <td>0.93</td>\n",
       "      <td>1.99</td>\n",
       "      <td>49.64</td>\n",
       "    </tr>\n",
       "    <tr>\n",
       "      <th>2</th>\n",
       "      <td>bathrooms</td>\n",
       "      <td>0.00</td>\n",
       "      <td>8.00</td>\n",
       "      <td>8.00</td>\n",
       "      <td>2.12</td>\n",
       "      <td>2.25</td>\n",
       "      <td>0.77</td>\n",
       "      <td>0.51</td>\n",
       "      <td>1.29</td>\n",
       "    </tr>\n",
       "    <tr>\n",
       "      <th>3</th>\n",
       "      <td>sqft_living</td>\n",
       "      <td>290.00</td>\n",
       "      <td>13540.00</td>\n",
       "      <td>13250.00</td>\n",
       "      <td>2082.70</td>\n",
       "      <td>1920.00</td>\n",
       "      <td>919.13</td>\n",
       "      <td>1.47</td>\n",
       "      <td>5.25</td>\n",
       "    </tr>\n",
       "    <tr>\n",
       "      <th>4</th>\n",
       "      <td>sqft_lot</td>\n",
       "      <td>520.00</td>\n",
       "      <td>1651359.00</td>\n",
       "      <td>1650839.00</td>\n",
       "      <td>15135.64</td>\n",
       "      <td>7614.00</td>\n",
       "      <td>41537.65</td>\n",
       "      <td>13.04</td>\n",
       "      <td>284.08</td>\n",
       "    </tr>\n",
       "    <tr>\n",
       "      <th>5</th>\n",
       "      <td>floors</td>\n",
       "      <td>1.00</td>\n",
       "      <td>3.50</td>\n",
       "      <td>2.50</td>\n",
       "      <td>1.50</td>\n",
       "      <td>1.50</td>\n",
       "      <td>0.54</td>\n",
       "      <td>0.61</td>\n",
       "      <td>-0.49</td>\n",
       "    </tr>\n",
       "    <tr>\n",
       "      <th>6</th>\n",
       "      <td>waterfront</td>\n",
       "      <td>0.00</td>\n",
       "      <td>1.00</td>\n",
       "      <td>1.00</td>\n",
       "      <td>0.01</td>\n",
       "      <td>0.00</td>\n",
       "      <td>0.09</td>\n",
       "      <td>11.34</td>\n",
       "      <td>126.55</td>\n",
       "    </tr>\n",
       "    <tr>\n",
       "      <th>7</th>\n",
       "      <td>view</td>\n",
       "      <td>0.00</td>\n",
       "      <td>4.00</td>\n",
       "      <td>4.00</td>\n",
       "      <td>0.24</td>\n",
       "      <td>0.00</td>\n",
       "      <td>0.77</td>\n",
       "      <td>3.39</td>\n",
       "      <td>10.83</td>\n",
       "    </tr>\n",
       "    <tr>\n",
       "      <th>8</th>\n",
       "      <td>condition</td>\n",
       "      <td>1.00</td>\n",
       "      <td>5.00</td>\n",
       "      <td>4.00</td>\n",
       "      <td>3.41</td>\n",
       "      <td>3.00</td>\n",
       "      <td>0.65</td>\n",
       "      <td>1.04</td>\n",
       "      <td>0.52</td>\n",
       "    </tr>\n",
       "    <tr>\n",
       "      <th>9</th>\n",
       "      <td>grade</td>\n",
       "      <td>1.00</td>\n",
       "      <td>13.00</td>\n",
       "      <td>12.00</td>\n",
       "      <td>7.66</td>\n",
       "      <td>7.00</td>\n",
       "      <td>1.17</td>\n",
       "      <td>0.77</td>\n",
       "      <td>1.19</td>\n",
       "    </tr>\n",
       "    <tr>\n",
       "      <th>10</th>\n",
       "      <td>sqft_above</td>\n",
       "      <td>290.00</td>\n",
       "      <td>9410.00</td>\n",
       "      <td>9120.00</td>\n",
       "      <td>1790.96</td>\n",
       "      <td>1560.00</td>\n",
       "      <td>829.01</td>\n",
       "      <td>1.44</td>\n",
       "      <td>3.40</td>\n",
       "    </tr>\n",
       "    <tr>\n",
       "      <th>11</th>\n",
       "      <td>sqft_basement</td>\n",
       "      <td>0.00</td>\n",
       "      <td>4820.00</td>\n",
       "      <td>4820.00</td>\n",
       "      <td>291.74</td>\n",
       "      <td>0.00</td>\n",
       "      <td>442.77</td>\n",
       "      <td>1.58</td>\n",
       "      <td>2.71</td>\n",
       "    </tr>\n",
       "    <tr>\n",
       "      <th>12</th>\n",
       "      <td>yr_built</td>\n",
       "      <td>1900.00</td>\n",
       "      <td>2015.00</td>\n",
       "      <td>115.00</td>\n",
       "      <td>1971.10</td>\n",
       "      <td>1975.00</td>\n",
       "      <td>29.38</td>\n",
       "      <td>-0.47</td>\n",
       "      <td>-0.65</td>\n",
       "    </tr>\n",
       "    <tr>\n",
       "      <th>13</th>\n",
       "      <td>yr_renovated</td>\n",
       "      <td>0.00</td>\n",
       "      <td>2015.00</td>\n",
       "      <td>2015.00</td>\n",
       "      <td>84.73</td>\n",
       "      <td>0.00</td>\n",
       "      <td>402.42</td>\n",
       "      <td>4.54</td>\n",
       "      <td>18.61</td>\n",
       "    </tr>\n",
       "    <tr>\n",
       "      <th>14</th>\n",
       "      <td>zipcode</td>\n",
       "      <td>98001.00</td>\n",
       "      <td>98199.00</td>\n",
       "      <td>198.00</td>\n",
       "      <td>98077.86</td>\n",
       "      <td>98065.00</td>\n",
       "      <td>53.47</td>\n",
       "      <td>0.41</td>\n",
       "      <td>-0.85</td>\n",
       "    </tr>\n",
       "    <tr>\n",
       "      <th>15</th>\n",
       "      <td>lat</td>\n",
       "      <td>47.16</td>\n",
       "      <td>47.78</td>\n",
       "      <td>0.62</td>\n",
       "      <td>47.56</td>\n",
       "      <td>47.57</td>\n",
       "      <td>0.14</td>\n",
       "      <td>-0.49</td>\n",
       "      <td>-0.67</td>\n",
       "    </tr>\n",
       "    <tr>\n",
       "      <th>16</th>\n",
       "      <td>long</td>\n",
       "      <td>-122.52</td>\n",
       "      <td>-121.31</td>\n",
       "      <td>1.20</td>\n",
       "      <td>-122.21</td>\n",
       "      <td>-122.23</td>\n",
       "      <td>0.14</td>\n",
       "      <td>0.88</td>\n",
       "      <td>1.05</td>\n",
       "    </tr>\n",
       "    <tr>\n",
       "      <th>17</th>\n",
       "      <td>sqft_living15</td>\n",
       "      <td>399.00</td>\n",
       "      <td>6210.00</td>\n",
       "      <td>5811.00</td>\n",
       "      <td>1988.31</td>\n",
       "      <td>1840.00</td>\n",
       "      <td>685.68</td>\n",
       "      <td>1.11</td>\n",
       "      <td>1.59</td>\n",
       "    </tr>\n",
       "    <tr>\n",
       "      <th>18</th>\n",
       "      <td>sqft_lot15</td>\n",
       "      <td>651.00</td>\n",
       "      <td>871200.00</td>\n",
       "      <td>870549.00</td>\n",
       "      <td>12785.96</td>\n",
       "      <td>7620.00</td>\n",
       "      <td>27374.83</td>\n",
       "      <td>9.50</td>\n",
       "      <td>150.32</td>\n",
       "    </tr>\n",
       "  </tbody>\n",
       "</table>\n",
       "</div>"
      ],
      "text/plain": [
       "       attributes      min        max      range      mean    median       std  skew  kurtosis\n",
       "0    buying_price 75000.00 7700000.00 7625000.00 541649.96 450000.00 367306.36  4.04     34.73\n",
       "1        bedrooms     0.00      33.00      33.00      3.37      3.00      0.93  1.99     49.64\n",
       "2       bathrooms     0.00       8.00       8.00      2.12      2.25      0.77  0.51      1.29\n",
       "3     sqft_living   290.00   13540.00   13250.00   2082.70   1920.00    919.13  1.47      5.25\n",
       "4        sqft_lot   520.00 1651359.00 1650839.00  15135.64   7614.00  41537.65 13.04    284.08\n",
       "5          floors     1.00       3.50       2.50      1.50      1.50      0.54  0.61     -0.49\n",
       "6      waterfront     0.00       1.00       1.00      0.01      0.00      0.09 11.34    126.55\n",
       "7            view     0.00       4.00       4.00      0.24      0.00      0.77  3.39     10.83\n",
       "8       condition     1.00       5.00       4.00      3.41      3.00      0.65  1.04      0.52\n",
       "9           grade     1.00      13.00      12.00      7.66      7.00      1.17  0.77      1.19\n",
       "10     sqft_above   290.00    9410.00    9120.00   1790.96   1560.00    829.01  1.44      3.40\n",
       "11  sqft_basement     0.00    4820.00    4820.00    291.74      0.00    442.77  1.58      2.71\n",
       "12       yr_built  1900.00    2015.00     115.00   1971.10   1975.00     29.38 -0.47     -0.65\n",
       "13   yr_renovated     0.00    2015.00    2015.00     84.73      0.00    402.42  4.54     18.61\n",
       "14        zipcode 98001.00   98199.00     198.00  98077.86  98065.00     53.47  0.41     -0.85\n",
       "15            lat    47.16      47.78       0.62     47.56     47.57      0.14 -0.49     -0.67\n",
       "16           long  -122.52    -121.31       1.20   -122.21   -122.23      0.14  0.88      1.05\n",
       "17  sqft_living15   399.00    6210.00    5811.00   1988.31   1840.00    685.68  1.11      1.59\n",
       "18     sqft_lot15   651.00  871200.00  870549.00  12785.96   7620.00  27374.83  9.50    150.32"
      ]
     },
     "execution_count": 16,
     "metadata": {},
     "output_type": "execute_result"
    }
   ],
   "source": [
    "# central tendency\n",
    "mean = pd.DataFrame( num_attributes.apply( np.mean ) ).T\n",
    "median = pd.DataFrame( num_attributes.apply( np.median ) ).T\n",
    "\n",
    "# dispersion\n",
    "std = pd.DataFrame( num_attributes.apply( np.std )).T\n",
    "min_ = pd.DataFrame( num_attributes.apply( min )).T\n",
    "max_ = pd.DataFrame( num_attributes.apply( max )).T\n",
    "range_ = pd.DataFrame( num_attributes.apply( lambda x: x.max() - x.min() )).T\n",
    "skew = pd.DataFrame( num_attributes.apply( lambda x: x.skew() )).T\n",
    "kurtosis = pd.DataFrame( num_attributes.apply( lambda x: x.kurtosis() )).T\n",
    "\n",
    "m = pd.concat( [min_,max_,range_,mean,median,std,skew,kurtosis] ).T.reset_index()\n",
    "\n",
    "# rename columns\n",
    "m.columns = ['attributes','min','max','range','mean','median','std','skew','kurtosis']\n",
    "m"
   ]
  },
  {
   "cell_type": "code",
   "execution_count": 17,
   "metadata": {
    "hidden": true
   },
   "outputs": [
    {
     "data": {
      "text/html": [
       "<div>\n",
       "<style scoped>\n",
       "    .dataframe tbody tr th:only-of-type {\n",
       "        vertical-align: middle;\n",
       "    }\n",
       "\n",
       "    .dataframe tbody tr th {\n",
       "        vertical-align: top;\n",
       "    }\n",
       "\n",
       "    .dataframe thead th {\n",
       "        text-align: right;\n",
       "    }\n",
       "</style>\n",
       "<table border=\"1\" class=\"dataframe\">\n",
       "  <thead>\n",
       "    <tr style=\"text-align: right;\">\n",
       "      <th></th>\n",
       "      <th>id</th>\n",
       "      <th>date</th>\n",
       "      <th>buying_price</th>\n",
       "      <th>bedrooms</th>\n",
       "      <th>bathrooms</th>\n",
       "      <th>sqft_living</th>\n",
       "      <th>sqft_lot</th>\n",
       "      <th>floors</th>\n",
       "      <th>waterfront</th>\n",
       "      <th>view</th>\n",
       "      <th>condition</th>\n",
       "      <th>grade</th>\n",
       "      <th>sqft_above</th>\n",
       "      <th>sqft_basement</th>\n",
       "      <th>yr_built</th>\n",
       "      <th>yr_renovated</th>\n",
       "      <th>zipcode</th>\n",
       "      <th>lat</th>\n",
       "      <th>long</th>\n",
       "      <th>sqft_living15</th>\n",
       "      <th>sqft_lot15</th>\n",
       "    </tr>\n",
       "  </thead>\n",
       "  <tbody>\n",
       "    <tr>\n",
       "      <th>15870</th>\n",
       "      <td>2402100895</td>\n",
       "      <td>2014-06-25</td>\n",
       "      <td>640000.00</td>\n",
       "      <td>33</td>\n",
       "      <td>1.75</td>\n",
       "      <td>1620</td>\n",
       "      <td>6000</td>\n",
       "      <td>1.00</td>\n",
       "      <td>0</td>\n",
       "      <td>0</td>\n",
       "      <td>5</td>\n",
       "      <td>7</td>\n",
       "      <td>1040</td>\n",
       "      <td>580</td>\n",
       "      <td>1947</td>\n",
       "      <td>0</td>\n",
       "      <td>98103</td>\n",
       "      <td>47.69</td>\n",
       "      <td>-122.33</td>\n",
       "      <td>1330</td>\n",
       "      <td>4700</td>\n",
       "    </tr>\n",
       "  </tbody>\n",
       "</table>\n",
       "</div>"
      ],
      "text/plain": [
       "               id       date  buying_price  bedrooms  bathrooms  sqft_living  sqft_lot  floors  waterfront  view  condition  grade  sqft_above  sqft_basement  yr_built  yr_renovated  zipcode   lat    long  sqft_living15  sqft_lot15\n",
       "15870  2402100895 2014-06-25     640000.00        33       1.75         1620      6000    1.00           0     0          5      7        1040            580      1947             0    98103 47.69 -122.33           1330        4700"
      ]
     },
     "execution_count": 17,
     "metadata": {},
     "output_type": "execute_result"
    }
   ],
   "source": [
    "# evaluating bedrooms == 33 \n",
    "\n",
    "aux = df1[df1['bedrooms'] == 33]\n",
    "aux\n",
    "\n",
    "# If this house had 33 bedrooms indeed, it would be expected (much) higher 'sqft_living' and 'sqft_lot'. Therefore, this house is deleted from the dataset."
   ]
  },
  {
   "cell_type": "code",
   "execution_count": 18,
   "metadata": {
    "hidden": true
   },
   "outputs": [],
   "source": [
    "df1 = df1.drop(15870)"
   ]
  },
  {
   "cell_type": "code",
   "execution_count": 19,
   "metadata": {
    "hidden": true
   },
   "outputs": [
    {
     "data": {
      "text/plain": [
       "array([ 3,  5,  4,  2,  7,  6,  9,  1,  8,  0, 10, 11], dtype=int64)"
      ]
     },
     "execution_count": 19,
     "metadata": {},
     "output_type": "execute_result"
    }
   ],
   "source": [
    "df1['bedrooms'].unique()"
   ]
  },
  {
   "cell_type": "markdown",
   "metadata": {},
   "source": [
    "# FEATURE ENGINEERING"
   ]
  },
  {
   "cell_type": "code",
   "execution_count": 20,
   "metadata": {},
   "outputs": [],
   "source": [
    "df2 = df1.copy()"
   ]
  },
  {
   "cell_type": "markdown",
   "metadata": {
    "heading_collapsed": true
   },
   "source": [
    "## Hypothesis List"
   ]
  },
  {
   "cell_type": "markdown",
   "metadata": {
    "hidden": true
   },
   "source": [
    "H1: Waterfront houses are 30% more expensive, on average.\n",
    "\n",
    "H2: Houses constructed before 1955 are 50% cheaper, on average.\n",
    "\n",
    "H3: Houses without a basement have a total area (sqrt_lot) that is 40% larger than properties with basements.\n",
    "\n",
    "H4: YoY (Year over Year) house price growth is 10%.\n",
    "\n",
    "H5: Houses with 3 bathrooms have a MoM (Month over Month) growth of 15%.\n",
    "\n",
    "H6: Houses with conditions above index 3 (inclusive) are about 40% more expensive, on average, than houses with conditions 1 and 2.\n",
    "\n",
    "H7: Houses with the highest level of construction and design quality (grade: 11-13) are 70% more expensive on average.\n",
    "\n",
    "H8: Unrenovated houses are 20% cheaper, on average, than houses that have been renovated at least once.\n",
    "\n",
    "H9: More than 50% of water view properties have more than 1 floor.\n",
    "\n",
    "H10: The larger the area of land, the higher the price of the house. "
   ]
  },
  {
   "cell_type": "markdown",
   "metadata": {
    "heading_collapsed": true
   },
   "source": [
    "## Feature Engineering"
   ]
  },
  {
   "cell_type": "code",
   "execution_count": 21,
   "metadata": {
    "hidden": true
   },
   "outputs": [
    {
     "data": {
      "text/html": [
       "<div>\n",
       "<style scoped>\n",
       "    .dataframe tbody tr th:only-of-type {\n",
       "        vertical-align: middle;\n",
       "    }\n",
       "\n",
       "    .dataframe tbody tr th {\n",
       "        vertical-align: top;\n",
       "    }\n",
       "\n",
       "    .dataframe thead th {\n",
       "        text-align: right;\n",
       "    }\n",
       "</style>\n",
       "<table border=\"1\" class=\"dataframe\">\n",
       "  <thead>\n",
       "    <tr style=\"text-align: right;\">\n",
       "      <th></th>\n",
       "      <th>16768</th>\n",
       "      <th>9596</th>\n",
       "      <th>9587</th>\n",
       "      <th>20602</th>\n",
       "      <th>11577</th>\n",
       "    </tr>\n",
       "  </thead>\n",
       "  <tbody>\n",
       "    <tr>\n",
       "      <th>id</th>\n",
       "      <td>5561000190</td>\n",
       "      <td>472000620</td>\n",
       "      <td>1024069009</td>\n",
       "      <td>7853361370</td>\n",
       "      <td>5056500260</td>\n",
       "    </tr>\n",
       "    <tr>\n",
       "      <th>date</th>\n",
       "      <td>2014-05-02 00:00:00</td>\n",
       "      <td>2014-05-02 00:00:00</td>\n",
       "      <td>2014-05-02 00:00:00</td>\n",
       "      <td>2014-05-02 00:00:00</td>\n",
       "      <td>2014-05-02 00:00:00</td>\n",
       "    </tr>\n",
       "    <tr>\n",
       "      <th>buying_price</th>\n",
       "      <td>437500.00</td>\n",
       "      <td>790000.00</td>\n",
       "      <td>675000.00</td>\n",
       "      <td>555000.00</td>\n",
       "      <td>440000.00</td>\n",
       "    </tr>\n",
       "    <tr>\n",
       "      <th>bedrooms</th>\n",
       "      <td>3</td>\n",
       "      <td>3</td>\n",
       "      <td>5</td>\n",
       "      <td>4</td>\n",
       "      <td>4</td>\n",
       "    </tr>\n",
       "    <tr>\n",
       "      <th>bathrooms</th>\n",
       "      <td>2.25</td>\n",
       "      <td>2.50</td>\n",
       "      <td>2.50</td>\n",
       "      <td>2.50</td>\n",
       "      <td>2.25</td>\n",
       "    </tr>\n",
       "    <tr>\n",
       "      <th>sqft_living</th>\n",
       "      <td>1970</td>\n",
       "      <td>2600</td>\n",
       "      <td>2820</td>\n",
       "      <td>3310</td>\n",
       "      <td>2160</td>\n",
       "    </tr>\n",
       "    <tr>\n",
       "      <th>sqft_lot</th>\n",
       "      <td>35100</td>\n",
       "      <td>4750</td>\n",
       "      <td>67518</td>\n",
       "      <td>6500</td>\n",
       "      <td>8119</td>\n",
       "    </tr>\n",
       "    <tr>\n",
       "      <th>floors</th>\n",
       "      <td>2.00</td>\n",
       "      <td>1.00</td>\n",
       "      <td>2.00</td>\n",
       "      <td>2.00</td>\n",
       "      <td>1.00</td>\n",
       "    </tr>\n",
       "    <tr>\n",
       "      <th>waterfront</th>\n",
       "      <td>0</td>\n",
       "      <td>0</td>\n",
       "      <td>0</td>\n",
       "      <td>0</td>\n",
       "      <td>0</td>\n",
       "    </tr>\n",
       "    <tr>\n",
       "      <th>view</th>\n",
       "      <td>0</td>\n",
       "      <td>0</td>\n",
       "      <td>0</td>\n",
       "      <td>0</td>\n",
       "      <td>0</td>\n",
       "    </tr>\n",
       "    <tr>\n",
       "      <th>condition</th>\n",
       "      <td>4</td>\n",
       "      <td>4</td>\n",
       "      <td>3</td>\n",
       "      <td>3</td>\n",
       "      <td>3</td>\n",
       "    </tr>\n",
       "    <tr>\n",
       "      <th>grade</th>\n",
       "      <td>9</td>\n",
       "      <td>9</td>\n",
       "      <td>8</td>\n",
       "      <td>8</td>\n",
       "      <td>8</td>\n",
       "    </tr>\n",
       "    <tr>\n",
       "      <th>sqft_above</th>\n",
       "      <td>1970</td>\n",
       "      <td>1700</td>\n",
       "      <td>2820</td>\n",
       "      <td>3310</td>\n",
       "      <td>1080</td>\n",
       "    </tr>\n",
       "    <tr>\n",
       "      <th>sqft_basement</th>\n",
       "      <td>0</td>\n",
       "      <td>900</td>\n",
       "      <td>0</td>\n",
       "      <td>0</td>\n",
       "      <td>1080</td>\n",
       "    </tr>\n",
       "    <tr>\n",
       "      <th>yr_built</th>\n",
       "      <td>1977</td>\n",
       "      <td>1951</td>\n",
       "      <td>1979</td>\n",
       "      <td>2012</td>\n",
       "      <td>1966</td>\n",
       "    </tr>\n",
       "    <tr>\n",
       "      <th>yr_renovated</th>\n",
       "      <td>0</td>\n",
       "      <td>0</td>\n",
       "      <td>0</td>\n",
       "      <td>0</td>\n",
       "      <td>0</td>\n",
       "    </tr>\n",
       "    <tr>\n",
       "      <th>zipcode</th>\n",
       "      <td>98027</td>\n",
       "      <td>98117</td>\n",
       "      <td>98029</td>\n",
       "      <td>98065</td>\n",
       "      <td>98006</td>\n",
       "    </tr>\n",
       "    <tr>\n",
       "      <th>lat</th>\n",
       "      <td>47.46</td>\n",
       "      <td>47.68</td>\n",
       "      <td>47.58</td>\n",
       "      <td>47.52</td>\n",
       "      <td>47.54</td>\n",
       "    </tr>\n",
       "    <tr>\n",
       "      <th>long</th>\n",
       "      <td>-121.99</td>\n",
       "      <td>-122.40</td>\n",
       "      <td>-122.03</td>\n",
       "      <td>-121.87</td>\n",
       "      <td>-122.18</td>\n",
       "    </tr>\n",
       "    <tr>\n",
       "      <th>sqft_living15</th>\n",
       "      <td>2340</td>\n",
       "      <td>2380</td>\n",
       "      <td>2820</td>\n",
       "      <td>2380</td>\n",
       "      <td>1850</td>\n",
       "    </tr>\n",
       "    <tr>\n",
       "      <th>sqft_lot15</th>\n",
       "      <td>35100</td>\n",
       "      <td>4750</td>\n",
       "      <td>48351</td>\n",
       "      <td>5000</td>\n",
       "      <td>9000</td>\n",
       "    </tr>\n",
       "    <tr>\n",
       "      <th>year</th>\n",
       "      <td>2014</td>\n",
       "      <td>2014</td>\n",
       "      <td>2014</td>\n",
       "      <td>2014</td>\n",
       "      <td>2014</td>\n",
       "    </tr>\n",
       "    <tr>\n",
       "      <th>month</th>\n",
       "      <td>5</td>\n",
       "      <td>5</td>\n",
       "      <td>5</td>\n",
       "      <td>5</td>\n",
       "      <td>5</td>\n",
       "    </tr>\n",
       "    <tr>\n",
       "      <th>condition_type</th>\n",
       "      <td>regular</td>\n",
       "      <td>regular</td>\n",
       "      <td>regular</td>\n",
       "      <td>regular</td>\n",
       "      <td>regular</td>\n",
       "    </tr>\n",
       "    <tr>\n",
       "      <th>building_level</th>\n",
       "      <td>high-regular</td>\n",
       "      <td>high-regular</td>\n",
       "      <td>high-regular</td>\n",
       "      <td>high-regular</td>\n",
       "      <td>high-regular</td>\n",
       "    </tr>\n",
       "    <tr>\n",
       "      <th>construction</th>\n",
       "      <td>&gt; 1955</td>\n",
       "      <td>&lt; 1955</td>\n",
       "      <td>&gt; 1955</td>\n",
       "      <td>&gt; 1955</td>\n",
       "      <td>&gt; 1955</td>\n",
       "    </tr>\n",
       "    <tr>\n",
       "      <th>season</th>\n",
       "      <td>spring</td>\n",
       "      <td>spring</td>\n",
       "      <td>spring</td>\n",
       "      <td>spring</td>\n",
       "      <td>spring</td>\n",
       "    </tr>\n",
       "  </tbody>\n",
       "</table>\n",
       "</div>"
      ],
      "text/plain": [
       "                              16768                9596                 9587                 20602                11577\n",
       "id                       5561000190            472000620           1024069009           7853361370           5056500260\n",
       "date            2014-05-02 00:00:00  2014-05-02 00:00:00  2014-05-02 00:00:00  2014-05-02 00:00:00  2014-05-02 00:00:00\n",
       "buying_price              437500.00            790000.00            675000.00            555000.00            440000.00\n",
       "bedrooms                          3                    3                    5                    4                    4\n",
       "bathrooms                      2.25                 2.50                 2.50                 2.50                 2.25\n",
       "sqft_living                    1970                 2600                 2820                 3310                 2160\n",
       "sqft_lot                      35100                 4750                67518                 6500                 8119\n",
       "floors                         2.00                 1.00                 2.00                 2.00                 1.00\n",
       "waterfront                        0                    0                    0                    0                    0\n",
       "view                              0                    0                    0                    0                    0\n",
       "condition                         4                    4                    3                    3                    3\n",
       "grade                             9                    9                    8                    8                    8\n",
       "sqft_above                     1970                 1700                 2820                 3310                 1080\n",
       "sqft_basement                     0                  900                    0                    0                 1080\n",
       "yr_built                       1977                 1951                 1979                 2012                 1966\n",
       "yr_renovated                      0                    0                    0                    0                    0\n",
       "zipcode                       98027                98117                98029                98065                98006\n",
       "lat                           47.46                47.68                47.58                47.52                47.54\n",
       "long                        -121.99              -122.40              -122.03              -121.87              -122.18\n",
       "sqft_living15                  2340                 2380                 2820                 2380                 1850\n",
       "sqft_lot15                    35100                 4750                48351                 5000                 9000\n",
       "year                           2014                 2014                 2014                 2014                 2014\n",
       "month                             5                    5                    5                    5                    5\n",
       "condition_type              regular              regular              regular              regular              regular\n",
       "building_level         high-regular         high-regular         high-regular         high-regular         high-regular\n",
       "construction                 > 1955               < 1955               > 1955               > 1955               > 1955\n",
       "season                       spring               spring               spring               spring               spring"
      ]
     },
     "execution_count": 21,
     "metadata": {},
     "output_type": "execute_result"
    }
   ],
   "source": [
    "# year: extracted from date\n",
    "df2['year'] = df2['date'].dt.year\n",
    "\n",
    "# month: extracted from date\n",
    "df2['month'] = df2['date'].dt.month\n",
    "\n",
    "# condition_type: bad (condition <= 2), regular (condition 3-4) or good (condition == 5)\n",
    "df2['condition_type'] = df2['condition'].apply( lambda x: 'bad' if x <= 2 else 'good' if x == 5 else 'regular')\n",
    "\n",
    "# building_level: low (grade 1-3), low-regular (grade 4-6), regular (grade == 7), high-regular (grade 8-10), high (grade 11-13)\n",
    "df2['building_level'] = df2['grade'].apply( lambda x: 'low' if x <= 3 else 'low-regular' if (x >= 4) & (x <= 6) else 'regular' if x == 7 else 'high-regular' if (x >= 8) & (x <= 10) else 'high' )  \n",
    "\n",
    "# construction: before and after of construction year 1955\n",
    "df2['construction'] = df2['yr_built'].apply( lambda x: '> 1955' if x > 1955 else '< 1955' )\n",
    "\n",
    "# Assuming the following seasons:\n",
    "# Winter – December, January and February.\n",
    "# Spring – March, April and May.\n",
    "# Summer – June, July and August.\n",
    "# Autumn – September, October and November.\n",
    "df2['season'] = df2['month'].apply( lambda x: 'summer' if (x > 5) & (x <= 8) else \n",
    "                                             'spring' if (x > 2) & (x <= 5) else \n",
    "                                             'fall' if (x > 8) & (x < 12) else 'winter' )\n",
    "\n",
    "df2.head().T"
   ]
  },
  {
   "cell_type": "code",
   "execution_count": 22,
   "metadata": {
    "hidden": true
   },
   "outputs": [
    {
     "data": {
      "text/plain": [
       "id                         int64\n",
       "date              datetime64[ns]\n",
       "buying_price             float64\n",
       "bedrooms                   int64\n",
       "bathrooms                float64\n",
       "sqft_living                int64\n",
       "sqft_lot                   int64\n",
       "floors                   float64\n",
       "waterfront                 int64\n",
       "view                       int64\n",
       "condition                  int64\n",
       "grade                      int64\n",
       "sqft_above                 int64\n",
       "sqft_basement              int64\n",
       "yr_built                   int64\n",
       "yr_renovated               int64\n",
       "zipcode                    int64\n",
       "lat                      float64\n",
       "long                     float64\n",
       "sqft_living15              int64\n",
       "sqft_lot15                 int64\n",
       "year                       int64\n",
       "month                      int64\n",
       "condition_type            object\n",
       "building_level            object\n",
       "construction              object\n",
       "season                    object\n",
       "dtype: object"
      ]
     },
     "execution_count": 22,
     "metadata": {},
     "output_type": "execute_result"
    }
   ],
   "source": [
    "df2.dtypes"
   ]
  },
  {
   "cell_type": "markdown",
   "metadata": {
    "heading_collapsed": true
   },
   "source": [
    "# VARIABLES FILTERING"
   ]
  },
  {
   "cell_type": "code",
   "execution_count": 23,
   "metadata": {
    "hidden": true
   },
   "outputs": [],
   "source": [
    "# deleting variables that are not gonna be used in this projects' analysis\n",
    "df3 = df2.drop ( ['view', 'sqft_living15','sqft_lot15'], axis=1 )\n",
    "\n",
    "# view: An index from 0 to 4 of how good the view of the property was\n",
    "# sqft_living15: The square footage of interior housing living space for the nearest 15 neighbors\n",
    "# sqft_lot15: The square footage of the land lots of the nearest 15 neighbors"
   ]
  },
  {
   "cell_type": "markdown",
   "metadata": {},
   "source": [
    "# EXPLORATORY DATA ANALYSIS"
   ]
  },
  {
   "cell_type": "code",
   "execution_count": 24,
   "metadata": {},
   "outputs": [],
   "source": [
    "df4 = df3.copy()"
   ]
  },
  {
   "cell_type": "markdown",
   "metadata": {
    "heading_collapsed": true
   },
   "source": [
    "## Univariate Analysis"
   ]
  },
  {
   "cell_type": "code",
   "execution_count": 26,
   "metadata": {
    "hidden": true
   },
   "outputs": [
    {
     "data": {
      "text/plain": [
       "<seaborn.axisgrid.FacetGrid at 0x2acabfe6670>"
      ]
     },
     "execution_count": 26,
     "metadata": {},
     "output_type": "execute_result"
    },
    {
     "data": {
      "image/png": "[encoded data removed]",
      "text/plain": [
       "<Figure size 1440x720 with 1 Axes>"
      ]
     },
     "metadata": {},
     "output_type": "display_data"
    }
   ],
   "source": [
    "sns.displot( df4['buying_price'], kde=True, height=10, aspect=2 )\n",
    "# aspect: Aspect ratio of each facet, so that aspect * height gives the width of each facet in inches."
   ]
  },
  {
   "cell_type": "code",
   "execution_count": 27,
   "metadata": {
    "hidden": true
   },
   "outputs": [
    {
     "data": {
      "text/plain": [
       "<seaborn.axisgrid.FacetGrid at 0x2acae07ea90>"
      ]
     },
     "execution_count": 27,
     "metadata": {},
     "output_type": "execute_result"
    },
    {
     "data": {
      "image/png": "[encoded data removed]",
      "text/plain": [
       "<Figure size 1440x720 with 1 Axes>"
      ]
     },
     "metadata": {},
     "output_type": "display_data"
    }
   ],
   "source": [
    "sns.displot( df4['yr_built'], kde=True, height=10, aspect=2 )"
   ]
  },
  {
   "cell_type": "code",
   "execution_count": 28,
   "metadata": {
    "hidden": true
   },
   "outputs": [
    {
     "data": {
      "text/plain": [
       "<seaborn.axisgrid.FacetGrid at 0x2acadff2a00>"
      ]
     },
     "execution_count": 28,
     "metadata": {},
     "output_type": "execute_result"
    },
    {
     "data": {
      "image/png": "[encoded data removed]",
      "text/plain": [
       "<Figure size 1440x720 with 1 Axes>"
      ]
     },
     "metadata": {},
     "output_type": "display_data"
    }
   ],
   "source": [
    "sns.displot( df4['yr_renovated'], kde=True, height=10, aspect=2 )"
   ]
  },
  {
   "cell_type": "markdown",
   "metadata": {
    "heading_collapsed": true
   },
   "source": [
    "## Bivariate Analysis"
   ]
  },
  {
   "cell_type": "markdown",
   "metadata": {
    "heading_collapsed": true,
    "hidden": true
   },
   "source": [
    "### H1: Waterfront houses are 30% more expensive, on average. \n",
    "False: The average house price with a view of the water is about 211.76% higher."
   ]
  },
  {
   "cell_type": "code",
   "execution_count": 38,
   "metadata": {
    "hidden": true
   },
   "outputs": [
    {
     "name": "stdout",
     "output_type": "stream",
     "text": [
      "There are 163 waterfront houses in the dataset.\n"
     ]
    }
   ],
   "source": [
    "# how many houses are waterfront?\n",
    "print( 'There are {} waterfront houses in the dataset.'.format( df4.loc[df4['waterfront'] == 1].shape[0] ) )"
   ]
  },
  {
   "cell_type": "code",
   "execution_count": 39,
   "metadata": {
    "hidden": true
   },
   "outputs": [
    {
     "name": "stdout",
     "output_type": "stream",
     "text": [
      "There are 21272 no waterfront houses in the dataset.\n"
     ]
    }
   ],
   "source": [
    "# how many houses are NOT waterfront?\n",
    "print( 'There are {} no waterfront houses in the dataset.'.format( df4.loc[df4['waterfront'] == 0].shape[0] ) )"
   ]
  },
  {
   "cell_type": "code",
   "execution_count": 40,
   "metadata": {
    "hidden": true
   },
   "outputs": [
    {
     "data": {
      "text/html": [
       "<div>\n",
       "<style scoped>\n",
       "    .dataframe tbody tr th:only-of-type {\n",
       "        vertical-align: middle;\n",
       "    }\n",
       "\n",
       "    .dataframe tbody tr th {\n",
       "        vertical-align: top;\n",
       "    }\n",
       "\n",
       "    .dataframe thead th {\n",
       "        text-align: right;\n",
       "    }\n",
       "</style>\n",
       "<table border=\"1\" class=\"dataframe\">\n",
       "  <thead>\n",
       "    <tr style=\"text-align: right;\">\n",
       "      <th></th>\n",
       "      <th>waterfront</th>\n",
       "      <th>buying_price</th>\n",
       "    </tr>\n",
       "  </thead>\n",
       "  <tbody>\n",
       "    <tr>\n",
       "      <th>0</th>\n",
       "      <td>0</td>\n",
       "      <td>533061.43</td>\n",
       "    </tr>\n",
       "    <tr>\n",
       "      <th>1</th>\n",
       "      <td>1</td>\n",
       "      <td>1661876.02</td>\n",
       "    </tr>\n",
       "  </tbody>\n",
       "</table>\n",
       "</div>"
      ],
      "text/plain": [
       "   waterfront  buying_price\n",
       "0           0     533061.43\n",
       "1           1    1661876.02"
      ]
     },
     "execution_count": 40,
     "metadata": {},
     "output_type": "execute_result"
    }
   ],
   "source": [
    "# grouping by waterfront and checking price averages\n",
    "aux = df4[['waterfront','buying_price']].groupby('waterfront').mean().reset_index()\n",
    "aux"
   ]
  },
  {
   "cell_type": "code",
   "execution_count": 33,
   "metadata": {
    "hidden": true
   },
   "outputs": [
    {
     "name": "stdout",
     "output_type": "stream",
     "text": [
      "The average house price with a view of the water is about 211.76% higher.\n"
     ]
    }
   ],
   "source": [
    "aux2 = (( abs( aux['buying_price'][0] - aux['buying_price'][1] )  ) / aux['buying_price'][0]) * 100 \n",
    "print( 'The average house price with a view of the water is about {:.2f}% higher.'.format( aux2 ) )"
   ]
  },
  {
   "cell_type": "code",
   "execution_count": 34,
   "metadata": {
    "hidden": true
   },
   "outputs": [
    {
     "data": {
      "image/png": "[encoded data removed]",
      "text/plain": [
       "<Figure size 792x504 with 1 Axes>"
      ]
     },
     "metadata": {},
     "output_type": "display_data"
    }
   ],
   "source": [
    "# plot\n",
    "sns.barplot(df4['waterfront'], df4['buying_price']);"
   ]
  },
  {
   "cell_type": "markdown",
   "metadata": {
    "heading_collapsed": true,
    "hidden": true
   },
   "source": [
    "### H2: Houses constructed before 1955 are 50% cheaper, on average."
   ]
  },
  {
   "cell_type": "markdown",
   "metadata": {
    "hidden": true
   },
   "source": [
    "False: Houses constructed before 1955 are 1.40% cheaper, on average."
   ]
  },
  {
   "cell_type": "code",
   "execution_count": 41,
   "metadata": {
    "hidden": true
   },
   "outputs": [
    {
     "data": {
      "text/html": [
       "<div>\n",
       "<style scoped>\n",
       "    .dataframe tbody tr th:only-of-type {\n",
       "        vertical-align: middle;\n",
       "    }\n",
       "\n",
       "    .dataframe tbody tr th {\n",
       "        vertical-align: top;\n",
       "    }\n",
       "\n",
       "    .dataframe thead th {\n",
       "        text-align: right;\n",
       "    }\n",
       "</style>\n",
       "<table border=\"1\" class=\"dataframe\">\n",
       "  <thead>\n",
       "    <tr style=\"text-align: right;\">\n",
       "      <th></th>\n",
       "      <th>construction</th>\n",
       "      <th>buying_price</th>\n",
       "    </tr>\n",
       "  </thead>\n",
       "  <tbody>\n",
       "    <tr>\n",
       "      <th>0</th>\n",
       "      <td>&lt; 1955</td>\n",
       "      <td>536359.76</td>\n",
       "    </tr>\n",
       "    <tr>\n",
       "      <th>1</th>\n",
       "      <td>&gt; 1955</td>\n",
       "      <td>543873.83</td>\n",
       "    </tr>\n",
       "  </tbody>\n",
       "</table>\n",
       "</div>"
      ],
      "text/plain": [
       "  construction  buying_price\n",
       "0       < 1955     536359.76\n",
       "1       > 1955     543873.83"
      ]
     },
     "execution_count": 41,
     "metadata": {},
     "output_type": "execute_result"
    }
   ],
   "source": [
    "# grouping by construction (before and after 1955) and checking price averages\n",
    "aux = df4[['construction','buying_price']].groupby( 'construction' ).mean().reset_index()\n",
    "aux"
   ]
  },
  {
   "cell_type": "code",
   "execution_count": 42,
   "metadata": {
    "hidden": true
   },
   "outputs": [
    {
     "name": "stdout",
     "output_type": "stream",
     "text": [
      "Houses constructed before 1955 are 1.40% cheaper, on average.\n"
     ]
    }
   ],
   "source": [
    "aux2 = (( abs( aux['buying_price'][0] - aux['buying_price'][1] )  ) / aux['buying_price'][0]) * 100 \n",
    "\n",
    "print( 'Houses constructed before 1955 are {:.2f}% cheaper, on average.'.format( aux2 ) )"
   ]
  },
  {
   "cell_type": "code",
   "execution_count": 43,
   "metadata": {
    "hidden": true
   },
   "outputs": [
    {
     "data": {
      "image/png": "[encoded data removed]",
      "text/plain": [
       "<Figure size 792x504 with 1 Axes>"
      ]
     },
     "metadata": {},
     "output_type": "display_data"
    }
   ],
   "source": [
    "sns.barplot( df4['construction'], df4['buying_price'] );"
   ]
  },
  {
   "cell_type": "markdown",
   "metadata": {
    "heading_collapsed": true,
    "hidden": true
   },
   "source": [
    "### H3: Houses without basement have a total area (sqrt_lot) that is 40% larger than houses with basements."
   ]
  },
  {
   "cell_type": "markdown",
   "metadata": {
    "hidden": true
   },
   "source": [
    "False: Houses without basement have a total area (sqrt_lot) that is 18.55% larger than houses with basements."
   ]
  },
  {
   "cell_type": "code",
   "execution_count": 44,
   "metadata": {
    "hidden": true
   },
   "outputs": [
    {
     "name": "stdout",
     "output_type": "stream",
     "text": [
      "Houses without basement have a total area (sqrt_lot) that is 18.55% larger than houses with basements.\n"
     ]
    }
   ],
   "source": [
    "# assuming that if the house has more than 0 of sqft_basement, it has a basement\n",
    "without_basement = df4[df4['sqft_basement'] == 0]\n",
    "with_basement = df4[df4['sqft_basement'] > 0]\n",
    "\n",
    "aux = ( ( abs( without_basement['sqft_lot'].mean() - with_basement['sqft_lot'].mean() ) ) / without_basement['sqft_lot'].mean() )*100\n",
    "\n",
    "print ( 'Houses without basement have a total area (sqrt_lot) that is {:.2f}% larger than houses with basements.'.format( aux ) )"
   ]
  },
  {
   "cell_type": "markdown",
   "metadata": {
    "heading_collapsed": true,
    "hidden": true
   },
   "source": [
    "### H4: YoY (Year over Year) house mean price growth is 10%."
   ]
  },
  {
   "cell_type": "markdown",
   "metadata": {
    "hidden": true
   },
   "source": [
    "False: YoY (Year over Year) house price growth is 0.18%."
   ]
  },
  {
   "cell_type": "code",
   "execution_count": 53,
   "metadata": {
    "hidden": true
   },
   "outputs": [
    {
     "data": {
      "text/html": [
       "<div>\n",
       "<style scoped>\n",
       "    .dataframe tbody tr th:only-of-type {\n",
       "        vertical-align: middle;\n",
       "    }\n",
       "\n",
       "    .dataframe tbody tr th {\n",
       "        vertical-align: top;\n",
       "    }\n",
       "\n",
       "    .dataframe thead th {\n",
       "        text-align: right;\n",
       "    }\n",
       "</style>\n",
       "<table border=\"1\" class=\"dataframe\">\n",
       "  <thead>\n",
       "    <tr style=\"text-align: right;\">\n",
       "      <th></th>\n",
       "      <th>year</th>\n",
       "      <th>buying_price</th>\n",
       "    </tr>\n",
       "  </thead>\n",
       "  <tbody>\n",
       "    <tr>\n",
       "      <th>0</th>\n",
       "      <td>2014</td>\n",
       "      <td>541327.75</td>\n",
       "    </tr>\n",
       "    <tr>\n",
       "      <th>1</th>\n",
       "      <td>2015</td>\n",
       "      <td>542304.27</td>\n",
       "    </tr>\n",
       "  </tbody>\n",
       "</table>\n",
       "</div>"
      ],
      "text/plain": [
       "   year  buying_price\n",
       "0  2014     541327.75\n",
       "1  2015     542304.27"
      ]
     },
     "execution_count": 53,
     "metadata": {},
     "output_type": "execute_result"
    }
   ],
   "source": [
    "# grouping by year and checking prices sum\n",
    "aux = df4[['year','buying_price']].groupby( 'year' ).mean().reset_index()\n",
    "aux"
   ]
  },
  {
   "cell_type": "code",
   "execution_count": 54,
   "metadata": {
    "hidden": true
   },
   "outputs": [
    {
     "name": "stdout",
     "output_type": "stream",
     "text": [
      "YoY (Year over Year) house price growth is 0.18%.\n"
     ]
    }
   ],
   "source": [
    "aux2 = ( ( abs( aux['buying_price'][0] - aux['buying_price'][1] ) ) / aux['buying_price'][0] ) * 100\n",
    "\n",
    "print ( 'YoY (Year over Year) house price growth is {:.2f}%.'.format( aux2 ) )"
   ]
  },
  {
   "cell_type": "code",
   "execution_count": 55,
   "metadata": {
    "hidden": true
   },
   "outputs": [
    {
     "data": {
      "image/png": "[encoded data removed]",
      "text/plain": [
       "<Figure size 792x504 with 1 Axes>"
      ]
     },
     "metadata": {},
     "output_type": "display_data"
    }
   ],
   "source": [
    "sns.barplot(df4['year'], df4['buying_price']);"
   ]
  },
  {
   "cell_type": "code",
   "execution_count": 48,
   "metadata": {
    "hidden": true
   },
   "outputs": [
    {
     "data": {
      "image/png": "[encoded data removed]",
      "text/plain": [
       "<Figure size 792x504 with 1 Axes>"
      ]
     },
     "metadata": {},
     "output_type": "display_data"
    }
   ],
   "source": [
    "sns.lineplot(data = df4, x = 'year',  y = 'buying_price' );"
   ]
  },
  {
   "cell_type": "markdown",
   "metadata": {
    "heading_collapsed": true,
    "hidden": true
   },
   "source": [
    "### H5: Houses with 3 bathrooms have a MoM (Month over Month) growth of 15%."
   ]
  },
  {
   "cell_type": "markdown",
   "metadata": {
    "hidden": true
   },
   "source": [
    "False. Prices go up and down along the months."
   ]
  },
  {
   "cell_type": "code",
   "execution_count": 57,
   "metadata": {
    "hidden": true
   },
   "outputs": [
    {
     "data": {
      "text/plain": [
       "<AxesSubplot:xlabel='month', ylabel='buying_price'>"
      ]
     },
     "execution_count": 57,
     "metadata": {},
     "output_type": "execute_result"
    },
    {
     "data": {
      "image/png": "[encoded data removed]",
      "text/plain": [
       "<Figure size 792x504 with 1 Axes>"
      ]
     },
     "metadata": {},
     "output_type": "display_data"
    }
   ],
   "source": [
    "# separating houses with 3 bathrooms in a new dataset\n",
    "with_3_baths = df4.loc[df4['bathrooms'] == 3,:]\n",
    "\n",
    "# grouping by month and summing the prices\n",
    "aux = with_3_baths[['month','buying_price']].groupby( 'month' ).sum().reset_index()\n",
    "\n",
    "sns.lineplot(data = with_3_baths, x = 'month',  y = 'buying_price' )"
   ]
  },
  {
   "cell_type": "markdown",
   "metadata": {
    "heading_collapsed": true,
    "hidden": true
   },
   "source": [
    "### H6: Houses with conditions above index 3 (inclusive) are about 40% more expensive, on average, than houses with conditions 1 and 2."
   ]
  },
  {
   "cell_type": "markdown",
   "metadata": {
    "hidden": true
   },
   "source": [
    "True: Houses with conditions of index 3 are 38.48% more expensive than houses with conditions 1 and 2, on average."
   ]
  },
  {
   "cell_type": "code",
   "execution_count": 60,
   "metadata": {
    "hidden": true
   },
   "outputs": [
    {
     "name": "stdout",
     "output_type": "stream",
     "text": [
      "Houses with conditions of index 3 are 38.48% more expensive than houses with conditions 1 and 2, on average.\n"
     ]
    }
   ],
   "source": [
    "# Strategy\n",
    "# Group houses with conditions >= 3 and their prices in a new dataset\n",
    "# Group houses with conditions 1 or 2 and their prices in a new dataset\n",
    "# Compare the mean of these 2 datasets \n",
    "\n",
    "aux1 = df4.loc[df4['condition'] >= 3,['buying_price','condition']]\n",
    "aux2 = df4.loc[df4['condition'] < 3,['buying_price','condition']]\n",
    "\n",
    "result = ( aux1['buying_price'].mean() - aux2['buying_price'].mean() ) / aux1['buying_price'].mean() * 100\n",
    "\n",
    "print( 'Houses with conditions of index 3 are {:.2f}% more expensive than houses with conditions 1 and 2, on average.'.format( result ) )"
   ]
  },
  {
   "cell_type": "markdown",
   "metadata": {
    "heading_collapsed": true,
    "hidden": true
   },
   "source": [
    "### H7: Houses with the highest level of construction and design quality (grade: 11-13) are 70% more expensive on average."
   ]
  },
  {
   "cell_type": "markdown",
   "metadata": {
    "hidden": true
   },
   "source": [
    "True: Houses with grade greater than 11 are 69.41% more expensive than others."
   ]
  },
  {
   "cell_type": "code",
   "execution_count": 61,
   "metadata": {
    "hidden": true
   },
   "outputs": [
    {
     "data": {
      "text/plain": [
       "array([ 9,  8,  7,  6, 10, 12, 11,  5,  4, 13,  1,  3], dtype=int64)"
      ]
     },
     "execution_count": 61,
     "metadata": {},
     "output_type": "execute_result"
    }
   ],
   "source": [
    "# checking all unique values for the variable 'grade'\n",
    "df4['grade'].unique()"
   ]
  },
  {
   "cell_type": "code",
   "execution_count": 63,
   "metadata": {
    "hidden": true
   },
   "outputs": [
    {
     "name": "stdout",
     "output_type": "stream",
     "text": [
      "Houses with grade greater than 11 are 69.41% more expensive than others.\n"
     ]
    }
   ],
   "source": [
    "# Strategy\n",
    "# Group houses with grade 11-13 and their prices in a new dataset \n",
    "# Group houses with grade < 11 and their prices in a new dataset \n",
    "# Compare the mean of the prices of these 2 datasets\n",
    "\n",
    "aux1 = df4.loc[df4['grade'] >= 11,['buying_price','grade']]\n",
    "aux2 = df4.loc[df4['grade'] < 11,['buying_price','grade']]\n",
    "\n",
    "result = ( aux1['buying_price'].mean() - aux2['buying_price'].mean() ) / aux1['buying_price'].mean() * 100\n",
    "print( 'Houses with grade greater than 11 are {:.2f}% more expensive than others.'.format( result ) )"
   ]
  },
  {
   "cell_type": "markdown",
   "metadata": {
    "heading_collapsed": true,
    "hidden": true
   },
   "source": [
    "### H8: Unrenovated houses are more than 30% cheaper, on average, than houses that have been renovated at least once."
   ]
  },
  {
   "cell_type": "markdown",
   "metadata": {
    "hidden": true
   },
   "source": [
    "True: Unrenovated houses are 43.29% cheaper, on average, than houses that have been renovated at least once."
   ]
  },
  {
   "cell_type": "code",
   "execution_count": 64,
   "metadata": {
    "hidden": true
   },
   "outputs": [
    {
     "data": {
      "text/plain": [
       "array([   0, 1994, 1958, 1954, 2011, 2014, 1992, 1998, 2013, 2002, 2004,\n",
       "       2005, 1986, 1990, 2001, 1984, 1956, 2010, 2000, 2003, 1977, 1996,\n",
       "       2007, 1981, 1970, 1983, 1975, 1971, 1988, 1999, 2009, 1995, 1997,\n",
       "       1969, 2015, 1982, 1989, 2006, 1993, 1985, 1953, 1955, 1979, 1987,\n",
       "       1960, 1934, 1945, 2008, 1980, 2012, 1972, 1948, 1978, 1968, 1991,\n",
       "       1974, 1965, 1946, 1940, 1963, 1976, 1964, 1973, 1967, 1944, 1959,\n",
       "       1957, 1962, 1951, 1950], dtype=int64)"
      ]
     },
     "execution_count": 64,
     "metadata": {},
     "output_type": "execute_result"
    }
   ],
   "source": [
    "# checking possible values for the year of renovation\n",
    "df4['yr_renovated'].unique()"
   ]
  },
  {
   "cell_type": "code",
   "execution_count": 66,
   "metadata": {
    "hidden": true
   },
   "outputs": [
    {
     "name": "stdout",
     "output_type": "stream",
     "text": [
      "Unrenovated houses are 43.29% cheaper, on average, than houses that have been renovated at least once.\n"
     ]
    }
   ],
   "source": [
    "# Strategy\n",
    "# Group houses that have been renovated in a new dataset\n",
    "# Group houses that have not been renovated in a new dataset \n",
    "# Compare the mean of the prices of these 2 datasets\n",
    "\n",
    "renovated_houses = df4[df4['yr_renovated'] != 0]\n",
    "unrenovated_houses = df4[df4['yr_renovated'] == 0]\n",
    "\n",
    "result = ( abs( unrenovated_houses['buying_price'].mean() - renovated_houses['buying_price'].mean() ) ) / unrenovated_houses['buying_price'].mean() * 100\n",
    "print( 'Unrenovated houses are {:.2f}% cheaper, on average, than houses that have been renovated at least once.'.format( result ) )"
   ]
  },
  {
   "cell_type": "markdown",
   "metadata": {
    "heading_collapsed": true,
    "hidden": true
   },
   "source": [
    "### H9: More than 50% of water view houses have more than 1 floor."
   ]
  },
  {
   "cell_type": "markdown",
   "metadata": {
    "hidden": true
   },
   "source": [
    "True: 65.03% of water view houses have more then 1 floor."
   ]
  },
  {
   "cell_type": "code",
   "execution_count": 67,
   "metadata": {
    "hidden": true
   },
   "outputs": [
    {
     "name": "stdout",
     "output_type": "stream",
     "text": [
      "65.03% of water view houses have more then 1 floor.\n"
     ]
    }
   ],
   "source": [
    "# Strategy\n",
    "# Separate houses with water view in a new dataset\n",
    "# Compare the number of these houses that have 2 or more floors with houses with only 1 floor\n",
    "\n",
    "wf_houses = df4[df4['waterfront'] == 1]\n",
    "\n",
    "result = ( ( wf_houses[wf_houses['floors'] != 1].shape[0] ) / wf_houses.shape[0] ) * 100\n",
    "\n",
    "print ( '{:.2f}% of water view houses have more then 1 floor.'.format( result ) )"
   ]
  },
  {
   "cell_type": "markdown",
   "metadata": {
    "heading_collapsed": true,
    "hidden": true
   },
   "source": [
    "### H10: The larger the area of land, the higher the price of the house. "
   ]
  },
  {
   "cell_type": "markdown",
   "metadata": {
    "hidden": true
   },
   "source": [
    "False: There is not a clear or strong correlation between price and the area of the land."
   ]
  },
  {
   "cell_type": "code",
   "execution_count": 71,
   "metadata": {
    "hidden": true
   },
   "outputs": [
    {
     "data": {
      "image/png": "[encoded data removed]",
      "text/plain": [
       "<Figure size 792x504 with 2 Axes>"
      ]
     },
     "metadata": {},
     "output_type": "display_data"
    }
   ],
   "source": [
    "# checking the correlation between 'sqft_lot' and 'price' variable\n",
    "sns.heatmap ( df4[['sqft_lot','buying_price']].corr( method=\"pearson\" ), cmap='YlOrRd', annot=True, annot_kws= {'fontsize':'small'}, fmt='.01g', square=True );"
   ]
  },
  {
   "cell_type": "markdown",
   "metadata": {
    "hidden": true
   },
   "source": [
    "Correlation between 'sqft_lot' and the 'price' is 0.09. This value is close to 0, meaning that there is a weak correlation between these 2 variables. "
   ]
  },
  {
   "cell_type": "markdown",
   "metadata": {},
   "source": [
    "# Business Questions"
   ]
  },
  {
   "cell_type": "code",
   "execution_count": 72,
   "metadata": {},
   "outputs": [],
   "source": [
    "df5 = df4.copy()"
   ]
  },
  {
   "cell_type": "markdown",
   "metadata": {},
   "source": [
    "## Which houses does House Rocket should buy and for what price?"
   ]
  },
  {
   "cell_type": "code",
   "execution_count": 73,
   "metadata": {},
   "outputs": [
    {
     "data": {
      "text/plain": [
       "array([4, 3, 2, 5, 1], dtype=int64)"
      ]
     },
     "execution_count": 73,
     "metadata": {},
     "output_type": "execute_result"
    }
   ],
   "source": [
    "df5['condition'].unique()"
   ]
  },
  {
   "cell_type": "code",
   "execution_count": 96,
   "metadata": {},
   "outputs": [
    {
     "data": {
      "text/html": [
       "<div>\n",
       "<style scoped>\n",
       "    .dataframe tbody tr th:only-of-type {\n",
       "        vertical-align: middle;\n",
       "    }\n",
       "\n",
       "    .dataframe tbody tr th {\n",
       "        vertical-align: top;\n",
       "    }\n",
       "\n",
       "    .dataframe thead th {\n",
       "        text-align: right;\n",
       "    }\n",
       "</style>\n",
       "<table border=\"1\" class=\"dataframe\">\n",
       "  <thead>\n",
       "    <tr style=\"text-align: right;\">\n",
       "      <th></th>\n",
       "      <th>zipcode</th>\n",
       "      <th>buying_price_median</th>\n",
       "      <th>id</th>\n",
       "      <th>date</th>\n",
       "      <th>buying_price</th>\n",
       "      <th>bedrooms</th>\n",
       "      <th>bathrooms</th>\n",
       "      <th>sqft_living</th>\n",
       "      <th>sqft_lot</th>\n",
       "      <th>floors</th>\n",
       "      <th>waterfront</th>\n",
       "      <th>condition</th>\n",
       "      <th>grade</th>\n",
       "      <th>sqft_above</th>\n",
       "      <th>sqft_basement</th>\n",
       "      <th>yr_built</th>\n",
       "      <th>yr_renovated</th>\n",
       "      <th>lat</th>\n",
       "      <th>long</th>\n",
       "      <th>year</th>\n",
       "      <th>month</th>\n",
       "      <th>condition_type</th>\n",
       "      <th>building_level</th>\n",
       "      <th>construction</th>\n",
       "      <th>season</th>\n",
       "      <th>buy</th>\n",
       "    </tr>\n",
       "  </thead>\n",
       "  <tbody>\n",
       "    <tr>\n",
       "      <th>17922</th>\n",
       "      <td>98133</td>\n",
       "      <td>375000.00</td>\n",
       "      <td>9371700085</td>\n",
       "      <td>2014-07-22</td>\n",
       "      <td>425000.00</td>\n",
       "      <td>3</td>\n",
       "      <td>1.75</td>\n",
       "      <td>1380</td>\n",
       "      <td>8182</td>\n",
       "      <td>1.00</td>\n",
       "      <td>0</td>\n",
       "      <td>5</td>\n",
       "      <td>7</td>\n",
       "      <td>1380</td>\n",
       "      <td>0</td>\n",
       "      <td>1942</td>\n",
       "      <td>0</td>\n",
       "      <td>47.75</td>\n",
       "      <td>-122.35</td>\n",
       "      <td>2014</td>\n",
       "      <td>7</td>\n",
       "      <td>good</td>\n",
       "      <td>regular</td>\n",
       "      <td>&lt; 1955</td>\n",
       "      <td>summer</td>\n",
       "      <td>no</td>\n",
       "    </tr>\n",
       "    <tr>\n",
       "      <th>17682</th>\n",
       "      <td>98126</td>\n",
       "      <td>396587.50</td>\n",
       "      <td>2695600130</td>\n",
       "      <td>2014-11-18</td>\n",
       "      <td>355000.00</td>\n",
       "      <td>2</td>\n",
       "      <td>1.00</td>\n",
       "      <td>1250</td>\n",
       "      <td>4558</td>\n",
       "      <td>1.00</td>\n",
       "      <td>0</td>\n",
       "      <td>3</td>\n",
       "      <td>7</td>\n",
       "      <td>1250</td>\n",
       "      <td>0</td>\n",
       "      <td>1948</td>\n",
       "      <td>0</td>\n",
       "      <td>47.53</td>\n",
       "      <td>-122.38</td>\n",
       "      <td>2014</td>\n",
       "      <td>11</td>\n",
       "      <td>regular</td>\n",
       "      <td>regular</td>\n",
       "      <td>&lt; 1955</td>\n",
       "      <td>fall</td>\n",
       "      <td>no</td>\n",
       "    </tr>\n",
       "    <tr>\n",
       "      <th>8607</th>\n",
       "      <td>98053</td>\n",
       "      <td>635000.00</td>\n",
       "      <td>7202300540</td>\n",
       "      <td>2014-07-01</td>\n",
       "      <td>825000.00</td>\n",
       "      <td>4</td>\n",
       "      <td>2.75</td>\n",
       "      <td>3990</td>\n",
       "      <td>6637</td>\n",
       "      <td>2.00</td>\n",
       "      <td>0</td>\n",
       "      <td>3</td>\n",
       "      <td>9</td>\n",
       "      <td>3990</td>\n",
       "      <td>0</td>\n",
       "      <td>2003</td>\n",
       "      <td>0</td>\n",
       "      <td>47.68</td>\n",
       "      <td>-122.05</td>\n",
       "      <td>2014</td>\n",
       "      <td>7</td>\n",
       "      <td>regular</td>\n",
       "      <td>high-regular</td>\n",
       "      <td>&gt; 1955</td>\n",
       "      <td>summer</td>\n",
       "      <td>no</td>\n",
       "    </tr>\n",
       "    <tr>\n",
       "      <th>6589</th>\n",
       "      <td>98038</td>\n",
       "      <td>342500.00</td>\n",
       "      <td>3744000100</td>\n",
       "      <td>2014-11-11</td>\n",
       "      <td>572115.00</td>\n",
       "      <td>4</td>\n",
       "      <td>3.25</td>\n",
       "      <td>3230</td>\n",
       "      <td>4838</td>\n",
       "      <td>2.00</td>\n",
       "      <td>0</td>\n",
       "      <td>3</td>\n",
       "      <td>9</td>\n",
       "      <td>3230</td>\n",
       "      <td>0</td>\n",
       "      <td>2014</td>\n",
       "      <td>0</td>\n",
       "      <td>47.36</td>\n",
       "      <td>-122.02</td>\n",
       "      <td>2014</td>\n",
       "      <td>11</td>\n",
       "      <td>regular</td>\n",
       "      <td>high-regular</td>\n",
       "      <td>&gt; 1955</td>\n",
       "      <td>fall</td>\n",
       "      <td>no</td>\n",
       "    </tr>\n",
       "    <tr>\n",
       "      <th>9502</th>\n",
       "      <td>98056</td>\n",
       "      <td>380000.00</td>\n",
       "      <td>2296500036</td>\n",
       "      <td>2015-03-10</td>\n",
       "      <td>450000.00</td>\n",
       "      <td>4</td>\n",
       "      <td>2.75</td>\n",
       "      <td>2980</td>\n",
       "      <td>13260</td>\n",
       "      <td>1.00</td>\n",
       "      <td>0</td>\n",
       "      <td>4</td>\n",
       "      <td>8</td>\n",
       "      <td>1800</td>\n",
       "      <td>1180</td>\n",
       "      <td>1979</td>\n",
       "      <td>0</td>\n",
       "      <td>47.52</td>\n",
       "      <td>-122.20</td>\n",
       "      <td>2015</td>\n",
       "      <td>3</td>\n",
       "      <td>regular</td>\n",
       "      <td>high-regular</td>\n",
       "      <td>&gt; 1955</td>\n",
       "      <td>spring</td>\n",
       "      <td>no</td>\n",
       "    </tr>\n",
       "    <tr>\n",
       "      <th>19480</th>\n",
       "      <td>98155</td>\n",
       "      <td>377225.00</td>\n",
       "      <td>6668900010</td>\n",
       "      <td>2014-11-17</td>\n",
       "      <td>254950.00</td>\n",
       "      <td>2</td>\n",
       "      <td>1.00</td>\n",
       "      <td>700</td>\n",
       "      <td>8100</td>\n",
       "      <td>1.00</td>\n",
       "      <td>0</td>\n",
       "      <td>3</td>\n",
       "      <td>6</td>\n",
       "      <td>700</td>\n",
       "      <td>0</td>\n",
       "      <td>1949</td>\n",
       "      <td>0</td>\n",
       "      <td>47.75</td>\n",
       "      <td>-122.31</td>\n",
       "      <td>2014</td>\n",
       "      <td>11</td>\n",
       "      <td>regular</td>\n",
       "      <td>low-regular</td>\n",
       "      <td>&lt; 1955</td>\n",
       "      <td>fall</td>\n",
       "      <td>no</td>\n",
       "    </tr>\n",
       "    <tr>\n",
       "      <th>20468</th>\n",
       "      <td>98178</td>\n",
       "      <td>279500.00</td>\n",
       "      <td>4058800215</td>\n",
       "      <td>2014-05-28</td>\n",
       "      <td>430000.00</td>\n",
       "      <td>3</td>\n",
       "      <td>3.75</td>\n",
       "      <td>3890</td>\n",
       "      <td>7140</td>\n",
       "      <td>1.00</td>\n",
       "      <td>0</td>\n",
       "      <td>3</td>\n",
       "      <td>8</td>\n",
       "      <td>2390</td>\n",
       "      <td>1500</td>\n",
       "      <td>1943</td>\n",
       "      <td>2007</td>\n",
       "      <td>47.51</td>\n",
       "      <td>-122.24</td>\n",
       "      <td>2014</td>\n",
       "      <td>5</td>\n",
       "      <td>regular</td>\n",
       "      <td>high-regular</td>\n",
       "      <td>&lt; 1955</td>\n",
       "      <td>spring</td>\n",
       "      <td>no</td>\n",
       "    </tr>\n",
       "    <tr>\n",
       "      <th>18883</th>\n",
       "      <td>98144</td>\n",
       "      <td>452500.00</td>\n",
       "      <td>5700000340</td>\n",
       "      <td>2015-04-27</td>\n",
       "      <td>700000.00</td>\n",
       "      <td>3</td>\n",
       "      <td>2.00</td>\n",
       "      <td>2130</td>\n",
       "      <td>4299</td>\n",
       "      <td>1.50</td>\n",
       "      <td>0</td>\n",
       "      <td>4</td>\n",
       "      <td>7</td>\n",
       "      <td>1680</td>\n",
       "      <td>450</td>\n",
       "      <td>1922</td>\n",
       "      <td>0</td>\n",
       "      <td>47.58</td>\n",
       "      <td>-122.29</td>\n",
       "      <td>2015</td>\n",
       "      <td>4</td>\n",
       "      <td>regular</td>\n",
       "      <td>regular</td>\n",
       "      <td>&lt; 1955</td>\n",
       "      <td>spring</td>\n",
       "      <td>no</td>\n",
       "    </tr>\n",
       "    <tr>\n",
       "      <th>15686</th>\n",
       "      <td>98117</td>\n",
       "      <td>545000.00</td>\n",
       "      <td>2856100185</td>\n",
       "      <td>2014-07-21</td>\n",
       "      <td>365000.00</td>\n",
       "      <td>2</td>\n",
       "      <td>1.00</td>\n",
       "      <td>680</td>\n",
       "      <td>2550</td>\n",
       "      <td>1.00</td>\n",
       "      <td>0</td>\n",
       "      <td>4</td>\n",
       "      <td>5</td>\n",
       "      <td>680</td>\n",
       "      <td>0</td>\n",
       "      <td>1901</td>\n",
       "      <td>0</td>\n",
       "      <td>47.68</td>\n",
       "      <td>-122.39</td>\n",
       "      <td>2014</td>\n",
       "      <td>7</td>\n",
       "      <td>regular</td>\n",
       "      <td>low-regular</td>\n",
       "      <td>&lt; 1955</td>\n",
       "      <td>summer</td>\n",
       "      <td>yes</td>\n",
       "    </tr>\n",
       "    <tr>\n",
       "      <th>5589</th>\n",
       "      <td>98033</td>\n",
       "      <td>678000.00</td>\n",
       "      <td>3982700125</td>\n",
       "      <td>2014-12-30</td>\n",
       "      <td>771000.00</td>\n",
       "      <td>4</td>\n",
       "      <td>2.50</td>\n",
       "      <td>2420</td>\n",
       "      <td>7200</td>\n",
       "      <td>2.00</td>\n",
       "      <td>0</td>\n",
       "      <td>3</td>\n",
       "      <td>9</td>\n",
       "      <td>2420</td>\n",
       "      <td>0</td>\n",
       "      <td>1991</td>\n",
       "      <td>0</td>\n",
       "      <td>47.69</td>\n",
       "      <td>-122.20</td>\n",
       "      <td>2014</td>\n",
       "      <td>12</td>\n",
       "      <td>regular</td>\n",
       "      <td>high-regular</td>\n",
       "      <td>&gt; 1955</td>\n",
       "      <td>winter</td>\n",
       "      <td>no</td>\n",
       "    </tr>\n",
       "  </tbody>\n",
       "</table>\n",
       "</div>"
      ],
      "text/plain": [
       "       zipcode  buying_price_median          id       date  buying_price  bedrooms  bathrooms  sqft_living  sqft_lot  floors  waterfront  condition  grade  sqft_above  sqft_basement  yr_built  yr_renovated   lat    long  year  month condition_type building_level construction  season  buy\n",
       "17922    98133            375000.00  9371700085 2014-07-22     425000.00         3       1.75         1380      8182    1.00           0          5      7        1380              0      1942             0 47.75 -122.35  2014      7           good        regular       < 1955  summer   no\n",
       "17682    98126            396587.50  2695600130 2014-11-18     355000.00         2       1.00         1250      4558    1.00           0          3      7        1250              0      1948             0 47.53 -122.38  2014     11        regular        regular       < 1955    fall   no\n",
       "8607     98053            635000.00  7202300540 2014-07-01     825000.00         4       2.75         3990      6637    2.00           0          3      9        3990              0      2003             0 47.68 -122.05  2014      7        regular   high-regular       > 1955  summer   no\n",
       "6589     98038            342500.00  3744000100 2014-11-11     572115.00         4       3.25         3230      4838    2.00           0          3      9        3230              0      2014             0 47.36 -122.02  2014     11        regular   high-regular       > 1955    fall   no\n",
       "9502     98056            380000.00  2296500036 2015-03-10     450000.00         4       2.75         2980     13260    1.00           0          4      8        1800           1180      1979             0 47.52 -122.20  2015      3        regular   high-regular       > 1955  spring   no\n",
       "19480    98155            377225.00  6668900010 2014-11-17     254950.00         2       1.00          700      8100    1.00           0          3      6         700              0      1949             0 47.75 -122.31  2014     11        regular    low-regular       < 1955    fall   no\n",
       "20468    98178            279500.00  4058800215 2014-05-28     430000.00         3       3.75         3890      7140    1.00           0          3      8        2390           1500      1943          2007 47.51 -122.24  2014      5        regular   high-regular       < 1955  spring   no\n",
       "18883    98144            452500.00  5700000340 2015-04-27     700000.00         3       2.00         2130      4299    1.50           0          4      7        1680            450      1922             0 47.58 -122.29  2015      4        regular        regular       < 1955  spring   no\n",
       "15686    98117            545000.00  2856100185 2014-07-21     365000.00         2       1.00          680      2550    1.00           0          4      5         680              0      1901             0 47.68 -122.39  2014      7        regular    low-regular       < 1955  summer  yes\n",
       "5589     98033            678000.00  3982700125 2014-12-30     771000.00         4       2.50         2420      7200    2.00           0          3      9        2420              0      1991             0 47.69 -122.20  2014     12        regular   high-regular       > 1955  winter   no"
      ]
     },
     "execution_count": 96,
     "metadata": {},
     "output_type": "execute_result"
    }
   ],
   "source": [
    "# creating an auxiliary dataset containing prices grouped by zipcode\n",
    "aux = df5[['zipcode','buying_price']].groupby( 'zipcode' ).median().reset_index()\n",
    "\n",
    "# merging aux and df5 by the 'zipcode' column\n",
    "# inner: use intersection of keys from both frames, similar to a SQL inner join; preserve the order of the left keys\n",
    "df5_1 = pd.merge(aux, df5, on='zipcode', how ='inner')\n",
    "\n",
    "# renaming new generated columns\n",
    "df5_1 = df5_1.rename( columns = { 'buying_price_y' : 'buying_price', 'buying_price_x' : 'buying_price_median' } ) \n",
    "\n",
    "# Let's suggest 'yes' for 'buy' houses that have prices below the median price of the region and have good condition (> 3), assuming that those are houses below market price\n",
    "for i, row in df5_1.iterrows():\n",
    "    if ( row['buying_price'] <= row['buying_price_median'] ) & ( row['condition'] > 3 ):\n",
    "         df5_1.loc[i,'buy'] = 'yes'\n",
    "    else:\n",
    "         df5_1.loc[i,'buy'] = 'no'\n",
    "\n",
    "df5_1.sample(10)"
   ]
  },
  {
   "cell_type": "code",
   "execution_count": 80,
   "metadata": {},
   "outputs": [
    {
     "data": {
      "text/html": [
       "<div>\n",
       "<style scoped>\n",
       "    .dataframe tbody tr th:only-of-type {\n",
       "        vertical-align: middle;\n",
       "    }\n",
       "\n",
       "    .dataframe tbody tr th {\n",
       "        vertical-align: top;\n",
       "    }\n",
       "\n",
       "    .dataframe thead th {\n",
       "        text-align: right;\n",
       "    }\n",
       "</style>\n",
       "<table border=\"1\" class=\"dataframe\">\n",
       "  <thead>\n",
       "    <tr style=\"text-align: right;\">\n",
       "      <th></th>\n",
       "      <th>id</th>\n",
       "      <th>buying_price</th>\n",
       "      <th>buy</th>\n",
       "    </tr>\n",
       "  </thead>\n",
       "  <tbody>\n",
       "    <tr>\n",
       "      <th>2</th>\n",
       "      <td>6143600580</td>\n",
       "      <td>184000.00</td>\n",
       "      <td>yes</td>\n",
       "    </tr>\n",
       "    <tr>\n",
       "      <th>3</th>\n",
       "      <td>7696630080</td>\n",
       "      <td>197000.00</td>\n",
       "      <td>yes</td>\n",
       "    </tr>\n",
       "    <tr>\n",
       "      <th>8</th>\n",
       "      <td>3356402020</td>\n",
       "      <td>230000.00</td>\n",
       "      <td>yes</td>\n",
       "    </tr>\n",
       "    <tr>\n",
       "      <th>13</th>\n",
       "      <td>3751605432</td>\n",
       "      <td>239950.00</td>\n",
       "      <td>yes</td>\n",
       "    </tr>\n",
       "    <tr>\n",
       "      <th>20</th>\n",
       "      <td>4012800050</td>\n",
       "      <td>175000.00</td>\n",
       "      <td>yes</td>\n",
       "    </tr>\n",
       "  </tbody>\n",
       "</table>\n",
       "</div>"
      ],
      "text/plain": [
       "            id  buying_price  buy\n",
       "2   6143600580     184000.00  yes\n",
       "3   7696630080     197000.00  yes\n",
       "8   3356402020     230000.00  yes\n",
       "13  3751605432     239950.00  yes\n",
       "20  4012800050     175000.00  yes"
      ]
     },
     "execution_count": 80,
     "metadata": {},
     "output_type": "execute_result"
    }
   ],
   "source": [
    "# separating the data with 'buy' variable as 'yes'\n",
    "buy = df5_1[df5_1['buy'] == 'yes']\n",
    "\n",
    "# visualizing some of those selected houses in a table\n",
    "buy[['id', 'buying_price', 'buy']].head()"
   ]
  },
  {
   "cell_type": "code",
   "execution_count": 81,
   "metadata": {},
   "outputs": [],
   "source": [
    "# Which houses should House Rocket buy?\n",
    "houses_to_buy = buy['id'].to_list()"
   ]
  },
  {
   "cell_type": "code",
   "execution_count": 82,
   "metadata": {},
   "outputs": [
    {
     "name": "stdout",
     "output_type": "stream",
     "text": [
      "A total of 3844 houses are suggested for House Rocket to buy.\n"
     ]
    }
   ],
   "source": [
    "print( 'A total of {} houses are suggested for House Rocket to buy.'.format( buy.shape[0] ) )"
   ]
  },
  {
   "cell_type": "markdown",
   "metadata": {},
   "source": [
    "## Once bought, what is the best moment to sell the house and for what price?"
   ]
  },
  {
   "cell_type": "markdown",
   "metadata": {},
   "source": [
    "Assumptions:\n",
    "\n",
    "If the buying price is less than the median of the price by region and seasonality, selling price will be the buying price + 30%.\n",
    "\n",
    "If the buying price is greater than the median of the price by region and seasonality, selling price will be the buying price + 10%."
   ]
  },
  {
   "cell_type": "code",
   "execution_count": 97,
   "metadata": {},
   "outputs": [
    {
     "data": {
      "text/html": [
       "<div>\n",
       "<style scoped>\n",
       "    .dataframe tbody tr th:only-of-type {\n",
       "        vertical-align: middle;\n",
       "    }\n",
       "\n",
       "    .dataframe tbody tr th {\n",
       "        vertical-align: top;\n",
       "    }\n",
       "\n",
       "    .dataframe thead th {\n",
       "        text-align: right;\n",
       "    }\n",
       "</style>\n",
       "<table border=\"1\" class=\"dataframe\">\n",
       "  <thead>\n",
       "    <tr style=\"text-align: right;\">\n",
       "      <th></th>\n",
       "      <th>zipcode</th>\n",
       "      <th>buying_price_median</th>\n",
       "      <th>id</th>\n",
       "      <th>date</th>\n",
       "      <th>buying_price</th>\n",
       "      <th>bedrooms</th>\n",
       "      <th>bathrooms</th>\n",
       "      <th>sqft_living</th>\n",
       "      <th>sqft_lot</th>\n",
       "      <th>floors</th>\n",
       "      <th>waterfront</th>\n",
       "      <th>condition</th>\n",
       "      <th>grade</th>\n",
       "      <th>sqft_above</th>\n",
       "      <th>sqft_basement</th>\n",
       "      <th>yr_built</th>\n",
       "      <th>yr_renovated</th>\n",
       "      <th>lat</th>\n",
       "      <th>long</th>\n",
       "      <th>year</th>\n",
       "      <th>month</th>\n",
       "      <th>condition_type</th>\n",
       "      <th>building_level</th>\n",
       "      <th>construction</th>\n",
       "      <th>season</th>\n",
       "      <th>buy</th>\n",
       "      <th>season_median</th>\n",
       "      <th>buying_price_median_season</th>\n",
       "      <th>selling_price</th>\n",
       "    </tr>\n",
       "  </thead>\n",
       "  <tbody>\n",
       "    <tr>\n",
       "      <th>10002</th>\n",
       "      <td>98075</td>\n",
       "      <td>739999.50</td>\n",
       "      <td>224069105</td>\n",
       "      <td>2015-04-10</td>\n",
       "      <td>650100.00</td>\n",
       "      <td>2</td>\n",
       "      <td>1.00</td>\n",
       "      <td>1750</td>\n",
       "      <td>60872</td>\n",
       "      <td>1.00</td>\n",
       "      <td>0</td>\n",
       "      <td>4</td>\n",
       "      <td>7</td>\n",
       "      <td>1180</td>\n",
       "      <td>570</td>\n",
       "      <td>1973</td>\n",
       "      <td>0</td>\n",
       "      <td>47.59</td>\n",
       "      <td>-122.01</td>\n",
       "      <td>2015</td>\n",
       "      <td>4</td>\n",
       "      <td>regular</td>\n",
       "      <td>regular</td>\n",
       "      <td>&gt; 1955</td>\n",
       "      <td>spring</td>\n",
       "      <td>yes</td>\n",
       "      <td>summer</td>\n",
       "      <td>610000.00</td>\n",
       "      <td>715110.00</td>\n",
       "    </tr>\n",
       "    <tr>\n",
       "      <th>7952</th>\n",
       "      <td>98056</td>\n",
       "      <td>380000.00</td>\n",
       "      <td>7227502155</td>\n",
       "      <td>2014-07-14</td>\n",
       "      <td>208000.00</td>\n",
       "      <td>2</td>\n",
       "      <td>1.00</td>\n",
       "      <td>820</td>\n",
       "      <td>5700</td>\n",
       "      <td>1.00</td>\n",
       "      <td>0</td>\n",
       "      <td>5</td>\n",
       "      <td>5</td>\n",
       "      <td>820</td>\n",
       "      <td>0</td>\n",
       "      <td>1942</td>\n",
       "      <td>0</td>\n",
       "      <td>47.49</td>\n",
       "      <td>-122.18</td>\n",
       "      <td>2014</td>\n",
       "      <td>7</td>\n",
       "      <td>good</td>\n",
       "      <td>low-regular</td>\n",
       "      <td>&lt; 1955</td>\n",
       "      <td>summer</td>\n",
       "      <td>yes</td>\n",
       "      <td>fall</td>\n",
       "      <td>270000.00</td>\n",
       "      <td>270400.00</td>\n",
       "    </tr>\n",
       "    <tr>\n",
       "      <th>582</th>\n",
       "      <td>98002</td>\n",
       "      <td>235000.00</td>\n",
       "      <td>7889000125</td>\n",
       "      <td>2015-03-19</td>\n",
       "      <td>235000.00</td>\n",
       "      <td>3</td>\n",
       "      <td>1.00</td>\n",
       "      <td>1864</td>\n",
       "      <td>6978</td>\n",
       "      <td>1.00</td>\n",
       "      <td>0</td>\n",
       "      <td>4</td>\n",
       "      <td>7</td>\n",
       "      <td>1864</td>\n",
       "      <td>0</td>\n",
       "      <td>1958</td>\n",
       "      <td>0</td>\n",
       "      <td>47.28</td>\n",
       "      <td>-122.21</td>\n",
       "      <td>2015</td>\n",
       "      <td>3</td>\n",
       "      <td>regular</td>\n",
       "      <td>regular</td>\n",
       "      <td>&gt; 1955</td>\n",
       "      <td>spring</td>\n",
       "      <td>yes</td>\n",
       "      <td>summer</td>\n",
       "      <td>209950.00</td>\n",
       "      <td>258500.00</td>\n",
       "    </tr>\n",
       "    <tr>\n",
       "      <th>1544</th>\n",
       "      <td>98006</td>\n",
       "      <td>760184.50</td>\n",
       "      <td>1777500060</td>\n",
       "      <td>2014-07-08</td>\n",
       "      <td>527700.00</td>\n",
       "      <td>5</td>\n",
       "      <td>2.50</td>\n",
       "      <td>2820</td>\n",
       "      <td>9375</td>\n",
       "      <td>1.00</td>\n",
       "      <td>0</td>\n",
       "      <td>4</td>\n",
       "      <td>8</td>\n",
       "      <td>1550</td>\n",
       "      <td>1270</td>\n",
       "      <td>1968</td>\n",
       "      <td>0</td>\n",
       "      <td>47.57</td>\n",
       "      <td>-122.13</td>\n",
       "      <td>2014</td>\n",
       "      <td>7</td>\n",
       "      <td>regular</td>\n",
       "      <td>high-regular</td>\n",
       "      <td>&gt; 1955</td>\n",
       "      <td>summer</td>\n",
       "      <td>yes</td>\n",
       "      <td>fall</td>\n",
       "      <td>577500.00</td>\n",
       "      <td>686010.00</td>\n",
       "    </tr>\n",
       "    <tr>\n",
       "      <th>14887</th>\n",
       "      <td>98188</td>\n",
       "      <td>265000.00</td>\n",
       "      <td>5379801972</td>\n",
       "      <td>2014-08-18</td>\n",
       "      <td>265000.00</td>\n",
       "      <td>5</td>\n",
       "      <td>4.00</td>\n",
       "      <td>1400</td>\n",
       "      <td>8580</td>\n",
       "      <td>1.00</td>\n",
       "      <td>0</td>\n",
       "      <td>5</td>\n",
       "      <td>7</td>\n",
       "      <td>900</td>\n",
       "      <td>500</td>\n",
       "      <td>1954</td>\n",
       "      <td>0</td>\n",
       "      <td>47.46</td>\n",
       "      <td>-122.29</td>\n",
       "      <td>2014</td>\n",
       "      <td>8</td>\n",
       "      <td>good</td>\n",
       "      <td>regular</td>\n",
       "      <td>&lt; 1955</td>\n",
       "      <td>summer</td>\n",
       "      <td>yes</td>\n",
       "      <td>fall</td>\n",
       "      <td>245000.00</td>\n",
       "      <td>291500.00</td>\n",
       "    </tr>\n",
       "    <tr>\n",
       "      <th>9929</th>\n",
       "      <td>98075</td>\n",
       "      <td>739999.50</td>\n",
       "      <td>424069096</td>\n",
       "      <td>2014-07-31</td>\n",
       "      <td>460000.00</td>\n",
       "      <td>3</td>\n",
       "      <td>1.75</td>\n",
       "      <td>1400</td>\n",
       "      <td>12155</td>\n",
       "      <td>1.00</td>\n",
       "      <td>0</td>\n",
       "      <td>4</td>\n",
       "      <td>7</td>\n",
       "      <td>1400</td>\n",
       "      <td>0</td>\n",
       "      <td>1977</td>\n",
       "      <td>0</td>\n",
       "      <td>47.59</td>\n",
       "      <td>-122.05</td>\n",
       "      <td>2014</td>\n",
       "      <td>7</td>\n",
       "      <td>regular</td>\n",
       "      <td>regular</td>\n",
       "      <td>&gt; 1955</td>\n",
       "      <td>summer</td>\n",
       "      <td>yes</td>\n",
       "      <td>spring</td>\n",
       "      <td>650000.00</td>\n",
       "      <td>598000.00</td>\n",
       "    </tr>\n",
       "    <tr>\n",
       "      <th>4256</th>\n",
       "      <td>98029</td>\n",
       "      <td>574500.00</td>\n",
       "      <td>3904910480</td>\n",
       "      <td>2014-07-31</td>\n",
       "      <td>490000.00</td>\n",
       "      <td>3</td>\n",
       "      <td>2.50</td>\n",
       "      <td>2010</td>\n",
       "      <td>9725</td>\n",
       "      <td>2.00</td>\n",
       "      <td>0</td>\n",
       "      <td>4</td>\n",
       "      <td>8</td>\n",
       "      <td>2010</td>\n",
       "      <td>0</td>\n",
       "      <td>1987</td>\n",
       "      <td>0</td>\n",
       "      <td>47.57</td>\n",
       "      <td>-122.02</td>\n",
       "      <td>2014</td>\n",
       "      <td>7</td>\n",
       "      <td>regular</td>\n",
       "      <td>high-regular</td>\n",
       "      <td>&gt; 1955</td>\n",
       "      <td>summer</td>\n",
       "      <td>yes</td>\n",
       "      <td>summer</td>\n",
       "      <td>500000.00</td>\n",
       "      <td>637000.00</td>\n",
       "    </tr>\n",
       "    <tr>\n",
       "      <th>5186</th>\n",
       "      <td>98033</td>\n",
       "      <td>678000.00</td>\n",
       "      <td>1233100260</td>\n",
       "      <td>2014-11-14</td>\n",
       "      <td>490000.00</td>\n",
       "      <td>3</td>\n",
       "      <td>1.00</td>\n",
       "      <td>1260</td>\n",
       "      <td>9638</td>\n",
       "      <td>2.00</td>\n",
       "      <td>0</td>\n",
       "      <td>4</td>\n",
       "      <td>7</td>\n",
       "      <td>1260</td>\n",
       "      <td>0</td>\n",
       "      <td>1920</td>\n",
       "      <td>0</td>\n",
       "      <td>47.68</td>\n",
       "      <td>-122.18</td>\n",
       "      <td>2014</td>\n",
       "      <td>11</td>\n",
       "      <td>regular</td>\n",
       "      <td>regular</td>\n",
       "      <td>&lt; 1955</td>\n",
       "      <td>fall</td>\n",
       "      <td>yes</td>\n",
       "      <td>summer</td>\n",
       "      <td>567500.00</td>\n",
       "      <td>637000.00</td>\n",
       "    </tr>\n",
       "    <tr>\n",
       "      <th>8960</th>\n",
       "      <td>98059</td>\n",
       "      <td>435000.00</td>\n",
       "      <td>6649500040</td>\n",
       "      <td>2014-08-12</td>\n",
       "      <td>255000.00</td>\n",
       "      <td>3</td>\n",
       "      <td>1.00</td>\n",
       "      <td>1250</td>\n",
       "      <td>9472</td>\n",
       "      <td>1.00</td>\n",
       "      <td>0</td>\n",
       "      <td>4</td>\n",
       "      <td>6</td>\n",
       "      <td>1250</td>\n",
       "      <td>0</td>\n",
       "      <td>1972</td>\n",
       "      <td>0</td>\n",
       "      <td>47.49</td>\n",
       "      <td>-122.15</td>\n",
       "      <td>2014</td>\n",
       "      <td>8</td>\n",
       "      <td>regular</td>\n",
       "      <td>low-regular</td>\n",
       "      <td>&gt; 1955</td>\n",
       "      <td>summer</td>\n",
       "      <td>yes</td>\n",
       "      <td>fall</td>\n",
       "      <td>334950.00</td>\n",
       "      <td>331500.00</td>\n",
       "    </tr>\n",
       "    <tr>\n",
       "      <th>1924</th>\n",
       "      <td>98006</td>\n",
       "      <td>760184.50</td>\n",
       "      <td>2204500480</td>\n",
       "      <td>2015-01-07</td>\n",
       "      <td>551100.00</td>\n",
       "      <td>3</td>\n",
       "      <td>1.00</td>\n",
       "      <td>1430</td>\n",
       "      <td>8640</td>\n",
       "      <td>1.00</td>\n",
       "      <td>0</td>\n",
       "      <td>5</td>\n",
       "      <td>7</td>\n",
       "      <td>1430</td>\n",
       "      <td>0</td>\n",
       "      <td>1954</td>\n",
       "      <td>0</td>\n",
       "      <td>47.57</td>\n",
       "      <td>-122.15</td>\n",
       "      <td>2015</td>\n",
       "      <td>1</td>\n",
       "      <td>good</td>\n",
       "      <td>regular</td>\n",
       "      <td>&lt; 1955</td>\n",
       "      <td>winter</td>\n",
       "      <td>yes</td>\n",
       "      <td>fall</td>\n",
       "      <td>577500.00</td>\n",
       "      <td>716430.00</td>\n",
       "    </tr>\n",
       "  </tbody>\n",
       "</table>\n",
       "</div>"
      ],
      "text/plain": [
       "       zipcode  buying_price_median          id       date  buying_price  bedrooms  bathrooms  sqft_living  sqft_lot  floors  waterfront  condition  grade  sqft_above  sqft_basement  yr_built  yr_renovated   lat    long  year  month condition_type building_level construction  season  buy season_median  buying_price_median_season  selling_price\n",
       "10002    98075            739999.50   224069105 2015-04-10     650100.00         2       1.00         1750     60872    1.00           0          4      7        1180            570      1973             0 47.59 -122.01  2015      4        regular        regular       > 1955  spring  yes        summer                   610000.00      715110.00\n",
       "7952     98056            380000.00  7227502155 2014-07-14     208000.00         2       1.00          820      5700    1.00           0          5      5         820              0      1942             0 47.49 -122.18  2014      7           good    low-regular       < 1955  summer  yes          fall                   270000.00      270400.00\n",
       "582      98002            235000.00  7889000125 2015-03-19     235000.00         3       1.00         1864      6978    1.00           0          4      7        1864              0      1958             0 47.28 -122.21  2015      3        regular        regular       > 1955  spring  yes        summer                   209950.00      258500.00\n",
       "1544     98006            760184.50  1777500060 2014-07-08     527700.00         5       2.50         2820      9375    1.00           0          4      8        1550           1270      1968             0 47.57 -122.13  2014      7        regular   high-regular       > 1955  summer  yes          fall                   577500.00      686010.00\n",
       "14887    98188            265000.00  5379801972 2014-08-18     265000.00         5       4.00         1400      8580    1.00           0          5      7         900            500      1954             0 47.46 -122.29  2014      8           good        regular       < 1955  summer  yes          fall                   245000.00      291500.00\n",
       "9929     98075            739999.50   424069096 2014-07-31     460000.00         3       1.75         1400     12155    1.00           0          4      7        1400              0      1977             0 47.59 -122.05  2014      7        regular        regular       > 1955  summer  yes        spring                   650000.00      598000.00\n",
       "4256     98029            574500.00  3904910480 2014-07-31     490000.00         3       2.50         2010      9725    2.00           0          4      8        2010              0      1987             0 47.57 -122.02  2014      7        regular   high-regular       > 1955  summer  yes        summer                   500000.00      637000.00\n",
       "5186     98033            678000.00  1233100260 2014-11-14     490000.00         3       1.00         1260      9638    2.00           0          4      7        1260              0      1920             0 47.68 -122.18  2014     11        regular        regular       < 1955    fall  yes        summer                   567500.00      637000.00\n",
       "8960     98059            435000.00  6649500040 2014-08-12     255000.00         3       1.00         1250      9472    1.00           0          4      6        1250              0      1972             0 47.49 -122.15  2014      8        regular    low-regular       > 1955  summer  yes          fall                   334950.00      331500.00\n",
       "1924     98006            760184.50  2204500480 2015-01-07     551100.00         3       1.00         1430      8640    1.00           0          5      7        1430              0      1954             0 47.57 -122.15  2015      1           good        regular       < 1955  winter  yes          fall                   577500.00      716430.00"
      ]
     },
     "execution_count": 97,
     "metadata": {},
     "output_type": "execute_result"
    }
   ],
   "source": [
    "# group houses by region (zipcode) and seasonality (season) and calculate median of the price within region and seasonality\n",
    "df5_buy = df5_1[df5_1['buy'] == 'yes']\n",
    "aux = df5_buy[['buying_price','zipcode','season']].groupby( ['zipcode','season'] ).median().reset_index()\n",
    "\n",
    "# rename columns\n",
    "aux = aux.rename( columns = {'buying_price' : 'buying_price_median_season', 'season': 'season_median'} ) \n",
    "\n",
    "# merge datasets\n",
    "df5_2 = pd.merge( df5_buy, aux, on='zipcode', how = 'inner' )\n",
    "\n",
    "# add selling price according to assumptions\n",
    "for i, row in df5_2.iterrows():\n",
    "    if ( row['buying_price'] < row['buying_price_median_season'] ):\n",
    "         df5_2.loc[i, 'selling_price'] = row['buying_price'] * 1.3\n",
    "    else:\n",
    "         df5_2.loc[i, 'selling_price'] = row['buying_price'] * 1.1    \n",
    "            \n",
    "df5_2.sample(10)"
   ]
  }
 ],
 "metadata": {
  "hide_input": false,
  "kernelspec": {
   "display_name": "Python 3",
   "language": "python",
   "name": "python3"
  },
  "language_info": {
   "codemirror_mode": {
    "name": "ipython",
    "version": 3
   },
   "file_extension": ".py",
   "mimetype": "text/x-python",
   "name": "python",
   "nbconvert_exporter": "python",
   "pygments_lexer": "ipython3",
   "version": "3.8.10"
  },
  "toc": {
   "base_numbering": 1,
   "nav_menu": {},
   "number_sections": true,
   "sideBar": true,
   "skip_h1_title": false,
   "title_cell": "Table of Contents",
   "title_sidebar": "Contents",
   "toc_cell": false,
   "toc_position": {},
   "toc_section_display": true,
   "toc_window_display": false
  },
  "varInspector": {
   "cols": {
    "lenName": 16,
    "lenType": 16,
    "lenVar": 40
   },
   "kernels_config": {
    "python": {
     "delete_cmd_postfix": "",
     "delete_cmd_prefix": "del ",
     "library": "var_list.py",
     "varRefreshCmd": "print(var_dic_list())"
    },
    "r": {
     "delete_cmd_postfix": ") ",
     "delete_cmd_prefix": "rm(",
     "library": "var_list.r",
     "varRefreshCmd": "cat(var_dic_list()) "
    }
   },
   "types_to_exclude": [
    "module",
    "function",
    "builtin_function_or_method",
    "instance",
    "_Feature"
   ],
   "window_display": false
  }
 },
 "nbformat": 4,
 "nbformat_minor": 5
}
