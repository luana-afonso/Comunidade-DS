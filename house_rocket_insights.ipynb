{
 "cells": [
  {
   "cell_type": "markdown",
   "id": "4df3215c",
   "metadata": {},
   "source": [
    "# 0.0. IMPORTS"
   ]
  },
  {
   "cell_type": "code",
   "execution_count": 1,
   "id": "604a4559",
   "metadata": {},
   "outputs": [],
   "source": [
    "import numpy as np\n",
    "import pandas as pd\n",
    "import plotly.express as px\n",
    "import scipy.stats as ss\n",
    "import seaborn as sns\n",
    "import warnings\n",
    "\n",
    "from IPython.display       import Image\n",
    "from IPython.core.display  import HTML\n",
    "from matplotlib            import pyplot as plt"
   ]
  },
  {
   "cell_type": "markdown",
   "id": "1a69d6fc",
   "metadata": {},
   "source": [
    "## 0.1. Helper Functions"
   ]
  },
  {
   "cell_type": "code",
   "execution_count": 2,
   "id": "c57d5e5d",
   "metadata": {},
   "outputs": [
    {
     "name": "stdout",
     "output_type": "stream",
     "text": [
      "Populating the interactive namespace from numpy and matplotlib\n"
     ]
    },
    {
     "data": {
      "text/html": [
       "<style>.container { width:100% !important; }</style>"
      ],
      "text/plain": [
       "<IPython.core.display.HTML object>"
      ]
     },
     "metadata": {},
     "output_type": "display_data"
    }
   ],
   "source": [
    "# supress scientific notation\n",
    "pd.options.display.float_format = '{:.2f}'.format\n",
    "\n",
    "# graph options\n",
    "def jupyter_settings():\n",
    "    %matplotlib inline\n",
    "    %pylab inline\n",
    "    \n",
    "    plt.style.use( 'bmh' )\n",
    "    plt.rcParams['figure.figsize'] = [11, 7]\n",
    "    plt.rcParams['font.size'] = 24\n",
    "    \n",
    "    display( HTML( '<style>.container { width:100% !important; }</style>') )\n",
    "    pd.options.display.max_columns = None\n",
    "    pd.options.display.max_rows = None\n",
    "    pd.set_option( 'display.expand_frame_repr', False )\n",
    "    \n",
    "    sns.set()\n",
    "    \n",
    "jupyter_settings()\n",
    "\n",
    "warnings.filterwarnings('ignore')\n",
    "np.set_printoptions(suppress=True)"
   ]
  },
  {
   "cell_type": "markdown",
   "id": "c8e4de60",
   "metadata": {},
   "source": [
    "## 0.2. Loading Data"
   ]
  },
  {
   "cell_type": "code",
   "execution_count": 3,
   "id": "c4d544b0",
   "metadata": {},
   "outputs": [],
   "source": [
    "# loading data into memory\n",
    "data_raw = pd.read_csv('datasets/kc_house_data.csv')"
   ]
  },
  {
   "cell_type": "markdown",
   "id": "257530ff",
   "metadata": {},
   "source": [
    "# 1.0. STEP 01 - DATA DESCRIPTION"
   ]
  },
  {
   "cell_type": "code",
   "execution_count": 4,
   "id": "6f0feb99",
   "metadata": {},
   "outputs": [],
   "source": [
    "df1 = data_raw.copy()"
   ]
  },
  {
   "cell_type": "markdown",
   "id": "bbd0e4fd",
   "metadata": {},
   "source": [
    "## 1.1. Rename Columns"
   ]
  },
  {
   "cell_type": "markdown",
   "id": "591490d9",
   "metadata": {},
   "source": [
    "I won't change the name of any columns because I assume they are meaningful enough."
   ]
  },
  {
   "cell_type": "code",
   "execution_count": 5,
   "id": "b1476afb",
   "metadata": {},
   "outputs": [
    {
     "data": {
      "text/plain": [
       "Index(['id', 'date', 'price', 'bedrooms', 'bathrooms', 'sqft_living',\n",
       "       'sqft_lot', 'floors', 'waterfront', 'view', 'condition', 'grade',\n",
       "       'sqft_above', 'sqft_basement', 'yr_built', 'yr_renovated', 'zipcode',\n",
       "       'lat', 'long', 'sqft_living15', 'sqft_lot15'],\n",
       "      dtype='object')"
      ]
     },
     "execution_count": 5,
     "metadata": {},
     "output_type": "execute_result"
    }
   ],
   "source": [
    "df1.columns"
   ]
  },
  {
   "cell_type": "markdown",
   "id": "8c4652a3",
   "metadata": {},
   "source": [
    "Assuming that the description of the above features are as follows:\n",
    "\n",
    "id - Unique ID for each home sold\n",
    "\n",
    "date - Date of the home sale\n",
    "\n",
    "price - Price of each home sold\n",
    "\n",
    "bedrooms - Number of bedrooms\n",
    "\n",
    "bathrooms - Number of bathrooms, where .5 accounts for a room with a toilet but no shower\n",
    "\n",
    "sqft_living - Square footage of the apartments interior living space\n",
    "\n",
    "sqft_lot - Square footage of the land space\n",
    "\n",
    "floors - Number of floors\n",
    "\n",
    "waterfront - A variable for whether the apartment was overlooking the waterfront or not\n",
    "\n",
    "view - An index from 0 to 4 of how good the view of the property was\n",
    "\n",
    "condition - An index from 1 to 5 on the condition of the apartment\n",
    "\n",
    "grade - An index from 1 to 13, where 1-3 falls short of building construction and design, 7 has an average level of construction and design, and 11-13 have a high quality level of construction and design.\n",
    "\n",
    "sqft_above - The square footage of the interior housing space that is above ground level\n",
    "\n",
    "sqft_basement - The square footage of the interior housing space that is below ground level\n",
    "\n",
    "yr_built - The year the house was initially built\n",
    "\n",
    "yr_renovated - The year of the house’s last renovation\n",
    "\n",
    "zipcode - What zipcode area the house is in\n",
    "\n",
    "lat - Lattitude\n",
    "\n",
    "long - Longitude\n",
    "\n",
    "sqft_living15 - The square footage of interior housing living space for the nearest 15 neighbors\n",
    "\n",
    "sqft_lot15 - The square footage of the land lots of the nearest 15 neighbors \n",
    "\n",
    "Source: https://rstudio-pubs-static.s3.amazonaws.com/155304_cc51f448116744069664b35e7762999f.html"
   ]
  },
  {
   "cell_type": "markdown",
   "id": "0dd4f4ce",
   "metadata": {},
   "source": [
    "## 1.2. Data Dimensions"
   ]
  },
  {
   "cell_type": "code",
   "execution_count": 6,
   "id": "6515a882",
   "metadata": {},
   "outputs": [
    {
     "name": "stdout",
     "output_type": "stream",
     "text": [
      "The dataset has 21613 rows and 21 columns.\n"
     ]
    }
   ],
   "source": [
    "print( 'The dataset has {} rows and {} columns.'.format( df1.shape[0], df1.shape[1] ) )"
   ]
  },
  {
   "cell_type": "markdown",
   "id": "ba63e4b5",
   "metadata": {},
   "source": [
    "## 1.3. Data Types"
   ]
  },
  {
   "cell_type": "code",
   "execution_count": 7,
   "id": "ac929e4d",
   "metadata": {},
   "outputs": [
    {
     "data": {
      "text/plain": [
       "id                 int64\n",
       "date              object\n",
       "price            float64\n",
       "bedrooms           int64\n",
       "bathrooms        float64\n",
       "sqft_living        int64\n",
       "sqft_lot           int64\n",
       "floors           float64\n",
       "waterfront         int64\n",
       "view               int64\n",
       "condition          int64\n",
       "grade              int64\n",
       "sqft_above         int64\n",
       "sqft_basement      int64\n",
       "yr_built           int64\n",
       "yr_renovated       int64\n",
       "zipcode            int64\n",
       "lat              float64\n",
       "long             float64\n",
       "sqft_living15      int64\n",
       "sqft_lot15         int64\n",
       "dtype: object"
      ]
     },
     "execution_count": 7,
     "metadata": {},
     "output_type": "execute_result"
    }
   ],
   "source": [
    "df1.dtypes"
   ]
  },
  {
   "cell_type": "code",
   "execution_count": 8,
   "id": "8d26ec0f",
   "metadata": {},
   "outputs": [],
   "source": [
    "# converting data from object do datetime\n",
    "df1['date'] = pd.to_datetime( df1['date'], format='%Y-%m-%d' )"
   ]
  },
  {
   "cell_type": "code",
   "execution_count": 9,
   "id": "45eba6d6",
   "metadata": {},
   "outputs": [
    {
     "data": {
      "text/plain": [
       "id                        int64\n",
       "date             datetime64[ns]\n",
       "price                   float64\n",
       "bedrooms                  int64\n",
       "bathrooms               float64\n",
       "sqft_living               int64\n",
       "sqft_lot                  int64\n",
       "floors                  float64\n",
       "waterfront                int64\n",
       "view                      int64\n",
       "condition                 int64\n",
       "grade                     int64\n",
       "sqft_above                int64\n",
       "sqft_basement             int64\n",
       "yr_built                  int64\n",
       "yr_renovated              int64\n",
       "zipcode                   int64\n",
       "lat                     float64\n",
       "long                    float64\n",
       "sqft_living15             int64\n",
       "sqft_lot15                int64\n",
       "dtype: object"
      ]
     },
     "execution_count": 9,
     "metadata": {},
     "output_type": "execute_result"
    }
   ],
   "source": [
    "df1.dtypes"
   ]
  },
  {
   "cell_type": "markdown",
   "id": "ded50636",
   "metadata": {},
   "source": [
    "## 1.4. Check NA"
   ]
  },
  {
   "cell_type": "code",
   "execution_count": 10,
   "id": "7985fa08",
   "metadata": {},
   "outputs": [
    {
     "data": {
      "text/plain": [
       "id               0\n",
       "date             0\n",
       "price            0\n",
       "bedrooms         0\n",
       "bathrooms        0\n",
       "sqft_living      0\n",
       "sqft_lot         0\n",
       "floors           0\n",
       "waterfront       0\n",
       "view             0\n",
       "condition        0\n",
       "grade            0\n",
       "sqft_above       0\n",
       "sqft_basement    0\n",
       "yr_built         0\n",
       "yr_renovated     0\n",
       "zipcode          0\n",
       "lat              0\n",
       "long             0\n",
       "sqft_living15    0\n",
       "sqft_lot15       0\n",
       "dtype: int64"
      ]
     },
     "execution_count": 10,
     "metadata": {},
     "output_type": "execute_result"
    }
   ],
   "source": [
    "# show the sum of empty rows \n",
    "df1.isna().sum()"
   ]
  },
  {
   "cell_type": "markdown",
   "id": "991c29e4",
   "metadata": {},
   "source": [
    "## 1.5. Fillout NA"
   ]
  },
  {
   "cell_type": "markdown",
   "id": "00c37d01",
   "metadata": {},
   "source": [
    "This step is not necessary as we have no empty data."
   ]
  },
  {
   "cell_type": "markdown",
   "id": "70e3e0ea",
   "metadata": {},
   "source": [
    "## 1.6. Change Types"
   ]
  },
  {
   "cell_type": "markdown",
   "id": "f9ed87e2",
   "metadata": {},
   "source": [
    "This step is not necessary as we haven't altered the data in step 1.5."
   ]
  },
  {
   "cell_type": "markdown",
   "id": "a84e592c",
   "metadata": {},
   "source": [
    "## 1.7. Check Duplicates"
   ]
  },
  {
   "cell_type": "code",
   "execution_count": 11,
   "id": "8102bbe9",
   "metadata": {},
   "outputs": [
    {
     "data": {
      "text/html": [
       "<div>\n",
       "<style scoped>\n",
       "    .dataframe tbody tr th:only-of-type {\n",
       "        vertical-align: middle;\n",
       "    }\n",
       "\n",
       "    .dataframe tbody tr th {\n",
       "        vertical-align: top;\n",
       "    }\n",
       "\n",
       "    .dataframe thead th {\n",
       "        text-align: right;\n",
       "    }\n",
       "</style>\n",
       "<table border=\"1\" class=\"dataframe\">\n",
       "  <thead>\n",
       "    <tr style=\"text-align: right;\">\n",
       "      <th></th>\n",
       "      <th>id</th>\n",
       "      <th>date</th>\n",
       "      <th>price</th>\n",
       "      <th>bedrooms</th>\n",
       "      <th>bathrooms</th>\n",
       "      <th>sqft_living</th>\n",
       "      <th>sqft_lot</th>\n",
       "      <th>floors</th>\n",
       "      <th>waterfront</th>\n",
       "      <th>view</th>\n",
       "      <th>condition</th>\n",
       "      <th>grade</th>\n",
       "      <th>sqft_above</th>\n",
       "      <th>sqft_basement</th>\n",
       "      <th>yr_built</th>\n",
       "      <th>yr_renovated</th>\n",
       "      <th>zipcode</th>\n",
       "      <th>lat</th>\n",
       "      <th>long</th>\n",
       "      <th>sqft_living15</th>\n",
       "      <th>sqft_lot15</th>\n",
       "    </tr>\n",
       "  </thead>\n",
       "  <tbody>\n",
       "    <tr>\n",
       "      <th>2497</th>\n",
       "      <td>1000102</td>\n",
       "      <td>2015-04-22</td>\n",
       "      <td>300000.00</td>\n",
       "      <td>6</td>\n",
       "      <td>3.00</td>\n",
       "      <td>2400</td>\n",
       "      <td>9373</td>\n",
       "      <td>2.00</td>\n",
       "      <td>0</td>\n",
       "      <td>0</td>\n",
       "      <td>3</td>\n",
       "      <td>7</td>\n",
       "      <td>2400</td>\n",
       "      <td>0</td>\n",
       "      <td>1991</td>\n",
       "      <td>0</td>\n",
       "      <td>98002</td>\n",
       "      <td>47.33</td>\n",
       "      <td>-122.21</td>\n",
       "      <td>2060</td>\n",
       "      <td>7316</td>\n",
       "    </tr>\n",
       "    <tr>\n",
       "      <th>2496</th>\n",
       "      <td>1000102</td>\n",
       "      <td>2014-09-16</td>\n",
       "      <td>280000.00</td>\n",
       "      <td>6</td>\n",
       "      <td>3.00</td>\n",
       "      <td>2400</td>\n",
       "      <td>9373</td>\n",
       "      <td>2.00</td>\n",
       "      <td>0</td>\n",
       "      <td>0</td>\n",
       "      <td>3</td>\n",
       "      <td>7</td>\n",
       "      <td>2400</td>\n",
       "      <td>0</td>\n",
       "      <td>1991</td>\n",
       "      <td>0</td>\n",
       "      <td>98002</td>\n",
       "      <td>47.33</td>\n",
       "      <td>-122.21</td>\n",
       "      <td>2060</td>\n",
       "      <td>7316</td>\n",
       "    </tr>\n",
       "    <tr>\n",
       "      <th>6735</th>\n",
       "      <td>1200019</td>\n",
       "      <td>2014-05-08</td>\n",
       "      <td>647500.00</td>\n",
       "      <td>4</td>\n",
       "      <td>1.75</td>\n",
       "      <td>2060</td>\n",
       "      <td>26036</td>\n",
       "      <td>1.00</td>\n",
       "      <td>0</td>\n",
       "      <td>0</td>\n",
       "      <td>4</td>\n",
       "      <td>8</td>\n",
       "      <td>1160</td>\n",
       "      <td>900</td>\n",
       "      <td>1947</td>\n",
       "      <td>0</td>\n",
       "      <td>98166</td>\n",
       "      <td>47.44</td>\n",
       "      <td>-122.35</td>\n",
       "      <td>2590</td>\n",
       "      <td>21891</td>\n",
       "    </tr>\n",
       "    <tr>\n",
       "      <th>8411</th>\n",
       "      <td>1200021</td>\n",
       "      <td>2014-08-11</td>\n",
       "      <td>400000.00</td>\n",
       "      <td>3</td>\n",
       "      <td>1.00</td>\n",
       "      <td>1460</td>\n",
       "      <td>43000</td>\n",
       "      <td>1.00</td>\n",
       "      <td>0</td>\n",
       "      <td>0</td>\n",
       "      <td>3</td>\n",
       "      <td>7</td>\n",
       "      <td>1460</td>\n",
       "      <td>0</td>\n",
       "      <td>1952</td>\n",
       "      <td>0</td>\n",
       "      <td>98166</td>\n",
       "      <td>47.44</td>\n",
       "      <td>-122.35</td>\n",
       "      <td>2250</td>\n",
       "      <td>20023</td>\n",
       "    </tr>\n",
       "    <tr>\n",
       "      <th>8809</th>\n",
       "      <td>2800031</td>\n",
       "      <td>2015-04-01</td>\n",
       "      <td>235000.00</td>\n",
       "      <td>3</td>\n",
       "      <td>1.00</td>\n",
       "      <td>1430</td>\n",
       "      <td>7599</td>\n",
       "      <td>1.50</td>\n",
       "      <td>0</td>\n",
       "      <td>0</td>\n",
       "      <td>4</td>\n",
       "      <td>6</td>\n",
       "      <td>1010</td>\n",
       "      <td>420</td>\n",
       "      <td>1930</td>\n",
       "      <td>0</td>\n",
       "      <td>98168</td>\n",
       "      <td>47.48</td>\n",
       "      <td>-122.27</td>\n",
       "      <td>1290</td>\n",
       "      <td>10320</td>\n",
       "    </tr>\n",
       "  </tbody>\n",
       "</table>\n",
       "</div>"
      ],
      "text/plain": [
       "           id       date     price  bedrooms  bathrooms  sqft_living  sqft_lot  floors  waterfront  view  condition  grade  sqft_above  sqft_basement  yr_built  yr_renovated  zipcode   lat    long  sqft_living15  sqft_lot15\n",
       "2497  1000102 2015-04-22 300000.00         6       3.00         2400      9373    2.00           0     0          3      7        2400              0      1991             0    98002 47.33 -122.21           2060        7316\n",
       "2496  1000102 2014-09-16 280000.00         6       3.00         2400      9373    2.00           0     0          3      7        2400              0      1991             0    98002 47.33 -122.21           2060        7316\n",
       "6735  1200019 2014-05-08 647500.00         4       1.75         2060     26036    1.00           0     0          4      8        1160            900      1947             0    98166 47.44 -122.35           2590       21891\n",
       "8411  1200021 2014-08-11 400000.00         3       1.00         1460     43000    1.00           0     0          3      7        1460              0      1952             0    98166 47.44 -122.35           2250       20023\n",
       "8809  2800031 2015-04-01 235000.00         3       1.00         1430      7599    1.50           0     0          4      6        1010            420      1930             0    98168 47.48 -122.27           1290       10320"
      ]
     },
     "execution_count": 11,
     "metadata": {},
     "output_type": "execute_result"
    }
   ],
   "source": [
    "df1.sort_values('id').head(5)"
   ]
  },
  {
   "cell_type": "code",
   "execution_count": 12,
   "id": "38357953",
   "metadata": {},
   "outputs": [
    {
     "data": {
      "text/html": [
       "<div>\n",
       "<style scoped>\n",
       "    .dataframe tbody tr th:only-of-type {\n",
       "        vertical-align: middle;\n",
       "    }\n",
       "\n",
       "    .dataframe tbody tr th {\n",
       "        vertical-align: top;\n",
       "    }\n",
       "\n",
       "    .dataframe thead th {\n",
       "        text-align: right;\n",
       "    }\n",
       "</style>\n",
       "<table border=\"1\" class=\"dataframe\">\n",
       "  <thead>\n",
       "    <tr style=\"text-align: right;\">\n",
       "      <th></th>\n",
       "      <th>id</th>\n",
       "      <th>date</th>\n",
       "      <th>price</th>\n",
       "      <th>bedrooms</th>\n",
       "      <th>bathrooms</th>\n",
       "      <th>sqft_living</th>\n",
       "      <th>sqft_lot</th>\n",
       "      <th>floors</th>\n",
       "      <th>waterfront</th>\n",
       "      <th>view</th>\n",
       "      <th>condition</th>\n",
       "      <th>grade</th>\n",
       "      <th>sqft_above</th>\n",
       "      <th>sqft_basement</th>\n",
       "      <th>yr_built</th>\n",
       "      <th>yr_renovated</th>\n",
       "      <th>zipcode</th>\n",
       "      <th>lat</th>\n",
       "      <th>long</th>\n",
       "      <th>sqft_living15</th>\n",
       "      <th>sqft_lot15</th>\n",
       "    </tr>\n",
       "  </thead>\n",
       "  <tbody>\n",
       "    <tr>\n",
       "      <th>2497</th>\n",
       "      <td>1000102</td>\n",
       "      <td>2015-04-22</td>\n",
       "      <td>300000.00</td>\n",
       "      <td>6</td>\n",
       "      <td>3.00</td>\n",
       "      <td>2400</td>\n",
       "      <td>9373</td>\n",
       "      <td>2.00</td>\n",
       "      <td>0</td>\n",
       "      <td>0</td>\n",
       "      <td>3</td>\n",
       "      <td>7</td>\n",
       "      <td>2400</td>\n",
       "      <td>0</td>\n",
       "      <td>1991</td>\n",
       "      <td>0</td>\n",
       "      <td>98002</td>\n",
       "      <td>47.33</td>\n",
       "      <td>-122.21</td>\n",
       "      <td>2060</td>\n",
       "      <td>7316</td>\n",
       "    </tr>\n",
       "    <tr>\n",
       "      <th>6735</th>\n",
       "      <td>1200019</td>\n",
       "      <td>2014-05-08</td>\n",
       "      <td>647500.00</td>\n",
       "      <td>4</td>\n",
       "      <td>1.75</td>\n",
       "      <td>2060</td>\n",
       "      <td>26036</td>\n",
       "      <td>1.00</td>\n",
       "      <td>0</td>\n",
       "      <td>0</td>\n",
       "      <td>4</td>\n",
       "      <td>8</td>\n",
       "      <td>1160</td>\n",
       "      <td>900</td>\n",
       "      <td>1947</td>\n",
       "      <td>0</td>\n",
       "      <td>98166</td>\n",
       "      <td>47.44</td>\n",
       "      <td>-122.35</td>\n",
       "      <td>2590</td>\n",
       "      <td>21891</td>\n",
       "    </tr>\n",
       "    <tr>\n",
       "      <th>8411</th>\n",
       "      <td>1200021</td>\n",
       "      <td>2014-08-11</td>\n",
       "      <td>400000.00</td>\n",
       "      <td>3</td>\n",
       "      <td>1.00</td>\n",
       "      <td>1460</td>\n",
       "      <td>43000</td>\n",
       "      <td>1.00</td>\n",
       "      <td>0</td>\n",
       "      <td>0</td>\n",
       "      <td>3</td>\n",
       "      <td>7</td>\n",
       "      <td>1460</td>\n",
       "      <td>0</td>\n",
       "      <td>1952</td>\n",
       "      <td>0</td>\n",
       "      <td>98166</td>\n",
       "      <td>47.44</td>\n",
       "      <td>-122.35</td>\n",
       "      <td>2250</td>\n",
       "      <td>20023</td>\n",
       "    </tr>\n",
       "    <tr>\n",
       "      <th>8809</th>\n",
       "      <td>2800031</td>\n",
       "      <td>2015-04-01</td>\n",
       "      <td>235000.00</td>\n",
       "      <td>3</td>\n",
       "      <td>1.00</td>\n",
       "      <td>1430</td>\n",
       "      <td>7599</td>\n",
       "      <td>1.50</td>\n",
       "      <td>0</td>\n",
       "      <td>0</td>\n",
       "      <td>4</td>\n",
       "      <td>6</td>\n",
       "      <td>1010</td>\n",
       "      <td>420</td>\n",
       "      <td>1930</td>\n",
       "      <td>0</td>\n",
       "      <td>98168</td>\n",
       "      <td>47.48</td>\n",
       "      <td>-122.27</td>\n",
       "      <td>1290</td>\n",
       "      <td>10320</td>\n",
       "    </tr>\n",
       "    <tr>\n",
       "      <th>3557</th>\n",
       "      <td>3600057</td>\n",
       "      <td>2015-03-19</td>\n",
       "      <td>402500.00</td>\n",
       "      <td>4</td>\n",
       "      <td>2.00</td>\n",
       "      <td>1650</td>\n",
       "      <td>3504</td>\n",
       "      <td>1.00</td>\n",
       "      <td>0</td>\n",
       "      <td>0</td>\n",
       "      <td>3</td>\n",
       "      <td>7</td>\n",
       "      <td>760</td>\n",
       "      <td>890</td>\n",
       "      <td>1951</td>\n",
       "      <td>2013</td>\n",
       "      <td>98144</td>\n",
       "      <td>47.58</td>\n",
       "      <td>-122.29</td>\n",
       "      <td>1480</td>\n",
       "      <td>3504</td>\n",
       "    </tr>\n",
       "  </tbody>\n",
       "</table>\n",
       "</div>"
      ],
      "text/plain": [
       "           id       date     price  bedrooms  bathrooms  sqft_living  sqft_lot  floors  waterfront  view  condition  grade  sqft_above  sqft_basement  yr_built  yr_renovated  zipcode   lat    long  sqft_living15  sqft_lot15\n",
       "2497  1000102 2015-04-22 300000.00         6       3.00         2400      9373    2.00           0     0          3      7        2400              0      1991             0    98002 47.33 -122.21           2060        7316\n",
       "6735  1200019 2014-05-08 647500.00         4       1.75         2060     26036    1.00           0     0          4      8        1160            900      1947             0    98166 47.44 -122.35           2590       21891\n",
       "8411  1200021 2014-08-11 400000.00         3       1.00         1460     43000    1.00           0     0          3      7        1460              0      1952             0    98166 47.44 -122.35           2250       20023\n",
       "8809  2800031 2015-04-01 235000.00         3       1.00         1430      7599    1.50           0     0          4      6        1010            420      1930             0    98168 47.48 -122.27           1290       10320\n",
       "3557  3600057 2015-03-19 402500.00         4       2.00         1650      3504    1.00           0     0          3      7         760            890      1951          2013    98144 47.58 -122.29           1480        3504"
      ]
     },
     "execution_count": 12,
     "metadata": {},
     "output_type": "execute_result"
    }
   ],
   "source": [
    "# Removing duplicate houses from the dataset\n",
    "# first : Drop duplicates except for the first occurrence\n",
    "df1 = df1.drop_duplicates( subset=['id'], keep='last' )\n",
    "\n",
    "df1.sort_values('id').head(5)"
   ]
  },
  {
   "cell_type": "code",
   "execution_count": 13,
   "id": "49809586",
   "metadata": {},
   "outputs": [
    {
     "name": "stdout",
     "output_type": "stream",
     "text": [
      "The dataset now has 21436 rows and 21 columns.\n"
     ]
    }
   ],
   "source": [
    "print( 'The dataset now has {} rows and {} columns.'.format( df1.shape[0], df1.shape[1] ) )"
   ]
  },
  {
   "cell_type": "markdown",
   "id": "d1b9546a",
   "metadata": {},
   "source": [
    "## 1.8. Descriptive Statistics"
   ]
  },
  {
   "cell_type": "markdown",
   "id": "4f5ca906",
   "metadata": {},
   "source": [
    "## 1.8.1 Numerical Attributes"
   ]
  },
  {
   "cell_type": "code",
   "execution_count": 14,
   "id": "b06fd933",
   "metadata": {},
   "outputs": [],
   "source": [
    "num_attributes = df1.select_dtypes( include=['int64','float64'] )\n",
    "\n",
    "# removing ID column\n",
    "num_attributes = num_attributes.drop('id', axis=1 )"
   ]
  },
  {
   "cell_type": "code",
   "execution_count": 15,
   "id": "5e215140",
   "metadata": {},
   "outputs": [
    {
     "data": {
      "text/html": [
       "<div>\n",
       "<style scoped>\n",
       "    .dataframe tbody tr th:only-of-type {\n",
       "        vertical-align: middle;\n",
       "    }\n",
       "\n",
       "    .dataframe tbody tr th {\n",
       "        vertical-align: top;\n",
       "    }\n",
       "\n",
       "    .dataframe thead th {\n",
       "        text-align: right;\n",
       "    }\n",
       "</style>\n",
       "<table border=\"1\" class=\"dataframe\">\n",
       "  <thead>\n",
       "    <tr style=\"text-align: right;\">\n",
       "      <th></th>\n",
       "      <th>price</th>\n",
       "      <th>bedrooms</th>\n",
       "      <th>bathrooms</th>\n",
       "      <th>sqft_living</th>\n",
       "      <th>sqft_lot</th>\n",
       "      <th>floors</th>\n",
       "      <th>waterfront</th>\n",
       "      <th>view</th>\n",
       "      <th>condition</th>\n",
       "      <th>grade</th>\n",
       "      <th>sqft_above</th>\n",
       "      <th>sqft_basement</th>\n",
       "      <th>yr_built</th>\n",
       "      <th>yr_renovated</th>\n",
       "      <th>zipcode</th>\n",
       "      <th>lat</th>\n",
       "      <th>long</th>\n",
       "      <th>sqft_living15</th>\n",
       "      <th>sqft_lot15</th>\n",
       "    </tr>\n",
       "  </thead>\n",
       "  <tbody>\n",
       "    <tr>\n",
       "      <th>0</th>\n",
       "      <td>221900.00</td>\n",
       "      <td>3</td>\n",
       "      <td>1.00</td>\n",
       "      <td>1180</td>\n",
       "      <td>5650</td>\n",
       "      <td>1.00</td>\n",
       "      <td>0</td>\n",
       "      <td>0</td>\n",
       "      <td>3</td>\n",
       "      <td>7</td>\n",
       "      <td>1180</td>\n",
       "      <td>0</td>\n",
       "      <td>1955</td>\n",
       "      <td>0</td>\n",
       "      <td>98178</td>\n",
       "      <td>47.51</td>\n",
       "      <td>-122.26</td>\n",
       "      <td>1340</td>\n",
       "      <td>5650</td>\n",
       "    </tr>\n",
       "    <tr>\n",
       "      <th>1</th>\n",
       "      <td>538000.00</td>\n",
       "      <td>3</td>\n",
       "      <td>2.25</td>\n",
       "      <td>2570</td>\n",
       "      <td>7242</td>\n",
       "      <td>2.00</td>\n",
       "      <td>0</td>\n",
       "      <td>0</td>\n",
       "      <td>3</td>\n",
       "      <td>7</td>\n",
       "      <td>2170</td>\n",
       "      <td>400</td>\n",
       "      <td>1951</td>\n",
       "      <td>1991</td>\n",
       "      <td>98125</td>\n",
       "      <td>47.72</td>\n",
       "      <td>-122.32</td>\n",
       "      <td>1690</td>\n",
       "      <td>7639</td>\n",
       "    </tr>\n",
       "    <tr>\n",
       "      <th>2</th>\n",
       "      <td>180000.00</td>\n",
       "      <td>2</td>\n",
       "      <td>1.00</td>\n",
       "      <td>770</td>\n",
       "      <td>10000</td>\n",
       "      <td>1.00</td>\n",
       "      <td>0</td>\n",
       "      <td>0</td>\n",
       "      <td>3</td>\n",
       "      <td>6</td>\n",
       "      <td>770</td>\n",
       "      <td>0</td>\n",
       "      <td>1933</td>\n",
       "      <td>0</td>\n",
       "      <td>98028</td>\n",
       "      <td>47.74</td>\n",
       "      <td>-122.23</td>\n",
       "      <td>2720</td>\n",
       "      <td>8062</td>\n",
       "    </tr>\n",
       "    <tr>\n",
       "      <th>3</th>\n",
       "      <td>604000.00</td>\n",
       "      <td>4</td>\n",
       "      <td>3.00</td>\n",
       "      <td>1960</td>\n",
       "      <td>5000</td>\n",
       "      <td>1.00</td>\n",
       "      <td>0</td>\n",
       "      <td>0</td>\n",
       "      <td>5</td>\n",
       "      <td>7</td>\n",
       "      <td>1050</td>\n",
       "      <td>910</td>\n",
       "      <td>1965</td>\n",
       "      <td>0</td>\n",
       "      <td>98136</td>\n",
       "      <td>47.52</td>\n",
       "      <td>-122.39</td>\n",
       "      <td>1360</td>\n",
       "      <td>5000</td>\n",
       "    </tr>\n",
       "    <tr>\n",
       "      <th>4</th>\n",
       "      <td>510000.00</td>\n",
       "      <td>3</td>\n",
       "      <td>2.00</td>\n",
       "      <td>1680</td>\n",
       "      <td>8080</td>\n",
       "      <td>1.00</td>\n",
       "      <td>0</td>\n",
       "      <td>0</td>\n",
       "      <td>3</td>\n",
       "      <td>8</td>\n",
       "      <td>1680</td>\n",
       "      <td>0</td>\n",
       "      <td>1987</td>\n",
       "      <td>0</td>\n",
       "      <td>98074</td>\n",
       "      <td>47.62</td>\n",
       "      <td>-122.05</td>\n",
       "      <td>1800</td>\n",
       "      <td>7503</td>\n",
       "    </tr>\n",
       "  </tbody>\n",
       "</table>\n",
       "</div>"
      ],
      "text/plain": [
       "      price  bedrooms  bathrooms  sqft_living  sqft_lot  floors  waterfront  view  condition  grade  sqft_above  sqft_basement  yr_built  yr_renovated  zipcode   lat    long  sqft_living15  sqft_lot15\n",
       "0 221900.00         3       1.00         1180      5650    1.00           0     0          3      7        1180              0      1955             0    98178 47.51 -122.26           1340        5650\n",
       "1 538000.00         3       2.25         2570      7242    2.00           0     0          3      7        2170            400      1951          1991    98125 47.72 -122.32           1690        7639\n",
       "2 180000.00         2       1.00          770     10000    1.00           0     0          3      6         770              0      1933             0    98028 47.74 -122.23           2720        8062\n",
       "3 604000.00         4       3.00         1960      5000    1.00           0     0          5      7        1050            910      1965             0    98136 47.52 -122.39           1360        5000\n",
       "4 510000.00         3       2.00         1680      8080    1.00           0     0          3      8        1680              0      1987             0    98074 47.62 -122.05           1800        7503"
      ]
     },
     "execution_count": 15,
     "metadata": {},
     "output_type": "execute_result"
    }
   ],
   "source": [
    "num_attributes.head()"
   ]
  },
  {
   "cell_type": "code",
   "execution_count": 16,
   "id": "5770b5a8",
   "metadata": {},
   "outputs": [
    {
     "data": {
      "text/html": [
       "<div>\n",
       "<style scoped>\n",
       "    .dataframe tbody tr th:only-of-type {\n",
       "        vertical-align: middle;\n",
       "    }\n",
       "\n",
       "    .dataframe tbody tr th {\n",
       "        vertical-align: top;\n",
       "    }\n",
       "\n",
       "    .dataframe thead th {\n",
       "        text-align: right;\n",
       "    }\n",
       "</style>\n",
       "<table border=\"1\" class=\"dataframe\">\n",
       "  <thead>\n",
       "    <tr style=\"text-align: right;\">\n",
       "      <th></th>\n",
       "      <th>attributes</th>\n",
       "      <th>min</th>\n",
       "      <th>max</th>\n",
       "      <th>range</th>\n",
       "      <th>mean</th>\n",
       "      <th>median</th>\n",
       "      <th>std</th>\n",
       "      <th>skew</th>\n",
       "      <th>kurtosis</th>\n",
       "    </tr>\n",
       "  </thead>\n",
       "  <tbody>\n",
       "    <tr>\n",
       "      <th>0</th>\n",
       "      <td>price</td>\n",
       "      <td>75000.00</td>\n",
       "      <td>7700000.00</td>\n",
       "      <td>7625000.00</td>\n",
       "      <td>541649.96</td>\n",
       "      <td>450000.00</td>\n",
       "      <td>367306.36</td>\n",
       "      <td>4.04</td>\n",
       "      <td>34.73</td>\n",
       "    </tr>\n",
       "    <tr>\n",
       "      <th>1</th>\n",
       "      <td>bedrooms</td>\n",
       "      <td>0.00</td>\n",
       "      <td>33.00</td>\n",
       "      <td>33.00</td>\n",
       "      <td>3.37</td>\n",
       "      <td>3.00</td>\n",
       "      <td>0.93</td>\n",
       "      <td>1.99</td>\n",
       "      <td>49.64</td>\n",
       "    </tr>\n",
       "    <tr>\n",
       "      <th>2</th>\n",
       "      <td>bathrooms</td>\n",
       "      <td>0.00</td>\n",
       "      <td>8.00</td>\n",
       "      <td>8.00</td>\n",
       "      <td>2.12</td>\n",
       "      <td>2.25</td>\n",
       "      <td>0.77</td>\n",
       "      <td>0.51</td>\n",
       "      <td>1.29</td>\n",
       "    </tr>\n",
       "    <tr>\n",
       "      <th>3</th>\n",
       "      <td>sqft_living</td>\n",
       "      <td>290.00</td>\n",
       "      <td>13540.00</td>\n",
       "      <td>13250.00</td>\n",
       "      <td>2082.70</td>\n",
       "      <td>1920.00</td>\n",
       "      <td>919.13</td>\n",
       "      <td>1.47</td>\n",
       "      <td>5.25</td>\n",
       "    </tr>\n",
       "    <tr>\n",
       "      <th>4</th>\n",
       "      <td>sqft_lot</td>\n",
       "      <td>520.00</td>\n",
       "      <td>1651359.00</td>\n",
       "      <td>1650839.00</td>\n",
       "      <td>15135.64</td>\n",
       "      <td>7614.00</td>\n",
       "      <td>41537.65</td>\n",
       "      <td>13.04</td>\n",
       "      <td>284.08</td>\n",
       "    </tr>\n",
       "    <tr>\n",
       "      <th>5</th>\n",
       "      <td>floors</td>\n",
       "      <td>1.00</td>\n",
       "      <td>3.50</td>\n",
       "      <td>2.50</td>\n",
       "      <td>1.50</td>\n",
       "      <td>1.50</td>\n",
       "      <td>0.54</td>\n",
       "      <td>0.61</td>\n",
       "      <td>-0.49</td>\n",
       "    </tr>\n",
       "    <tr>\n",
       "      <th>6</th>\n",
       "      <td>waterfront</td>\n",
       "      <td>0.00</td>\n",
       "      <td>1.00</td>\n",
       "      <td>1.00</td>\n",
       "      <td>0.01</td>\n",
       "      <td>0.00</td>\n",
       "      <td>0.09</td>\n",
       "      <td>11.34</td>\n",
       "      <td>126.55</td>\n",
       "    </tr>\n",
       "    <tr>\n",
       "      <th>7</th>\n",
       "      <td>view</td>\n",
       "      <td>0.00</td>\n",
       "      <td>4.00</td>\n",
       "      <td>4.00</td>\n",
       "      <td>0.24</td>\n",
       "      <td>0.00</td>\n",
       "      <td>0.77</td>\n",
       "      <td>3.39</td>\n",
       "      <td>10.83</td>\n",
       "    </tr>\n",
       "    <tr>\n",
       "      <th>8</th>\n",
       "      <td>condition</td>\n",
       "      <td>1.00</td>\n",
       "      <td>5.00</td>\n",
       "      <td>4.00</td>\n",
       "      <td>3.41</td>\n",
       "      <td>3.00</td>\n",
       "      <td>0.65</td>\n",
       "      <td>1.04</td>\n",
       "      <td>0.52</td>\n",
       "    </tr>\n",
       "    <tr>\n",
       "      <th>9</th>\n",
       "      <td>grade</td>\n",
       "      <td>1.00</td>\n",
       "      <td>13.00</td>\n",
       "      <td>12.00</td>\n",
       "      <td>7.66</td>\n",
       "      <td>7.00</td>\n",
       "      <td>1.17</td>\n",
       "      <td>0.77</td>\n",
       "      <td>1.19</td>\n",
       "    </tr>\n",
       "    <tr>\n",
       "      <th>10</th>\n",
       "      <td>sqft_above</td>\n",
       "      <td>290.00</td>\n",
       "      <td>9410.00</td>\n",
       "      <td>9120.00</td>\n",
       "      <td>1790.96</td>\n",
       "      <td>1560.00</td>\n",
       "      <td>829.01</td>\n",
       "      <td>1.44</td>\n",
       "      <td>3.40</td>\n",
       "    </tr>\n",
       "    <tr>\n",
       "      <th>11</th>\n",
       "      <td>sqft_basement</td>\n",
       "      <td>0.00</td>\n",
       "      <td>4820.00</td>\n",
       "      <td>4820.00</td>\n",
       "      <td>291.74</td>\n",
       "      <td>0.00</td>\n",
       "      <td>442.77</td>\n",
       "      <td>1.58</td>\n",
       "      <td>2.71</td>\n",
       "    </tr>\n",
       "    <tr>\n",
       "      <th>12</th>\n",
       "      <td>yr_built</td>\n",
       "      <td>1900.00</td>\n",
       "      <td>2015.00</td>\n",
       "      <td>115.00</td>\n",
       "      <td>1971.10</td>\n",
       "      <td>1975.00</td>\n",
       "      <td>29.38</td>\n",
       "      <td>-0.47</td>\n",
       "      <td>-0.65</td>\n",
       "    </tr>\n",
       "    <tr>\n",
       "      <th>13</th>\n",
       "      <td>yr_renovated</td>\n",
       "      <td>0.00</td>\n",
       "      <td>2015.00</td>\n",
       "      <td>2015.00</td>\n",
       "      <td>84.73</td>\n",
       "      <td>0.00</td>\n",
       "      <td>402.42</td>\n",
       "      <td>4.54</td>\n",
       "      <td>18.61</td>\n",
       "    </tr>\n",
       "    <tr>\n",
       "      <th>14</th>\n",
       "      <td>zipcode</td>\n",
       "      <td>98001.00</td>\n",
       "      <td>98199.00</td>\n",
       "      <td>198.00</td>\n",
       "      <td>98077.86</td>\n",
       "      <td>98065.00</td>\n",
       "      <td>53.47</td>\n",
       "      <td>0.41</td>\n",
       "      <td>-0.85</td>\n",
       "    </tr>\n",
       "    <tr>\n",
       "      <th>15</th>\n",
       "      <td>lat</td>\n",
       "      <td>47.16</td>\n",
       "      <td>47.78</td>\n",
       "      <td>0.62</td>\n",
       "      <td>47.56</td>\n",
       "      <td>47.57</td>\n",
       "      <td>0.14</td>\n",
       "      <td>-0.49</td>\n",
       "      <td>-0.67</td>\n",
       "    </tr>\n",
       "    <tr>\n",
       "      <th>16</th>\n",
       "      <td>long</td>\n",
       "      <td>-122.52</td>\n",
       "      <td>-121.31</td>\n",
       "      <td>1.20</td>\n",
       "      <td>-122.21</td>\n",
       "      <td>-122.23</td>\n",
       "      <td>0.14</td>\n",
       "      <td>0.88</td>\n",
       "      <td>1.05</td>\n",
       "    </tr>\n",
       "    <tr>\n",
       "      <th>17</th>\n",
       "      <td>sqft_living15</td>\n",
       "      <td>399.00</td>\n",
       "      <td>6210.00</td>\n",
       "      <td>5811.00</td>\n",
       "      <td>1988.31</td>\n",
       "      <td>1840.00</td>\n",
       "      <td>685.68</td>\n",
       "      <td>1.11</td>\n",
       "      <td>1.59</td>\n",
       "    </tr>\n",
       "    <tr>\n",
       "      <th>18</th>\n",
       "      <td>sqft_lot15</td>\n",
       "      <td>651.00</td>\n",
       "      <td>871200.00</td>\n",
       "      <td>870549.00</td>\n",
       "      <td>12785.96</td>\n",
       "      <td>7620.00</td>\n",
       "      <td>27374.83</td>\n",
       "      <td>9.50</td>\n",
       "      <td>150.32</td>\n",
       "    </tr>\n",
       "  </tbody>\n",
       "</table>\n",
       "</div>"
      ],
      "text/plain": [
       "       attributes      min        max      range      mean    median       std  skew  kurtosis\n",
       "0           price 75000.00 7700000.00 7625000.00 541649.96 450000.00 367306.36  4.04     34.73\n",
       "1        bedrooms     0.00      33.00      33.00      3.37      3.00      0.93  1.99     49.64\n",
       "2       bathrooms     0.00       8.00       8.00      2.12      2.25      0.77  0.51      1.29\n",
       "3     sqft_living   290.00   13540.00   13250.00   2082.70   1920.00    919.13  1.47      5.25\n",
       "4        sqft_lot   520.00 1651359.00 1650839.00  15135.64   7614.00  41537.65 13.04    284.08\n",
       "5          floors     1.00       3.50       2.50      1.50      1.50      0.54  0.61     -0.49\n",
       "6      waterfront     0.00       1.00       1.00      0.01      0.00      0.09 11.34    126.55\n",
       "7            view     0.00       4.00       4.00      0.24      0.00      0.77  3.39     10.83\n",
       "8       condition     1.00       5.00       4.00      3.41      3.00      0.65  1.04      0.52\n",
       "9           grade     1.00      13.00      12.00      7.66      7.00      1.17  0.77      1.19\n",
       "10     sqft_above   290.00    9410.00    9120.00   1790.96   1560.00    829.01  1.44      3.40\n",
       "11  sqft_basement     0.00    4820.00    4820.00    291.74      0.00    442.77  1.58      2.71\n",
       "12       yr_built  1900.00    2015.00     115.00   1971.10   1975.00     29.38 -0.47     -0.65\n",
       "13   yr_renovated     0.00    2015.00    2015.00     84.73      0.00    402.42  4.54     18.61\n",
       "14        zipcode 98001.00   98199.00     198.00  98077.86  98065.00     53.47  0.41     -0.85\n",
       "15            lat    47.16      47.78       0.62     47.56     47.57      0.14 -0.49     -0.67\n",
       "16           long  -122.52    -121.31       1.20   -122.21   -122.23      0.14  0.88      1.05\n",
       "17  sqft_living15   399.00    6210.00    5811.00   1988.31   1840.00    685.68  1.11      1.59\n",
       "18     sqft_lot15   651.00  871200.00  870549.00  12785.96   7620.00  27374.83  9.50    150.32"
      ]
     },
     "execution_count": 16,
     "metadata": {},
     "output_type": "execute_result"
    }
   ],
   "source": [
    "# central tendency\n",
    "mean = pd.DataFrame( num_attributes.apply( np.mean ) ).T\n",
    "median = pd.DataFrame( num_attributes.apply( np.median ) ).T\n",
    "\n",
    "# dispersion\n",
    "std = pd.DataFrame( num_attributes.apply( np.std )).T\n",
    "min_ = pd.DataFrame( num_attributes.apply( min )).T\n",
    "max_ = pd.DataFrame( num_attributes.apply( max )).T\n",
    "range_ = pd.DataFrame( num_attributes.apply( lambda x: x.max() - x.min() )).T\n",
    "skew = pd.DataFrame( num_attributes.apply( lambda x: x.skew() )).T\n",
    "kurtosis = pd.DataFrame( num_attributes.apply( lambda x: x.kurtosis() )).T\n",
    "\n",
    "m = pd.concat( [min_,max_,range_,mean,median,std,skew,kurtosis] ).T.reset_index()\n",
    "\n",
    "# rename columns\n",
    "m.columns = ['attributes','min','max','range','mean','median','std','skew','kurtosis']\n",
    "m"
   ]
  },
  {
   "cell_type": "code",
   "execution_count": 17,
   "id": "c34ff033",
   "metadata": {},
   "outputs": [
    {
     "data": {
      "text/html": [
       "<div>\n",
       "<style scoped>\n",
       "    .dataframe tbody tr th:only-of-type {\n",
       "        vertical-align: middle;\n",
       "    }\n",
       "\n",
       "    .dataframe tbody tr th {\n",
       "        vertical-align: top;\n",
       "    }\n",
       "\n",
       "    .dataframe thead th {\n",
       "        text-align: right;\n",
       "    }\n",
       "</style>\n",
       "<table border=\"1\" class=\"dataframe\">\n",
       "  <thead>\n",
       "    <tr style=\"text-align: right;\">\n",
       "      <th></th>\n",
       "      <th>id</th>\n",
       "      <th>date</th>\n",
       "      <th>price</th>\n",
       "      <th>bedrooms</th>\n",
       "      <th>bathrooms</th>\n",
       "      <th>sqft_living</th>\n",
       "      <th>sqft_lot</th>\n",
       "      <th>floors</th>\n",
       "      <th>waterfront</th>\n",
       "      <th>view</th>\n",
       "      <th>condition</th>\n",
       "      <th>grade</th>\n",
       "      <th>sqft_above</th>\n",
       "      <th>sqft_basement</th>\n",
       "      <th>yr_built</th>\n",
       "      <th>yr_renovated</th>\n",
       "      <th>zipcode</th>\n",
       "      <th>lat</th>\n",
       "      <th>long</th>\n",
       "      <th>sqft_living15</th>\n",
       "      <th>sqft_lot15</th>\n",
       "    </tr>\n",
       "  </thead>\n",
       "  <tbody>\n",
       "    <tr>\n",
       "      <th>15870</th>\n",
       "      <td>2402100895</td>\n",
       "      <td>2014-06-25</td>\n",
       "      <td>640000.00</td>\n",
       "      <td>33</td>\n",
       "      <td>1.75</td>\n",
       "      <td>1620</td>\n",
       "      <td>6000</td>\n",
       "      <td>1.00</td>\n",
       "      <td>0</td>\n",
       "      <td>0</td>\n",
       "      <td>5</td>\n",
       "      <td>7</td>\n",
       "      <td>1040</td>\n",
       "      <td>580</td>\n",
       "      <td>1947</td>\n",
       "      <td>0</td>\n",
       "      <td>98103</td>\n",
       "      <td>47.69</td>\n",
       "      <td>-122.33</td>\n",
       "      <td>1330</td>\n",
       "      <td>4700</td>\n",
       "    </tr>\n",
       "  </tbody>\n",
       "</table>\n",
       "</div>"
      ],
      "text/plain": [
       "               id       date     price  bedrooms  bathrooms  sqft_living  sqft_lot  floors  waterfront  view  condition  grade  sqft_above  sqft_basement  yr_built  yr_renovated  zipcode   lat    long  sqft_living15  sqft_lot15\n",
       "15870  2402100895 2014-06-25 640000.00        33       1.75         1620      6000    1.00           0     0          5      7        1040            580      1947             0    98103 47.69 -122.33           1330        4700"
      ]
     },
     "execution_count": 17,
     "metadata": {},
     "output_type": "execute_result"
    }
   ],
   "source": [
    "# evaluating bedrooms == 33 \n",
    "\n",
    "aux = df1[df1['bedrooms'] == 33]\n",
    "aux\n",
    "\n",
    "# If this house had 33 bedrooms indeed, it would be expected (much) higher 'sqft_living' and 'sqft_lot'. Therefore, this house is deleted from the dataset."
   ]
  },
  {
   "cell_type": "code",
   "execution_count": 18,
   "id": "9b51ee65",
   "metadata": {},
   "outputs": [],
   "source": [
    "df1 = df1.drop(15870)"
   ]
  },
  {
   "cell_type": "code",
   "execution_count": 19,
   "id": "5c36e712",
   "metadata": {},
   "outputs": [
    {
     "data": {
      "text/plain": [
       "array([ 3,  2,  4,  5,  1,  6,  7,  0,  8,  9, 11, 10], dtype=int64)"
      ]
     },
     "execution_count": 19,
     "metadata": {},
     "output_type": "execute_result"
    }
   ],
   "source": [
    "df1['bedrooms'].unique()"
   ]
  },
  {
   "cell_type": "markdown",
   "id": "177c288d",
   "metadata": {},
   "source": [
    "# 2.0. STEP 02 - FEATURE ENGINEERING"
   ]
  },
  {
   "cell_type": "code",
   "execution_count": 20,
   "id": "962262b1",
   "metadata": {},
   "outputs": [],
   "source": [
    "df2 = df1.copy()"
   ]
  },
  {
   "cell_type": "markdown",
   "id": "3981c5da",
   "metadata": {},
   "source": [
    "## 2.1. Hypothesis List"
   ]
  },
  {
   "cell_type": "markdown",
   "id": "d8c23840",
   "metadata": {},
   "source": [
    "H1: Waterfront houses are 30% more expensive, on average.\n",
    "\n",
    "H2: Houses constructed before 1955 are 50% cheaper, on average.\n",
    "\n",
    "H3: Houses without a basement have a total area (sqrt_lot) that is 40% larger than properties with basements.\n",
    "\n",
    "H4: YoY (Year over Year) house price growth is 10%.\n",
    "\n",
    "H5: Houses with 3 bathrooms have a MoM (Month over Month) growth of 15%.\n",
    "\n",
    "H6: Houses with conditions above index 3 (inclusive) are about 40% more expensive, on average, than houses with conditions 1 and 2.\n",
    "\n",
    "H7: Houses with the highest level of construction and design quality (grade: 11-13) are 70% more expensive on average.\n",
    "\n",
    "H8: Unrenovated houses are 20% cheaper, on average, than houses that have been renovated at least once.\n",
    "\n",
    "H9: More than 50% of water view properties have more than 1 floor.\n",
    "\n",
    "H10: The larger the area of land, the higher the price of the house. "
   ]
  },
  {
   "cell_type": "markdown",
   "id": "178e6dea",
   "metadata": {},
   "source": [
    "## 2.4. Feature Engineering"
   ]
  },
  {
   "cell_type": "code",
   "execution_count": 21,
   "id": "6519b25e",
   "metadata": {},
   "outputs": [
    {
     "data": {
      "text/html": [
       "<div>\n",
       "<style scoped>\n",
       "    .dataframe tbody tr th:only-of-type {\n",
       "        vertical-align: middle;\n",
       "    }\n",
       "\n",
       "    .dataframe tbody tr th {\n",
       "        vertical-align: top;\n",
       "    }\n",
       "\n",
       "    .dataframe thead th {\n",
       "        text-align: right;\n",
       "    }\n",
       "</style>\n",
       "<table border=\"1\" class=\"dataframe\">\n",
       "  <thead>\n",
       "    <tr style=\"text-align: right;\">\n",
       "      <th></th>\n",
       "      <th>0</th>\n",
       "      <th>1</th>\n",
       "      <th>2</th>\n",
       "      <th>3</th>\n",
       "      <th>4</th>\n",
       "    </tr>\n",
       "  </thead>\n",
       "  <tbody>\n",
       "    <tr>\n",
       "      <th>id</th>\n",
       "      <td>7129300520</td>\n",
       "      <td>6414100192</td>\n",
       "      <td>5631500400</td>\n",
       "      <td>2487200875</td>\n",
       "      <td>1954400510</td>\n",
       "    </tr>\n",
       "    <tr>\n",
       "      <th>date</th>\n",
       "      <td>2014-10-13 00:00:00</td>\n",
       "      <td>2014-12-09 00:00:00</td>\n",
       "      <td>2015-02-25 00:00:00</td>\n",
       "      <td>2014-12-09 00:00:00</td>\n",
       "      <td>2015-02-18 00:00:00</td>\n",
       "    </tr>\n",
       "    <tr>\n",
       "      <th>price</th>\n",
       "      <td>221900.00</td>\n",
       "      <td>538000.00</td>\n",
       "      <td>180000.00</td>\n",
       "      <td>604000.00</td>\n",
       "      <td>510000.00</td>\n",
       "    </tr>\n",
       "    <tr>\n",
       "      <th>bedrooms</th>\n",
       "      <td>3</td>\n",
       "      <td>3</td>\n",
       "      <td>2</td>\n",
       "      <td>4</td>\n",
       "      <td>3</td>\n",
       "    </tr>\n",
       "    <tr>\n",
       "      <th>bathrooms</th>\n",
       "      <td>1.00</td>\n",
       "      <td>2.25</td>\n",
       "      <td>1.00</td>\n",
       "      <td>3.00</td>\n",
       "      <td>2.00</td>\n",
       "    </tr>\n",
       "    <tr>\n",
       "      <th>sqft_living</th>\n",
       "      <td>1180</td>\n",
       "      <td>2570</td>\n",
       "      <td>770</td>\n",
       "      <td>1960</td>\n",
       "      <td>1680</td>\n",
       "    </tr>\n",
       "    <tr>\n",
       "      <th>sqft_lot</th>\n",
       "      <td>5650</td>\n",
       "      <td>7242</td>\n",
       "      <td>10000</td>\n",
       "      <td>5000</td>\n",
       "      <td>8080</td>\n",
       "    </tr>\n",
       "    <tr>\n",
       "      <th>floors</th>\n",
       "      <td>1.00</td>\n",
       "      <td>2.00</td>\n",
       "      <td>1.00</td>\n",
       "      <td>1.00</td>\n",
       "      <td>1.00</td>\n",
       "    </tr>\n",
       "    <tr>\n",
       "      <th>waterfront</th>\n",
       "      <td>0</td>\n",
       "      <td>0</td>\n",
       "      <td>0</td>\n",
       "      <td>0</td>\n",
       "      <td>0</td>\n",
       "    </tr>\n",
       "    <tr>\n",
       "      <th>view</th>\n",
       "      <td>0</td>\n",
       "      <td>0</td>\n",
       "      <td>0</td>\n",
       "      <td>0</td>\n",
       "      <td>0</td>\n",
       "    </tr>\n",
       "    <tr>\n",
       "      <th>condition</th>\n",
       "      <td>3</td>\n",
       "      <td>3</td>\n",
       "      <td>3</td>\n",
       "      <td>5</td>\n",
       "      <td>3</td>\n",
       "    </tr>\n",
       "    <tr>\n",
       "      <th>grade</th>\n",
       "      <td>7</td>\n",
       "      <td>7</td>\n",
       "      <td>6</td>\n",
       "      <td>7</td>\n",
       "      <td>8</td>\n",
       "    </tr>\n",
       "    <tr>\n",
       "      <th>sqft_above</th>\n",
       "      <td>1180</td>\n",
       "      <td>2170</td>\n",
       "      <td>770</td>\n",
       "      <td>1050</td>\n",
       "      <td>1680</td>\n",
       "    </tr>\n",
       "    <tr>\n",
       "      <th>sqft_basement</th>\n",
       "      <td>0</td>\n",
       "      <td>400</td>\n",
       "      <td>0</td>\n",
       "      <td>910</td>\n",
       "      <td>0</td>\n",
       "    </tr>\n",
       "    <tr>\n",
       "      <th>yr_built</th>\n",
       "      <td>1955</td>\n",
       "      <td>1951</td>\n",
       "      <td>1933</td>\n",
       "      <td>1965</td>\n",
       "      <td>1987</td>\n",
       "    </tr>\n",
       "    <tr>\n",
       "      <th>yr_renovated</th>\n",
       "      <td>0</td>\n",
       "      <td>1991</td>\n",
       "      <td>0</td>\n",
       "      <td>0</td>\n",
       "      <td>0</td>\n",
       "    </tr>\n",
       "    <tr>\n",
       "      <th>zipcode</th>\n",
       "      <td>98178</td>\n",
       "      <td>98125</td>\n",
       "      <td>98028</td>\n",
       "      <td>98136</td>\n",
       "      <td>98074</td>\n",
       "    </tr>\n",
       "    <tr>\n",
       "      <th>lat</th>\n",
       "      <td>47.51</td>\n",
       "      <td>47.72</td>\n",
       "      <td>47.74</td>\n",
       "      <td>47.52</td>\n",
       "      <td>47.62</td>\n",
       "    </tr>\n",
       "    <tr>\n",
       "      <th>long</th>\n",
       "      <td>-122.26</td>\n",
       "      <td>-122.32</td>\n",
       "      <td>-122.23</td>\n",
       "      <td>-122.39</td>\n",
       "      <td>-122.05</td>\n",
       "    </tr>\n",
       "    <tr>\n",
       "      <th>sqft_living15</th>\n",
       "      <td>1340</td>\n",
       "      <td>1690</td>\n",
       "      <td>2720</td>\n",
       "      <td>1360</td>\n",
       "      <td>1800</td>\n",
       "    </tr>\n",
       "    <tr>\n",
       "      <th>sqft_lot15</th>\n",
       "      <td>5650</td>\n",
       "      <td>7639</td>\n",
       "      <td>8062</td>\n",
       "      <td>5000</td>\n",
       "      <td>7503</td>\n",
       "    </tr>\n",
       "    <tr>\n",
       "      <th>year</th>\n",
       "      <td>2014</td>\n",
       "      <td>2014</td>\n",
       "      <td>2015</td>\n",
       "      <td>2014</td>\n",
       "      <td>2015</td>\n",
       "    </tr>\n",
       "    <tr>\n",
       "      <th>month</th>\n",
       "      <td>10</td>\n",
       "      <td>12</td>\n",
       "      <td>2</td>\n",
       "      <td>12</td>\n",
       "      <td>2</td>\n",
       "    </tr>\n",
       "    <tr>\n",
       "      <th>condition_type</th>\n",
       "      <td>regular</td>\n",
       "      <td>regular</td>\n",
       "      <td>regular</td>\n",
       "      <td>good</td>\n",
       "      <td>regular</td>\n",
       "    </tr>\n",
       "    <tr>\n",
       "      <th>building_level</th>\n",
       "      <td>regular</td>\n",
       "      <td>regular</td>\n",
       "      <td>low-regular</td>\n",
       "      <td>regular</td>\n",
       "      <td>high-regular</td>\n",
       "    </tr>\n",
       "    <tr>\n",
       "      <th>construction</th>\n",
       "      <td>&lt; 1955</td>\n",
       "      <td>&lt; 1955</td>\n",
       "      <td>&lt; 1955</td>\n",
       "      <td>&gt; 1955</td>\n",
       "      <td>&gt; 1955</td>\n",
       "    </tr>\n",
       "    <tr>\n",
       "      <th>season</th>\n",
       "      <td>fall</td>\n",
       "      <td>winter</td>\n",
       "      <td>winter</td>\n",
       "      <td>winter</td>\n",
       "      <td>winter</td>\n",
       "    </tr>\n",
       "  </tbody>\n",
       "</table>\n",
       "</div>"
      ],
      "text/plain": [
       "                                  0                    1                    2                    3                    4\n",
       "id                       7129300520           6414100192           5631500400           2487200875           1954400510\n",
       "date            2014-10-13 00:00:00  2014-12-09 00:00:00  2015-02-25 00:00:00  2014-12-09 00:00:00  2015-02-18 00:00:00\n",
       "price                     221900.00            538000.00            180000.00            604000.00            510000.00\n",
       "bedrooms                          3                    3                    2                    4                    3\n",
       "bathrooms                      1.00                 2.25                 1.00                 3.00                 2.00\n",
       "sqft_living                    1180                 2570                  770                 1960                 1680\n",
       "sqft_lot                       5650                 7242                10000                 5000                 8080\n",
       "floors                         1.00                 2.00                 1.00                 1.00                 1.00\n",
       "waterfront                        0                    0                    0                    0                    0\n",
       "view                              0                    0                    0                    0                    0\n",
       "condition                         3                    3                    3                    5                    3\n",
       "grade                             7                    7                    6                    7                    8\n",
       "sqft_above                     1180                 2170                  770                 1050                 1680\n",
       "sqft_basement                     0                  400                    0                  910                    0\n",
       "yr_built                       1955                 1951                 1933                 1965                 1987\n",
       "yr_renovated                      0                 1991                    0                    0                    0\n",
       "zipcode                       98178                98125                98028                98136                98074\n",
       "lat                           47.51                47.72                47.74                47.52                47.62\n",
       "long                        -122.26              -122.32              -122.23              -122.39              -122.05\n",
       "sqft_living15                  1340                 1690                 2720                 1360                 1800\n",
       "sqft_lot15                     5650                 7639                 8062                 5000                 7503\n",
       "year                           2014                 2014                 2015                 2014                 2015\n",
       "month                            10                   12                    2                   12                    2\n",
       "condition_type              regular              regular              regular                 good              regular\n",
       "building_level              regular              regular          low-regular              regular         high-regular\n",
       "construction                 < 1955               < 1955               < 1955               > 1955               > 1955\n",
       "season                         fall               winter               winter               winter               winter"
      ]
     },
     "execution_count": 21,
     "metadata": {},
     "output_type": "execute_result"
    }
   ],
   "source": [
    "# year: extracted from date\n",
    "df2['year'] = df2['date'].dt.year\n",
    "\n",
    "# month: extracted from date\n",
    "df2['month'] = df2['date'].dt.month\n",
    "\n",
    "# condition_type: bad (condition <= 2), regular (condition 3-4) or good (condition == 5)\n",
    "df2['condition_type'] = df2['condition'].apply( lambda x: 'bad' if x <= 2 else 'good' if x == 5 else 'regular')\n",
    "\n",
    "# building_level: low (grade 1-3), low-regular (grade 4-6), regular (grade == 7), high-regular (grade 8-10), high (grade 11-13)\n",
    "df2['building_level'] = df2['grade'].apply( lambda x: 'low' if x <= 3 else 'low-regular' if (x >= 4) & (x <= 6) else 'regular' if x == 7 else 'high-regular' if (x >= 8) & (x <= 10) else 'high' )  \n",
    "\n",
    "# construction: before and after of construction year 1955\n",
    "df2['construction'] = df2['yr_built'].apply( lambda x: '> 1955' if x > 1955 else '< 1955' )\n",
    "\n",
    "# Assuming the following seasons:\n",
    "# Winter – December, January and February.\n",
    "# Spring – March, April and May.\n",
    "# Summer – June, July and August.\n",
    "# Autumn – September, October and November.\n",
    "df2['season'] = df2['month'].apply( lambda x: 'summer' if (x > 5) & (x <= 8) else \n",
    "                                             'spring' if (x > 2) & (x <= 5) else \n",
    "                                             'fall' if (x > 8) & (x < 12) else 'winter' )\n",
    "\n",
    "df2.head().T"
   ]
  },
  {
   "cell_type": "code",
   "execution_count": 22,
   "id": "626551f6",
   "metadata": {},
   "outputs": [
    {
     "data": {
      "text/plain": [
       "id                         int64\n",
       "date              datetime64[ns]\n",
       "price                    float64\n",
       "bedrooms                   int64\n",
       "bathrooms                float64\n",
       "sqft_living                int64\n",
       "sqft_lot                   int64\n",
       "floors                   float64\n",
       "waterfront                 int64\n",
       "view                       int64\n",
       "condition                  int64\n",
       "grade                      int64\n",
       "sqft_above                 int64\n",
       "sqft_basement              int64\n",
       "yr_built                   int64\n",
       "yr_renovated               int64\n",
       "zipcode                    int64\n",
       "lat                      float64\n",
       "long                     float64\n",
       "sqft_living15              int64\n",
       "sqft_lot15                 int64\n",
       "year                       int64\n",
       "month                      int64\n",
       "condition_type            object\n",
       "building_level            object\n",
       "construction              object\n",
       "season                    object\n",
       "dtype: object"
      ]
     },
     "execution_count": 22,
     "metadata": {},
     "output_type": "execute_result"
    }
   ],
   "source": [
    "df2.dtypes"
   ]
  },
  {
   "cell_type": "markdown",
   "id": "1165ae58",
   "metadata": {},
   "source": [
    "# 3.0. STEP 03 - VARIABLES FILTERING"
   ]
  },
  {
   "cell_type": "markdown",
   "id": "8ef07429",
   "metadata": {},
   "source": [
    "No filtering will be performed in this stage."
   ]
  },
  {
   "cell_type": "markdown",
   "id": "e4dae60d",
   "metadata": {},
   "source": [
    "# 4.0. STEP 04 - EXPLORATORY DATA ANALYSIS"
   ]
  },
  {
   "cell_type": "code",
   "execution_count": 23,
   "id": "c59a750e",
   "metadata": {},
   "outputs": [],
   "source": [
    "df4 = df2.copy()"
   ]
  },
  {
   "cell_type": "markdown",
   "id": "1026765b",
   "metadata": {},
   "source": [
    "## 4.1. Univariate Analysis"
   ]
  },
  {
   "cell_type": "code",
   "execution_count": 24,
   "id": "b0882138",
   "metadata": {},
   "outputs": [
    {
     "data": {
      "text/plain": [
       "<seaborn.axisgrid.FacetGrid at 0x22eeb2fe940>"
      ]
     },
     "execution_count": 24,
     "metadata": {},
     "output_type": "execute_result"
    },
    {
     "data": {
      "image/png": "[encoded data removed]",
      "text/plain": [
       "<Figure size 1440x720 with 1 Axes>"
      ]
     },
     "metadata": {},
     "output_type": "display_data"
    }
   ],
   "source": [
    "sns.displot( df4['price'], kde=True, height=10, aspect=2 )\n",
    "# aspect: Aspect ratio of each facet, so that aspect * height gives the width of each facet in inches."
   ]
  },
  {
   "cell_type": "code",
   "execution_count": 25,
   "id": "007a6a5e",
   "metadata": {},
   "outputs": [
    {
     "data": {
      "text/plain": [
       "<seaborn.axisgrid.FacetGrid at 0x22eeb2fe820>"
      ]
     },
     "execution_count": 25,
     "metadata": {},
     "output_type": "execute_result"
    },
    {
     "data": {
      "image/png": "[encoded data removed]",
      "text/plain": [
       "<Figure size 1440x720 with 1 Axes>"
      ]
     },
     "metadata": {},
     "output_type": "display_data"
    }
   ],
   "source": [
    "sns.displot( df4['yr_built'], kde=True, height=10, aspect=2 )"
   ]
  },
  {
   "cell_type": "code",
   "execution_count": 26,
   "id": "b83ab322",
   "metadata": {},
   "outputs": [
    {
     "data": {
      "text/plain": [
       "<seaborn.axisgrid.FacetGrid at 0x22eede563a0>"
      ]
     },
     "execution_count": 26,
     "metadata": {},
     "output_type": "execute_result"
    },
    {
     "data": {
      "image/png": "[encoded data removed]",
      "text/plain": [
       "<Figure size 1440x720 with 1 Axes>"
      ]
     },
     "metadata": {},
     "output_type": "display_data"
    }
   ],
   "source": [
    "sns.displot( df4['yr_renovated'], kde=True, height=10, aspect=2 )"
   ]
  },
  {
   "cell_type": "markdown",
   "id": "6d5147e5",
   "metadata": {},
   "source": [
    "## 4.2. Bivariate Analysis"
   ]
  },
  {
   "cell_type": "markdown",
   "id": "b7e1262b",
   "metadata": {},
   "source": [
    "### H1: Waterfront houses are 30% more expensive, on average. \n",
    "False: The average house price with a view of the water is about 211.76% higher."
   ]
  },
  {
   "cell_type": "code",
   "execution_count": 27,
   "id": "f7ec1536",
   "metadata": {},
   "outputs": [
    {
     "name": "stdout",
     "output_type": "stream",
     "text": [
      "There are 163 waterfront houses in the dataset.\n"
     ]
    }
   ],
   "source": [
    "# how many houses are waterfront?\n",
    "print( 'There are {} waterfront houses in the dataset.'.format( df4.loc[df4['waterfront'] == 1].shape[0] ) )"
   ]
  },
  {
   "cell_type": "code",
   "execution_count": 28,
   "id": "88dd017d",
   "metadata": {},
   "outputs": [
    {
     "name": "stdout",
     "output_type": "stream",
     "text": [
      "There are 21272 no waterfront houses in the dataset.\n"
     ]
    }
   ],
   "source": [
    "# how many houses are NOT waterfront?\n",
    "print( 'There are {} no waterfront houses in the dataset.'.format( df4.loc[df4['waterfront'] == 0].shape[0] ) )"
   ]
  },
  {
   "cell_type": "code",
   "execution_count": 29,
   "id": "22416df7",
   "metadata": {},
   "outputs": [
    {
     "data": {
      "text/html": [
       "<div>\n",
       "<style scoped>\n",
       "    .dataframe tbody tr th:only-of-type {\n",
       "        vertical-align: middle;\n",
       "    }\n",
       "\n",
       "    .dataframe tbody tr th {\n",
       "        vertical-align: top;\n",
       "    }\n",
       "\n",
       "    .dataframe thead th {\n",
       "        text-align: right;\n",
       "    }\n",
       "</style>\n",
       "<table border=\"1\" class=\"dataframe\">\n",
       "  <thead>\n",
       "    <tr style=\"text-align: right;\">\n",
       "      <th></th>\n",
       "      <th>waterfront</th>\n",
       "      <th>price</th>\n",
       "    </tr>\n",
       "  </thead>\n",
       "  <tbody>\n",
       "    <tr>\n",
       "      <th>0</th>\n",
       "      <td>0</td>\n",
       "      <td>533061.43</td>\n",
       "    </tr>\n",
       "    <tr>\n",
       "      <th>1</th>\n",
       "      <td>1</td>\n",
       "      <td>1661876.02</td>\n",
       "    </tr>\n",
       "  </tbody>\n",
       "</table>\n",
       "</div>"
      ],
      "text/plain": [
       "   waterfront      price\n",
       "0           0  533061.43\n",
       "1           1 1661876.02"
      ]
     },
     "execution_count": 29,
     "metadata": {},
     "output_type": "execute_result"
    }
   ],
   "source": [
    "# grouping by waterfront and checking price averages\n",
    "aux = df4[['waterfront','price']].groupby('waterfront').mean().reset_index()\n",
    "aux"
   ]
  },
  {
   "cell_type": "code",
   "execution_count": 30,
   "id": "7703447a",
   "metadata": {},
   "outputs": [
    {
     "name": "stdout",
     "output_type": "stream",
     "text": [
      "The average house price with a view of the water is about 211.76% higher.\n"
     ]
    }
   ],
   "source": [
    "aux2 = (( abs( aux['price'][0] - aux['price'][1] )  ) / aux['price'][0]) * 100 \n",
    "print( 'The average house price with a view of the water is about {:.2f}% higher.'.format( aux2 ) )"
   ]
  },
  {
   "cell_type": "code",
   "execution_count": 31,
   "id": "6b3ffcd7",
   "metadata": {},
   "outputs": [
    {
     "data": {
      "image/png": "[encoded data removed]",
      "text/plain": [
       "<Figure size 792x504 with 1 Axes>"
      ]
     },
     "metadata": {},
     "output_type": "display_data"
    }
   ],
   "source": [
    "# plot\n",
    "sns.barplot(df4['waterfront'], df4['price']);"
   ]
  },
  {
   "cell_type": "markdown",
   "id": "298e97fd",
   "metadata": {},
   "source": [
    "### H2: Houses constructed before 1955 are 50% cheaper, on average."
   ]
  },
  {
   "cell_type": "markdown",
   "id": "69999f07",
   "metadata": {},
   "source": [
    "False: Houses constructed before 1955 are 1.40% cheaper, on average."
   ]
  },
  {
   "cell_type": "code",
   "execution_count": 32,
   "id": "699251a4",
   "metadata": {},
   "outputs": [
    {
     "data": {
      "text/html": [
       "<div>\n",
       "<style scoped>\n",
       "    .dataframe tbody tr th:only-of-type {\n",
       "        vertical-align: middle;\n",
       "    }\n",
       "\n",
       "    .dataframe tbody tr th {\n",
       "        vertical-align: top;\n",
       "    }\n",
       "\n",
       "    .dataframe thead th {\n",
       "        text-align: right;\n",
       "    }\n",
       "</style>\n",
       "<table border=\"1\" class=\"dataframe\">\n",
       "  <thead>\n",
       "    <tr style=\"text-align: right;\">\n",
       "      <th></th>\n",
       "      <th>construction</th>\n",
       "      <th>price</th>\n",
       "    </tr>\n",
       "  </thead>\n",
       "  <tbody>\n",
       "    <tr>\n",
       "      <th>0</th>\n",
       "      <td>&lt; 1955</td>\n",
       "      <td>536359.76</td>\n",
       "    </tr>\n",
       "    <tr>\n",
       "      <th>1</th>\n",
       "      <td>&gt; 1955</td>\n",
       "      <td>543873.83</td>\n",
       "    </tr>\n",
       "  </tbody>\n",
       "</table>\n",
       "</div>"
      ],
      "text/plain": [
       "  construction     price\n",
       "0       < 1955 536359.76\n",
       "1       > 1955 543873.83"
      ]
     },
     "execution_count": 32,
     "metadata": {},
     "output_type": "execute_result"
    }
   ],
   "source": [
    "# grouping by construction (before and after 1955) and checking price averages\n",
    "aux = df4[['construction','price']].groupby( 'construction' ).mean().reset_index()\n",
    "aux"
   ]
  },
  {
   "cell_type": "code",
   "execution_count": 33,
   "id": "1a4ccfb3",
   "metadata": {},
   "outputs": [
    {
     "name": "stdout",
     "output_type": "stream",
     "text": [
      "Houses constructed before 1955 are 1.40% cheaper, on average.\n"
     ]
    }
   ],
   "source": [
    "aux2 = (( abs( aux['price'][0] - aux['price'][1] )  ) / aux['price'][0]) * 100 \n",
    "\n",
    "print( 'Houses constructed before 1955 are {:.2f}% cheaper, on average.'.format( aux2 ) )"
   ]
  },
  {
   "cell_type": "code",
   "execution_count": 34,
   "id": "88500cb6",
   "metadata": {},
   "outputs": [
    {
     "data": {
      "image/png": "[encoded data removed]",
      "text/plain": [
       "<Figure size 792x504 with 1 Axes>"
      ]
     },
     "metadata": {},
     "output_type": "display_data"
    }
   ],
   "source": [
    "sns.barplot( df4['construction'], df4['price'] );"
   ]
  },
  {
   "cell_type": "markdown",
   "id": "29587e80",
   "metadata": {},
   "source": [
    "### H3: Houses without basement have a total area (sqrt_lot) that is 40% larger than houses with basements."
   ]
  },
  {
   "cell_type": "markdown",
   "id": "e7df5489",
   "metadata": {},
   "source": [
    "False: Houses without basement have a total area (sqrt_lot) that is 18.55% larger than houses with basements."
   ]
  },
  {
   "cell_type": "code",
   "execution_count": 35,
   "id": "cbaa64b3",
   "metadata": {},
   "outputs": [
    {
     "name": "stdout",
     "output_type": "stream",
     "text": [
      "Houses without basement have a total area (sqrt_lot) that is 18.55% larger than houses with basements.\n"
     ]
    }
   ],
   "source": [
    "# assuming that if the house has more than 0 of sqft_basement, it has a basement\n",
    "without_basement = df4[df4['sqft_basement'] == 0]\n",
    "with_basement = df4[df4['sqft_basement'] > 0]\n",
    "\n",
    "aux = ( ( abs( without_basement['sqft_lot'].mean() - with_basement['sqft_lot'].mean() ) ) / without_basement['sqft_lot'].mean() )*100\n",
    "\n",
    "print ( 'Houses without basement have a total area (sqrt_lot) that is {:.2f}% larger than houses with basements.'.format( aux ) )"
   ]
  },
  {
   "cell_type": "markdown",
   "id": "c04f3a34",
   "metadata": {},
   "source": [
    "### H4: YoY (Year over Year) house price growth is 10%."
   ]
  },
  {
   "cell_type": "markdown",
   "id": "52e7527b",
   "metadata": {},
   "source": [
    "False: YoY (Year over Year) house price growth is 0.18%."
   ]
  },
  {
   "cell_type": "code",
   "execution_count": 36,
   "id": "245be93e",
   "metadata": {},
   "outputs": [
    {
     "data": {
      "text/html": [
       "<div>\n",
       "<style scoped>\n",
       "    .dataframe tbody tr th:only-of-type {\n",
       "        vertical-align: middle;\n",
       "    }\n",
       "\n",
       "    .dataframe tbody tr th {\n",
       "        vertical-align: top;\n",
       "    }\n",
       "\n",
       "    .dataframe thead th {\n",
       "        text-align: right;\n",
       "    }\n",
       "</style>\n",
       "<table border=\"1\" class=\"dataframe\">\n",
       "  <thead>\n",
       "    <tr style=\"text-align: right;\">\n",
       "      <th></th>\n",
       "      <th>year</th>\n",
       "      <th>price</th>\n",
       "    </tr>\n",
       "  </thead>\n",
       "  <tbody>\n",
       "    <tr>\n",
       "      <th>0</th>\n",
       "      <td>2014</td>\n",
       "      <td>7829223260.00</td>\n",
       "    </tr>\n",
       "    <tr>\n",
       "      <th>1</th>\n",
       "      <td>2015</td>\n",
       "      <td>3780945341.00</td>\n",
       "    </tr>\n",
       "  </tbody>\n",
       "</table>\n",
       "</div>"
      ],
      "text/plain": [
       "   year         price\n",
       "0  2014 7829223260.00\n",
       "1  2015 3780945341.00"
      ]
     },
     "execution_count": 36,
     "metadata": {},
     "output_type": "execute_result"
    }
   ],
   "source": [
    "# grouping by year and checking prices sum\n",
    "aux = df4[['year','price']].groupby( 'year' ).sum().reset_index()\n",
    "aux"
   ]
  },
  {
   "cell_type": "code",
   "execution_count": 37,
   "id": "7d675920",
   "metadata": {},
   "outputs": [
    {
     "name": "stdout",
     "output_type": "stream",
     "text": [
      "YoY (Year over Year) house price growth is 51.71%.\n"
     ]
    }
   ],
   "source": [
    "aux2 = ( ( abs( aux['price'][0] - aux['price'][1] ) ) / aux['price'][0] ) * 100\n",
    "\n",
    "print ( 'YoY (Year over Year) house price growth is {:.2f}%.'.format( aux2 ) )"
   ]
  },
  {
   "cell_type": "code",
   "execution_count": 38,
   "id": "5bfc853a",
   "metadata": {},
   "outputs": [
    {
     "data": {
      "image/png": "[encoded data removed]",
      "text/plain": [
       "<Figure size 792x504 with 1 Axes>"
      ]
     },
     "metadata": {},
     "output_type": "display_data"
    }
   ],
   "source": [
    "sns.barplot(df4['year'], df4['price']);"
   ]
  },
  {
   "cell_type": "code",
   "execution_count": 39,
   "id": "8c6e2a59",
   "metadata": {},
   "outputs": [
    {
     "data": {
      "image/png": "[encoded data removed]",
      "text/plain": [
       "<Figure size 792x504 with 1 Axes>"
      ]
     },
     "metadata": {},
     "output_type": "display_data"
    }
   ],
   "source": [
    "sns.lineplot(data = df4, x = 'year',  y = 'price' );"
   ]
  },
  {
   "cell_type": "markdown",
   "id": "d25d3253",
   "metadata": {},
   "source": [
    "### H5: Houses with 3 bathrooms have a MoM (Month over Month) growth of 15%."
   ]
  },
  {
   "cell_type": "markdown",
   "id": "d39869d3",
   "metadata": {},
   "source": [
    "False. Prices go up and down along the months."
   ]
  },
  {
   "cell_type": "code",
   "execution_count": 40,
   "id": "b0ed5bc0",
   "metadata": {},
   "outputs": [
    {
     "data": {
      "text/plain": [
       "<AxesSubplot:xlabel='month', ylabel='price'>"
      ]
     },
     "execution_count": 40,
     "metadata": {},
     "output_type": "execute_result"
    },
    {
     "data": {
      "image/png": "[encoded data removed]",
      "text/plain": [
       "<Figure size 792x504 with 1 Axes>"
      ]
     },
     "metadata": {},
     "output_type": "display_data"
    }
   ],
   "source": [
    "# separating houses with 3 bathrooms in a new dataset\n",
    "with_3_baths = df4.loc[df4['bathrooms'] == 3,:]\n",
    "\n",
    "# grouping by month and summing the prices\n",
    "aux = with_3_baths[['month','price']].groupby( 'month' ).sum().reset_index()\n",
    "\n",
    "sns.lineplot(data = with_3_baths, x = 'month',  y = 'price' )"
   ]
  },
  {
   "cell_type": "markdown",
   "id": "447a9cab",
   "metadata": {},
   "source": [
    "### H6: Houses with conditions above index 3 (inclusive) are about 40% more expensive, on average, than houses with conditions 1 and 2."
   ]
  },
  {
   "cell_type": "markdown",
   "id": "105fdecf",
   "metadata": {},
   "source": [
    "True: Houses with conditions of index 3 are 38.48% more expensive than houses with conditions 1 and 2, on average."
   ]
  },
  {
   "cell_type": "code",
   "execution_count": 41,
   "id": "f712f01e",
   "metadata": {},
   "outputs": [
    {
     "name": "stdout",
     "output_type": "stream",
     "text": [
      "Houses with conditions of index 3 are 38.48% more expensive than houses with conditions 1 and 2, on average.\n"
     ]
    }
   ],
   "source": [
    "# Strategy\n",
    "# Group houses with conditions >= 3 and their prices in a new dataset\n",
    "# Group houses with conditions 1 or 2 and their prices in a new dataset\n",
    "# Compare the mean of these 2 datasets \n",
    "\n",
    "aux1 = df4.loc[df4['condition'] >= 3,['price','condition']]\n",
    "aux2 = df4.loc[df4['condition'] < 3,['price','condition']]\n",
    "\n",
    "result = ( aux1['price'].mean() - aux2['price'].mean() ) / aux1['price'].mean() * 100\n",
    "\n",
    "print( 'Houses with conditions of index 3 are {:.2f}% more expensive than houses with conditions 1 and 2, on average.'.format( result ) )"
   ]
  },
  {
   "cell_type": "markdown",
   "id": "487595d2",
   "metadata": {},
   "source": [
    "### H7: Houses with the highest level of construction and design quality (grade: 11-13) are 70% more expensive on average."
   ]
  },
  {
   "cell_type": "markdown",
   "id": "b8df2b9c",
   "metadata": {},
   "source": [
    "True: Houses with grade greater than 11 are 69.41% more expensive than others."
   ]
  },
  {
   "cell_type": "code",
   "execution_count": 42,
   "id": "42789dbf",
   "metadata": {},
   "outputs": [
    {
     "data": {
      "text/plain": [
       "array([ 7,  6,  8, 11,  9,  5, 10, 12,  4,  3, 13,  1], dtype=int64)"
      ]
     },
     "execution_count": 42,
     "metadata": {},
     "output_type": "execute_result"
    }
   ],
   "source": [
    "# checking all unique values for the variable 'grade'\n",
    "df4['grade'].unique()"
   ]
  },
  {
   "cell_type": "code",
   "execution_count": 43,
   "id": "3ae605a3",
   "metadata": {},
   "outputs": [
    {
     "name": "stdout",
     "output_type": "stream",
     "text": [
      "Houses with grade greater than 11 are 69.41% more expensive than others.\n"
     ]
    }
   ],
   "source": [
    "# Strategy\n",
    "# Group houses with grade 11-13 and their prices in a new dataset \n",
    "# Group houses with grade < 11 and their prices in a new dataset \n",
    "# Compare the mean of the prices of these 2 datasets\n",
    "\n",
    "aux1 = df4.loc[df4['grade'] >= 11,['price','grade']]\n",
    "aux2 = df4.loc[df4['grade'] < 11,['price','grade']]\n",
    "\n",
    "result = ( aux1['price'].mean() - aux2['price'].mean() ) / aux1['price'].mean() * 100\n",
    "print( 'Houses with grade greater than 11 are {:.2f}% more expensive than others.'.format( result ) )"
   ]
  },
  {
   "cell_type": "markdown",
   "id": "1a3eca5d",
   "metadata": {},
   "source": [
    "### H8: Unrenovated houses are more than 30% cheaper, on average, than houses that have been renovated at least once."
   ]
  },
  {
   "cell_type": "markdown",
   "id": "14043ffa",
   "metadata": {},
   "source": [
    "True: Unrenovated houses are 43.29% cheaper, on average, than houses that have been renovated at least once."
   ]
  },
  {
   "cell_type": "code",
   "execution_count": 44,
   "id": "fa008f36",
   "metadata": {},
   "outputs": [
    {
     "data": {
      "text/plain": [
       "array([   0, 1991, 2002, 2010, 1999, 1992, 2013, 1994, 1978, 2005, 2008,\n",
       "       2003, 1984, 1954, 2014, 2011, 1974, 1983, 1945, 1990, 1988, 1957,\n",
       "       1977, 1981, 1995, 2000, 1998, 1970, 1989, 2004, 1986, 2009, 2007,\n",
       "       1987, 1973, 2006, 1985, 2001, 1980, 1971, 1979, 1997, 1950, 1969,\n",
       "       1948, 2015, 1968, 2012, 1963, 1951, 1993, 1962, 1996, 1972, 1953,\n",
       "       1955, 1982, 1956, 1940, 1976, 1946, 1975, 1958, 1964, 1959, 1960,\n",
       "       1967, 1965, 1934, 1944], dtype=int64)"
      ]
     },
     "execution_count": 44,
     "metadata": {},
     "output_type": "execute_result"
    }
   ],
   "source": [
    "# checking possible values for the year of renovation\n",
    "df4['yr_renovated'].unique()"
   ]
  },
  {
   "cell_type": "code",
   "execution_count": 45,
   "id": "d8f7d189",
   "metadata": {},
   "outputs": [
    {
     "name": "stdout",
     "output_type": "stream",
     "text": [
      "Unrenovated houses are 43.29% cheaper, on average, than houses that have been renovated at least once.\n"
     ]
    }
   ],
   "source": [
    "# Strategy\n",
    "# Group houses that have been renovated in a new dataset\n",
    "# Group houses that have not been renovated in a new dataset \n",
    "# Compare the mean of the prices of these 2 datasets\n",
    "\n",
    "renovated_houses = df4[df4['yr_renovated'] != 0]\n",
    "unrenovated_houses = df4[df4['yr_renovated'] == 0]\n",
    "\n",
    "result = ( abs( unrenovated_houses['price'].mean() - renovated_houses['price'].mean() ) ) / unrenovated_houses['price'].mean() * 100\n",
    "print( 'Unrenovated houses are {:.2f}% cheaper, on average, than houses that have been renovated at least once.'.format( result ) )"
   ]
  },
  {
   "cell_type": "markdown",
   "id": "e9a670f2",
   "metadata": {},
   "source": [
    "### H9: More than 50% of water view houses have more than 1 floor."
   ]
  },
  {
   "cell_type": "raw",
   "id": "1f1e967a",
   "metadata": {},
   "source": [
    "True: 65.03% of water view houses have more then 1 floor."
   ]
  },
  {
   "cell_type": "code",
   "execution_count": 46,
   "id": "27b52ba1",
   "metadata": {},
   "outputs": [
    {
     "name": "stdout",
     "output_type": "stream",
     "text": [
      "65.03% of water view houses have more then 1 floor.\n"
     ]
    }
   ],
   "source": [
    "# Strategy\n",
    "# Separate houses with water view in a new dataset\n",
    "# Compare the number of these houses that have 2 or more floors with houses with only 1 floor\n",
    "\n",
    "wf_houses = df4[df4['waterfront'] == 1]\n",
    "\n",
    "result = ( ( wf_houses[wf_houses['floors'] != 1].shape[0] ) / wf_houses.shape[0] ) * 100\n",
    "\n",
    "print ( '{:.2f}% of water view houses have more then 1 floor.'.format( result ) )"
   ]
  },
  {
   "cell_type": "markdown",
   "id": "5a2b1855",
   "metadata": {},
   "source": [
    "### H10: The larger the area of land, the higher the price of the house. "
   ]
  },
  {
   "cell_type": "code",
   "execution_count": 47,
   "id": "f2e39d72",
   "metadata": {},
   "outputs": [
    {
     "data": {
      "image/png": "[encoded data removed]",
      "text/plain": [
       "<Figure size 792x504 with 1 Axes>"
      ]
     },
     "metadata": {},
     "output_type": "display_data"
    }
   ],
   "source": [
    "# We can chek this hypothesis with a graph or/and a correlation between those variables ('price' and 'sqft_lot')\n",
    "\n",
    "sns.lineplot(data = df4, x = 'sqft_lot',  y = 'price' );"
   ]
  },
  {
   "cell_type": "code",
   "execution_count": 48,
   "id": "7b06c5a8",
   "metadata": {},
   "outputs": [
    {
     "data": {
      "image/png": "[encoded data removed]",
      "text/plain": [
       "<Figure size 792x504 with 1 Axes>"
      ]
     },
     "metadata": {},
     "output_type": "display_data"
    }
   ],
   "source": [
    "aux1 = df4[[ 'price', 'sqft_lot' ]].groupby( 'sqft_lot' ).sum().reset_index()\n",
    "\n",
    "sns.lineplot(data = aux1, x = 'sqft_lot',  y = 'price' );"
   ]
  },
  {
   "cell_type": "code",
   "execution_count": 49,
   "id": "3982b299",
   "metadata": {},
   "outputs": [
    {
     "data": {
      "image/png": "[encoded data removed]",
      "text/plain": [
       "<Figure size 792x504 with 2 Axes>"
      ]
     },
     "metadata": {},
     "output_type": "display_data"
    }
   ],
   "source": [
    "sns.heatmap ( df4[['sqft_lot','price']].corr( method=\"pearson\" ), annot=True);"
   ]
  },
  {
   "cell_type": "markdown",
   "id": "89b12713",
   "metadata": {},
   "source": [
    "Correlation between 'sqft_lot' and the 'price' is 0.089. This value is close to 0, meaning that there is a weak correlation between these 2 variables. "
   ]
  },
  {
   "cell_type": "markdown",
   "id": "f31dbb6b",
   "metadata": {},
   "source": [
    "# 5.0 Business Questions"
   ]
  },
  {
   "cell_type": "code",
   "execution_count": 50,
   "id": "bf0c43e6",
   "metadata": {},
   "outputs": [],
   "source": [
    "df5 = df4.copy()"
   ]
  },
  {
   "cell_type": "markdown",
   "id": "70e66e1d",
   "metadata": {},
   "source": [
    "## 5.1 Which houses does House Rocket should buy and for what price?"
   ]
  },
  {
   "cell_type": "code",
   "execution_count": 53,
   "id": "16570756",
   "metadata": {},
   "outputs": [
    {
     "data": {
      "text/html": [
       "<div>\n",
       "<style scoped>\n",
       "    .dataframe tbody tr th:only-of-type {\n",
       "        vertical-align: middle;\n",
       "    }\n",
       "\n",
       "    .dataframe tbody tr th {\n",
       "        vertical-align: top;\n",
       "    }\n",
       "\n",
       "    .dataframe thead th {\n",
       "        text-align: right;\n",
       "    }\n",
       "</style>\n",
       "<table border=\"1\" class=\"dataframe\">\n",
       "  <thead>\n",
       "    <tr style=\"text-align: right;\">\n",
       "      <th></th>\n",
       "      <th>zipcode</th>\n",
       "      <th>price_median</th>\n",
       "      <th>id</th>\n",
       "      <th>date</th>\n",
       "      <th>price</th>\n",
       "      <th>bedrooms</th>\n",
       "      <th>bathrooms</th>\n",
       "      <th>sqft_living</th>\n",
       "      <th>sqft_lot</th>\n",
       "      <th>floors</th>\n",
       "      <th>waterfront</th>\n",
       "      <th>view</th>\n",
       "      <th>condition</th>\n",
       "      <th>grade</th>\n",
       "      <th>sqft_above</th>\n",
       "      <th>sqft_basement</th>\n",
       "      <th>yr_built</th>\n",
       "      <th>yr_renovated</th>\n",
       "      <th>lat</th>\n",
       "      <th>long</th>\n",
       "      <th>sqft_living15</th>\n",
       "      <th>sqft_lot15</th>\n",
       "      <th>year</th>\n",
       "      <th>month</th>\n",
       "      <th>condition_type</th>\n",
       "      <th>building_level</th>\n",
       "      <th>construction</th>\n",
       "      <th>season</th>\n",
       "      <th>buy</th>\n",
       "    </tr>\n",
       "  </thead>\n",
       "  <tbody>\n",
       "    <tr>\n",
       "      <th>0</th>\n",
       "      <td>98001</td>\n",
       "      <td>260000.00</td>\n",
       "      <td>7895500070</td>\n",
       "      <td>2015-02-13</td>\n",
       "      <td>240000.00</td>\n",
       "      <td>4</td>\n",
       "      <td>1.00</td>\n",
       "      <td>1220</td>\n",
       "      <td>8075</td>\n",
       "      <td>1.00</td>\n",
       "      <td>0</td>\n",
       "      <td>0</td>\n",
       "      <td>2</td>\n",
       "      <td>7</td>\n",
       "      <td>890</td>\n",
       "      <td>330</td>\n",
       "      <td>1969</td>\n",
       "      <td>0</td>\n",
       "      <td>47.33</td>\n",
       "      <td>-122.28</td>\n",
       "      <td>1290</td>\n",
       "      <td>7800</td>\n",
       "      <td>2015</td>\n",
       "      <td>2</td>\n",
       "      <td>bad</td>\n",
       "      <td>regular</td>\n",
       "      <td>&gt; 1955</td>\n",
       "      <td>winter</td>\n",
       "      <td>yes</td>\n",
       "    </tr>\n",
       "    <tr>\n",
       "      <th>1</th>\n",
       "      <td>98001</td>\n",
       "      <td>260000.00</td>\n",
       "      <td>3717000160</td>\n",
       "      <td>2014-10-09</td>\n",
       "      <td>287000.00</td>\n",
       "      <td>4</td>\n",
       "      <td>2.50</td>\n",
       "      <td>2240</td>\n",
       "      <td>4648</td>\n",
       "      <td>2.00</td>\n",
       "      <td>0</td>\n",
       "      <td>0</td>\n",
       "      <td>3</td>\n",
       "      <td>7</td>\n",
       "      <td>2240</td>\n",
       "      <td>0</td>\n",
       "      <td>2005</td>\n",
       "      <td>0</td>\n",
       "      <td>47.34</td>\n",
       "      <td>-122.26</td>\n",
       "      <td>2221</td>\n",
       "      <td>4557</td>\n",
       "      <td>2014</td>\n",
       "      <td>10</td>\n",
       "      <td>regular</td>\n",
       "      <td>regular</td>\n",
       "      <td>&gt; 1955</td>\n",
       "      <td>fall</td>\n",
       "      <td>no</td>\n",
       "    </tr>\n",
       "    <tr>\n",
       "      <th>2</th>\n",
       "      <td>98001</td>\n",
       "      <td>260000.00</td>\n",
       "      <td>8961960160</td>\n",
       "      <td>2014-10-28</td>\n",
       "      <td>480000.00</td>\n",
       "      <td>4</td>\n",
       "      <td>2.50</td>\n",
       "      <td>3230</td>\n",
       "      <td>16171</td>\n",
       "      <td>2.00</td>\n",
       "      <td>0</td>\n",
       "      <td>3</td>\n",
       "      <td>3</td>\n",
       "      <td>9</td>\n",
       "      <td>2520</td>\n",
       "      <td>710</td>\n",
       "      <td>2001</td>\n",
       "      <td>0</td>\n",
       "      <td>47.32</td>\n",
       "      <td>-122.25</td>\n",
       "      <td>2640</td>\n",
       "      <td>8517</td>\n",
       "      <td>2014</td>\n",
       "      <td>10</td>\n",
       "      <td>regular</td>\n",
       "      <td>high-regular</td>\n",
       "      <td>&gt; 1955</td>\n",
       "      <td>fall</td>\n",
       "      <td>no</td>\n",
       "    </tr>\n",
       "    <tr>\n",
       "      <th>3</th>\n",
       "      <td>98001</td>\n",
       "      <td>260000.00</td>\n",
       "      <td>4014400292</td>\n",
       "      <td>2015-01-14</td>\n",
       "      <td>465000.00</td>\n",
       "      <td>3</td>\n",
       "      <td>2.50</td>\n",
       "      <td>2714</td>\n",
       "      <td>17936</td>\n",
       "      <td>2.00</td>\n",
       "      <td>0</td>\n",
       "      <td>0</td>\n",
       "      <td>3</td>\n",
       "      <td>9</td>\n",
       "      <td>2714</td>\n",
       "      <td>0</td>\n",
       "      <td>2005</td>\n",
       "      <td>0</td>\n",
       "      <td>47.32</td>\n",
       "      <td>-122.28</td>\n",
       "      <td>2590</td>\n",
       "      <td>18386</td>\n",
       "      <td>2015</td>\n",
       "      <td>1</td>\n",
       "      <td>regular</td>\n",
       "      <td>high-regular</td>\n",
       "      <td>&gt; 1955</td>\n",
       "      <td>winter</td>\n",
       "      <td>no</td>\n",
       "    </tr>\n",
       "    <tr>\n",
       "      <th>4</th>\n",
       "      <td>98001</td>\n",
       "      <td>260000.00</td>\n",
       "      <td>1115450240</td>\n",
       "      <td>2014-10-22</td>\n",
       "      <td>360000.00</td>\n",
       "      <td>4</td>\n",
       "      <td>2.50</td>\n",
       "      <td>2160</td>\n",
       "      <td>9528</td>\n",
       "      <td>2.00</td>\n",
       "      <td>0</td>\n",
       "      <td>0</td>\n",
       "      <td>3</td>\n",
       "      <td>9</td>\n",
       "      <td>2160</td>\n",
       "      <td>0</td>\n",
       "      <td>1992</td>\n",
       "      <td>0</td>\n",
       "      <td>47.33</td>\n",
       "      <td>-122.25</td>\n",
       "      <td>2280</td>\n",
       "      <td>9937</td>\n",
       "      <td>2014</td>\n",
       "      <td>10</td>\n",
       "      <td>regular</td>\n",
       "      <td>high-regular</td>\n",
       "      <td>&gt; 1955</td>\n",
       "      <td>fall</td>\n",
       "      <td>no</td>\n",
       "    </tr>\n",
       "  </tbody>\n",
       "</table>\n",
       "</div>"
      ],
      "text/plain": [
       "   zipcode  price_median          id       date     price  bedrooms  bathrooms  sqft_living  sqft_lot  floors  waterfront  view  condition  grade  sqft_above  sqft_basement  yr_built  yr_renovated   lat    long  sqft_living15  sqft_lot15  year  month condition_type building_level construction  season  buy\n",
       "0    98001     260000.00  7895500070 2015-02-13 240000.00         4       1.00         1220      8075    1.00           0     0          2      7         890            330      1969             0 47.33 -122.28           1290        7800  2015      2            bad        regular       > 1955  winter  yes\n",
       "1    98001     260000.00  3717000160 2014-10-09 287000.00         4       2.50         2240      4648    2.00           0     0          3      7        2240              0      2005             0 47.34 -122.26           2221        4557  2014     10        regular        regular       > 1955    fall   no\n",
       "2    98001     260000.00  8961960160 2014-10-28 480000.00         4       2.50         3230     16171    2.00           0     3          3      9        2520            710      2001             0 47.32 -122.25           2640        8517  2014     10        regular   high-regular       > 1955    fall   no\n",
       "3    98001     260000.00  4014400292 2015-01-14 465000.00         3       2.50         2714     17936    2.00           0     0          3      9        2714              0      2005             0 47.32 -122.28           2590       18386  2015      1        regular   high-regular       > 1955  winter   no\n",
       "4    98001     260000.00  1115450240 2014-10-22 360000.00         4       2.50         2160      9528    2.00           0     0          3      9        2160              0      1992             0 47.33 -122.25           2280        9937  2014     10        regular   high-regular       > 1955    fall   no"
      ]
     },
     "execution_count": 53,
     "metadata": {},
     "output_type": "execute_result"
    }
   ],
   "source": [
    "aux = df5[['zipcode','price']].groupby( 'zipcode' ).median().reset_index()\n",
    "\n",
    "df5_1 = pd.merge(aux, df5, on='zipcode', how ='inner')\n",
    "\n",
    "df5_1 = df5_1.rename( columns = {'price_y' : 'price', 'price_x' : 'price_median'} ) \n",
    "\n",
    "for i, row in df5_1.iterrows():\n",
    "     if (row['price_median'] >= row['price']) & (row['condition'] < 3):\n",
    "         df5_1.loc[i,'buy'] = 'yes'\n",
    "     else:\n",
    "         df5_1.loc[i,'buy'] = 'no'\n",
    "\n",
    "df5_1.head()"
   ]
  },
  {
   "cell_type": "markdown",
   "id": "81e00897",
   "metadata": {},
   "source": [
    "## 5.2 Once bought, what is the best moment to sell the house and for what price?"
   ]
  },
  {
   "cell_type": "markdown",
   "id": "81a112d8",
   "metadata": {},
   "source": [
    "### 5.2.1 Business insights"
   ]
  },
  {
   "cell_type": "code",
   "execution_count": null,
   "id": "fc0efda8",
   "metadata": {},
   "outputs": [],
   "source": []
  }
 ],
 "metadata": {
  "kernelspec": {
   "display_name": "Python 3 (ipykernel)",
   "language": "python",
   "name": "python3"
  },
  "language_info": {
   "codemirror_mode": {
    "name": "ipython",
    "version": 3
   },
   "file_extension": ".py",
   "mimetype": "text/x-python",
   "name": "python",
   "nbconvert_exporter": "python",
   "pygments_lexer": "ipython3",
   "version": "3.8.10"
  }
 },
 "nbformat": 4,
 "nbformat_minor": 5
}
